{
    "cells": [
        {
            "cell_type": "markdown",
            "metadata": {
                "collapsed": true
            },
            "source": "# Phoenix Crime Trends Analysis"
        },
        {
            "cell_type": "markdown",
            "metadata": {},
            "source": "## by Justin Sierchio"
        },
        {
            "cell_type": "markdown",
            "metadata": {},
            "source": "This Jupyter Notebook will be examining crime statistics for the city of Phoenix, Arizona from November 2015 to the present (with a 7-day time lag). \n\nThis data is in .csv file format and is sourced from the Phoenix Police Department. It can be found at: https://www.phoenixopendata.com/dataset/cc08aace-9ca9-467f-b6c1-f0879ab1a358/resource/0ce3411a-2fc6-4302-a33f-167f68608a20/download/crimestat.csv. Additional related information can be found at: https://www.phoenixopendata.com/dataset/crime-data/resource/0ce3411a-2fc6-4302-a33f-167f68608a20."
        },
        {
            "cell_type": "markdown",
            "metadata": {},
            "source": "## Notebook Initialization"
        },
        {
            "cell_type": "code",
            "execution_count": 1,
            "metadata": {},
            "outputs": [
                {
                    "name": "stdout",
                    "output_type": "stream",
                    "text": "Initial libraries loaded into workspace!\n"
                }
            ],
            "source": "# Import Relevant Libraries\nimport pandas as pd\nimport numpy as np\nimport seaborn as sns \nimport matplotlib.pyplot as plt\n\nprint('Initial libraries loaded into workspace!')"
        },
        {
            "cell_type": "markdown",
            "metadata": {},
            "source": "Since we will be making data visualizations geospatially, we will need to also install the 'folium' package."
        },
        {
            "cell_type": "code",
            "execution_count": 2,
            "metadata": {},
            "outputs": [
                {
                    "name": "stdout",
                    "output_type": "stream",
                    "text": "Requirement already satisfied: folium in /opt/conda/envs/Python36/lib/python3.6/site-packages (0.11.0)\nRequirement already satisfied: jinja2>=2.9 in /opt/conda/envs/Python36/lib/python3.6/site-packages (from folium) (2.10)\nRequirement already satisfied: numpy in /opt/conda/envs/Python36/lib/python3.6/site-packages (from folium) (1.15.4)\nRequirement already satisfied: requests in /opt/conda/envs/Python36/lib/python3.6/site-packages (from folium) (2.21.0)\nRequirement already satisfied: branca>=0.3.0 in /opt/conda/envs/Python36/lib/python3.6/site-packages (from folium) (0.4.1)\nRequirement already satisfied: MarkupSafe>=0.23 in /opt/conda/envs/Python36/lib/python3.6/site-packages (from jinja2>=2.9->folium) (1.1.0)\nRequirement already satisfied: chardet<3.1.0,>=3.0.2 in /opt/conda/envs/Python36/lib/python3.6/site-packages (from requests->folium) (3.0.4)\nRequirement already satisfied: idna<2.9,>=2.5 in /opt/conda/envs/Python36/lib/python3.6/site-packages (from requests->folium) (2.8)\nRequirement already satisfied: urllib3<1.25,>=1.21.1 in /opt/conda/envs/Python36/lib/python3.6/site-packages (from requests->folium) (1.24.1)\nRequirement already satisfied: certifi>=2017.4.17 in /opt/conda/envs/Python36/lib/python3.6/site-packages (from requests->folium) (2020.6.20)\nSuccessfully installed folium package!\n"
                }
            ],
            "source": "# Install folium into local Jupyter Notebook\n!pip install folium\n\nprint('Successfully installed folium package!')"
        },
        {
            "cell_type": "code",
            "execution_count": 3,
            "metadata": {},
            "outputs": [
                {
                    "name": "stderr",
                    "output_type": "stream",
                    "text": "/opt/conda/envs/Python36/lib/python3.6/site-packages/IPython/core/interactiveshell.py:3020: DtypeWarning: Columns (0) have mixed types. Specify dtype option on import or set low_memory=False.\n  interactivity=interactivity, compiler=compiler, result=result)\n"
                },
                {
                    "name": "stdout",
                    "output_type": "stream",
                    "text": "Datasets uploaded!\n"
                }
            ],
            "source": "# Upload Datasets for Study\ndf_PHX = pd.read_csv(\"https://www.phoenixopendata.com/dataset/cc08aace-9ca9-467f-b6c1-f0879ab1a358/resource/0ce3411a-2fc6-4302-a33f-167f68608a20/download/crimestat.csv\");\n\nprint('Datasets uploaded!');"
        },
        {
            "cell_type": "code",
            "execution_count": 4,
            "metadata": {},
            "outputs": [
                {
                    "data": {
                        "text/html": "<div>\n<style scoped>\n    .dataframe tbody tr th:only-of-type {\n        vertical-align: middle;\n    }\n\n    .dataframe tbody tr th {\n        vertical-align: top;\n    }\n\n    .dataframe thead th {\n        text-align: right;\n    }\n</style>\n<table border=\"1\" class=\"dataframe\">\n  <thead>\n    <tr style=\"text-align: right;\">\n      <th></th>\n      <th>INC NUMBER</th>\n      <th>OCCURRED ON</th>\n      <th>OCCURRED TO</th>\n      <th>UCR CRIME CATEGORY</th>\n      <th>100 BLOCK ADDR</th>\n      <th>ZIP</th>\n      <th>PREMISE TYPE</th>\n    </tr>\n  </thead>\n  <tbody>\n    <tr>\n      <th>0</th>\n      <td>201700001603695</td>\n      <td>11/01/2015  00:00</td>\n      <td>03/31/2016  00:00</td>\n      <td>RAPE</td>\n      <td>38XX W CAMELBACK RD</td>\n      <td>85019.0</td>\n      <td>HOSPITAL</td>\n    </tr>\n    <tr>\n      <th>1</th>\n      <td>201600000527709</td>\n      <td>11/01/2015  00:00</td>\n      <td>03/22/2016  00:36</td>\n      <td>LARCENY-THEFT</td>\n      <td>33XX W CAMELBACK RD</td>\n      <td>85017.0</td>\n      <td>PARKING LOT</td>\n    </tr>\n    <tr>\n      <th>2</th>\n      <td>201500002168686</td>\n      <td>11/01/2015  00:00</td>\n      <td>11/11/2015  09:30</td>\n      <td>LARCENY-THEFT</td>\n      <td>14XX E HIGHLAND AVE</td>\n      <td>85014.0</td>\n      <td>PARKING LOT</td>\n    </tr>\n    <tr>\n      <th>3</th>\n      <td>201500002101405</td>\n      <td>11/01/2015  00:00</td>\n      <td>11/01/2015  05:00</td>\n      <td>MOTOR VEHICLE THEFT</td>\n      <td>102XX W MEDLOCK AVE</td>\n      <td>85307.0</td>\n      <td>SINGLE FAMILY HOUSE</td>\n    </tr>\n    <tr>\n      <th>4</th>\n      <td>201700001722914</td>\n      <td>11/01/2015  00:00</td>\n      <td>NaN</td>\n      <td>LARCENY-THEFT</td>\n      <td>279XX N 23RD LN</td>\n      <td>85085.0</td>\n      <td>SINGLE FAMILY HOUSE</td>\n    </tr>\n  </tbody>\n</table>\n</div>",
                        "text/plain": "        INC NUMBER        OCCURRED ON        OCCURRED TO   UCR CRIME CATEGORY  \\\n0  201700001603695  11/01/2015  00:00  03/31/2016  00:00                 RAPE   \n1  201600000527709  11/01/2015  00:00  03/22/2016  00:36        LARCENY-THEFT   \n2  201500002168686  11/01/2015  00:00  11/11/2015  09:30        LARCENY-THEFT   \n3  201500002101405  11/01/2015  00:00  11/01/2015  05:00  MOTOR VEHICLE THEFT   \n4  201700001722914  11/01/2015  00:00                NaN        LARCENY-THEFT   \n\n        100 BLOCK ADDR      ZIP         PREMISE TYPE  \n0  38XX W CAMELBACK RD  85019.0             HOSPITAL  \n1  33XX W CAMELBACK RD  85017.0          PARKING LOT  \n2  14XX E HIGHLAND AVE  85014.0          PARKING LOT  \n3  102XX W MEDLOCK AVE  85307.0  SINGLE FAMILY HOUSE  \n4      279XX N 23RD LN  85085.0  SINGLE FAMILY HOUSE  "
                    },
                    "execution_count": 4,
                    "metadata": {},
                    "output_type": "execute_result"
                }
            ],
            "source": "# Open Phoenix Crime Statistics dataset and display 1st 5 rows\ndf_PHX.head()"
        },
        {
            "cell_type": "markdown",
            "metadata": {},
            "source": "## Data Cleaning"
        },
        {
            "cell_type": "markdown",
            "metadata": {},
            "source": "First, let us get an understanding of the characteristics of this dataset."
        },
        {
            "cell_type": "code",
            "execution_count": 5,
            "metadata": {},
            "outputs": [
                {
                    "name": "stdout",
                    "output_type": "stream",
                    "text": "<class 'pandas.core.frame.DataFrame'>\nRangeIndex: 313934 entries, 0 to 313933\nData columns (total 7 columns):\nINC NUMBER            313934 non-null object\nOCCURRED ON           313514 non-null object\nOCCURRED TO           213639 non-null object\nUCR CRIME CATEGORY    313934 non-null object\n100 BLOCK ADDR        313934 non-null object\nZIP                   313928 non-null float64\nPREMISE TYPE          312166 non-null object\ndtypes: float64(1), object(6)\nmemory usage: 16.8+ MB\n"
                }
            ],
            "source": "# Characteristics of the Phoenix Crime Statistics dataset\ndf_PHX.info()"
        },
        {
            "cell_type": "code",
            "execution_count": null,
            "metadata": {},
            "outputs": [],
            "source": ""
        }
    ],
    "metadata": {
        "kernelspec": {
            "display_name": "Python 3.6",
            "language": "python",
            "name": "python3"
        },
        "language_info": {
            "codemirror_mode": {
                "name": "ipython",
                "version": 3
            },
            "file_extension": ".py",
            "mimetype": "text/x-python",
            "name": "python",
            "nbconvert_exporter": "python",
            "pygments_lexer": "ipython3",
            "version": "3.6.9"
        }
    },
    "nbformat": 4,
    "nbformat_minor": 1
}