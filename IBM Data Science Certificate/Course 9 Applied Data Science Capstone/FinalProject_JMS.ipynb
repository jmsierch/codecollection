{
 "cells": [
  {
   "cell_type": "markdown",
   "metadata": {
    "collapsed": true
   },
   "source": [
    "# IBM (Coursera) Data Science Professional Certificate\n",
    "## Course 9/9 - Applied Data Science Capstone\n",
    "### Justin Sierchio"
   ]
  },
  {
   "cell_type": "markdown",
   "metadata": {},
   "source": [
    "# Introduction\n",
    "## Business Problem"
   ]
  },
  {
   "cell_type": "markdown",
   "metadata": {},
   "source": [
    "One of the leading causes of death and injury across the United States are traffic accidents. In order to better understand the potential impacts (and possibly mitigate them), we will be looking at predicting the severity of a car accident based upon several attributes. To localize the scope of this study, we will be evaluating accident statistics for the municipality of Seattle, Washington.\n",
    "\n",
    "This report will be of particular interest to drivers, city planners, emergency responders and insurance providers."
   ]
  },
  {
   "cell_type": "markdown",
   "metadata": {},
   "source": [
    "# Data \n",
    "## Understanding"
   ]
  },
  {
   "cell_type": "markdown",
   "metadata": {},
   "source": [
    "This data is maintained by the Seattle Police Department and contains records of every traffic accident from 2004 to the present, updated on a weekly basis. This dataset (contained in a .csv file) contains information such as:\n",
    "- the severity of the accident\n",
    "- type of collision\n",
    "- number of fatalities and/or injuries\n",
    "- weather conditions\n",
    "- road conditions\n",
    "- any pedestrians or non-automobiles involved\n",
    "and other factors.\n",
    "\n",
    "The dataset can be found at: https://s3.us.cloud-object-storage.appdomain.cloud/cf-courses-data/CognitiveClass/DP0701EN/version-2/Data-Collisions.csv and the metadata can be found at https://s3.us.cloud-object-storage.appdomain.cloud/cf-courses-data/CognitiveClass/DP0701EN/version-2/Metadata.pdf.\n",
    "\n",
    "We will be particularly interested in how weather/road conditions, attentiveness/impairment of the driver and pedestrian/non-automobile involvement plays into traffic accident severity. Are there correlations betwwen poor weather conditions and severity? Does the presence of pedestrians make an accident better or worse? How do road conditions affect accident severity? These are some of the questions we hope to be able to answer in this project.\n",
    "\n",
    "We will be performing the following:\n",
    "- an exploratory data analysis to determine which variables are needed to construct a machine learning model\n",
    "- choose an appropriate model for which to conduct the study\n",
    "- training the model\n",
    "- testing the model, and finally \n",
    "- calculating the effectiveness of our model."
   ]
  },
  {
   "cell_type": "markdown",
   "metadata": {},
   "source": [
    "## Data Upload"
   ]
  },
  {
   "cell_type": "code",
   "execution_count": 1,
   "metadata": {},
   "outputs": [],
   "source": [
    "# Import Initial Libraries\n",
    "import pandas as pd\n",
    "import numpy as np"
   ]
  },
  {
   "cell_type": "code",
   "execution_count": 2,
   "metadata": {},
   "outputs": [
    {
     "name": "stdout",
     "output_type": "stream",
     "text": [
      "Hello Capstone Project Course!\n"
     ]
    }
   ],
   "source": [
    "# Initial Print Statement\n",
    "print('Hello Capstone Project Course!');"
   ]
  },
  {
   "cell_type": "markdown",
   "metadata": {},
   "source": [
    "First, we need to upload the actual dataset and make sure it loads into our notebook properly."
   ]
  },
  {
   "cell_type": "code",
   "execution_count": 3,
   "metadata": {
    "scrolled": true
   },
   "outputs": [
    {
     "name": "stderr",
     "output_type": "stream",
     "text": [
      "/opt/conda/envs/Python36/lib/python3.6/site-packages/IPython/core/interactiveshell.py:3020: DtypeWarning: Columns (33) have mixed types. Specify dtype option on import or set low_memory=False.\n",
      "  interactivity=interactivity, compiler=compiler, result=result)\n"
     ]
    },
    {
     "name": "stdout",
     "output_type": "stream",
     "text": [
      "Data file successfully loaded!\n"
     ]
    }
   ],
   "source": [
    "# Import Dataset\n",
    "df = pd.read_csv(\"https://s3.us.cloud-object-storage.appdomain.cloud/cf-courses-data/CognitiveClass/DP0701EN/version-2/Data-Collisions.csv\");\n",
    "print('Data file successfully loaded!');"
   ]
  },
  {
   "cell_type": "code",
   "execution_count": 4,
   "metadata": {
    "scrolled": true
   },
   "outputs": [
    {
     "data": {
      "text/html": [
       "<div>\n",
       "<style scoped>\n",
       "    .dataframe tbody tr th:only-of-type {\n",
       "        vertical-align: middle;\n",
       "    }\n",
       "\n",
       "    .dataframe tbody tr th {\n",
       "        vertical-align: top;\n",
       "    }\n",
       "\n",
       "    .dataframe thead th {\n",
       "        text-align: right;\n",
       "    }\n",
       "</style>\n",
       "<table border=\"1\" class=\"dataframe\">\n",
       "  <thead>\n",
       "    <tr style=\"text-align: right;\">\n",
       "      <th></th>\n",
       "      <th>SEVERITYCODE</th>\n",
       "      <th>X</th>\n",
       "      <th>Y</th>\n",
       "      <th>OBJECTID</th>\n",
       "      <th>INCKEY</th>\n",
       "      <th>COLDETKEY</th>\n",
       "      <th>REPORTNO</th>\n",
       "      <th>STATUS</th>\n",
       "      <th>ADDRTYPE</th>\n",
       "      <th>INTKEY</th>\n",
       "      <th>...</th>\n",
       "      <th>ROADCOND</th>\n",
       "      <th>LIGHTCOND</th>\n",
       "      <th>PEDROWNOTGRNT</th>\n",
       "      <th>SDOTCOLNUM</th>\n",
       "      <th>SPEEDING</th>\n",
       "      <th>ST_COLCODE</th>\n",
       "      <th>ST_COLDESC</th>\n",
       "      <th>SEGLANEKEY</th>\n",
       "      <th>CROSSWALKKEY</th>\n",
       "      <th>HITPARKEDCAR</th>\n",
       "    </tr>\n",
       "  </thead>\n",
       "  <tbody>\n",
       "    <tr>\n",
       "      <th>0</th>\n",
       "      <td>2</td>\n",
       "      <td>-122.323148</td>\n",
       "      <td>47.703140</td>\n",
       "      <td>1</td>\n",
       "      <td>1307</td>\n",
       "      <td>1307</td>\n",
       "      <td>3502005</td>\n",
       "      <td>Matched</td>\n",
       "      <td>Intersection</td>\n",
       "      <td>37475.0</td>\n",
       "      <td>...</td>\n",
       "      <td>Wet</td>\n",
       "      <td>Daylight</td>\n",
       "      <td>NaN</td>\n",
       "      <td>NaN</td>\n",
       "      <td>NaN</td>\n",
       "      <td>10</td>\n",
       "      <td>Entering at angle</td>\n",
       "      <td>0</td>\n",
       "      <td>0</td>\n",
       "      <td>N</td>\n",
       "    </tr>\n",
       "    <tr>\n",
       "      <th>1</th>\n",
       "      <td>1</td>\n",
       "      <td>-122.347294</td>\n",
       "      <td>47.647172</td>\n",
       "      <td>2</td>\n",
       "      <td>52200</td>\n",
       "      <td>52200</td>\n",
       "      <td>2607959</td>\n",
       "      <td>Matched</td>\n",
       "      <td>Block</td>\n",
       "      <td>NaN</td>\n",
       "      <td>...</td>\n",
       "      <td>Wet</td>\n",
       "      <td>Dark - Street Lights On</td>\n",
       "      <td>NaN</td>\n",
       "      <td>6354039.0</td>\n",
       "      <td>NaN</td>\n",
       "      <td>11</td>\n",
       "      <td>From same direction - both going straight - bo...</td>\n",
       "      <td>0</td>\n",
       "      <td>0</td>\n",
       "      <td>N</td>\n",
       "    </tr>\n",
       "    <tr>\n",
       "      <th>2</th>\n",
       "      <td>1</td>\n",
       "      <td>-122.334540</td>\n",
       "      <td>47.607871</td>\n",
       "      <td>3</td>\n",
       "      <td>26700</td>\n",
       "      <td>26700</td>\n",
       "      <td>1482393</td>\n",
       "      <td>Matched</td>\n",
       "      <td>Block</td>\n",
       "      <td>NaN</td>\n",
       "      <td>...</td>\n",
       "      <td>Dry</td>\n",
       "      <td>Daylight</td>\n",
       "      <td>NaN</td>\n",
       "      <td>4323031.0</td>\n",
       "      <td>NaN</td>\n",
       "      <td>32</td>\n",
       "      <td>One parked--one moving</td>\n",
       "      <td>0</td>\n",
       "      <td>0</td>\n",
       "      <td>N</td>\n",
       "    </tr>\n",
       "    <tr>\n",
       "      <th>3</th>\n",
       "      <td>1</td>\n",
       "      <td>-122.334803</td>\n",
       "      <td>47.604803</td>\n",
       "      <td>4</td>\n",
       "      <td>1144</td>\n",
       "      <td>1144</td>\n",
       "      <td>3503937</td>\n",
       "      <td>Matched</td>\n",
       "      <td>Block</td>\n",
       "      <td>NaN</td>\n",
       "      <td>...</td>\n",
       "      <td>Dry</td>\n",
       "      <td>Daylight</td>\n",
       "      <td>NaN</td>\n",
       "      <td>NaN</td>\n",
       "      <td>NaN</td>\n",
       "      <td>23</td>\n",
       "      <td>From same direction - all others</td>\n",
       "      <td>0</td>\n",
       "      <td>0</td>\n",
       "      <td>N</td>\n",
       "    </tr>\n",
       "    <tr>\n",
       "      <th>4</th>\n",
       "      <td>2</td>\n",
       "      <td>-122.306426</td>\n",
       "      <td>47.545739</td>\n",
       "      <td>5</td>\n",
       "      <td>17700</td>\n",
       "      <td>17700</td>\n",
       "      <td>1807429</td>\n",
       "      <td>Matched</td>\n",
       "      <td>Intersection</td>\n",
       "      <td>34387.0</td>\n",
       "      <td>...</td>\n",
       "      <td>Wet</td>\n",
       "      <td>Daylight</td>\n",
       "      <td>NaN</td>\n",
       "      <td>4028032.0</td>\n",
       "      <td>NaN</td>\n",
       "      <td>10</td>\n",
       "      <td>Entering at angle</td>\n",
       "      <td>0</td>\n",
       "      <td>0</td>\n",
       "      <td>N</td>\n",
       "    </tr>\n",
       "  </tbody>\n",
       "</table>\n",
       "<p>5 rows × 38 columns</p>\n",
       "</div>"
      ],
      "text/plain": [
       "   SEVERITYCODE           X          Y  OBJECTID  INCKEY  COLDETKEY REPORTNO  \\\n",
       "0             2 -122.323148  47.703140         1    1307       1307  3502005   \n",
       "1             1 -122.347294  47.647172         2   52200      52200  2607959   \n",
       "2             1 -122.334540  47.607871         3   26700      26700  1482393   \n",
       "3             1 -122.334803  47.604803         4    1144       1144  3503937   \n",
       "4             2 -122.306426  47.545739         5   17700      17700  1807429   \n",
       "\n",
       "    STATUS      ADDRTYPE   INTKEY  ... ROADCOND                LIGHTCOND  \\\n",
       "0  Matched  Intersection  37475.0  ...      Wet                 Daylight   \n",
       "1  Matched         Block      NaN  ...      Wet  Dark - Street Lights On   \n",
       "2  Matched         Block      NaN  ...      Dry                 Daylight   \n",
       "3  Matched         Block      NaN  ...      Dry                 Daylight   \n",
       "4  Matched  Intersection  34387.0  ...      Wet                 Daylight   \n",
       "\n",
       "  PEDROWNOTGRNT  SDOTCOLNUM SPEEDING ST_COLCODE  \\\n",
       "0           NaN         NaN      NaN         10   \n",
       "1           NaN   6354039.0      NaN         11   \n",
       "2           NaN   4323031.0      NaN         32   \n",
       "3           NaN         NaN      NaN         23   \n",
       "4           NaN   4028032.0      NaN         10   \n",
       "\n",
       "                                          ST_COLDESC  SEGLANEKEY  \\\n",
       "0                                  Entering at angle           0   \n",
       "1  From same direction - both going straight - bo...           0   \n",
       "2                             One parked--one moving           0   \n",
       "3                   From same direction - all others           0   \n",
       "4                                  Entering at angle           0   \n",
       "\n",
       "   CROSSWALKKEY  HITPARKEDCAR  \n",
       "0             0             N  \n",
       "1             0             N  \n",
       "2             0             N  \n",
       "3             0             N  \n",
       "4             0             N  \n",
       "\n",
       "[5 rows x 38 columns]"
      ]
     },
     "execution_count": 4,
     "metadata": {},
     "output_type": "execute_result"
    }
   ],
   "source": [
    "# Display 1st 5 rows from dataset\n",
    "df.head()"
   ]
  },
  {
   "cell_type": "markdown",
   "metadata": {},
   "source": [
    "# Methodology\n",
    "## Data Cleaning"
   ]
  },
  {
   "cell_type": "markdown",
   "metadata": {},
   "source": [
    "Before  we conduct any meaningful exploratory data analysis, we will want to clean the data."
   ]
  },
  {
   "cell_type": "code",
   "execution_count": 5,
   "metadata": {},
   "outputs": [
    {
     "name": "stdout",
     "output_type": "stream",
     "text": [
      "<class 'pandas.core.frame.DataFrame'>\n",
      "RangeIndex: 194673 entries, 0 to 194672\n",
      "Data columns (total 38 columns):\n",
      "SEVERITYCODE      194673 non-null int64\n",
      "X                 189339 non-null float64\n",
      "Y                 189339 non-null float64\n",
      "OBJECTID          194673 non-null int64\n",
      "INCKEY            194673 non-null int64\n",
      "COLDETKEY         194673 non-null int64\n",
      "REPORTNO          194673 non-null object\n",
      "STATUS            194673 non-null object\n",
      "ADDRTYPE          192747 non-null object\n",
      "INTKEY            65070 non-null float64\n",
      "LOCATION          191996 non-null object\n",
      "EXCEPTRSNCODE     84811 non-null object\n",
      "EXCEPTRSNDESC     5638 non-null object\n",
      "SEVERITYCODE.1    194673 non-null int64\n",
      "SEVERITYDESC      194673 non-null object\n",
      "COLLISIONTYPE     189769 non-null object\n",
      "PERSONCOUNT       194673 non-null int64\n",
      "PEDCOUNT          194673 non-null int64\n",
      "PEDCYLCOUNT       194673 non-null int64\n",
      "VEHCOUNT          194673 non-null int64\n",
      "INCDATE           194673 non-null object\n",
      "INCDTTM           194673 non-null object\n",
      "JUNCTIONTYPE      188344 non-null object\n",
      "SDOT_COLCODE      194673 non-null int64\n",
      "SDOT_COLDESC      194673 non-null object\n",
      "INATTENTIONIND    29805 non-null object\n",
      "UNDERINFL         189789 non-null object\n",
      "WEATHER           189592 non-null object\n",
      "ROADCOND          189661 non-null object\n",
      "LIGHTCOND         189503 non-null object\n",
      "PEDROWNOTGRNT     4667 non-null object\n",
      "SDOTCOLNUM        114936 non-null float64\n",
      "SPEEDING          9333 non-null object\n",
      "ST_COLCODE        194655 non-null object\n",
      "ST_COLDESC        189769 non-null object\n",
      "SEGLANEKEY        194673 non-null int64\n",
      "CROSSWALKKEY      194673 non-null int64\n",
      "HITPARKEDCAR      194673 non-null object\n",
      "dtypes: float64(4), int64(12), object(22)\n",
      "memory usage: 56.4+ MB\n"
     ]
    }
   ],
   "source": [
    "# Now that we know the dataset will load, let us look at some characteristics of the dataset itself\n",
    "df.info()"
   ]
  },
  {
   "cell_type": "markdown",
   "metadata": {},
   "source": [
    "'SEVERITYCODE' is the variable that tells us the actual severity (code) of a respective accident. This variable is what we are trying to predict as accurately as possible. Since 'SEVERITYCODE' is a non-null int64 value, we can actually see what potential values it holds."
   ]
  },
  {
   "cell_type": "code",
   "execution_count": 6,
   "metadata": {},
   "outputs": [
    {
     "data": {
      "text/plain": [
       "1    136485\n",
       "2     58188\n",
       "Name: SEVERITYCODE, dtype: int64"
      ]
     },
     "execution_count": 6,
     "metadata": {},
     "output_type": "execute_result"
    }
   ],
   "source": [
    "# Determine the counts of 'SEVERITYCODE'\n",
    "df['SEVERITYCODE'].value_counts()"
   ]
  },
  {
   "cell_type": "markdown",
   "metadata": {},
   "source": [
    "So now we have determined that 'SEVERITYCODE' has either values of 1 or 2. As is stated in the metadata, these values corresponding to the following: \n",
    "\n",
    "<ul>\n",
    "    <li> (1) equals Prop Damage</li> \n",
    "    <li> (2) equals Injury</li>\n",
    "</ul>\n",
    "\n",
    "Since we notice that 'SEVERITYCODE', 'SEVERITYCODE.1', and 'SEVERITYDESC' have the same meaning, we can initially simplify the data by removing the latter two columns."
   ]
  },
  {
   "cell_type": "code",
   "execution_count": 7,
   "metadata": {},
   "outputs": [
    {
     "data": {
      "text/html": [
       "<div>\n",
       "<style scoped>\n",
       "    .dataframe tbody tr th:only-of-type {\n",
       "        vertical-align: middle;\n",
       "    }\n",
       "\n",
       "    .dataframe tbody tr th {\n",
       "        vertical-align: top;\n",
       "    }\n",
       "\n",
       "    .dataframe thead th {\n",
       "        text-align: right;\n",
       "    }\n",
       "</style>\n",
       "<table border=\"1\" class=\"dataframe\">\n",
       "  <thead>\n",
       "    <tr style=\"text-align: right;\">\n",
       "      <th></th>\n",
       "      <th>SEVERITYCODE</th>\n",
       "      <th>X</th>\n",
       "      <th>Y</th>\n",
       "      <th>OBJECTID</th>\n",
       "      <th>INCKEY</th>\n",
       "      <th>COLDETKEY</th>\n",
       "      <th>REPORTNO</th>\n",
       "      <th>STATUS</th>\n",
       "      <th>ADDRTYPE</th>\n",
       "      <th>INTKEY</th>\n",
       "      <th>...</th>\n",
       "      <th>ROADCOND</th>\n",
       "      <th>LIGHTCOND</th>\n",
       "      <th>PEDROWNOTGRNT</th>\n",
       "      <th>SDOTCOLNUM</th>\n",
       "      <th>SPEEDING</th>\n",
       "      <th>ST_COLCODE</th>\n",
       "      <th>ST_COLDESC</th>\n",
       "      <th>SEGLANEKEY</th>\n",
       "      <th>CROSSWALKKEY</th>\n",
       "      <th>HITPARKEDCAR</th>\n",
       "    </tr>\n",
       "  </thead>\n",
       "  <tbody>\n",
       "    <tr>\n",
       "      <th>0</th>\n",
       "      <td>2</td>\n",
       "      <td>-122.323148</td>\n",
       "      <td>47.703140</td>\n",
       "      <td>1</td>\n",
       "      <td>1307</td>\n",
       "      <td>1307</td>\n",
       "      <td>3502005</td>\n",
       "      <td>Matched</td>\n",
       "      <td>Intersection</td>\n",
       "      <td>37475.0</td>\n",
       "      <td>...</td>\n",
       "      <td>Wet</td>\n",
       "      <td>Daylight</td>\n",
       "      <td>NaN</td>\n",
       "      <td>NaN</td>\n",
       "      <td>NaN</td>\n",
       "      <td>10</td>\n",
       "      <td>Entering at angle</td>\n",
       "      <td>0</td>\n",
       "      <td>0</td>\n",
       "      <td>N</td>\n",
       "    </tr>\n",
       "    <tr>\n",
       "      <th>1</th>\n",
       "      <td>1</td>\n",
       "      <td>-122.347294</td>\n",
       "      <td>47.647172</td>\n",
       "      <td>2</td>\n",
       "      <td>52200</td>\n",
       "      <td>52200</td>\n",
       "      <td>2607959</td>\n",
       "      <td>Matched</td>\n",
       "      <td>Block</td>\n",
       "      <td>NaN</td>\n",
       "      <td>...</td>\n",
       "      <td>Wet</td>\n",
       "      <td>Dark - Street Lights On</td>\n",
       "      <td>NaN</td>\n",
       "      <td>6354039.0</td>\n",
       "      <td>NaN</td>\n",
       "      <td>11</td>\n",
       "      <td>From same direction - both going straight - bo...</td>\n",
       "      <td>0</td>\n",
       "      <td>0</td>\n",
       "      <td>N</td>\n",
       "    </tr>\n",
       "    <tr>\n",
       "      <th>2</th>\n",
       "      <td>1</td>\n",
       "      <td>-122.334540</td>\n",
       "      <td>47.607871</td>\n",
       "      <td>3</td>\n",
       "      <td>26700</td>\n",
       "      <td>26700</td>\n",
       "      <td>1482393</td>\n",
       "      <td>Matched</td>\n",
       "      <td>Block</td>\n",
       "      <td>NaN</td>\n",
       "      <td>...</td>\n",
       "      <td>Dry</td>\n",
       "      <td>Daylight</td>\n",
       "      <td>NaN</td>\n",
       "      <td>4323031.0</td>\n",
       "      <td>NaN</td>\n",
       "      <td>32</td>\n",
       "      <td>One parked--one moving</td>\n",
       "      <td>0</td>\n",
       "      <td>0</td>\n",
       "      <td>N</td>\n",
       "    </tr>\n",
       "    <tr>\n",
       "      <th>3</th>\n",
       "      <td>1</td>\n",
       "      <td>-122.334803</td>\n",
       "      <td>47.604803</td>\n",
       "      <td>4</td>\n",
       "      <td>1144</td>\n",
       "      <td>1144</td>\n",
       "      <td>3503937</td>\n",
       "      <td>Matched</td>\n",
       "      <td>Block</td>\n",
       "      <td>NaN</td>\n",
       "      <td>...</td>\n",
       "      <td>Dry</td>\n",
       "      <td>Daylight</td>\n",
       "      <td>NaN</td>\n",
       "      <td>NaN</td>\n",
       "      <td>NaN</td>\n",
       "      <td>23</td>\n",
       "      <td>From same direction - all others</td>\n",
       "      <td>0</td>\n",
       "      <td>0</td>\n",
       "      <td>N</td>\n",
       "    </tr>\n",
       "    <tr>\n",
       "      <th>4</th>\n",
       "      <td>2</td>\n",
       "      <td>-122.306426</td>\n",
       "      <td>47.545739</td>\n",
       "      <td>5</td>\n",
       "      <td>17700</td>\n",
       "      <td>17700</td>\n",
       "      <td>1807429</td>\n",
       "      <td>Matched</td>\n",
       "      <td>Intersection</td>\n",
       "      <td>34387.0</td>\n",
       "      <td>...</td>\n",
       "      <td>Wet</td>\n",
       "      <td>Daylight</td>\n",
       "      <td>NaN</td>\n",
       "      <td>4028032.0</td>\n",
       "      <td>NaN</td>\n",
       "      <td>10</td>\n",
       "      <td>Entering at angle</td>\n",
       "      <td>0</td>\n",
       "      <td>0</td>\n",
       "      <td>N</td>\n",
       "    </tr>\n",
       "  </tbody>\n",
       "</table>\n",
       "<p>5 rows × 36 columns</p>\n",
       "</div>"
      ],
      "text/plain": [
       "   SEVERITYCODE           X          Y  OBJECTID  INCKEY  COLDETKEY REPORTNO  \\\n",
       "0             2 -122.323148  47.703140         1    1307       1307  3502005   \n",
       "1             1 -122.347294  47.647172         2   52200      52200  2607959   \n",
       "2             1 -122.334540  47.607871         3   26700      26700  1482393   \n",
       "3             1 -122.334803  47.604803         4    1144       1144  3503937   \n",
       "4             2 -122.306426  47.545739         5   17700      17700  1807429   \n",
       "\n",
       "    STATUS      ADDRTYPE   INTKEY  ... ROADCOND                LIGHTCOND  \\\n",
       "0  Matched  Intersection  37475.0  ...      Wet                 Daylight   \n",
       "1  Matched         Block      NaN  ...      Wet  Dark - Street Lights On   \n",
       "2  Matched         Block      NaN  ...      Dry                 Daylight   \n",
       "3  Matched         Block      NaN  ...      Dry                 Daylight   \n",
       "4  Matched  Intersection  34387.0  ...      Wet                 Daylight   \n",
       "\n",
       "  PEDROWNOTGRNT SDOTCOLNUM  SPEEDING  ST_COLCODE  \\\n",
       "0           NaN        NaN       NaN          10   \n",
       "1           NaN  6354039.0       NaN          11   \n",
       "2           NaN  4323031.0       NaN          32   \n",
       "3           NaN        NaN       NaN          23   \n",
       "4           NaN  4028032.0       NaN          10   \n",
       "\n",
       "                                          ST_COLDESC  SEGLANEKEY CROSSWALKKEY  \\\n",
       "0                                  Entering at angle           0            0   \n",
       "1  From same direction - both going straight - bo...           0            0   \n",
       "2                             One parked--one moving           0            0   \n",
       "3                   From same direction - all others           0            0   \n",
       "4                                  Entering at angle           0            0   \n",
       "\n",
       "  HITPARKEDCAR  \n",
       "0            N  \n",
       "1            N  \n",
       "2            N  \n",
       "3            N  \n",
       "4            N  \n",
       "\n",
       "[5 rows x 36 columns]"
      ]
     },
     "execution_count": 7,
     "metadata": {},
     "output_type": "execute_result"
    }
   ],
   "source": [
    "# Remove 'SEVERITYCODE.1', 'SEVERITYDESC'\n",
    "df= df.drop(['SEVERITYDESC', 'SEVERITYCODE.1'], axis=1)\n",
    "df.head()"
   ]
  },
  {
   "cell_type": "markdown",
   "metadata": {},
   "source": [
    "Now, we will need to further simplify and clean the data by looking at how many NULL values each field (column) holds."
   ]
  },
  {
   "cell_type": "code",
   "execution_count": 8,
   "metadata": {
    "scrolled": true
   },
   "outputs": [
    {
     "data": {
      "text/plain": [
       "SEVERITYCODE           0\n",
       "X                   5334\n",
       "Y                   5334\n",
       "OBJECTID               0\n",
       "INCKEY                 0\n",
       "COLDETKEY              0\n",
       "REPORTNO               0\n",
       "STATUS                 0\n",
       "ADDRTYPE            1926\n",
       "INTKEY            129603\n",
       "LOCATION            2677\n",
       "EXCEPTRSNCODE     109862\n",
       "EXCEPTRSNDESC     189035\n",
       "COLLISIONTYPE       4904\n",
       "PERSONCOUNT            0\n",
       "PEDCOUNT               0\n",
       "PEDCYLCOUNT            0\n",
       "VEHCOUNT               0\n",
       "INCDATE                0\n",
       "INCDTTM                0\n",
       "JUNCTIONTYPE        6329\n",
       "SDOT_COLCODE           0\n",
       "SDOT_COLDESC           0\n",
       "INATTENTIONIND    164868\n",
       "UNDERINFL           4884\n",
       "WEATHER             5081\n",
       "ROADCOND            5012\n",
       "LIGHTCOND           5170\n",
       "PEDROWNOTGRNT     190006\n",
       "SDOTCOLNUM         79737\n",
       "SPEEDING          185340\n",
       "ST_COLCODE            18\n",
       "ST_COLDESC          4904\n",
       "SEGLANEKEY             0\n",
       "CROSSWALKKEY           0\n",
       "HITPARKEDCAR           0\n",
       "dtype: int64"
      ]
     },
     "execution_count": 8,
     "metadata": {},
     "output_type": "execute_result"
    }
   ],
   "source": [
    "# Determine the number of null values for each column\n",
    "df.isnull().sum()"
   ]
  },
  {
   "cell_type": "markdown",
   "metadata": {},
   "source": [
    "Given our discussion at the beginning of this project that we were concerned with weather/road conditions, impairment/attentiveness of the driver and pedestrian/non-automobile involvedment, we realize that we need to do three tasks:\n",
    "\n",
    "<ul>\n",
    "  <li>change any unclear values in 'WEATHER', 'ROADCOND' and 'LIGHTCOND' to NaN (Not a Number) so they can be easily excluded later</li>\n",
    "  <li>fill in missing values in columns we need, specifically in 'INATTENTIONIND', 'UNDERINFL', 'PEDROWNOTGRNT' and 'SPEEDING' </li>\n",
    "  <li>remove the columns not needed in our analysis</li>\n",
    "</ul>"
   ]
  },
  {
   "cell_type": "code",
   "execution_count": 9,
   "metadata": {},
   "outputs": [],
   "source": [
    "# Changing unclear values in 'WEATHER', 'ROADCOND' and 'LIGHTCOND'\n",
    "\n",
    "# WEATHER -- 'Unknown', 'Other' -- NaN\n",
    "df['WEATHER'].replace(to_replace=['Unknown','Other'], value=[np.nan,np.nan],inplace=True)\n",
    "\n",
    "# ROADCOND -- 'Unknown', 'Other' -- NaN\n",
    "df['ROADCOND'].replace(\"Unknown\", np.nan, inplace = True)\n",
    "df['ROADCOND'].replace(\"Other\", np.nan, inplace = True)\n",
    "\n",
    "# LIGHTCOND -- 'Unknown', 'Other' -- NaN\n",
    "df['LIGHTCOND'].replace(\"Unknown\", np.nan, inplace = True)\n",
    "df['LIGHTCOND'].replace(\"Other\", np.nan, inplace = True)"
   ]
  },
  {
   "cell_type": "code",
   "execution_count": 10,
   "metadata": {},
   "outputs": [],
   "source": [
    "# Filling in missing values for 'INATTENTIONIND', 'UNDERINFL', 'PEDROWNOTGRNT' and 'SPEEDING'\n",
    "\n",
    "# INATTENIONIND: \n",
    "# Change all 'Y' values to 1\n",
    "# Make all non-'Y' values equal to 'N' (since the meaning is that the driver WAS attentive for a value of N or No)\n",
    "# Change all 'N' values to 0\n",
    "df['INATTENTIONIND'].fillna(0, inplace=True)\n",
    "df['INATTENTIONIND'].replace(\"N\", 0, inplace=True)\n",
    "df['INATTENTIONIND'].replace(\"Y\", 1, inplace = True)\n",
    "\n",
    "# UNDERINFL:\n",
    "# Change all values to quantitative values\n",
    "# Change all empty cells to 'N' (since the meaning is that the driver was NOT under the influence)\n",
    "# Change all 'N' values to 0\n",
    "# Change all 'Y' values to 1\n",
    "df['UNDERINFL'].fillna(0, inplace=True)\n",
    "df['UNDERINFL'].replace(to_replace=['N','Y'], value=[0,1],inplace=True)\n",
    "df['UNDERINFL']=df['UNDERINFL'].astype(dtype='int64')\n",
    "\n",
    "# PEDROWNOTGRNT:\n",
    "# Change all empty cells to 'N' (since the meaning is that the pedestrian right-of-way WAS granted)\n",
    "# Change all 'N' values to 0\n",
    "# Change all 'Y' values to 1\n",
    "df['PEDROWNOTGRNT'].fillna(0, inplace=True)\n",
    "df['PEDROWNOTGRNT'].replace(\"N\", 0, inplace=True)\n",
    "df['PEDROWNOTGRNT'].replace(\"Y\", 1, inplace = True)\n",
    "\n",
    "# SPEEDING:\n",
    "# Change all empty cells to 'N' (Since the meaning is that the driver was NOT speeding)\n",
    "# Change all 'N' values to 0\n",
    "# Change all 'Y' values to 1\n",
    "df['SPEEDING'].fillna(0, inplace=True)\n",
    "df['SPEEDING'].replace(to_replace='Y', value=1,inplace=True)"
   ]
  },
  {
   "cell_type": "markdown",
   "metadata": {},
   "source": [
    "At this juncture, let us look at the status of our dataset."
   ]
  },
  {
   "cell_type": "code",
   "execution_count": 11,
   "metadata": {},
   "outputs": [
    {
     "name": "stdout",
     "output_type": "stream",
     "text": [
      "<class 'pandas.core.frame.DataFrame'>\n",
      "RangeIndex: 194673 entries, 0 to 194672\n",
      "Data columns (total 36 columns):\n",
      "SEVERITYCODE      194673 non-null int64\n",
      "X                 189339 non-null float64\n",
      "Y                 189339 non-null float64\n",
      "OBJECTID          194673 non-null int64\n",
      "INCKEY            194673 non-null int64\n",
      "COLDETKEY         194673 non-null int64\n",
      "REPORTNO          194673 non-null object\n",
      "STATUS            194673 non-null object\n",
      "ADDRTYPE          192747 non-null object\n",
      "INTKEY            65070 non-null float64\n",
      "LOCATION          191996 non-null object\n",
      "EXCEPTRSNCODE     84811 non-null object\n",
      "EXCEPTRSNDESC     5638 non-null object\n",
      "COLLISIONTYPE     189769 non-null object\n",
      "PERSONCOUNT       194673 non-null int64\n",
      "PEDCOUNT          194673 non-null int64\n",
      "PEDCYLCOUNT       194673 non-null int64\n",
      "VEHCOUNT          194673 non-null int64\n",
      "INCDATE           194673 non-null object\n",
      "INCDTTM           194673 non-null object\n",
      "JUNCTIONTYPE      188344 non-null object\n",
      "SDOT_COLCODE      194673 non-null int64\n",
      "SDOT_COLDESC      194673 non-null object\n",
      "INATTENTIONIND    194673 non-null int64\n",
      "UNDERINFL         194673 non-null int64\n",
      "WEATHER           173669 non-null object\n",
      "ROADCOND          174451 non-null object\n",
      "LIGHTCOND         175795 non-null object\n",
      "PEDROWNOTGRNT     194673 non-null int64\n",
      "SDOTCOLNUM        114936 non-null float64\n",
      "SPEEDING          194673 non-null int64\n",
      "ST_COLCODE        194655 non-null object\n",
      "ST_COLDESC        189769 non-null object\n",
      "SEGLANEKEY        194673 non-null int64\n",
      "CROSSWALKKEY      194673 non-null int64\n",
      "HITPARKEDCAR      194673 non-null object\n",
      "dtypes: float64(4), int64(15), object(17)\n",
      "memory usage: 53.5+ MB\n"
     ]
    }
   ],
   "source": [
    "# Show current status of dataset after initial cleaning\n",
    "df.info()"
   ]
  },
  {
   "cell_type": "markdown",
   "metadata": {},
   "source": [
    "So now we have data (of some kind) in each of the columns of our dataset. Let us now choose the columns we wish to use for our feature selection and to continue this analysis.\n",
    "\n",
    "Some of the variables, like SDOT_COLCODE, appear to have information already covered in other variables. Others, like INCDATE, lie outside the scope of the study we are trying to make."
   ]
  },
  {
   "cell_type": "code",
   "execution_count": 12,
   "metadata": {},
   "outputs": [
    {
     "data": {
      "text/plain": [
       "SEVERITYCODE          0\n",
       "ADDRTYPE           1926\n",
       "PERSONCOUNT           0\n",
       "PEDCOUNT              0\n",
       "PEDCYLCOUNT           0\n",
       "VEHCOUNT              0\n",
       "INATTENTIONIND        0\n",
       "UNDERINFL             0\n",
       "WEATHER           21004\n",
       "ROADCOND          20222\n",
       "LIGHTCOND         18878\n",
       "PEDROWNOTGRNT         0\n",
       "SPEEDING              0\n",
       "dtype: int64"
      ]
     },
     "execution_count": 12,
     "metadata": {},
     "output_type": "execute_result"
    }
   ],
   "source": [
    "# Column Choice for Feature Selections\n",
    "df_featureSelection = df[['SEVERITYCODE','ADDRTYPE','PERSONCOUNT','PEDCOUNT','PEDCYLCOUNT','VEHCOUNT','INATTENTIONIND','UNDERINFL','WEATHER','ROADCOND','LIGHTCOND','PEDROWNOTGRNT','SPEEDING']]\n",
    "\n",
    "# Number of 'NULL' values remaining among the Feature Selection subsete\n",
    "df_featureSelection.isnull().sum()"
   ]
  },
  {
   "cell_type": "markdown",
   "metadata": {},
   "source": [
    "Given we have dramatically reduced the 'NULL' values of our dataset, let us remove these 'NULL' values."
   ]
  },
  {
   "cell_type": "code",
   "execution_count": 13,
   "metadata": {},
   "outputs": [
    {
     "name": "stderr",
     "output_type": "stream",
     "text": [
      "/opt/conda/envs/Python36/lib/python3.6/site-packages/ipykernel/__main__.py:2: SettingWithCopyWarning: \n",
      "A value is trying to be set on a copy of a slice from a DataFrame\n",
      "\n",
      "See the caveats in the documentation: http://pandas.pydata.org/pandas-docs/stable/indexing.html#indexing-view-versus-copy\n",
      "  from ipykernel import kernelapp as app\n"
     ]
    },
    {
     "data": {
      "text/plain": [
       "SEVERITYCODE      0\n",
       "ADDRTYPE          0\n",
       "PERSONCOUNT       0\n",
       "PEDCOUNT          0\n",
       "PEDCYLCOUNT       0\n",
       "VEHCOUNT          0\n",
       "INATTENTIONIND    0\n",
       "UNDERINFL         0\n",
       "WEATHER           0\n",
       "ROADCOND          0\n",
       "LIGHTCOND         0\n",
       "PEDROWNOTGRNT     0\n",
       "SPEEDING          0\n",
       "dtype: int64"
      ]
     },
     "execution_count": 13,
     "metadata": {},
     "output_type": "execute_result"
    }
   ],
   "source": [
    "# Remove 'NULL' data from the Feature Selection subset\n",
    "df_featureSelection.dropna(axis=0,inplace=True)\n",
    "\n",
    "# Display the updated Feature Selection subset\n",
    "df_featureSelection.isnull().sum()"
   ]
  },
  {
   "cell_type": "markdown",
   "metadata": {},
   "source": [
    "At this juncture, let us now look at the cleaned data for our Feature Selection subset."
   ]
  },
  {
   "cell_type": "code",
   "execution_count": 14,
   "metadata": {},
   "outputs": [
    {
     "data": {
      "text/html": [
       "<div>\n",
       "<style scoped>\n",
       "    .dataframe tbody tr th:only-of-type {\n",
       "        vertical-align: middle;\n",
       "    }\n",
       "\n",
       "    .dataframe tbody tr th {\n",
       "        vertical-align: top;\n",
       "    }\n",
       "\n",
       "    .dataframe thead th {\n",
       "        text-align: right;\n",
       "    }\n",
       "</style>\n",
       "<table border=\"1\" class=\"dataframe\">\n",
       "  <thead>\n",
       "    <tr style=\"text-align: right;\">\n",
       "      <th></th>\n",
       "      <th>SEVERITYCODE</th>\n",
       "      <th>ADDRTYPE</th>\n",
       "      <th>PERSONCOUNT</th>\n",
       "      <th>PEDCOUNT</th>\n",
       "      <th>PEDCYLCOUNT</th>\n",
       "      <th>VEHCOUNT</th>\n",
       "      <th>INATTENTIONIND</th>\n",
       "      <th>UNDERINFL</th>\n",
       "      <th>WEATHER</th>\n",
       "      <th>ROADCOND</th>\n",
       "      <th>LIGHTCOND</th>\n",
       "      <th>PEDROWNOTGRNT</th>\n",
       "      <th>SPEEDING</th>\n",
       "    </tr>\n",
       "  </thead>\n",
       "  <tbody>\n",
       "    <tr>\n",
       "      <th>0</th>\n",
       "      <td>2</td>\n",
       "      <td>Intersection</td>\n",
       "      <td>2</td>\n",
       "      <td>0</td>\n",
       "      <td>0</td>\n",
       "      <td>2</td>\n",
       "      <td>0</td>\n",
       "      <td>0</td>\n",
       "      <td>Overcast</td>\n",
       "      <td>Wet</td>\n",
       "      <td>Daylight</td>\n",
       "      <td>0</td>\n",
       "      <td>0</td>\n",
       "    </tr>\n",
       "    <tr>\n",
       "      <th>1</th>\n",
       "      <td>1</td>\n",
       "      <td>Block</td>\n",
       "      <td>2</td>\n",
       "      <td>0</td>\n",
       "      <td>0</td>\n",
       "      <td>2</td>\n",
       "      <td>0</td>\n",
       "      <td>0</td>\n",
       "      <td>Raining</td>\n",
       "      <td>Wet</td>\n",
       "      <td>Dark - Street Lights On</td>\n",
       "      <td>0</td>\n",
       "      <td>0</td>\n",
       "    </tr>\n",
       "    <tr>\n",
       "      <th>2</th>\n",
       "      <td>1</td>\n",
       "      <td>Block</td>\n",
       "      <td>4</td>\n",
       "      <td>0</td>\n",
       "      <td>0</td>\n",
       "      <td>3</td>\n",
       "      <td>0</td>\n",
       "      <td>0</td>\n",
       "      <td>Overcast</td>\n",
       "      <td>Dry</td>\n",
       "      <td>Daylight</td>\n",
       "      <td>0</td>\n",
       "      <td>0</td>\n",
       "    </tr>\n",
       "    <tr>\n",
       "      <th>3</th>\n",
       "      <td>1</td>\n",
       "      <td>Block</td>\n",
       "      <td>3</td>\n",
       "      <td>0</td>\n",
       "      <td>0</td>\n",
       "      <td>3</td>\n",
       "      <td>0</td>\n",
       "      <td>0</td>\n",
       "      <td>Clear</td>\n",
       "      <td>Dry</td>\n",
       "      <td>Daylight</td>\n",
       "      <td>0</td>\n",
       "      <td>0</td>\n",
       "    </tr>\n",
       "    <tr>\n",
       "      <th>4</th>\n",
       "      <td>2</td>\n",
       "      <td>Intersection</td>\n",
       "      <td>2</td>\n",
       "      <td>0</td>\n",
       "      <td>0</td>\n",
       "      <td>2</td>\n",
       "      <td>0</td>\n",
       "      <td>0</td>\n",
       "      <td>Raining</td>\n",
       "      <td>Wet</td>\n",
       "      <td>Daylight</td>\n",
       "      <td>0</td>\n",
       "      <td>0</td>\n",
       "    </tr>\n",
       "  </tbody>\n",
       "</table>\n",
       "</div>"
      ],
      "text/plain": [
       "   SEVERITYCODE      ADDRTYPE  PERSONCOUNT  PEDCOUNT  PEDCYLCOUNT  VEHCOUNT  \\\n",
       "0             2  Intersection            2         0            0         2   \n",
       "1             1         Block            2         0            0         2   \n",
       "2             1         Block            4         0            0         3   \n",
       "3             1         Block            3         0            0         3   \n",
       "4             2  Intersection            2         0            0         2   \n",
       "\n",
       "   INATTENTIONIND  UNDERINFL   WEATHER ROADCOND                LIGHTCOND  \\\n",
       "0               0          0  Overcast      Wet                 Daylight   \n",
       "1               0          0   Raining      Wet  Dark - Street Lights On   \n",
       "2               0          0  Overcast      Dry                 Daylight   \n",
       "3               0          0     Clear      Dry                 Daylight   \n",
       "4               0          0   Raining      Wet                 Daylight   \n",
       "\n",
       "   PEDROWNOTGRNT  SPEEDING  \n",
       "0              0         0  \n",
       "1              0         0  \n",
       "2              0         0  \n",
       "3              0         0  \n",
       "4              0         0  "
      ]
     },
     "execution_count": 14,
     "metadata": {},
     "output_type": "execute_result"
    }
   ],
   "source": [
    "# Display the 1st 5 rows of the Feature Selection subset\n",
    "df_featureSelection.head()"
   ]
  },
  {
   "cell_type": "markdown",
   "metadata": {},
   "source": [
    "We notice that while we have a dataset that has a complete set of values for each column, the columns have a mix of both categorical variables (binary i.e. INATTENTIONIND, UNDERINFL) and numerical variables (integers, strings i.e. VEHCOUNT, WEATHER).\n",
    "\n",
    "In order to do any data analysis, we will need to convert all the remaining columns into numerical variables. This task can be done using the 'get_dummies' function in the Pandas library."
   ]
  },
  {
   "cell_type": "code",
   "execution_count": 15,
   "metadata": {
    "scrolled": true
   },
   "outputs": [
    {
     "name": "stderr",
     "output_type": "stream",
     "text": [
      "/opt/conda/envs/Python36/lib/python3.6/site-packages/pandas/core/frame.py:3391: SettingWithCopyWarning: \n",
      "A value is trying to be set on a copy of a slice from a DataFrame.\n",
      "Try using .loc[row_indexer,col_indexer] = value instead\n",
      "\n",
      "See the caveats in the documentation: http://pandas.pydata.org/pandas-docs/stable/indexing.html#indexing-view-versus-copy\n",
      "  self[k1] = value[k2]\n",
      "/opt/conda/envs/Python36/lib/python3.6/site-packages/pandas/core/frame.py:3940: SettingWithCopyWarning: \n",
      "A value is trying to be set on a copy of a slice from a DataFrame\n",
      "\n",
      "See the caveats in the documentation: http://pandas.pydata.org/pandas-docs/stable/indexing.html#indexing-view-versus-copy\n",
      "  errors=errors)\n"
     ]
    }
   ],
   "source": [
    "# Change Categorical Variables into Numerical Variables\n",
    "\n",
    "# ADDRTYPE\n",
    "# Convert into 3 columns representing 'Alley', 'Block', 'Intersection'\n",
    "df_featureSelection[['Alley', 'Block', 'Intersection']] = pd.get_dummies(df_featureSelection['ADDRTYPE'])\n",
    "df_featureSelection.drop(['ADDRTYPE'], axis=1, inplace=True)\n",
    "\n",
    "# WEATHER\n",
    "# Convert into several columns\n",
    "df_featureSelection[pd.get_dummies(df_featureSelection['WEATHER']).columns] = pd.get_dummies(df_featureSelection['WEATHER'])\n",
    "df_featureSelection.drop(['WEATHER'], axis=1, inplace=True)\n",
    "\n",
    "# ROADCOND\n",
    "# Convert into several columns\n",
    "df_featureSelection[pd.get_dummies(df_featureSelection['ROADCOND']).columns] = pd.get_dummies(df_featureSelection['ROADCOND'])\n",
    "df_featureSelection.drop(['ROADCOND'], axis=1, inplace=True)\n",
    "\n",
    "# LIGHTCOND\n",
    "# Convert into several columns\n",
    "df_featureSelection[pd.get_dummies(df_featureSelection['LIGHTCOND']).columns] = pd.get_dummies(df_featureSelection['LIGHTCOND'])\n",
    "df_featureSelection.drop(['LIGHTCOND'], axis=1, inplace=True)"
   ]
  },
  {
   "cell_type": "markdown",
   "metadata": {},
   "source": [
    "Before conducting exploratory data analysis, let us take a look at our final updated Feature Selection subset."
   ]
  },
  {
   "cell_type": "code",
   "execution_count": 16,
   "metadata": {},
   "outputs": [
    {
     "data": {
      "text/html": [
       "<div>\n",
       "<style scoped>\n",
       "    .dataframe tbody tr th:only-of-type {\n",
       "        vertical-align: middle;\n",
       "    }\n",
       "\n",
       "    .dataframe tbody tr th {\n",
       "        vertical-align: top;\n",
       "    }\n",
       "\n",
       "    .dataframe thead th {\n",
       "        text-align: right;\n",
       "    }\n",
       "</style>\n",
       "<table border=\"1\" class=\"dataframe\">\n",
       "  <thead>\n",
       "    <tr style=\"text-align: right;\">\n",
       "      <th></th>\n",
       "      <th>SEVERITYCODE</th>\n",
       "      <th>PERSONCOUNT</th>\n",
       "      <th>PEDCOUNT</th>\n",
       "      <th>PEDCYLCOUNT</th>\n",
       "      <th>VEHCOUNT</th>\n",
       "      <th>INATTENTIONIND</th>\n",
       "      <th>UNDERINFL</th>\n",
       "      <th>PEDROWNOTGRNT</th>\n",
       "      <th>SPEEDING</th>\n",
       "      <th>Alley</th>\n",
       "      <th>...</th>\n",
       "      <th>Snow/Slush</th>\n",
       "      <th>Standing Water</th>\n",
       "      <th>Wet</th>\n",
       "      <th>Dark - No Street Lights</th>\n",
       "      <th>Dark - Street Lights Off</th>\n",
       "      <th>Dark - Street Lights On</th>\n",
       "      <th>Dark - Unknown Lighting</th>\n",
       "      <th>Dawn</th>\n",
       "      <th>Daylight</th>\n",
       "      <th>Dusk</th>\n",
       "    </tr>\n",
       "  </thead>\n",
       "  <tbody>\n",
       "    <tr>\n",
       "      <th>0</th>\n",
       "      <td>2</td>\n",
       "      <td>2</td>\n",
       "      <td>0</td>\n",
       "      <td>0</td>\n",
       "      <td>2</td>\n",
       "      <td>0</td>\n",
       "      <td>0</td>\n",
       "      <td>0</td>\n",
       "      <td>0</td>\n",
       "      <td>0</td>\n",
       "      <td>...</td>\n",
       "      <td>0</td>\n",
       "      <td>0</td>\n",
       "      <td>1</td>\n",
       "      <td>0</td>\n",
       "      <td>0</td>\n",
       "      <td>0</td>\n",
       "      <td>0</td>\n",
       "      <td>0</td>\n",
       "      <td>1</td>\n",
       "      <td>0</td>\n",
       "    </tr>\n",
       "    <tr>\n",
       "      <th>1</th>\n",
       "      <td>1</td>\n",
       "      <td>2</td>\n",
       "      <td>0</td>\n",
       "      <td>0</td>\n",
       "      <td>2</td>\n",
       "      <td>0</td>\n",
       "      <td>0</td>\n",
       "      <td>0</td>\n",
       "      <td>0</td>\n",
       "      <td>0</td>\n",
       "      <td>...</td>\n",
       "      <td>0</td>\n",
       "      <td>0</td>\n",
       "      <td>1</td>\n",
       "      <td>0</td>\n",
       "      <td>0</td>\n",
       "      <td>1</td>\n",
       "      <td>0</td>\n",
       "      <td>0</td>\n",
       "      <td>0</td>\n",
       "      <td>0</td>\n",
       "    </tr>\n",
       "    <tr>\n",
       "      <th>2</th>\n",
       "      <td>1</td>\n",
       "      <td>4</td>\n",
       "      <td>0</td>\n",
       "      <td>0</td>\n",
       "      <td>3</td>\n",
       "      <td>0</td>\n",
       "      <td>0</td>\n",
       "      <td>0</td>\n",
       "      <td>0</td>\n",
       "      <td>0</td>\n",
       "      <td>...</td>\n",
       "      <td>0</td>\n",
       "      <td>0</td>\n",
       "      <td>0</td>\n",
       "      <td>0</td>\n",
       "      <td>0</td>\n",
       "      <td>0</td>\n",
       "      <td>0</td>\n",
       "      <td>0</td>\n",
       "      <td>1</td>\n",
       "      <td>0</td>\n",
       "    </tr>\n",
       "    <tr>\n",
       "      <th>3</th>\n",
       "      <td>1</td>\n",
       "      <td>3</td>\n",
       "      <td>0</td>\n",
       "      <td>0</td>\n",
       "      <td>3</td>\n",
       "      <td>0</td>\n",
       "      <td>0</td>\n",
       "      <td>0</td>\n",
       "      <td>0</td>\n",
       "      <td>0</td>\n",
       "      <td>...</td>\n",
       "      <td>0</td>\n",
       "      <td>0</td>\n",
       "      <td>0</td>\n",
       "      <td>0</td>\n",
       "      <td>0</td>\n",
       "      <td>0</td>\n",
       "      <td>0</td>\n",
       "      <td>0</td>\n",
       "      <td>1</td>\n",
       "      <td>0</td>\n",
       "    </tr>\n",
       "    <tr>\n",
       "      <th>4</th>\n",
       "      <td>2</td>\n",
       "      <td>2</td>\n",
       "      <td>0</td>\n",
       "      <td>0</td>\n",
       "      <td>2</td>\n",
       "      <td>0</td>\n",
       "      <td>0</td>\n",
       "      <td>0</td>\n",
       "      <td>0</td>\n",
       "      <td>0</td>\n",
       "      <td>...</td>\n",
       "      <td>0</td>\n",
       "      <td>0</td>\n",
       "      <td>1</td>\n",
       "      <td>0</td>\n",
       "      <td>0</td>\n",
       "      <td>0</td>\n",
       "      <td>0</td>\n",
       "      <td>0</td>\n",
       "      <td>1</td>\n",
       "      <td>0</td>\n",
       "    </tr>\n",
       "  </tbody>\n",
       "</table>\n",
       "<p>5 rows × 35 columns</p>\n",
       "</div>"
      ],
      "text/plain": [
       "   SEVERITYCODE  PERSONCOUNT  PEDCOUNT  PEDCYLCOUNT  VEHCOUNT  INATTENTIONIND  \\\n",
       "0             2            2         0            0         2               0   \n",
       "1             1            2         0            0         2               0   \n",
       "2             1            4         0            0         3               0   \n",
       "3             1            3         0            0         3               0   \n",
       "4             2            2         0            0         2               0   \n",
       "\n",
       "   UNDERINFL  PEDROWNOTGRNT  SPEEDING  Alley  ...  Snow/Slush  Standing Water  \\\n",
       "0          0              0         0      0  ...           0               0   \n",
       "1          0              0         0      0  ...           0               0   \n",
       "2          0              0         0      0  ...           0               0   \n",
       "3          0              0         0      0  ...           0               0   \n",
       "4          0              0         0      0  ...           0               0   \n",
       "\n",
       "   Wet  Dark - No Street Lights  Dark - Street Lights Off  \\\n",
       "0    1                        0                         0   \n",
       "1    1                        0                         0   \n",
       "2    0                        0                         0   \n",
       "3    0                        0                         0   \n",
       "4    1                        0                         0   \n",
       "\n",
       "   Dark - Street Lights On  Dark - Unknown Lighting  Dawn  Daylight  Dusk  \n",
       "0                        0                        0     0         1     0  \n",
       "1                        1                        0     0         0     0  \n",
       "2                        0                        0     0         1     0  \n",
       "3                        0                        0     0         1     0  \n",
       "4                        0                        0     0         1     0  \n",
       "\n",
       "[5 rows x 35 columns]"
      ]
     },
     "execution_count": 16,
     "metadata": {},
     "output_type": "execute_result"
    }
   ],
   "source": [
    "# Display 1st 5 rows of final updated Feature Selection subset\n",
    "df_featureSelection.head()"
   ]
  },
  {
   "cell_type": "markdown",
   "metadata": {},
   "source": [
    "So now we are ready for our data exploration!"
   ]
  },
  {
   "cell_type": "markdown",
   "metadata": {},
   "source": [
    "## Data Exploration"
   ]
  },
  {
   "cell_type": "markdown",
   "metadata": {},
   "source": [
    "Now that we have cleaned our data, let us do some exploratory data analysis to get an idea of any trends/inferences we might be able to obtain before developing our machine learning model.\n",
    "\n",
    "Let us start with developing correlation matrices to see how sensitive the variables are to one another. We will start with weather and road conditions."
   ]
  },
  {
   "cell_type": "code",
   "execution_count": 17,
   "metadata": {},
   "outputs": [],
   "source": [
    "# Import Visualization Libraries\n",
    "import seaborn as sns \n",
    "import matplotlib.pyplot as plt"
   ]
  },
  {
   "cell_type": "code",
   "execution_count": 18,
   "metadata": {},
   "outputs": [
    {
     "data": {
      "image/png": "[encoded data removed]",
      "text/plain": [
       "<Figure size 1296x1296 with 2 Axes>"
      ]
     },
     "metadata": {
      "needs_background": "light"
     },
     "output_type": "display_data"
    }
   ],
   "source": [
    "# Weather and Road Conditions Correlation Matrix\n",
    "# Construct the Weather/Road Conditions Selection\n",
    "df_featureSelection_Weather = df_featureSelection[['SEVERITYCODE', 'Blowing Sand/Dirt', 'Clear', 'Fog/Smog/Smoke', 'Overcast', 'Partly Cloudy', 'Raining', 'Severe Crosswind', \n",
    "                                          'Sleet/Hail/Freezing Rain', 'Snowing', 'Dry', 'Ice', 'Oil', 'Sand/Mud/Dirt', 'Snow/Slush', 'Standing Water', 'Wet']]\n",
    "\n",
    "# Create the Weather/Road Conditions Correlation Matrix\n",
    "figureWeather, axisWeather = plt.subplots(figsize=(18, 18));\n",
    "sns.heatmap(df_featureSelection_Weather.corr(), annot = True, linewidths = .5, fmt = '.01f', ax = axisWeather);"
   ]
  },
  {
   "cell_type": "markdown",
   "metadata": {},
   "source": [
    "According to our heatmap, interestingly enough, there does not appear to be any correlation between a specific weather/road condition and the severity of an accident. Next, let us take a look at the lighting conditions."
   ]
  },
  {
   "cell_type": "code",
   "execution_count": 19,
   "metadata": {},
   "outputs": [
    {
     "data": {
      "image/png": "[encoded data removed]",
      "text/plain": [
       "<Figure size 864x864 with 2 Axes>"
      ]
     },
     "metadata": {
      "needs_background": "light"
     },
     "output_type": "display_data"
    }
   ],
   "source": [
    "# Lighting Conditions Correlation Matrix\n",
    "# Lighting Conditions Selection\n",
    "df_featureSelection_Lighting = df_featureSelection[['SEVERITYCODE', 'Dark - No Street Lights', 'Dark - Street Lights Off', 'Dark - Street Lights On', \n",
    "                                                    'Dark - Unknown Lighting', 'Dawn', 'Daylight', 'Dusk']]\n",
    "\n",
    "# Create the Lighting Conditions Correlation Matrix\n",
    "figureLighting, axisLighting = plt.subplots(figsize=(12, 12));\n",
    "sns.heatmap(df_featureSelection_Lighting.corr(), annot = True, linewidths = .5, fmt = '.01f', ax = axisLighting);"
   ]
  },
  {
   "cell_type": "markdown",
   "metadata": {},
   "source": [
    "According to our heatmap, interestingly enough, there does not appear to be any correlation between a specific lighting condition and the severity of an accident. To confirm this conclusion, let's plot the accidents by relative time of day. "
   ]
  },
  {
   "cell_type": "code",
   "execution_count": 20,
   "metadata": {},
   "outputs": [
    {
     "data": {
      "image/png": "[encoded data removed]",
      "text/plain": [
       "<Figure size 432x288 with 1 Axes>"
      ]
     },
     "metadata": {
      "needs_background": "light"
     },
     "output_type": "display_data"
    }
   ],
   "source": [
    "# Plot Accidents by the Time of Day (relative)\n",
    "\n",
    "# Dark Streets\n",
    "DarkNoStreetLight = df_featureSelection[['Dark - No Street Lights']].astype(bool).sum(axis=0);\n",
    "accidents_DarkNoStreetLight = np.asscalar(np.array(DarkNoStreetLight));\n",
    "\n",
    "DarkStreetLightsOff = df_featureSelection[['Dark - Street Lights Off']].astype(bool).sum(axis=0);\n",
    "accidents_DarkStreetLightsOff = np.asscalar(np.array(DarkStreetLightsOff));\n",
    "\n",
    "DarkStreetLightsOn = df_featureSelection[['Dark - Street Lights On']].astype(bool).sum(axis=0);\n",
    "accidents_DarkStreetLightsOn = np.asscalar(np.array(DarkStreetLightsOn));\n",
    "\n",
    "DarkUnknownLighting = df_featureSelection[['Dark - Unknown Lighting']].astype(bool).sum(axis=0);\n",
    "accidents_DarkUnknownLighting = np.asscalar(np.array(DarkUnknownLighting));\n",
    "\n",
    "accidents_Dark = accidents_DarkNoStreetLight + accidents_DarkStreetLightsOff + accidents_DarkStreetLightsOn + accidents_DarkUnknownLighting;\n",
    "\n",
    "# Dawn Streets\n",
    "Dawn = df_featureSelection[['Dawn']].astype(bool).sum(axis=0);\n",
    "accidents_Dawn = np.asscalar(np.array(Dawn));\n",
    "\n",
    "# Daylight Streets\n",
    "Daylight = df_featureSelection[['Daylight']].astype(bool).sum(axis=0);\n",
    "accidents_Daylight = np.asscalar(np.array(Daylight));\n",
    "\n",
    "# Dusk Streets\n",
    "Dusk = df_featureSelection[['Dusk']].astype(bool).sum(axis=0);\n",
    "accidents_Dusk = np.asscalar(np.array(Dusk));\n",
    "\n",
    "# Plot the Accidents by Time of Day (Relative)\n",
    "figure = plt.figure()\n",
    "axis = figure.add_axes([0,0,1,1])\n",
    "accident_time_of_day = ['Dark', 'Dawn', 'Daylight', 'Dusk']\n",
    "accident_time_of_day_frequency = [accidents_Dark, accidents_Dawn, accidents_Daylight, accidents_Dusk]\n",
    "axis.bar(accident_time_of_day, accident_time_of_day_frequency)\n",
    "plt.title('Accident Frequency by Relative Time of Day');\n",
    "plt.xlabel('Relative Time of Day');\n",
    "plt.ylabel('Accident Frequency');\n",
    "plt.show()"
   ]
  },
  {
   "cell_type": "markdown",
   "metadata": {},
   "source": [
    "The graph of accidents vs. relative time of day makes sense, since the majority of drivers are out during the day commuting to/from work. Now let us look at the attentiveness and/or impairment of the driver."
   ]
  },
  {
   "cell_type": "code",
   "execution_count": 21,
   "metadata": {},
   "outputs": [
    {
     "data": {
      "image/png": "[encoded data removed]",
      "text/plain": [
       "<Figure size 432x432 with 2 Axes>"
      ]
     },
     "metadata": {
      "needs_background": "light"
     },
     "output_type": "display_data"
    }
   ],
   "source": [
    "# Attentiveness/Impairment Correlation Matrix\n",
    "# sub-Feature Selection\n",
    "df_featureSelection_Driver = df_featureSelection[['SEVERITYCODE', 'INATTENTIONIND', 'UNDERINFL']]\n",
    "\n",
    "# Create the Lighting Conditions Correlation Matrix\n",
    "figureDriver, axisDriver = plt.subplots(figsize=(6, 6));\n",
    "sns.heatmap(df_featureSelection_Driver.corr(), annot = True, linewidths = .5, fmt = '.01f', ax = axisDriver);"
   ]
  },
  {
   "cell_type": "markdown",
   "metadata": {},
   "source": [
    "According to our heatmap, the inattentiveness of the driver and whether they are under the influence is also not correlated with the severity of an accident. Let us examine three more possibilities: location, the presence of a pedestrian/non-automobile, and whether the driver was speeding/not granting the right of way."
   ]
  },
  {
   "cell_type": "code",
   "execution_count": 22,
   "metadata": {
    "scrolled": true
   },
   "outputs": [
    {
     "data": {
      "image/png": "[encoded data removed]",
      "text/plain": [
       "<Figure size 432x432 with 2 Axes>"
      ]
     },
     "metadata": {
      "needs_background": "light"
     },
     "output_type": "display_data"
    }
   ],
   "source": [
    "# Construct Accident Location Correlation Matrix\n",
    "\n",
    "# sub-Feature Selection\n",
    "df_featureSelection_Location = df_featureSelection[['SEVERITYCODE', 'Alley', 'Intersection', 'Block']]\n",
    "# Create the Accident Location Correlation Matrix\n",
    "figureLocation, axisLocation = plt.subplots(figsize=(6, 6));\n",
    "sns.heatmap(df_featureSelection_Location.corr(), annot = True, linewidths = .5, fmt = '.01f', ax = axisLocation);"
   ]
  },
  {
   "cell_type": "markdown",
   "metadata": {},
   "source": [
    "The Location Matrix heatmap appears to show a slight correlation with severity of accidents in intersections as opposed to blocks or alleys. Logically, this correlation would appear to make sense, since automobiles are most likely moving and surrounded by other automobiles in an intersection. Let's confirm this by looking at the actual values of accident severity vs. location type."
   ]
  },
  {
   "cell_type": "code",
   "execution_count": 23,
   "metadata": {},
   "outputs": [
    {
     "data": {
      "text/html": [
       "<div>\n",
       "<style scoped>\n",
       "    .dataframe tbody tr th:only-of-type {\n",
       "        vertical-align: middle;\n",
       "    }\n",
       "\n",
       "    .dataframe tbody tr th {\n",
       "        vertical-align: top;\n",
       "    }\n",
       "\n",
       "    .dataframe thead th {\n",
       "        text-align: right;\n",
       "    }\n",
       "</style>\n",
       "<table border=\"1\" class=\"dataframe\">\n",
       "  <thead>\n",
       "    <tr style=\"text-align: right;\">\n",
       "      <th></th>\n",
       "      <th>Accident Location</th>\n",
       "      <th>Severity = 1</th>\n",
       "      <th>Severity = 2</th>\n",
       "      <th>% Difference btwn Sev=1, Sev=2</th>\n",
       "    </tr>\n",
       "  </thead>\n",
       "  <tbody>\n",
       "    <tr>\n",
       "      <th>0</th>\n",
       "      <td>Alley</td>\n",
       "      <td>516</td>\n",
       "      <td>77</td>\n",
       "      <td>0.850775</td>\n",
       "    </tr>\n",
       "    <tr>\n",
       "      <th>1</th>\n",
       "      <td>Intersection</td>\n",
       "      <td>34463</td>\n",
       "      <td>26808</td>\n",
       "      <td>0.222122</td>\n",
       "    </tr>\n",
       "    <tr>\n",
       "      <th>2</th>\n",
       "      <td>Block</td>\n",
       "      <td>78726</td>\n",
       "      <td>28657</td>\n",
       "      <td>0.635991</td>\n",
       "    </tr>\n",
       "  </tbody>\n",
       "</table>\n",
       "</div>"
      ],
      "text/plain": [
       "  Accident Location  Severity = 1   Severity = 2  \\\n",
       "0             Alley            516            77   \n",
       "1      Intersection          34463         26808   \n",
       "2             Block          78726         28657   \n",
       "\n",
       "   % Difference btwn Sev=1, Sev=2  \n",
       "0                        0.850775  \n",
       "1                        0.222122  \n",
       "2                        0.635991  "
      ]
     },
     "execution_count": 23,
     "metadata": {},
     "output_type": "execute_result"
    }
   ],
   "source": [
    "# Creating Table of Accident Severity vs. Location Type\n",
    "df_fS2 = df_featureSelection;\n",
    "df_fS2.index.name = 'id';\n",
    "\n",
    "# Alleys\n",
    "SC1A = [(df_fS2['SEVERITYCODE']==1) & (df_fS2['Alley']==1)];\n",
    "SC1A = np.count_nonzero(SC1A);\n",
    "SC2A = [(df_fS2['SEVERITYCODE']==2) & (df_fS2['Alley']==1)];\n",
    "SC2A = np.count_nonzero(SC2A);\n",
    "\n",
    "# Intersections\n",
    "SC1I = [(df_fS2['SEVERITYCODE']==1) & (df_fS2['Intersection']==1)];\n",
    "SC1I = np.count_nonzero(SC1I);\n",
    "SC2I = [(df_fS2['SEVERITYCODE']==2) & (df_fS2['Intersection']==1)];\n",
    "SC2I = np.count_nonzero(SC2I);\n",
    "\n",
    "# Blocks\n",
    "SC1B = [(df_fS2['SEVERITYCODE']==1) & (df_fS2['Block']==1)];\n",
    "SC1B = np.count_nonzero(SC1B);\n",
    "SC2B = [(df_fS2['SEVERITYCODE']==2) & (df_fS2['Block']==1)];\n",
    "SC2B = np.count_nonzero(SC2B);\n",
    "\n",
    "# Percentage Difference Between Severity\n",
    "percentage1over2A = (1 - (SC2A / SC1A));\n",
    "percentage1over2I = (1 - (SC2I / SC1I));\n",
    "percentage1over2B = (1 - (SC2B / SC1B));\n",
    "\n",
    "SCLocation = {'Accident Location': ['Alley', 'Intersection', 'Block'], 'Severity = 1 ': [SC1A, SC1I, SC1B], \n",
    "              'Severity = 2': [SC2A, SC2I, SC2B], '% Difference btwn Sev=1, Sev=2': [percentage1over2A, percentage1over2I, percentage1over2B]};\n",
    "df_SCLocation = pd.DataFrame(SCLocation);\n",
    "df_SCLocation"
   ]
  },
  {
   "cell_type": "markdown",
   "metadata": {},
   "source": [
    "As one can see, there is only 22.2% difference between intersection severity, as opposed to an 85.1% difference for alleys and 63.6% difference for blocks, confirming our original conclusion. Let's continue to finish our correlation studies."
   ]
  },
  {
   "cell_type": "code",
   "execution_count": 24,
   "metadata": {},
   "outputs": [
    {
     "data": {
      "image/png": "[encoded data removed]",
      "text/plain": [
       "<Figure size 432x432 with 2 Axes>"
      ]
     },
     "metadata": {
      "needs_background": "light"
     },
     "output_type": "display_data"
    }
   ],
   "source": [
    "# Construct Pedestrian/Non-Automobile Correlation Matrix\n",
    "# sub-Feature Selection\n",
    "df_featureSelection_NonAuto = df_featureSelection[['SEVERITYCODE', 'PERSONCOUNT', 'PEDCOUNT', 'PEDCYLCOUNT', 'VEHCOUNT']]\n",
    "# Create the Pedestrian/Non-Automobile Correlation Matrix\n",
    "figurePed, axisPed = plt.subplots(figsize=(6, 6));\n",
    "sns.heatmap(df_featureSelection_NonAuto.corr(), annot = True, linewidths = .5, fmt = '.01f', ax = axisPed);"
   ]
  },
  {
   "cell_type": "markdown",
   "metadata": {},
   "source": [
    "The Pedestrian/Non-Auto heatmap appears to show that the number of pedestrians and bicycles increases the severity of an accident."
   ]
  },
  {
   "cell_type": "code",
   "execution_count": 25,
   "metadata": {},
   "outputs": [
    {
     "data": {
      "image/png": "[encoded data removed]",
      "text/plain": [
       "<Figure size 432x432 with 2 Axes>"
      ]
     },
     "metadata": {
      "needs_background": "light"
     },
     "output_type": "display_data"
    }
   ],
   "source": [
    "# Construct the Speeding/ROW Correlation Matrix\n",
    "# sub-Feature Selection\n",
    "df_featureSelection_Other = df_featureSelection[['SEVERITYCODE', 'PEDROWNOTGRNT', 'SPEEDING']]\n",
    "# Create the Speeding/ROW\n",
    "figureOther,axisOther = plt.subplots(figsize=(6, 6));\n",
    "sns.heatmap(df_featureSelection_Other.corr(), annot=True, linewidths=.5, fmt= '.01f', ax = axisOther);"
   ]
  },
  {
   "cell_type": "markdown",
   "metadata": {},
   "source": [
    "Finally, the speeding/ROW correlation matrix appears to show a slight correlation with not granting the right-of-way with a pedestrian. This correlation would again appear to make sense since a pedestrian would have decreased time to avoid an automobile."
   ]
  },
  {
   "cell_type": "markdown",
   "metadata": {},
   "source": [
    "In summary, we have explored our data and have shown the following:\n",
    "<ul>\n",
    "    <li>weather conditions have little impact on accident severity</li>\n",
    "    <li>road conditions have little impact on accident severity</li>\n",
    "    <li>lighting conditions have little impact on accident severity</li>\n",
    "    <li>accident severity is greater in intersections</li>\n",
    "    <li>accident severity increases with pedestrians and bicycles present</li>\n",
    "    <li>driver impairment has little impact on accident severity</li>\n",
    "    <li>speeding has little impact on accident severity</li>\n",
    "</ul>\n",
    "\n",
    "In the next section, we will construct our machine learning model."
   ]
  },
  {
   "cell_type": "markdown",
   "metadata": {},
   "source": [
    "## Machine Learning Model"
   ]
  },
  {
   "cell_type": "markdown",
   "metadata": {},
   "source": [
    "In this section, we will be constructing training and test sets based upon our Feature Selection subset used previously. Then we will employ some different machine learning algorithms and use summary statistics to determine the most accurate model for predicting the severity of a traffic accident."
   ]
  },
  {
   "cell_type": "code",
   "execution_count": 26,
   "metadata": {},
   "outputs": [],
   "source": [
    "# Import Machine Learning Libraries\n",
    "from sklearn import preprocessing\n",
    "from sklearn.model_selection import train_test_split\n",
    "\n",
    "# Import Machine Learning Metrics\n",
    "from sklearn.metrics import jaccard_similarity_score, f1_score, precision_score, recall_score"
   ]
  },
  {
   "cell_type": "markdown",
   "metadata": {},
   "source": [
    "Let's begin by normalizing our Feature Selection subset."
   ]
  },
  {
   "cell_type": "code",
   "execution_count": 27,
   "metadata": {},
   "outputs": [
    {
     "name": "stderr",
     "output_type": "stream",
     "text": [
      "/opt/conda/envs/Python36/lib/python3.6/site-packages/sklearn/preprocessing/data.py:645: DataConversionWarning: Data with input dtype uint8, int64 were all converted to float64 by StandardScaler.\n",
      "  return self.partial_fit(X, y)\n",
      "/opt/conda/envs/Python36/lib/python3.6/site-packages/ipykernel/__main__.py:3: DataConversionWarning: Data with input dtype uint8, int64 were all converted to float64 by StandardScaler.\n",
      "  app.launch_new_instance()\n"
     ]
    },
    {
     "data": {
      "text/plain": [
       "array([[-0.35889501, -0.19692676, -0.1789089 ,  0.05122241, -0.4498286 ,\n",
       "        -0.23631977, -0.16491254, -0.23750203, -0.0592965 , -1.31749437,\n",
       "         1.3275049 , -0.01575499, -1.33434125, -0.05694245,  2.30495792,\n",
       "        -0.00543539, -0.48763911, -0.01215463, -0.0250339 , -0.06981794,\n",
       "        -1.58320784, -0.07983929, -0.01883181, -0.01944964, -0.07015894,\n",
       "        -0.02443598,  1.63343772, -0.09139445, -0.0811775 , -0.61630225,\n",
       "        -0.00687535, -0.12003648,  0.71374772, -0.18515723],\n",
       "       [-0.35889501, -0.19692676, -0.1789089 ,  0.05122241, -0.4498286 ,\n",
       "        -0.23631977, -0.16491254, -0.23750203, -0.0592965 ,  0.75901653,\n",
       "        -0.75329289, -0.01575499, -1.33434125, -0.05694245, -0.4338474 ,\n",
       "        -0.00543539,  2.05069688, -0.01215463, -0.0250339 , -0.06981794,\n",
       "        -1.58320784, -0.07983929, -0.01883181, -0.01944964, -0.07015894,\n",
       "        -0.02443598,  1.63343772, -0.09139445, -0.0811775 ,  1.62258047,\n",
       "        -0.00687535, -0.12003648, -1.40105526, -0.18515723],\n",
       "       [ 1.05772666, -0.19692676, -0.1789089 ,  1.77713106, -0.4498286 ,\n",
       "        -0.23631977, -0.16491254, -0.23750203, -0.0592965 ,  0.75901653,\n",
       "        -0.75329289, -0.01575499, -1.33434125, -0.05694245,  2.30495792,\n",
       "        -0.00543539, -0.48763911, -0.01215463, -0.0250339 , -0.06981794,\n",
       "         0.63162901, -0.07983929, -0.01883181, -0.01944964, -0.07015894,\n",
       "        -0.02443598, -0.61220577, -0.09139445, -0.0811775 , -0.61630225,\n",
       "        -0.00687535, -0.12003648,  0.71374772, -0.18515723],\n",
       "       [ 0.34941582, -0.19692676, -0.1789089 ,  1.77713106, -0.4498286 ,\n",
       "        -0.23631977, -0.16491254, -0.23750203, -0.0592965 ,  0.75901653,\n",
       "        -0.75329289, -0.01575499,  0.74943348, -0.05694245, -0.4338474 ,\n",
       "        -0.00543539, -0.48763911, -0.01215463, -0.0250339 , -0.06981794,\n",
       "         0.63162901, -0.07983929, -0.01883181, -0.01944964, -0.07015894,\n",
       "        -0.02443598, -0.61220577, -0.09139445, -0.0811775 , -0.61630225,\n",
       "        -0.00687535, -0.12003648,  0.71374772, -0.18515723],\n",
       "       [-0.35889501, -0.19692676, -0.1789089 ,  0.05122241, -0.4498286 ,\n",
       "        -0.23631977, -0.16491254, -0.23750203, -0.0592965 , -1.31749437,\n",
       "         1.3275049 , -0.01575499, -1.33434125, -0.05694245, -0.4338474 ,\n",
       "        -0.00543539,  2.05069688, -0.01215463, -0.0250339 , -0.06981794,\n",
       "        -1.58320784, -0.07983929, -0.01883181, -0.01944964, -0.07015894,\n",
       "        -0.02443598,  1.63343772, -0.09139445, -0.0811775 , -0.61630225,\n",
       "        -0.00687535, -0.12003648,  0.71374772, -0.18515723]])"
      ]
     },
     "execution_count": 27,
     "metadata": {},
     "output_type": "execute_result"
    }
   ],
   "source": [
    "# Normalize Feature Selection subset using the Standard Scaler and Fit\n",
    "machineLearningSet = df_featureSelection.drop(['SEVERITYCODE'],axis=1)\n",
    "machineLearningSet = preprocessing.StandardScaler().fit(machineLearningSet).transform(machineLearningSet)\n",
    "\n",
    "# Display the Normalized Set, setting the Machine Learning Set to 'X' to incorporate into the 'TrainX, TestY' methodology\n",
    "X = machineLearningSet;\n",
    "X[0:5]"
   ]
  },
  {
   "cell_type": "code",
   "execution_count": 28,
   "metadata": {},
   "outputs": [
    {
     "data": {
      "text/plain": [
       "array([2, 1, 1, 1, 2])"
      ]
     },
     "execution_count": 28,
     "metadata": {},
     "output_type": "execute_result"
    }
   ],
   "source": [
    "# Create the Target Value Variable\n",
    "machineLearningTarget = df_featureSelection['SEVERITYCODE'].values\n",
    "\n",
    "# Dsplay the Target Value Set\n",
    "y = machineLearningTarget;\n",
    "y[0:5]"
   ]
  },
  {
   "cell_type": "markdown",
   "metadata": {},
   "source": [
    "Now let's split this dataset into training and test sets."
   ]
  },
  {
   "cell_type": "code",
   "execution_count": 29,
   "metadata": {},
   "outputs": [
    {
     "name": "stdout",
     "output_type": "stream",
     "text": [
      "Train set: (135397, 34) (135397,)\n",
      "Test set: (33850, 34) (33850,)\n"
     ]
    }
   ],
   "source": [
    "# Create Training and Test Sets\n",
    "X_train , X_test , y_train, y_test = train_test_split(X,y, test_size = 0.2 , random_state=10)\n",
    "\n",
    "# Display the Training Set\n",
    "print ('Train set:', X_train.shape,  y_train.shape)\n",
    "\n",
    "# Display the Test Set\n",
    "print ('Test set:', X_test.shape,  y_test.shape)"
   ]
  },
  {
   "cell_type": "markdown",
   "metadata": {},
   "source": [
    "Given that we only have two values of potential severity (1 or 2), we are essentially making a binary classification model. In this course sequence, we learned about four such binary classification models:\n",
    "\n",
    "<ul>\n",
    "    <li>K-Nearest Neighbor</li>\n",
    "    <li>Decision Trees</li>\n",
    "    <li>Logistic Regression</li>\n",
    "    <li>Support Vector Machine</li>\n",
    "</ul>\n",
    "\n",
    "After some examination, the K-Nearest Neighbor and Support Vector Machine caused the IBM Watson Studio to crash, most likely due to the computation time and limited memory. In the interests of completing the project, we will limit our investigation to two classification models: Decision Trees and Logistic Regression.\n"
   ]
  },
  {
   "cell_type": "markdown",
   "metadata": {},
   "source": [
    "#### Decision Trees"
   ]
  },
  {
   "cell_type": "code",
   "execution_count": 30,
   "metadata": {},
   "outputs": [
    {
     "name": "stdout",
     "output_type": "stream",
     "text": [
      "Decision Tree Libraries Loaded!\n"
     ]
    }
   ],
   "source": [
    "# Import Decision Tree Local Libraries\n",
    "from sklearn.tree import DecisionTreeClassifier \n",
    "from sklearn.metrics import jaccard_similarity_score\n",
    "from sklearn.metrics import f1_score\n",
    "\n",
    "print('Decision Tree Libraries Loaded!')"
   ]
  },
  {
   "cell_type": "code",
   "execution_count": 31,
   "metadata": {},
   "outputs": [],
   "source": [
    "# Create Jaccard and F1 Score Objects\n",
    "depthRange = range(1, 9)\n",
    "jaccardSimilarityScore = []\n",
    "f1Score = []\n",
    "\n",
    "# For Varying Depths, calculate jaccard similarity and f1 scores\n",
    "for n in depthRange:\n",
    "    dTree = DecisionTreeClassifier(criterion = 'gini', max_depth = n)\n",
    "    dTree.fit(X_train, y_train)\n",
    "    dTree_yhat = dTree.predict(X_test)\n",
    "    jaccardSimilarityScore.append(jaccard_similarity_score(y_test, dTree_yhat))\n",
    "    f1Score.append(f1_score(y_test, dTree_yhat, average = 'weighted'))"
   ]
  },
  {
   "cell_type": "code",
   "execution_count": 32,
   "metadata": {},
   "outputs": [
    {
     "data": {
      "text/html": [
       "<div>\n",
       "<style scoped>\n",
       "    .dataframe tbody tr th:only-of-type {\n",
       "        vertical-align: middle;\n",
       "    }\n",
       "\n",
       "    .dataframe tbody tr th {\n",
       "        vertical-align: top;\n",
       "    }\n",
       "\n",
       "    .dataframe thead th {\n",
       "        text-align: right;\n",
       "    }\n",
       "</style>\n",
       "<table border=\"1\" class=\"dataframe\">\n",
       "  <thead>\n",
       "    <tr style=\"text-align: right;\">\n",
       "      <th>Depths</th>\n",
       "      <th>d = 1</th>\n",
       "      <th>d = 2</th>\n",
       "      <th>d = 3</th>\n",
       "      <th>d = 4</th>\n",
       "      <th>d = 5</th>\n",
       "      <th>d = 6</th>\n",
       "      <th>d = 7</th>\n",
       "      <th>d = 8</th>\n",
       "    </tr>\n",
       "  </thead>\n",
       "  <tbody>\n",
       "    <tr>\n",
       "      <th>Jaccard Sim</th>\n",
       "      <td>0.706470</td>\n",
       "      <td>0.729897</td>\n",
       "      <td>0.729897</td>\n",
       "      <td>0.729867</td>\n",
       "      <td>0.731669</td>\n",
       "      <td>0.732555</td>\n",
       "      <td>0.734003</td>\n",
       "      <td>0.735923</td>\n",
       "    </tr>\n",
       "    <tr>\n",
       "      <th>F1</th>\n",
       "      <td>0.616746</td>\n",
       "      <td>0.664202</td>\n",
       "      <td>0.664202</td>\n",
       "      <td>0.664151</td>\n",
       "      <td>0.675101</td>\n",
       "      <td>0.688503</td>\n",
       "      <td>0.684014</td>\n",
       "      <td>0.690943</td>\n",
       "    </tr>\n",
       "  </tbody>\n",
       "</table>\n",
       "</div>"
      ],
      "text/plain": [
       "Depths          d = 1     d = 2     d = 3     d = 4     d = 5     d = 6  \\\n",
       "Jaccard Sim  0.706470  0.729897  0.729897  0.729867  0.731669  0.732555   \n",
       "F1           0.616746  0.664202  0.664202  0.664151  0.675101  0.688503   \n",
       "\n",
       "Depths          d = 7     d = 8  \n",
       "Jaccard Sim  0.734003  0.735923  \n",
       "F1           0.684014  0.690943  "
      ]
     },
     "execution_count": 32,
     "metadata": {},
     "output_type": "execute_result"
    }
   ],
   "source": [
    "# Present the resulting data in a DataFrame\n",
    "dTree_result = pd.DataFrame([jaccardSimilarityScore, f1Score], \n",
    "                             index = ['Jaccard Sim', 'F1'], columns = ['d = 1','d = 2','d = 3','d = 4','d = 5','d = 6','d = 7', 'd = 8'])\n",
    "dTree_result.columns.name = 'Depths'\n",
    "dTree_result"
   ]
  },
  {
   "cell_type": "code",
   "execution_count": 33,
   "metadata": {},
   "outputs": [
    {
     "data": {
      "text/plain": [
       "DecisionTreeClassifier(class_weight=None, criterion='gini', max_depth=8,\n",
       "            max_features=None, max_leaf_nodes=None,\n",
       "            min_impurity_decrease=0.0, min_impurity_split=None,\n",
       "            min_samples_leaf=1, min_samples_split=2,\n",
       "            min_weight_fraction_leaf=0.0, presort=False, random_state=None,\n",
       "            splitter='best')"
      ]
     },
     "execution_count": 33,
     "metadata": {},
     "output_type": "execute_result"
    }
   ],
   "source": [
    "# With a Maximum Depth of 8, create the final Decision Tree Model\n",
    "dTreeModel = DecisionTreeClassifier(criterion = 'gini', max_depth = 8)\n",
    "dTreeModel.fit(X_train, y_train)\n",
    "dTreeModel"
   ]
  },
  {
   "cell_type": "markdown",
   "metadata": {},
   "source": [
    "#### Logistic Regression"
   ]
  },
  {
   "cell_type": "code",
   "execution_count": 34,
   "metadata": {},
   "outputs": [
    {
     "name": "stdout",
     "output_type": "stream",
     "text": [
      "Logistic Regression Libraries Loaded!\n"
     ]
    }
   ],
   "source": [
    "# Import the needed local libraries\n",
    "from sklearn.linear_model import LogisticRegression \n",
    "from sklearn.metrics import log_loss\n",
    "\n",
    "print('Logistic Regression Libraries Loaded!')\n",
    "\n",
    "# Since the plots will involve Matplotlib features, we need to import that library as well\n",
    "import matplotlib.pyplot as plt\n",
    "%matplotlib inline"
   ]
  },
  {
   "cell_type": "code",
   "execution_count": 35,
   "metadata": {},
   "outputs": [
    {
     "name": "stdout",
     "output_type": "stream",
     "text": [
      "Test 1: With C = 0.1 for solver = lbfgs, LR Accuracy is : 0.5557660528012474\n",
      "Test 2: With C = 0.1 for solver = saga, LR Accuracy is : 0.5557660993140813\n",
      "Test 3: With C = 0.1 for solver = liblinear, LR Accuracy is : 0.5557664324634823\n",
      "Test 4: With C = 0.1 for solver = newton-cg, LR Accuracy is : 0.5557659873630711\n",
      "Test 5: With C = 0.1 for solver = sag, LR Accuracy is : 0.5557662441013761\n",
      "\n",
      "\n",
      "Test 6: With C = 0.01 for solver = lbfgs, LR Accuracy is : 0.5557784963316049\n",
      "Test 7: With C = 0.01 for solver = saga, LR Accuracy is : 0.5557785840871858\n",
      "Test 8: With C = 0.01 for solver = liblinear, LR Accuracy is : 0.5557831061701002\n",
      "Test 9: With C = 0.01 for solver = newton-cg, LR Accuracy is : 0.5557784099363405\n",
      "Test 10: With C = 0.01 for solver = sag, LR Accuracy is : 0.5557784818207017\n",
      "\n",
      "\n",
      "Test 11: With C = 0.001 for solver = lbfgs, LR Accuracy is : 0.5561091101536626\n",
      "Test 12: With C = 0.001 for solver = saga, LR Accuracy is : 0.5561102316493183\n",
      "Test 13: With C = 0.001 for solver = liblinear, LR Accuracy is : 0.5562142720546198\n",
      "Test 14: With C = 0.001 for solver = newton-cg, LR Accuracy is : 0.5561095344008128\n",
      "Test 15: With C = 0.001 for solver = sag, LR Accuracy is : 0.5561095052665768\n",
      "\n",
      "\n"
     ]
    }
   ],
   "source": [
    "# Create Solver and Accuracy Score Objects\n",
    "solverList = ['lbfgs', 'saga', 'liblinear', 'newton-cg', 'sag']\n",
    "regularizationValueSet = [0.1, 0.01, 0.001]\n",
    "index = []\n",
    "lrAccuracy = []\n",
    "iterations = 0\n",
    "\n",
    "for p, q in enumerate(regularizationValueSet):\n",
    "    for r, s in enumerate(solverList):\n",
    "        index.append(p + r *5)\n",
    "        iterations +=1\n",
    "        lrModel = LogisticRegression(C = q, solver = s)\n",
    "        lrModel.fit(X_train, y_train)\n",
    "        lr_yhat = lrModel.predict(X_test)\n",
    "        y_prob = lrModel.predict_proba(X_test)\n",
    "        print('Test {}: With C = {} for solver = {}, LR Accuracy is : {}'.format(iterations, q, s, log_loss(y_test, y_prob) ))\n",
    "        lrAccuracy.append(log_loss(y_test, y_prob))\n",
    "        \n",
    "    print('\\n')"
   ]
  },
  {
   "cell_type": "code",
   "execution_count": 36,
   "metadata": {
    "scrolled": true
   },
   "outputs": [
    {
     "data": {
      "text/plain": [
       "Text(0, 0.5, 'LR Accuracy')"
      ]
     },
     "execution_count": 36,
     "metadata": {},
     "output_type": "execute_result"
    },
    {
     "data": {
      "image/png": "[encoded data removed]",
      "text/plain": [
       "<Figure size 432x288 with 1 Axes>"
      ]
     },
     "metadata": {
      "needs_background": "light"
     },
     "output_type": "display_data"
    }
   ],
   "source": [
    "# Plot the Logistic Regression Accuracy Scores for different solver types\n",
    "lrProbability = lrModel.predict_proba(X_test)\n",
    "log_loss(y_test, lrProbability)\n",
    "plt.plot(index, lrAccuracy)\n",
    "plt.title('LR Accuracy vs. Solver Type')\n",
    "plt.xlabel('Parameter Value')\n",
    "plt.ylabel('LR Accuracy')"
   ]
  },
  {
   "cell_type": "code",
   "execution_count": 37,
   "metadata": {},
   "outputs": [
    {
     "data": {
      "text/plain": [
       "LogisticRegression(C=0.001, class_weight=None, dual=False, fit_intercept=True,\n",
       "          intercept_scaling=1, max_iter=100, multi_class='warn',\n",
       "          n_jobs=None, penalty='l2', random_state=None, solver='liblinear',\n",
       "          tol=0.0001, verbose=0, warm_start=False)"
      ]
     },
     "execution_count": 37,
     "metadata": {},
     "output_type": "execute_result"
    }
   ],
   "source": [
    "# With 'liblinear' giving the highest accuracy score, we create the final LR model\n",
    "lrModel = LogisticRegression(C = 0.001, solver = 'liblinear')\n",
    "lrModel.fit(X_train, y_train)\n",
    "lrModel"
   ]
  },
  {
   "cell_type": "markdown",
   "metadata": {},
   "source": [
    "#### Model Evaluation"
   ]
  },
  {
   "cell_type": "markdown",
   "metadata": {},
   "source": [
    "Now that we have run our machine learning models, let's calculate the final scores to see which model - Decision Trees or Logistic Regression - performed better."
   ]
  },
  {
   "cell_type": "code",
   "execution_count": 38,
   "metadata": {},
   "outputs": [],
   "source": [
    "# Import Model Evaluation Libraries\n",
    "from sklearn.metrics import jaccard_similarity_score\n",
    "from sklearn.metrics import f1_score\n",
    "from sklearn.metrics import log_loss"
   ]
  },
  {
   "cell_type": "code",
   "execution_count": 39,
   "metadata": {},
   "outputs": [
    {
     "data": {
      "text/html": [
       "<div>\n",
       "<style scoped>\n",
       "    .dataframe tbody tr th:only-of-type {\n",
       "        vertical-align: middle;\n",
       "    }\n",
       "\n",
       "    .dataframe tbody tr th {\n",
       "        vertical-align: top;\n",
       "    }\n",
       "\n",
       "    .dataframe thead th {\n",
       "        text-align: right;\n",
       "    }\n",
       "</style>\n",
       "<table border=\"1\" class=\"dataframe\">\n",
       "  <thead>\n",
       "    <tr style=\"text-align: right;\">\n",
       "      <th></th>\n",
       "      <th>Classification Model</th>\n",
       "      <th>f1 Score</th>\n",
       "      <th>Jaccard</th>\n",
       "      <th>Precision Score</th>\n",
       "      <th>Recall Score</th>\n",
       "    </tr>\n",
       "  </thead>\n",
       "  <tbody>\n",
       "    <tr>\n",
       "      <th>0</th>\n",
       "      <td>Decision Trees</td>\n",
       "      <td>0.690943</td>\n",
       "      <td>0.735923</td>\n",
       "      <td>0.731966</td>\n",
       "      <td>0.959823</td>\n",
       "    </tr>\n",
       "    <tr>\n",
       "      <th>1</th>\n",
       "      <td>Logistic Regression</td>\n",
       "      <td>0.678794</td>\n",
       "      <td>0.732201</td>\n",
       "      <td>0.724842</td>\n",
       "      <td>0.971696</td>\n",
       "    </tr>\n",
       "  </tbody>\n",
       "</table>\n",
       "</div>"
      ],
      "text/plain": [
       "  Classification Model  f1 Score   Jaccard  Precision Score  Recall Score\n",
       "0       Decision Trees  0.690943  0.735923         0.731966      0.959823\n",
       "1  Logistic Regression  0.678794  0.732201         0.724842      0.971696"
      ]
     },
     "execution_count": 39,
     "metadata": {},
     "output_type": "execute_result"
    }
   ],
   "source": [
    "# Decision Tree Model Scores\n",
    "f1_dTree = f1_score(y_test, dTree_yhat, average='weighted')\n",
    "jss_dTree = jaccard_similarity_score(y_test, dTree_yhat)\n",
    "ps_dTree = precision_score(y_test, dTree_yhat)\n",
    "rs_dTree = recall_score(y_test, dTree_yhat)\n",
    "\n",
    "#Logistic Regression Model Scores\n",
    "f1_lr = f1_score(y_test, lr_yhat, average='weighted')\n",
    "jss_lr = jaccard_similarity_score(y_test, lr_yhat)\n",
    "ps_lr = precision_score(y_test, lr_yhat)\n",
    "rs_lr = recall_score(y_test, lr_yhat)\n",
    "\n",
    "# Present Results\n",
    "ModelResults = {'Classification Model': ['Decision Trees', 'Logistic Regression'], 'f1 Score': [f1_dTree, f1_lr], \n",
    "              'Jaccard': [jss_dTree, jss_lr], 'Precision Score': [ps_dTree, ps_lr], 'Recall Score': [rs_dTree, rs_lr]};\n",
    "df_ModelResults = pd.DataFrame(ModelResults);\n",
    "df_ModelResults"
   ]
  },
  {
   "cell_type": "markdown",
   "metadata": {},
   "source": [
    "# Results"
   ]
  },
  {
   "cell_type": "markdown",
   "metadata": {},
   "source": [
    "As one can see from the preceding analysis, we were able to achieve a 73.6% match between the training set and the test set using the Decision Tree algorithm (and a 73.2% match with the Logistic Regression algorithm. In other words, from the accident location, number of persons involved, presence of pedestrians and/or bicyclists, number of vehicles involved, attentiveness/impairment of the driver, speeding, relative time of day and weather/road conditions, we could pick out the severity of the accident in roughly 3 out of 4 incidents.\n",
    "\n",
    "Furthermore, we were able to show that, by themselves, weather conditions, road conditions, lighting conditions, driver impairment and speeding have little correlation with the severity of accident. However, accident severity is increased in situations involving traffic intersections and the presence of pedestrians and/or bicyclists."
   ]
  },
  {
   "cell_type": "markdown",
   "metadata": {},
   "source": [
    "# Discussion"
   ]
  },
  {
   "cell_type": "markdown",
   "metadata": {},
   "source": [
    "The goal of this project was to be able to predict the severity of an accident based upon a number of factors. At the beginning, we were hoping to answer the following questions:\n",
    "\n",
    "<ul>\n",
    "    <li>Are there correlations betwwen poor weather conditions and severity? </li>\n",
    "    <li>Does the presence of pedestrians make an accident better or worse? </li>\n",
    "    <li> How do road conditions affect accident severity?</li>\n",
    "</ul>\n",
    "\n",
    "In each of these cases, we were able, within the constraints of time and hardware (namely IBM Watson Studio's memory) to answer these questions with some accuracy. According to our analysis, there is little correlation between poor weather conditions and accideny severity. Similarly, there is little correlation between poor road conditions and accident severity. However, the presence of pedestrians and bicyclists increases the likelihood of a severe traffic accident.\n",
    "\n",
    "The lessons that can be learned from this project are twofold. One is to be very mindful of driving in intersections, as the likelihood of a severe accident is increased. And second is that when encountering pedestrians or bicyclists, extra caution should be taken."
   ]
  },
  {
   "cell_type": "markdown",
   "metadata": {},
   "source": [
    "# Conclusion"
   ]
  },
  {
   "cell_type": "markdown",
   "metadata": {},
   "source": [
    "In order to better understand the potential impacts (and possibly mitigate them), it is important to understand the attributes that contribute to severe accidents. In the case of Seattle, Washington, we were able to show some of the factors that contribute to accident severity. There is no doubt that the information gathered here will be useful to drivers, pedestrians, city planners, emergency responders and insurance companies going forward.\n",
    "\n",
    "On a final note, if one was to expand upon this work in a future exercise, evaluating the accuracy with other classification tools (i.e. K-Nearest Neighbor, Support Vector Machine) would be invaluable. Moreover, perhaps evaluating the make and model of the vehicles involved would also provide insight into traffic safety.\n",
    "\n",
    "Thank you for reading this report!"
   ]
  },
  {
   "cell_type": "code",
   "execution_count": null,
   "metadata": {},
   "outputs": [],
   "source": []
  }
 ],
 "metadata": {
  "kernelspec": {
   "display_name": "Python 3.6",
   "language": "python",
   "name": "python3"
  },
  "language_info": {
   "codemirror_mode": {
    "name": "ipython",
    "version": 3
   },
   "file_extension": ".py",
   "mimetype": "text/x-python",
   "name": "python",
   "nbconvert_exporter": "python",
   "pygments_lexer": "ipython3",
   "version": "3.6.9"
  }
 },
 "nbformat": 4,
 "nbformat_minor": 1
}
