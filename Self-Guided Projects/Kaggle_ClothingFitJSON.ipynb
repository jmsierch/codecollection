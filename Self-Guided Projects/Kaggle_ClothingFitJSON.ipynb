{
 "cells": [
  {
   "cell_type": "markdown",
   "metadata": {},
   "source": [
    "# Clothing Fit / json Processing\n",
    "## (Self-Guided Project)"
   ]
  },
  {
   "cell_type": "markdown",
   "metadata": {},
   "source": [
    "## by Justin Sierchio"
   ]
  },
  {
   "cell_type": "markdown",
   "metadata": {},
   "source": [
    "In this project, we will be looking at using clothing fit data to learn about json processing.\n",
    "\n",
    "This data is in .csv file format and is from Kaggle at: https://www.kaggle.com/soujanyag/modcloth-data-preprocessing-for-beginner. More information related to the dataset can be found at the same link.\n",
    "\n",
    "Note: this is a self-guided project following the tutorial provided by Soujanya G at Kaggle."
   ]
  },
  {
   "cell_type": "markdown",
   "metadata": {},
   "source": [
    "## Notebook Initialization"
   ]
  },
  {
   "cell_type": "code",
   "execution_count": 1,
   "metadata": {},
   "outputs": [
    {
     "name": "stdout",
     "output_type": "stream",
     "text": [
      "Initial libraries loaded into workspace!\n"
     ]
    }
   ],
   "source": [
    "# Import Relevant Libraries\n",
    "import pandas as pd\n",
    "import numpy as np\n",
    "import seaborn as sns \n",
    "import matplotlib.pyplot as plt\n",
    "\n",
    "print('Initial libraries loaded into workspace!')"
   ]
  },
  {
   "cell_type": "code",
   "execution_count": 2,
   "metadata": {},
   "outputs": [
    {
     "name": "stdout",
     "output_type": "stream",
     "text": [
      "Dataset uploaded!\n"
     ]
    }
   ],
   "source": [
    "# Upload Datasets for Study\n",
    "mc_data = pd.read_json('modcloth_final_data.json', lines=True)\n",
    "\n",
    "print('Dataset uploaded!');"
   ]
  },
  {
   "cell_type": "markdown",
   "metadata": {},
   "source": [
    "Let's display the first 5 rows for this dataset."
   ]
  },
  {
   "cell_type": "code",
   "execution_count": 3,
   "metadata": {},
   "outputs": [
    {
     "data": {
      "text/html": [
       "<div>\n",
       "<style scoped>\n",
       "    .dataframe tbody tr th:only-of-type {\n",
       "        vertical-align: middle;\n",
       "    }\n",
       "\n",
       "    .dataframe tbody tr th {\n",
       "        vertical-align: top;\n",
       "    }\n",
       "\n",
       "    .dataframe thead th {\n",
       "        text-align: right;\n",
       "    }\n",
       "</style>\n",
       "<table border=\"1\" class=\"dataframe\">\n",
       "  <thead>\n",
       "    <tr style=\"text-align: right;\">\n",
       "      <th></th>\n",
       "      <th>item_id</th>\n",
       "      <th>waist</th>\n",
       "      <th>size</th>\n",
       "      <th>quality</th>\n",
       "      <th>cup size</th>\n",
       "      <th>hips</th>\n",
       "      <th>bra size</th>\n",
       "      <th>category</th>\n",
       "      <th>bust</th>\n",
       "      <th>height</th>\n",
       "      <th>user_name</th>\n",
       "      <th>length</th>\n",
       "      <th>fit</th>\n",
       "      <th>user_id</th>\n",
       "      <th>shoe size</th>\n",
       "      <th>shoe width</th>\n",
       "      <th>review_summary</th>\n",
       "      <th>review_text</th>\n",
       "    </tr>\n",
       "  </thead>\n",
       "  <tbody>\n",
       "    <tr>\n",
       "      <th>0</th>\n",
       "      <td>123373</td>\n",
       "      <td>29.0</td>\n",
       "      <td>7</td>\n",
       "      <td>5.0</td>\n",
       "      <td>d</td>\n",
       "      <td>38.0</td>\n",
       "      <td>34.0</td>\n",
       "      <td>new</td>\n",
       "      <td>36</td>\n",
       "      <td>5ft 6in</td>\n",
       "      <td>Emily</td>\n",
       "      <td>just right</td>\n",
       "      <td>small</td>\n",
       "      <td>991571</td>\n",
       "      <td>NaN</td>\n",
       "      <td>NaN</td>\n",
       "      <td>NaN</td>\n",
       "      <td>NaN</td>\n",
       "    </tr>\n",
       "    <tr>\n",
       "      <th>1</th>\n",
       "      <td>123373</td>\n",
       "      <td>31.0</td>\n",
       "      <td>13</td>\n",
       "      <td>3.0</td>\n",
       "      <td>b</td>\n",
       "      <td>30.0</td>\n",
       "      <td>36.0</td>\n",
       "      <td>new</td>\n",
       "      <td>NaN</td>\n",
       "      <td>5ft 2in</td>\n",
       "      <td>sydneybraden2001</td>\n",
       "      <td>just right</td>\n",
       "      <td>small</td>\n",
       "      <td>587883</td>\n",
       "      <td>NaN</td>\n",
       "      <td>NaN</td>\n",
       "      <td>NaN</td>\n",
       "      <td>NaN</td>\n",
       "    </tr>\n",
       "    <tr>\n",
       "      <th>2</th>\n",
       "      <td>123373</td>\n",
       "      <td>30.0</td>\n",
       "      <td>7</td>\n",
       "      <td>2.0</td>\n",
       "      <td>b</td>\n",
       "      <td>NaN</td>\n",
       "      <td>32.0</td>\n",
       "      <td>new</td>\n",
       "      <td>NaN</td>\n",
       "      <td>5ft 7in</td>\n",
       "      <td>Ugggh</td>\n",
       "      <td>slightly long</td>\n",
       "      <td>small</td>\n",
       "      <td>395665</td>\n",
       "      <td>9.0</td>\n",
       "      <td>NaN</td>\n",
       "      <td>NaN</td>\n",
       "      <td>NaN</td>\n",
       "    </tr>\n",
       "    <tr>\n",
       "      <th>3</th>\n",
       "      <td>123373</td>\n",
       "      <td>NaN</td>\n",
       "      <td>21</td>\n",
       "      <td>5.0</td>\n",
       "      <td>dd/e</td>\n",
       "      <td>NaN</td>\n",
       "      <td>NaN</td>\n",
       "      <td>new</td>\n",
       "      <td>NaN</td>\n",
       "      <td>NaN</td>\n",
       "      <td>alexmeyer626</td>\n",
       "      <td>just right</td>\n",
       "      <td>fit</td>\n",
       "      <td>875643</td>\n",
       "      <td>NaN</td>\n",
       "      <td>NaN</td>\n",
       "      <td>NaN</td>\n",
       "      <td>NaN</td>\n",
       "    </tr>\n",
       "    <tr>\n",
       "      <th>4</th>\n",
       "      <td>123373</td>\n",
       "      <td>NaN</td>\n",
       "      <td>18</td>\n",
       "      <td>5.0</td>\n",
       "      <td>b</td>\n",
       "      <td>NaN</td>\n",
       "      <td>36.0</td>\n",
       "      <td>new</td>\n",
       "      <td>NaN</td>\n",
       "      <td>5ft 2in</td>\n",
       "      <td>dberrones1</td>\n",
       "      <td>slightly long</td>\n",
       "      <td>small</td>\n",
       "      <td>944840</td>\n",
       "      <td>NaN</td>\n",
       "      <td>NaN</td>\n",
       "      <td>NaN</td>\n",
       "      <td>NaN</td>\n",
       "    </tr>\n",
       "  </tbody>\n",
       "</table>\n",
       "</div>"
      ],
      "text/plain": [
       "   item_id  waist  size  quality cup size  hips  bra size category bust  \\\n",
       "0   123373   29.0     7      5.0        d  38.0      34.0      new   36   \n",
       "1   123373   31.0    13      3.0        b  30.0      36.0      new  NaN   \n",
       "2   123373   30.0     7      2.0        b   NaN      32.0      new  NaN   \n",
       "3   123373    NaN    21      5.0     dd/e   NaN       NaN      new  NaN   \n",
       "4   123373    NaN    18      5.0        b   NaN      36.0      new  NaN   \n",
       "\n",
       "    height         user_name         length    fit  user_id  shoe size  \\\n",
       "0  5ft 6in             Emily     just right  small   991571        NaN   \n",
       "1  5ft 2in  sydneybraden2001     just right  small   587883        NaN   \n",
       "2  5ft 7in             Ugggh  slightly long  small   395665        9.0   \n",
       "3      NaN      alexmeyer626     just right    fit   875643        NaN   \n",
       "4  5ft 2in        dberrones1  slightly long  small   944840        NaN   \n",
       "\n",
       "  shoe width review_summary review_text  \n",
       "0        NaN            NaN         NaN  \n",
       "1        NaN            NaN         NaN  \n",
       "2        NaN            NaN         NaN  \n",
       "3        NaN            NaN         NaN  \n",
       "4        NaN            NaN         NaN  "
      ]
     },
     "execution_count": 3,
     "metadata": {},
     "output_type": "execute_result"
    }
   ],
   "source": [
    "# Display 1st 5 rows of modified clothing dataset\n",
    "mc_data.head()"
   ]
  },
  {
   "cell_type": "markdown",
   "metadata": {},
   "source": [
    "## Exploratory Data Analysis"
   ]
  },
  {
   "cell_type": "markdown",
   "metadata": {},
   "source": [
    "In order to avoid potential coding errors, a good practice is to make sure all the names of the columns use underscores rather than spaces. We can accomplish this task by modifying the column names accordingly."
   ]
  },
  {
   "cell_type": "code",
   "execution_count": 4,
   "metadata": {},
   "outputs": [],
   "source": [
    "# Modify Column Names\n",
    "mc_data.columns = ['item_id', 'waist', 'mc_size', 'quality', 'cup_size', 'hips', 'bra_size', 'category', 'bust', 'height', \n",
    "                   'user_name', 'length', 'fit', 'user_id', 'shoe_size', 'shoe_width', 'review_summary', 'review_test']"
   ]
  },
  {
   "cell_type": "markdown",
   "metadata": {},
   "source": [
    "Now let's check the overall information for each column."
   ]
  },
  {
   "cell_type": "code",
   "execution_count": 5,
   "metadata": {},
   "outputs": [
    {
     "name": "stdout",
     "output_type": "stream",
     "text": [
      "<class 'pandas.core.frame.DataFrame'>\n",
      "RangeIndex: 82790 entries, 0 to 82789\n",
      "Data columns (total 18 columns):\n",
      " #   Column          Non-Null Count  Dtype  \n",
      "---  ------          --------------  -----  \n",
      " 0   item_id         82790 non-null  int64  \n",
      " 1   waist           2882 non-null   float64\n",
      " 2   mc_size         82790 non-null  int64  \n",
      " 3   quality         82722 non-null  float64\n",
      " 4   cup_size        76535 non-null  object \n",
      " 5   hips            56064 non-null  float64\n",
      " 6   bra_size        76772 non-null  float64\n",
      " 7   category        82790 non-null  object \n",
      " 8   bust            11854 non-null  object \n",
      " 9   height          81683 non-null  object \n",
      " 10  user_name       82790 non-null  object \n",
      " 11  length          82755 non-null  object \n",
      " 12  fit             82790 non-null  object \n",
      " 13  user_id         82790 non-null  int64  \n",
      " 14  shoe_size       27915 non-null  float64\n",
      " 15  shoe_width      18607 non-null  object \n",
      " 16  review_summary  76065 non-null  object \n",
      " 17  review_test     76065 non-null  object \n",
      "dtypes: float64(5), int64(3), object(10)\n",
      "memory usage: 11.4+ MB\n"
     ]
    }
   ],
   "source": [
    "mc_data.info()"
   ]
  },
  {
   "cell_type": "markdown",
   "metadata": {},
   "source": [
    "We notice that some of the columns have sparse data. To determine the exact amounts, let's use the 'isnull' method."
   ]
  },
  {
   "cell_type": "code",
   "execution_count": 6,
   "metadata": {},
   "outputs": [
    {
     "data": {
      "text/html": [
       "<div>\n",
       "<style scoped>\n",
       "    .dataframe tbody tr th:only-of-type {\n",
       "        vertical-align: middle;\n",
       "    }\n",
       "\n",
       "    .dataframe tbody tr th {\n",
       "        vertical-align: top;\n",
       "    }\n",
       "\n",
       "    .dataframe thead th {\n",
       "        text-align: right;\n",
       "    }\n",
       "</style>\n",
       "<table border=\"1\" class=\"dataframe\">\n",
       "  <thead>\n",
       "    <tr style=\"text-align: right;\">\n",
       "      <th></th>\n",
       "      <th>total_missing_values</th>\n",
       "      <th>percentage_of_missing_values</th>\n",
       "    </tr>\n",
       "  </thead>\n",
       "  <tbody>\n",
       "    <tr>\n",
       "      <th>item_id</th>\n",
       "      <td>0</td>\n",
       "      <td>0.000000</td>\n",
       "    </tr>\n",
       "    <tr>\n",
       "      <th>waist</th>\n",
       "      <td>79908</td>\n",
       "      <td>96.518903</td>\n",
       "    </tr>\n",
       "    <tr>\n",
       "      <th>mc_size</th>\n",
       "      <td>0</td>\n",
       "      <td>0.000000</td>\n",
       "    </tr>\n",
       "    <tr>\n",
       "      <th>quality</th>\n",
       "      <td>68</td>\n",
       "      <td>0.082136</td>\n",
       "    </tr>\n",
       "    <tr>\n",
       "      <th>cup_size</th>\n",
       "      <td>6255</td>\n",
       "      <td>7.555260</td>\n",
       "    </tr>\n",
       "    <tr>\n",
       "      <th>hips</th>\n",
       "      <td>26726</td>\n",
       "      <td>32.281677</td>\n",
       "    </tr>\n",
       "    <tr>\n",
       "      <th>bra_size</th>\n",
       "      <td>6018</td>\n",
       "      <td>7.268994</td>\n",
       "    </tr>\n",
       "    <tr>\n",
       "      <th>category</th>\n",
       "      <td>0</td>\n",
       "      <td>0.000000</td>\n",
       "    </tr>\n",
       "    <tr>\n",
       "      <th>bust</th>\n",
       "      <td>70936</td>\n",
       "      <td>85.681846</td>\n",
       "    </tr>\n",
       "    <tr>\n",
       "      <th>height</th>\n",
       "      <td>1107</td>\n",
       "      <td>1.337118</td>\n",
       "    </tr>\n",
       "    <tr>\n",
       "      <th>user_name</th>\n",
       "      <td>0</td>\n",
       "      <td>0.000000</td>\n",
       "    </tr>\n",
       "    <tr>\n",
       "      <th>length</th>\n",
       "      <td>35</td>\n",
       "      <td>0.042276</td>\n",
       "    </tr>\n",
       "    <tr>\n",
       "      <th>fit</th>\n",
       "      <td>0</td>\n",
       "      <td>0.000000</td>\n",
       "    </tr>\n",
       "    <tr>\n",
       "      <th>user_id</th>\n",
       "      <td>0</td>\n",
       "      <td>0.000000</td>\n",
       "    </tr>\n",
       "    <tr>\n",
       "      <th>shoe_size</th>\n",
       "      <td>54875</td>\n",
       "      <td>66.282160</td>\n",
       "    </tr>\n",
       "    <tr>\n",
       "      <th>shoe_width</th>\n",
       "      <td>64183</td>\n",
       "      <td>77.525063</td>\n",
       "    </tr>\n",
       "    <tr>\n",
       "      <th>review_summary</th>\n",
       "      <td>6725</td>\n",
       "      <td>8.122962</td>\n",
       "    </tr>\n",
       "    <tr>\n",
       "      <th>review_test</th>\n",
       "      <td>6725</td>\n",
       "      <td>8.122962</td>\n",
       "    </tr>\n",
       "  </tbody>\n",
       "</table>\n",
       "</div>"
      ],
      "text/plain": [
       "                total_missing_values  percentage_of_missing_values\n",
       "item_id                            0                      0.000000\n",
       "waist                          79908                     96.518903\n",
       "mc_size                            0                      0.000000\n",
       "quality                           68                      0.082136\n",
       "cup_size                        6255                      7.555260\n",
       "hips                           26726                     32.281677\n",
       "bra_size                        6018                      7.268994\n",
       "category                           0                      0.000000\n",
       "bust                           70936                     85.681846\n",
       "height                          1107                      1.337118\n",
       "user_name                          0                      0.000000\n",
       "length                            35                      0.042276\n",
       "fit                                0                      0.000000\n",
       "user_id                            0                      0.000000\n",
       "shoe_size                      54875                     66.282160\n",
       "shoe_width                     64183                     77.525063\n",
       "review_summary                  6725                      8.122962\n",
       "review_test                     6725                      8.122962"
      ]
     },
     "execution_count": 6,
     "metadata": {},
     "output_type": "execute_result"
    }
   ],
   "source": [
    "# Find the exact amounts of sparse data\n",
    "missing_data_sum = mc_data.isnull().sum()\n",
    "missing_data = pd.DataFrame({'total_missing_values': missing_data_sum,'percentage_of_missing_values': (missing_data_sum/mc_data.shape[0])*100})\n",
    "missing_data"
   ]
  },
  {
   "cell_type": "markdown",
   "metadata": {},
   "source": [
    "According to this output, only 6/18 columns have complete data. 5/18 columns are missing more than 60% of the values."
   ]
  },
  {
   "cell_type": "code",
   "execution_count": null,
   "metadata": {},
   "outputs": [],
   "source": []
  }
 ],
 "metadata": {
  "kernelspec": {
   "display_name": "Python 3",
   "language": "python",
   "name": "python3"
  },
  "language_info": {
   "codemirror_mode": {
    "name": "ipython",
    "version": 3
   },
   "file_extension": ".py",
   "mimetype": "text/x-python",
   "name": "python",
   "nbconvert_exporter": "python",
   "pygments_lexer": "ipython3",
   "version": "3.8.5"
  }
 },
 "nbformat": 4,
 "nbformat_minor": 4
}
