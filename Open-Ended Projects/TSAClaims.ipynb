{
 "cells": [
  {
   "cell_type": "markdown",
   "metadata": {},
   "source": [
    "# TSA Claims Analysis"
   ]
  },
  {
   "cell_type": "markdown",
   "metadata": {},
   "source": [
    "## by Justin Sierchio"
   ]
  },
  {
   "cell_type": "markdown",
   "metadata": {},
   "source": [
    "In this analysis, we will be looking at claims made through the US Transportation Security Administration (TSA) from 2002 to 2015. Ideally, we would like to be able to answer the following questions:\n",
    "\n",
    "<ul>\n",
    "    <li>Which airports have the most complaints?</li>\n",
    "    <li>What are the most likely claims made?</li>\n",
    "    <li>Are there certain times of the year where more incidents are likely to occur?</li>\n",
    "</ul>\n",
    "\n",
    "This data is in .csv file format and is from Kaggle at: https://www.kaggle.com/perrychu/tsa-claims-classification-part-1. More information related to the dataset can be found at: https://www.kaggle.com/terminal-security-agency/tsa-claims-database.\n",
    "\n",
    "Special thanks to 'perrychu' at Kaggle for their data cleaning procedure."
   ]
  },
  {
   "cell_type": "markdown",
   "metadata": {},
   "source": [
    "## Notebook Initialization"
   ]
  },
  {
   "cell_type": "code",
   "execution_count": 1,
   "metadata": {},
   "outputs": [
    {
     "name": "stdout",
     "output_type": "stream",
     "text": [
      "Initial libraries loaded into workspace!\n"
     ]
    }
   ],
   "source": [
    "# Import Relevant Libraries\n",
    "import pandas as pd\n",
    "import numpy as np\n",
    "import seaborn as sns \n",
    "import matplotlib.pyplot as plt\n",
    "import re\n",
    "\n",
    "print('Initial libraries loaded into workspace!')"
   ]
  },
  {
   "cell_type": "code",
   "execution_count": 2,
   "metadata": {},
   "outputs": [
    {
     "name": "stdout",
     "output_type": "stream",
     "text": [
      "Datasets uploaded!\n"
     ]
    },
    {
     "name": "stderr",
     "output_type": "stream",
     "text": [
      "C:\\Users\\jmsie\\anaconda3\\lib\\site-packages\\IPython\\core\\interactiveshell.py:3071: DtypeWarning: Columns (0) have mixed types.Specify dtype option on import or set low_memory=False.\n",
      "  has_raised = await self.run_ast_nodes(code_ast.body, cell_name,\n"
     ]
    }
   ],
   "source": [
    "# Upload Datasets for Study\n",
    "df_TSA = pd.read_csv(\"tsa_claims_clean.csv\");\n",
    "\n",
    "print('Datasets uploaded!');"
   ]
  },
  {
   "cell_type": "code",
   "execution_count": 3,
   "metadata": {
    "scrolled": true
   },
   "outputs": [
    {
     "data": {
      "text/html": [
       "<div>\n",
       "<style scoped>\n",
       "    .dataframe tbody tr th:only-of-type {\n",
       "        vertical-align: middle;\n",
       "    }\n",
       "\n",
       "    .dataframe tbody tr th {\n",
       "        vertical-align: top;\n",
       "    }\n",
       "\n",
       "    .dataframe thead th {\n",
       "        text-align: right;\n",
       "    }\n",
       "</style>\n",
       "<table border=\"1\" class=\"dataframe\">\n",
       "  <thead>\n",
       "    <tr style=\"text-align: right;\">\n",
       "      <th></th>\n",
       "      <th>Claim_Number</th>\n",
       "      <th>Airline_Name</th>\n",
       "      <th>Claim_Type</th>\n",
       "      <th>Claim_Site</th>\n",
       "      <th>Item</th>\n",
       "      <th>Status</th>\n",
       "      <th>Date_Received</th>\n",
       "      <th>Incident_Date</th>\n",
       "      <th>Airport_Code_Group</th>\n",
       "      <th>Airport_Name_Group</th>\n",
       "      <th>Claim_Value</th>\n",
       "      <th>Close_Value</th>\n",
       "    </tr>\n",
       "  </thead>\n",
       "  <tbody>\n",
       "    <tr>\n",
       "      <th>0</th>\n",
       "      <td>0909802M</td>\n",
       "      <td>ContinentalAirlines</td>\n",
       "      <td>Property Damage</td>\n",
       "      <td>Checkpoint</td>\n",
       "      <td>Other</td>\n",
       "      <td>Approved</td>\n",
       "      <td>2002-01-04</td>\n",
       "      <td>2002-12-12</td>\n",
       "      <td>EWR</td>\n",
       "      <td>Newark International Airport</td>\n",
       "      <td>350.00</td>\n",
       "      <td>350.00</td>\n",
       "    </tr>\n",
       "    <tr>\n",
       "      <th>1</th>\n",
       "      <td>0202417M</td>\n",
       "      <td>-</td>\n",
       "      <td>Property Damage</td>\n",
       "      <td>Checked Baggage</td>\n",
       "      <td>Luggage (all types including footlockers)</td>\n",
       "      <td>Settled</td>\n",
       "      <td>2002-02-02</td>\n",
       "      <td>2004-01-16</td>\n",
       "      <td>SEA</td>\n",
       "      <td>Seattle-Tacoma International</td>\n",
       "      <td>100.00</td>\n",
       "      <td>50.00</td>\n",
       "    </tr>\n",
       "    <tr>\n",
       "      <th>2</th>\n",
       "      <td>0202445M</td>\n",
       "      <td>AmericanAirlines</td>\n",
       "      <td>Property Damage</td>\n",
       "      <td>Checked Baggage</td>\n",
       "      <td>Cell Phones</td>\n",
       "      <td>Settled</td>\n",
       "      <td>2002-02-04</td>\n",
       "      <td>2003-11-26</td>\n",
       "      <td>STL</td>\n",
       "      <td>Lambert St. Louis International</td>\n",
       "      <td>278.88</td>\n",
       "      <td>227.92</td>\n",
       "    </tr>\n",
       "    <tr>\n",
       "      <th>3</th>\n",
       "      <td>0909816M</td>\n",
       "      <td>AmericanAirlines</td>\n",
       "      <td>Property Damage</td>\n",
       "      <td>Checkpoint</td>\n",
       "      <td>Luggage (all types including footlockers)</td>\n",
       "      <td>Approved</td>\n",
       "      <td>2002-02-07</td>\n",
       "      <td>2003-01-06</td>\n",
       "      <td>MIA</td>\n",
       "      <td>Miami International Airport</td>\n",
       "      <td>50.00</td>\n",
       "      <td>50.00</td>\n",
       "    </tr>\n",
       "    <tr>\n",
       "      <th>4</th>\n",
       "      <td>2005032379513</td>\n",
       "      <td>DeltaAirLines</td>\n",
       "      <td>Property Damage</td>\n",
       "      <td>Checkpoint</td>\n",
       "      <td>Baby - Strollers; car seats; playpen; etc.</td>\n",
       "      <td>Approved</td>\n",
       "      <td>2002-02-18</td>\n",
       "      <td>2005-02-05</td>\n",
       "      <td>MCO</td>\n",
       "      <td>Orlando International Airport</td>\n",
       "      <td>84.79</td>\n",
       "      <td>84.79</td>\n",
       "    </tr>\n",
       "  </tbody>\n",
       "</table>\n",
       "</div>"
      ],
      "text/plain": [
       "    Claim_Number         Airline_Name       Claim_Type       Claim_Site  \\\n",
       "0       0909802M  ContinentalAirlines  Property Damage       Checkpoint   \n",
       "1       0202417M                    -  Property Damage  Checked Baggage   \n",
       "2       0202445M     AmericanAirlines  Property Damage  Checked Baggage   \n",
       "3       0909816M     AmericanAirlines  Property Damage       Checkpoint   \n",
       "4  2005032379513        DeltaAirLines  Property Damage       Checkpoint   \n",
       "\n",
       "                                         Item    Status Date_Received  \\\n",
       "0                                       Other  Approved    2002-01-04   \n",
       "1   Luggage (all types including footlockers)   Settled    2002-02-02   \n",
       "2                                 Cell Phones   Settled    2002-02-04   \n",
       "3   Luggage (all types including footlockers)  Approved    2002-02-07   \n",
       "4  Baby - Strollers; car seats; playpen; etc.  Approved    2002-02-18   \n",
       "\n",
       "  Incident_Date Airport_Code_Group               Airport_Name_Group  \\\n",
       "0    2002-12-12                EWR     Newark International Airport   \n",
       "1    2004-01-16                SEA     Seattle-Tacoma International   \n",
       "2    2003-11-26                STL  Lambert St. Louis International   \n",
       "3    2003-01-06                MIA      Miami International Airport   \n",
       "4    2005-02-05                MCO    Orlando International Airport   \n",
       "\n",
       "   Claim_Value  Close_Value  \n",
       "0       350.00       350.00  \n",
       "1       100.00        50.00  \n",
       "2       278.88       227.92  \n",
       "3        50.00        50.00  \n",
       "4        84.79        84.79  "
      ]
     },
     "execution_count": 3,
     "metadata": {},
     "output_type": "execute_result"
    }
   ],
   "source": [
    "# Display 1st 5 rows from TSA Claims dataset\n",
    "df_TSA.head()"
   ]
  },
  {
   "cell_type": "markdown",
   "metadata": {},
   "source": [
    "Let's describe what each of the columns in this dataset mean.\n",
    "\n",
    "<ul>\n",
    "    <li>Claim_Number: Self-Explanatory</li>\n",
    "    <li>Airline_Name: Self-Explanatory</li>\n",
    "    <li>Claim_Type: Self-Explanatory</li>\n",
    "    <li>Claim_Site: Where did the incident occur?</li>\n",
    "    <li>Item: What kind of item was the incident involving?</li>\n",
    "    <li>Status: What happened with the claim?</li>\n",
    "    <li>Date_Received: When was the claim received?</li>\n",
    "    <li>Incident_Date: When did the claim incident occur?</li>\n",
    "    <li>Airport_Code_Group: Code name for the airport</li>\n",
    "    <li>Airport_Name_Group: Name of the airport?</li>\n",
    "    <li>Claim_Value: Value of the claim?</li>\n",
    "    <li>Close_Value: Value for settling the claim.</li>\n",
    "</ul>"
   ]
  },
  {
   "cell_type": "markdown",
   "metadata": {},
   "source": [
    "## Data Information"
   ]
  },
  {
   "cell_type": "markdown",
   "metadata": {},
   "source": [
    "Let's show the basic data statistics. "
   ]
  },
  {
   "cell_type": "code",
   "execution_count": 4,
   "metadata": {},
   "outputs": [
    {
     "name": "stdout",
     "output_type": "stream",
     "text": [
      "<class 'pandas.core.frame.DataFrame'>\n",
      "RangeIndex: 145012 entries, 0 to 145011\n",
      "Data columns (total 12 columns):\n",
      " #   Column              Non-Null Count   Dtype  \n",
      "---  ------              --------------   -----  \n",
      " 0   Claim_Number        145012 non-null  object \n",
      " 1   Airline_Name        145012 non-null  object \n",
      " 2   Claim_Type          145012 non-null  object \n",
      " 3   Claim_Site          145012 non-null  object \n",
      " 4   Item                145012 non-null  object \n",
      " 5   Status              145012 non-null  object \n",
      " 6   Date_Received       145012 non-null  object \n",
      " 7   Incident_Date       145012 non-null  object \n",
      " 8   Airport_Code_Group  145012 non-null  object \n",
      " 9   Airport_Name_Group  145012 non-null  object \n",
      " 10  Claim_Value         145012 non-null  float64\n",
      " 11  Close_Value         128542 non-null  float64\n",
      "dtypes: float64(2), object(10)\n",
      "memory usage: 13.3+ MB\n"
     ]
    }
   ],
   "source": [
    "df_TSA.info()"
   ]
  },
  {
   "cell_type": "markdown",
   "metadata": {},
   "source": [
    "So we have 145k+ incidents to work with. Let's get started!"
   ]
  },
  {
   "cell_type": "markdown",
   "metadata": {},
   "source": [
    "## Exploratory Data Analysis"
   ]
  },
  {
   "cell_type": "markdown",
   "metadata": {},
   "source": [
    "To begin our analysis, let's look at the Top 20 airports for TSA claims. Since we've removed some data, we'll show the results in percentages rather than raw numbers."
   ]
  },
  {
   "cell_type": "code",
   "execution_count": 5,
   "metadata": {},
   "outputs": [
    {
     "name": "stdout",
     "output_type": "stream",
     "text": [
      "Here are the Top 20 Airports with TSA Claims 2002-2015:\n",
      "\n",
      "Airport Name                         # TSA Claims (% of Total)\n",
      "\n",
      "Other                                               7.152512\n",
      "Los Angeles International Airport                   4.909249\n",
      "John F. Kennedy International                       3.965879\n",
      "Chicago O'Hare International Airport                3.635561\n",
      "Newark International Airport                        3.599012\n",
      "Miami International Airport                         3.070091\n",
      "Orlando International Airport                       3.035611\n",
      "Seattle-Tacoma International                        2.841144\n",
      "Hartsfield-Jackson Atlanta International Airport    2.726671\n",
      "Phoenix Sky Harbor International                    2.591510\n",
      "-                                                   2.568063\n",
      "McCarran International                              2.446004\n",
      "Philadelphia International Airport                  2.373597\n",
      "Dallas-Fort Worth International Airport             2.238435\n",
      "Ft. Lauderdale-Hollywood International              2.045348\n",
      "LaGuardia                                           2.035004\n",
      "Washington Dulles International                     1.952942\n",
      "Denver International Airport                        1.928806\n",
      "Boston (Logan) International Airport                1.890878\n",
      "Minneapolis/ St.Paul International Airport          1.759854\n",
      "Name: Airport_Name_Group, dtype: float64\n"
     ]
    }
   ],
   "source": [
    "# List the Top 20 Airports for TSA Complaints\n",
    "print('Here are the Top 20 Airports with TSA Claims 2002-2015:\\n')\n",
    "print('Airport Name                         # TSA Claims (% of Total)\\n')\n",
    "df_TSA_TypePerc = 100. * df_TSA['Airport_Name_Group'].value_counts() / len(df_TSA);\n",
    "print(df_TSA_TypePerc.head(20))"
   ]
  },
  {
   "cell_type": "markdown",
   "metadata": {},
   "source": [
    "As we can see from our cleaned, complete dataset, LAX (Los Angeles International Airport) had the most TSA claims, followed by JFK (New York City - John F. Kennedy International Airport) and ORD (Chicago O'Hare International Airport).\n",
    "\n",
    "Let's take a look at the frequency of types of claims next."
   ]
  },
  {
   "cell_type": "code",
   "execution_count": 6,
   "metadata": {},
   "outputs": [
    {
     "name": "stdout",
     "output_type": "stream",
     "text": [
      "Here are the Top Claim Types with the TSA 2002-2015:\n",
      "\n",
      "Claim Type           # TSA Claims (% of Total)\n",
      "\n",
      "Passenger Property Loss    56.435329\n",
      "Property Damage            38.712658\n",
      "-                           3.642457\n",
      "Personal Injury             0.475823\n",
      "Passenger Theft             0.294458\n",
      "Employee Loss (MPCECA)      0.288942\n",
      "Motor Vehicle               0.147574\n",
      "Complaint                   0.002069\n",
      "Bus Terminal                0.000690\n",
      "Name: Claim_Type, dtype: float64\n"
     ]
    }
   ],
   "source": [
    "# List the types of TSA Claims\n",
    "print('Here are the Top Claim Types with the TSA 2002-2015:\\n')\n",
    "print('Claim Type           # TSA Claims (% of Total)\\n')\n",
    "df_TSA_ClaimTypePerc = 100. * df_TSA['Claim_Type'].value_counts() / len(df_TSA);\n",
    "print(df_TSA_ClaimTypePerc)"
   ]
  },
  {
   "cell_type": "markdown",
   "metadata": {},
   "source": [
    "According to our analysis, the vast majority of claims involve passenger property loss and property damage.\n",
    "\n",
    "Now let's look at the item list and airline names, respectively."
   ]
  },
  {
   "cell_type": "code",
   "execution_count": 7,
   "metadata": {},
   "outputs": [
    {
     "name": "stdout",
     "output_type": "stream",
     "text": [
      "Here are the Top Items with the TSA 2002-2015:\n",
      "\n",
      "Item Type                                            # TSA Claims (% of Total)\n",
      "\n",
      "Other                                                           19.945936\n",
      "Luggage (all types including footlockers)                       11.868673\n",
      "Clothing - Shoes; belts; accessories; etc.                       9.191653\n",
      "Locks                                                            6.131217\n",
      "Jewelry - Fine                                                   5.885030\n",
      "Cameras - Digital                                                5.743663\n",
      "Computer - Laptop                                                5.316801\n",
      "-                                                                2.561857\n",
      "Eyeglasses - (including contact lenses)                          2.473588\n",
      "Cosmetics - Perfume; toilet articles; medicines; soaps; etc.     2.217058\n",
      "Currency                                                         1.585386\n",
      "Cell Phones                                                      1.302651\n",
      "Name: Item, dtype: float64\n"
     ]
    }
   ],
   "source": [
    "# List the items for TSA Claims\n",
    "print('Here are the Top Items with the TSA 2002-2015:\\n')\n",
    "print('Item Type                                            # TSA Claims (% of Total)\\n')\n",
    "df_TSA_ItemTypePerc = 100. * df_TSA['Item'].value_counts() / len(df_TSA);\n",
    "print(df_TSA_ItemTypePerc.head(12))"
   ]
  },
  {
   "cell_type": "markdown",
   "metadata": {},
   "source": [
    "As one might expect, luggage was the most frequent item at about 15%. Also perhaps not surprising on this top 10 list were digital cameras, fine jewelry, laptop computers, cosmetics, currency and cell phones. A possible hypothesis is that certain entities are committing theft at airports."
   ]
  },
  {
   "cell_type": "code",
   "execution_count": 8,
   "metadata": {},
   "outputs": [
    {
     "name": "stdout",
     "output_type": "stream",
     "text": [
      "Here are the Top 20 Airlines with TSA Claims 2002-2015:\n",
      "\n",
      "Airline Name         # TSA Claims (% of Total)\n",
      "\n",
      "-                      19.801120\n",
      "DeltaAirLines          11.992111\n",
      "AmericanAirlines       11.854881\n",
      "UAL                     9.355088\n",
      "SouthwestAirlines       8.993049\n",
      "ContinentalAirlines     6.628417\n",
      "USAir                   6.536011\n",
      "NorthwestAirlines       5.911235\n",
      "JetBlue                 3.303865\n",
      "AlaskaAirlines          3.296279\n",
      "AirTranAirlines         2.332910\n",
      "AmericaWest             1.162662\n",
      "FrontierAirlines        1.035087\n",
      "SpiritAirlines          0.826139\n",
      "HawaiianAirlines        0.619949\n",
      "BritishAirways          0.530301\n",
      "AllegiantAir            0.428930\n",
      "AirCanada               0.428240\n",
      "Lufthansa               0.378589\n",
      "VirginAtlantic          0.328938\n",
      "Name: Airline_Name, dtype: float64\n"
     ]
    }
   ],
   "source": [
    "# List the Top Airlines for TSA Complaints\n",
    "print('Here are the Top 20 Airlines with TSA Claims 2002-2015:\\n')\n",
    "print('Airline Name         # TSA Claims (% of Total)\\n')\n",
    "df_TSA_AirlineTypePerc = 100. * df_TSA['Airline_Name'].value_counts() / len(df_TSA);\n",
    "print(df_TSA_AirlineTypePerc.head(20))"
   ]
  },
  {
   "cell_type": "markdown",
   "metadata": {},
   "source": [
    "As our analysis shows from our cleaned dataset, American Airlines had a higher % of claims than any other airline with near 15% of the overall total. Rounding out the top 5 were Delta, United, Southwest and Continental. [Note this set was collected before the AA-USAir merger].\n",
    "\n",
    "Now let's work on answering the question regarding time of year or holidays and any relation to claims."
   ]
  },
  {
   "cell_type": "code",
   "execution_count": 9,
   "metadata": {},
   "outputs": [
    {
     "data": {
      "text/plain": [
       "Text(0, 0.5, 'Incident Frequency')"
      ]
     },
     "execution_count": 9,
     "metadata": {},
     "output_type": "execute_result"
    },
    {
     "data": {
      "image/png": "[encoded data removed]",
      "text/plain": [
       "<Figure size 432x288 with 1 Axes>"
      ]
     },
     "metadata": {
      "needs_background": "light"
     },
     "output_type": "display_data"
    }
   ],
   "source": [
    "# Convert Date Format to that which Pandas can understand\n",
    "df_TSA[\"Incident_Dates\"] = df_TSA[\"Incident_Date\"].astype(\"datetime64\")\n",
    "\n",
    "# Group Dates by Month and plot on a bar char\n",
    "df_TSA[\"Incident_Dates\"].groupby(df_TSA[\"Incident_Dates\"].dt.month).count().plot(kind=\"bar\")\n",
    "plt.title('TSA Claim Incidents vs. Month of Year 2002-2014')\n",
    "plt.xlabel('Month of Year')\n",
    "plt.ylabel('Incident Frequency')"
   ]
  },
  {
   "cell_type": "markdown",
   "metadata": {},
   "source": [
    "As one can see, there are at least 10k incidents for each month. However, there appear to be slightly more incidents in (a) the summer months of Jun, Jul, and August and (b) the winter holiday season of Dec and Jan.\n",
    "\n",
    "In order to look at specific holidays, let us make a plot for each week of the year."
   ]
  },
  {
   "cell_type": "code",
   "execution_count": 10,
   "metadata": {},
   "outputs": [
    {
     "data": {
      "text/plain": [
       "Text(0, 0.5, 'Incident Frequency')"
      ]
     },
     "execution_count": 10,
     "metadata": {},
     "output_type": "execute_result"
    },
    {
     "data": {
      "image/png": "[encoded data removed]",
      "text/plain": [
       "<Figure size 1440x1280 with 1 Axes>"
      ]
     },
     "metadata": {},
     "output_type": "display_data"
    }
   ],
   "source": [
    "# Group Dates by Month and plot on a bar char\n",
    "from matplotlib.pyplot import figure\n",
    "figure(num=None, figsize=(18, 16), dpi=80, facecolor='w', edgecolor='k')\n",
    "\n",
    "df_TSA[\"Incident_Dates\"].groupby(df_TSA[\"Incident_Dates\"].dt.weekofyear).count().plot(kind=\"bar\")\n",
    "plt.title('TSA Claim Incidents vs. Week of Year 2002-2014', fontsize = 18)\n",
    "plt.xlabel('Week of Year', fontsize = 16)\n",
    "plt.ylabel('Incident Frequency', fontsize = 16)"
   ]
  },
  {
   "cell_type": "markdown",
   "metadata": {},
   "source": [
    "From the plot shown above, we can see that the greatest number of incidents occur during the weeks of New Year's Day (1) and Christmas Day (Week 52). There is also a spike in Weeks 32 and 33, which correspond to the end of July/beginning of August. Though there are no US Federal holidays during that time, a possible spike may during that time may be the result of increased travel for college students returning to campus for the fall semester.\n",
    "\n",
    "Interestingly enough, the lowest number of incidents occur in Week 44, corresponding to late October."
   ]
  },
  {
   "cell_type": "markdown",
   "metadata": {},
   "source": [
    "## Additional Data Analysis"
   ]
  },
  {
   "cell_type": "markdown",
   "metadata": {},
   "source": [
    "Now that we have completed our original analysis, let us determine if there is a relationship between the type of claim and where the incident occurs. For example, is property damage more likely at the checkpoints or elsewhere in an airport?\n",
    "\n",
    "To accomplish this task, we first need to create variables for each of the potential incident locations and claim types."
   ]
  },
  {
   "cell_type": "code",
   "execution_count": 11,
   "metadata": {},
   "outputs": [
    {
     "name": "stdout",
     "output_type": "stream",
     "text": [
      "<class 'pandas.core.frame.DataFrame'>\n",
      "RangeIndex: 145012 entries, 0 to 145011\n",
      "Data columns (total 26 columns):\n",
      " #   Column                   Non-Null Count   Dtype         \n",
      "---  ------                   --------------   -----         \n",
      " 0   Claim_Number             145012 non-null  object        \n",
      " 1   Airline_Name             145012 non-null  object        \n",
      " 2   Claim_Type               145012 non-null  object        \n",
      " 3   Claim_Site               145012 non-null  object        \n",
      " 4   Item                     145012 non-null  object        \n",
      " 5   Status                   145012 non-null  object        \n",
      " 6   Date_Received            145012 non-null  object        \n",
      " 7   Incident_Date            145012 non-null  object        \n",
      " 8   Airport_Code_Group       145012 non-null  object        \n",
      " 9   Airport_Name_Group       145012 non-null  object        \n",
      " 10  Claim_Value              145012 non-null  float64       \n",
      " 11  Close_Value              128542 non-null  float64       \n",
      " 12  Incident_Dates           145012 non-null  datetime64[ns]\n",
      " 13  Passenger Property Loss  145012 non-null  uint8         \n",
      " 14  Property Damage          145012 non-null  uint8         \n",
      " 15  Personal Injury          145012 non-null  uint8         \n",
      " 16  -                        145012 non-null  uint8         \n",
      " 17  Passenger Theft          145012 non-null  uint8         \n",
      " 18  Employee Loss (MPCECA)   145012 non-null  uint8         \n",
      " 19  Motor Vehicle            145012 non-null  uint8         \n",
      " 20  Complaint                145012 non-null  uint8         \n",
      " 21  Bus Terminal             145012 non-null  uint8         \n",
      " 22  Checked Baggage          145012 non-null  uint8         \n",
      " 23  Checkpoint               145012 non-null  uint8         \n",
      " 24  Other                    145012 non-null  uint8         \n",
      " 25  Bus Station              145012 non-null  uint8         \n",
      "dtypes: datetime64[ns](1), float64(2), object(10), uint8(13)\n",
      "memory usage: 16.2+ MB\n"
     ]
    }
   ],
   "source": [
    "# Create Variables for Claim Type\n",
    "df_TSA1 = df_TSA.copy();\n",
    "df_TSA1[['Passenger Property Loss', 'Property Damage', 'Personal Injury', '-', 'Passenger Theft', \n",
    "         'Employee Loss (MPCECA)', 'Motor Vehicle', 'Complaint', 'Bus Terminal']] = pd.get_dummies(df_TSA1['Claim_Type'])\n",
    "df_TSA1[['Checked Baggage', 'Checkpoint', 'Other', 'Motor Vehicle', '-', 'Bus Station']] = pd.get_dummies(df_TSA1['Claim_Site'])\n",
    "df_TSA1.info()"
   ]
  },
  {
   "cell_type": "code",
   "execution_count": 12,
   "metadata": {},
   "outputs": [
    {
     "data": {
      "text/plain": [
       "Text(0.5, 1.0, 'Claim Type vs. Claim Site: Correlation Matrix - TSA 2002-2014')"
      ]
     },
     "execution_count": 12,
     "metadata": {},
     "output_type": "execute_result"
    },
    {
     "data": {
      "image/png": "[encoded data removed]",
      "text/plain": [
       "<Figure size 1296x1296 with 2 Axes>"
      ]
     },
     "metadata": {
      "needs_background": "light"
     },
     "output_type": "display_data"
    }
   ],
   "source": [
    "# Quality and Average Wins vs. Tournament Performance Matrix\n",
    "# Select the features to do the analysis\n",
    "df_TSA1_fs1 = df_TSA1[['Passenger Property Loss', 'Property Damage', 'Personal Injury', 'Passenger Theft', \n",
    "         'Employee Loss (MPCECA)', 'Motor Vehicle', 'Complaint', 'Bus Terminal', 'Checked Baggage', 'Checkpoint', \n",
    "                       'Motor Vehicle', 'Bus Station']]\n",
    "\n",
    "#  Quality and Average Wins vs. Tournament Performance Matrix\n",
    "figureLoss, axisLoss = plt.subplots(figsize=(18, 18));\n",
    "sns.heatmap(df_TSA1_fs1.corr(), annot = True, linewidths = .5, fmt = '.02f', ax = axisLoss, cmap=\"YlGnBu\");\n",
    "\n",
    "plt.title('Claim Type vs. Claim Site: Correlation Matrix - TSA 2002-2014', fontsize = 20)"
   ]
  },
  {
   "cell_type": "markdown",
   "metadata": {},
   "source": [
    "From the correlation heatmap shown above, the main interesting relationships we see are the passenger property loss at bus stations and in checked baggage. These observations would appear to suggest that either baggage is placed on the wrong flight or items are lost going to/from the airport (i.e. rental car facility, hotel).\n",
    "\n",
    "We also see a relationship between complaints and bus stations, which may be a confirmation of the previous observation.\n",
    "\n",
    "As a final step in this project, let us determine which items have the best reimbursement values. We will define reimbursement as a percantage of the closing value compared to the claim value."
   ]
  },
  {
   "cell_type": "code",
   "execution_count": 13,
   "metadata": {},
   "outputs": [
    {
     "data": {
      "text/html": [
       "<div>\n",
       "<style scoped>\n",
       "    .dataframe tbody tr th:only-of-type {\n",
       "        vertical-align: middle;\n",
       "    }\n",
       "\n",
       "    .dataframe tbody tr th {\n",
       "        vertical-align: top;\n",
       "    }\n",
       "\n",
       "    .dataframe thead th {\n",
       "        text-align: right;\n",
       "    }\n",
       "</style>\n",
       "<table border=\"1\" class=\"dataframe\">\n",
       "  <thead>\n",
       "    <tr style=\"text-align: right;\">\n",
       "      <th></th>\n",
       "      <th>Claim_Number</th>\n",
       "      <th>Airline_Name</th>\n",
       "      <th>Claim_Type</th>\n",
       "      <th>Claim_Site</th>\n",
       "      <th>Item</th>\n",
       "      <th>Status</th>\n",
       "      <th>Date_Received</th>\n",
       "      <th>Incident_Date</th>\n",
       "      <th>Airport_Code_Group</th>\n",
       "      <th>Airport_Name_Group</th>\n",
       "      <th>Claim_Value</th>\n",
       "      <th>Close_Value</th>\n",
       "      <th>Incident_Dates</th>\n",
       "      <th>Reimbursement Percentage</th>\n",
       "    </tr>\n",
       "  </thead>\n",
       "  <tbody>\n",
       "    <tr>\n",
       "      <th>0</th>\n",
       "      <td>0909802M</td>\n",
       "      <td>ContinentalAirlines</td>\n",
       "      <td>Property Damage</td>\n",
       "      <td>Checkpoint</td>\n",
       "      <td>Other</td>\n",
       "      <td>Approved</td>\n",
       "      <td>2002-01-04</td>\n",
       "      <td>2002-12-12</td>\n",
       "      <td>EWR</td>\n",
       "      <td>Newark International Airport</td>\n",
       "      <td>350.00</td>\n",
       "      <td>350.00</td>\n",
       "      <td>2002-12-12</td>\n",
       "      <td>100.000000</td>\n",
       "    </tr>\n",
       "    <tr>\n",
       "      <th>1</th>\n",
       "      <td>0202417M</td>\n",
       "      <td>-</td>\n",
       "      <td>Property Damage</td>\n",
       "      <td>Checked Baggage</td>\n",
       "      <td>Luggage (all types including footlockers)</td>\n",
       "      <td>Settled</td>\n",
       "      <td>2002-02-02</td>\n",
       "      <td>2004-01-16</td>\n",
       "      <td>SEA</td>\n",
       "      <td>Seattle-Tacoma International</td>\n",
       "      <td>100.00</td>\n",
       "      <td>50.00</td>\n",
       "      <td>2004-01-16</td>\n",
       "      <td>50.000000</td>\n",
       "    </tr>\n",
       "    <tr>\n",
       "      <th>2</th>\n",
       "      <td>0202445M</td>\n",
       "      <td>AmericanAirlines</td>\n",
       "      <td>Property Damage</td>\n",
       "      <td>Checked Baggage</td>\n",
       "      <td>Cell Phones</td>\n",
       "      <td>Settled</td>\n",
       "      <td>2002-02-04</td>\n",
       "      <td>2003-11-26</td>\n",
       "      <td>STL</td>\n",
       "      <td>Lambert St. Louis International</td>\n",
       "      <td>278.88</td>\n",
       "      <td>227.92</td>\n",
       "      <td>2003-11-26</td>\n",
       "      <td>81.726907</td>\n",
       "    </tr>\n",
       "    <tr>\n",
       "      <th>3</th>\n",
       "      <td>0909816M</td>\n",
       "      <td>AmericanAirlines</td>\n",
       "      <td>Property Damage</td>\n",
       "      <td>Checkpoint</td>\n",
       "      <td>Luggage (all types including footlockers)</td>\n",
       "      <td>Approved</td>\n",
       "      <td>2002-02-07</td>\n",
       "      <td>2003-01-06</td>\n",
       "      <td>MIA</td>\n",
       "      <td>Miami International Airport</td>\n",
       "      <td>50.00</td>\n",
       "      <td>50.00</td>\n",
       "      <td>2003-01-06</td>\n",
       "      <td>99.999998</td>\n",
       "    </tr>\n",
       "    <tr>\n",
       "      <th>4</th>\n",
       "      <td>2005032379513</td>\n",
       "      <td>DeltaAirLines</td>\n",
       "      <td>Property Damage</td>\n",
       "      <td>Checkpoint</td>\n",
       "      <td>Baby - Strollers; car seats; playpen; etc.</td>\n",
       "      <td>Approved</td>\n",
       "      <td>2002-02-18</td>\n",
       "      <td>2005-02-05</td>\n",
       "      <td>MCO</td>\n",
       "      <td>Orlando International Airport</td>\n",
       "      <td>84.79</td>\n",
       "      <td>84.79</td>\n",
       "      <td>2005-02-05</td>\n",
       "      <td>99.999999</td>\n",
       "    </tr>\n",
       "    <tr>\n",
       "      <th>5</th>\n",
       "      <td>2005032479636</td>\n",
       "      <td>AirTranAirlines</td>\n",
       "      <td>Passenger Property Loss</td>\n",
       "      <td>Checked Baggage</td>\n",
       "      <td>Other</td>\n",
       "      <td>Settled</td>\n",
       "      <td>2002-02-18</td>\n",
       "      <td>2005-02-17</td>\n",
       "      <td>CAK</td>\n",
       "      <td>Akron-Canton Regional</td>\n",
       "      <td>459.01</td>\n",
       "      <td>227.00</td>\n",
       "      <td>2005-02-17</td>\n",
       "      <td>49.454260</td>\n",
       "    </tr>\n",
       "    <tr>\n",
       "      <th>6</th>\n",
       "      <td>2007050124750</td>\n",
       "      <td>USAir</td>\n",
       "      <td>Passenger Property Loss</td>\n",
       "      <td>Checked Baggage</td>\n",
       "      <td>Professional Equipment</td>\n",
       "      <td>Approved</td>\n",
       "      <td>2002-04-30</td>\n",
       "      <td>2007-04-26</td>\n",
       "      <td>PHL</td>\n",
       "      <td>Philadelphia International Airport</td>\n",
       "      <td>106.52</td>\n",
       "      <td>106.52</td>\n",
       "      <td>2007-04-26</td>\n",
       "      <td>99.999999</td>\n",
       "    </tr>\n",
       "    <tr>\n",
       "      <th>7</th>\n",
       "      <td>12772</td>\n",
       "      <td>SouthwestAirlines</td>\n",
       "      <td>-</td>\n",
       "      <td>Checkpoint</td>\n",
       "      <td>Clothing - Shoes; belts; accessories; etc.</td>\n",
       "      <td>Approved</td>\n",
       "      <td>2002-06-20</td>\n",
       "      <td>2002-05-09</td>\n",
       "      <td>BWI</td>\n",
       "      <td>Baltimore/Washington Intl Thurgood Marshall</td>\n",
       "      <td>75.00</td>\n",
       "      <td>75.00</td>\n",
       "      <td>2002-05-09</td>\n",
       "      <td>99.999999</td>\n",
       "    </tr>\n",
       "    <tr>\n",
       "      <th>8</th>\n",
       "      <td>2004102965797</td>\n",
       "      <td>-</td>\n",
       "      <td>Passenger Property Loss</td>\n",
       "      <td>Checkpoint</td>\n",
       "      <td>Jewelry - Fine</td>\n",
       "      <td>Denied</td>\n",
       "      <td>2002-06-25</td>\n",
       "      <td>2002-05-04</td>\n",
       "      <td>ATL</td>\n",
       "      <td>Hartsfield-Jackson Atlanta International Airport</td>\n",
       "      <td>4457.29</td>\n",
       "      <td>NaN</td>\n",
       "      <td>2002-05-04</td>\n",
       "      <td>NaN</td>\n",
       "    </tr>\n",
       "    <tr>\n",
       "      <th>9</th>\n",
       "      <td>2005071188575</td>\n",
       "      <td>AmericanAirlines</td>\n",
       "      <td>Passenger Property Loss</td>\n",
       "      <td>Checked Baggage</td>\n",
       "      <td>Clothing - Shoes; belts; accessories; etc.</td>\n",
       "      <td>Approved</td>\n",
       "      <td>2002-07-06</td>\n",
       "      <td>2005-06-23</td>\n",
       "      <td>ORD</td>\n",
       "      <td>Chicago O'Hare International Airport</td>\n",
       "      <td>79.95</td>\n",
       "      <td>79.95</td>\n",
       "      <td>2005-06-23</td>\n",
       "      <td>99.999999</td>\n",
       "    </tr>\n",
       "  </tbody>\n",
       "</table>\n",
       "</div>"
      ],
      "text/plain": [
       "    Claim_Number         Airline_Name               Claim_Type  \\\n",
       "0       0909802M  ContinentalAirlines          Property Damage   \n",
       "1       0202417M                    -          Property Damage   \n",
       "2       0202445M     AmericanAirlines          Property Damage   \n",
       "3       0909816M     AmericanAirlines          Property Damage   \n",
       "4  2005032379513        DeltaAirLines          Property Damage   \n",
       "5  2005032479636      AirTranAirlines  Passenger Property Loss   \n",
       "6  2007050124750                USAir  Passenger Property Loss   \n",
       "7          12772    SouthwestAirlines                        -   \n",
       "8  2004102965797                    -  Passenger Property Loss   \n",
       "9  2005071188575     AmericanAirlines  Passenger Property Loss   \n",
       "\n",
       "        Claim_Site                                        Item    Status  \\\n",
       "0       Checkpoint                                       Other  Approved   \n",
       "1  Checked Baggage   Luggage (all types including footlockers)   Settled   \n",
       "2  Checked Baggage                                 Cell Phones   Settled   \n",
       "3       Checkpoint   Luggage (all types including footlockers)  Approved   \n",
       "4       Checkpoint  Baby - Strollers; car seats; playpen; etc.  Approved   \n",
       "5  Checked Baggage                                       Other   Settled   \n",
       "6  Checked Baggage                      Professional Equipment  Approved   \n",
       "7       Checkpoint  Clothing - Shoes; belts; accessories; etc.  Approved   \n",
       "8       Checkpoint                              Jewelry - Fine    Denied   \n",
       "9  Checked Baggage  Clothing - Shoes; belts; accessories; etc.  Approved   \n",
       "\n",
       "  Date_Received Incident_Date Airport_Code_Group  \\\n",
       "0    2002-01-04    2002-12-12                EWR   \n",
       "1    2002-02-02    2004-01-16                SEA   \n",
       "2    2002-02-04    2003-11-26                STL   \n",
       "3    2002-02-07    2003-01-06                MIA   \n",
       "4    2002-02-18    2005-02-05                MCO   \n",
       "5    2002-02-18    2005-02-17                CAK   \n",
       "6    2002-04-30    2007-04-26                PHL   \n",
       "7    2002-06-20    2002-05-09                BWI   \n",
       "8    2002-06-25    2002-05-04                ATL   \n",
       "9    2002-07-06    2005-06-23                ORD   \n",
       "\n",
       "                                 Airport_Name_Group  Claim_Value  Close_Value  \\\n",
       "0                      Newark International Airport       350.00       350.00   \n",
       "1                      Seattle-Tacoma International       100.00        50.00   \n",
       "2                   Lambert St. Louis International       278.88       227.92   \n",
       "3                       Miami International Airport        50.00        50.00   \n",
       "4                     Orlando International Airport        84.79        84.79   \n",
       "5                             Akron-Canton Regional       459.01       227.00   \n",
       "6                Philadelphia International Airport       106.52       106.52   \n",
       "7       Baltimore/Washington Intl Thurgood Marshall        75.00        75.00   \n",
       "8  Hartsfield-Jackson Atlanta International Airport      4457.29          NaN   \n",
       "9              Chicago O'Hare International Airport        79.95        79.95   \n",
       "\n",
       "  Incident_Dates  Reimbursement Percentage  \n",
       "0     2002-12-12                100.000000  \n",
       "1     2004-01-16                 50.000000  \n",
       "2     2003-11-26                 81.726907  \n",
       "3     2003-01-06                 99.999998  \n",
       "4     2005-02-05                 99.999999  \n",
       "5     2005-02-17                 49.454260  \n",
       "6     2007-04-26                 99.999999  \n",
       "7     2002-05-09                 99.999999  \n",
       "8     2002-05-04                       NaN  \n",
       "9     2005-06-23                 99.999999  "
      ]
     },
     "execution_count": 13,
     "metadata": {},
     "output_type": "execute_result"
    }
   ],
   "source": [
    "# Create Reimbursement Percentage Variable\n",
    "df_TSA['Reimbursement Percentage'] = 100 * ((df_TSA['Close_Value']) / (df_TSA['Claim_Value'] + 0.000001));\n",
    "df_TSA.head(10)"
   ]
  },
  {
   "cell_type": "markdown",
   "metadata": {},
   "source": [
    "Now let us display the items as sorted by the highest reimbursement percentage. We'll use the top 10 items claimed list from earlier in the project."
   ]
  },
  {
   "cell_type": "code",
   "execution_count": 14,
   "metadata": {},
   "outputs": [],
   "source": [
    "# Find the Reimbursement Percentages for each of the 10 most claimed items\n",
    "LuggageReimbursement = (df_TSA.loc[df_TSA['Item'] == 'Luggage (all types including footlockers)', \n",
    "           'Reimbursement Percentage'].sum()) / (df_TSA.loc[df_TSA['Item'] == 'Luggage (all types including footlockers)', \n",
    "           'Reimbursement Percentage'].count());\n",
    "\n",
    "ClothingReimbursement = (df_TSA.loc[df_TSA['Item'] == 'Clothing - Shoes; belts; accessories; etc.', \n",
    "           'Reimbursement Percentage'].sum()) / (df_TSA.loc[df_TSA['Item'] == 'Clothing - Shoes; belts; accessories; etc.', \n",
    "           'Reimbursement Percentage'].count());\n",
    "\n",
    "LocksReimbursement = (df_TSA.loc[df_TSA['Item'] == 'Locks', \n",
    "           'Reimbursement Percentage'].sum()) / (df_TSA.loc[df_TSA['Item'] == 'Locks', \n",
    "           'Reimbursement Percentage'].count());\n",
    "\n",
    "JewelryReimbursement = (df_TSA.loc[df_TSA['Item'] == 'Jewelry - Fine', \n",
    "           'Reimbursement Percentage'].sum()) / (df_TSA.loc[df_TSA['Item'] == 'Jewelry - Fine', \n",
    "           'Reimbursement Percentage'].count());\n",
    "\n",
    "CameraReimbursement = (df_TSA.loc[df_TSA['Item'] == 'Cameras - Digital', \n",
    "           'Reimbursement Percentage'].sum()) / (df_TSA.loc[df_TSA['Item'] == 'Cameras - Digital', \n",
    "           'Reimbursement Percentage'].count());\n",
    "\n",
    "LaptopReimbursement = (df_TSA.loc[df_TSA['Item'] == 'Computer - Laptop', \n",
    "           'Reimbursement Percentage'].sum()) / (df_TSA.loc[df_TSA['Item'] == 'Computer - Laptop', \n",
    "           'Reimbursement Percentage'].count());\n",
    "\n",
    "EyeglassReimbursement = (df_TSA.loc[df_TSA['Item'] == 'Eyeglasses - (including contact lenses)', \n",
    "           'Reimbursement Percentage'].sum()) / (df_TSA.loc[df_TSA['Item'] == 'Eyeglasses - (including contact lenses)', \n",
    "           'Reimbursement Percentage'].count());\n",
    "\n",
    "ToiletriesReimbursement = (df_TSA.loc[df_TSA['Item'] == 'Cosmetics - Perfume; toilet articles; medicines; soaps; etc.', \n",
    "           'Reimbursement Percentage'].sum()) / (df_TSA.loc[df_TSA['Item'] == 'Cosmetics - Perfume; toilet articles; medicines; soaps; etc.', \n",
    "           'Reimbursement Percentage'].count());\n",
    "\n",
    "CurrencyReimbursement = (df_TSA.loc[df_TSA['Item'] == 'Currency', \n",
    "           'Reimbursement Percentage'].sum()) / (df_TSA.loc[df_TSA['Item'] == 'Currency', \n",
    "           'Reimbursement Percentage'].count());\n",
    "\n",
    "PhoneReimbursement = (df_TSA.loc[df_TSA['Item'] == 'Cell Phones', \n",
    "           'Reimbursement Percentage'].sum()) / (df_TSA.loc[df_TSA['Item'] == 'Cell Phones', \n",
    "           'Reimbursement Percentage'].count());"
   ]
  },
  {
   "cell_type": "code",
   "execution_count": 15,
   "metadata": {},
   "outputs": [
    {
     "name": "stdout",
     "output_type": "stream",
     "text": [
      "The Reimbursement Rates for each of the 10 most claimed items are as follows:\n",
      "Luggage:          42.57\n",
      "Clothing:         50.7\n",
      "Locks:            50.06\n",
      "Jewelry:          30.75\n",
      "Digital Cameras:  29.5\n",
      "Laptops:          25.94\n",
      "Eyeglass:         58.02\n",
      "Toiletries:       35.7\n",
      "Currency:         33.76\n",
      "Cell Phones:      40.51\n"
     ]
    }
   ],
   "source": [
    "# Print the Reimbursement Amounts\n",
    "print('The Reimbursement Rates for each of the 10 most claimed items are as follows:')\n",
    "print('Luggage:         ', round(LuggageReimbursement, 2))\n",
    "print('Clothing:        ', round(ClothingReimbursement,2))\n",
    "print('Locks:           ', round(LocksReimbursement,2))\n",
    "print('Jewelry:         ', round(JewelryReimbursement, 2))\n",
    "print('Digital Cameras: ', round(CameraReimbursement, 2))\n",
    "print('Laptops:         ', round(LaptopReimbursement, 2))\n",
    "print('Eyeglass:        ', round(EyeglassReimbursement, 2))\n",
    "print('Toiletries:      ', round(ToiletriesReimbursement, 2))\n",
    "print('Currency:        ', round(CurrencyReimbursement, 2))\n",
    "print('Cell Phones:     ', round(PhoneReimbursement,2 ))"
   ]
  },
  {
   "cell_type": "markdown",
   "metadata": {},
   "source": [
    "As one can see, eyeglasses have the highest reimbursement at 58% while digital cameras have the lowest reimbursement rate at 29.5%."
   ]
  },
  {
   "cell_type": "markdown",
   "metadata": {},
   "source": [
    "## Results and Discussion"
   ]
  },
  {
   "cell_type": "markdown",
   "metadata": {},
   "source": [
    "In this open-ended project, we were able to arrive at some interesting results:\n",
    "\n",
    "<ul>\n",
    "    <li>(1) The majority of claims in US airports involve personal property loss.</li>\n",
    "    <li>(2) Delta AirLines leads the nation in claims.</li>\n",
    "    <li>(3) The Christmas/New Year's holiday season sees the most claim incidents of any time of the year.</li>\n",
    "    <li>(4) Personal property loss is disproportionally happens at airport bus stations than actually in the terminal.</li>\n",
    "    <li>(5) Eyeglasses have the highest reimbursement rates among the 10 most frequency claimed items.</li>\n",
    "</ul>"
   ]
  },
  {
   "cell_type": "markdown",
   "metadata": {},
   "source": [
    "## Conclusion"
   ]
  },
  {
   "cell_type": "markdown",
   "metadata": {},
   "source": [
    "The goal of this project was to explore TSA airport claims from 2002-2014. In this project, we were able to upload a real-world dataset, clean the data systematically, perform several different exploratory data analysis, make useful data visualizations, and draw logical inferences from those analyses. It is the author's hope that others find this exericse useful. Thanks for reading!"
   ]
  },
  {
   "cell_type": "code",
   "execution_count": null,
   "metadata": {},
   "outputs": [],
   "source": []
  }
 ],
 "metadata": {
  "kernelspec": {
   "display_name": "Python 3",
   "language": "python",
   "name": "python3"
  },
  "language_info": {
   "codemirror_mode": {
    "name": "ipython",
    "version": 3
   },
   "file_extension": ".py",
   "mimetype": "text/x-python",
   "name": "python",
   "nbconvert_exporter": "python",
   "pygments_lexer": "ipython3",
   "version": "3.8.3"
  }
 },
 "nbformat": 4,
 "nbformat_minor": 4
}
