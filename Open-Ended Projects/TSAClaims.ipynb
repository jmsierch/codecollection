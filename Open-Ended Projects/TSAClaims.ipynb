{
 "cells": [
  {
   "cell_type": "markdown",
   "metadata": {},
   "source": [
    "# TSA Claims Analysis"
   ]
  },
  {
   "cell_type": "markdown",
   "metadata": {},
   "source": [
    "## by Justin Sierchio"
   ]
  },
  {
   "cell_type": "markdown",
   "metadata": {},
   "source": [
    "In this analysis, we will be looking at claims made against the US Transportation Security Administration (TSA) from 2002 to 2015. Ideally, we would like to be able to answer the following questions:\n",
    "\n",
    "<ul>\n",
    "    <li>Which airports have the most complaints?</li>\n",
    "    <li>What are the most likely claims made</li>\n",
    "    <li>Are there certain times of the year where more incidents are likely to occur?</li>\n",
    "</ul>\n",
    "\n",
    "This data is in .csv file format and is from Kaggle at: https://www.kaggle.com/terminal-security-agency/tsa-claims-database/download. More information related to the dataset can be found at: https://www.kaggle.com/terminal-security-agency/tsa-claims-database."
   ]
  },
  {
   "cell_type": "markdown",
   "metadata": {},
   "source": [
    "## Notebook Initialization"
   ]
  },
  {
   "cell_type": "code",
   "execution_count": 1,
   "metadata": {},
   "outputs": [
    {
     "name": "stdout",
     "output_type": "stream",
     "text": [
      "Initial libraries loaded into workspace!\n"
     ]
    }
   ],
   "source": [
    "# Import Relevant Libraries\n",
    "import pandas as pd\n",
    "import numpy as np\n",
    "import seaborn as sns \n",
    "import matplotlib.pyplot as plt\n",
    "\n",
    "print('Initial libraries loaded into workspace!')"
   ]
  },
  {
   "cell_type": "code",
   "execution_count": 3,
   "metadata": {},
   "outputs": [
    {
     "name": "stdout",
     "output_type": "stream",
     "text": [
      "Datasets uploaded!\n"
     ]
    }
   ],
   "source": [
    "# Upload Datasets for Study\n",
    "df_TSA = pd.read_csv(\"tsa_claims.csv\");\n",
    "\n",
    "print('Datasets uploaded!');"
   ]
  },
  {
   "cell_type": "code",
   "execution_count": 4,
   "metadata": {},
   "outputs": [
    {
     "data": {
      "text/html": [
       "<div>\n",
       "<style scoped>\n",
       "    .dataframe tbody tr th:only-of-type {\n",
       "        vertical-align: middle;\n",
       "    }\n",
       "\n",
       "    .dataframe tbody tr th {\n",
       "        vertical-align: top;\n",
       "    }\n",
       "\n",
       "    .dataframe thead th {\n",
       "        text-align: right;\n",
       "    }\n",
       "</style>\n",
       "<table border=\"1\" class=\"dataframe\">\n",
       "  <thead>\n",
       "    <tr style=\"text-align: right;\">\n",
       "      <th></th>\n",
       "      <th>Claim Number</th>\n",
       "      <th>Date Received</th>\n",
       "      <th>Incident Date</th>\n",
       "      <th>Airport Code</th>\n",
       "      <th>Airport Name</th>\n",
       "      <th>Airline Name</th>\n",
       "      <th>Claim Type</th>\n",
       "      <th>Claim Site</th>\n",
       "      <th>Item</th>\n",
       "      <th>Claim Amount</th>\n",
       "      <th>Status</th>\n",
       "      <th>Close Amount</th>\n",
       "      <th>Disposition</th>\n",
       "    </tr>\n",
       "  </thead>\n",
       "  <tbody>\n",
       "    <tr>\n",
       "      <th>0</th>\n",
       "      <td>0909802M</td>\n",
       "      <td>4-Jan-02</td>\n",
       "      <td>12/12/2002 0:00</td>\n",
       "      <td>EWR</td>\n",
       "      <td>Newark International Airport</td>\n",
       "      <td>Continental Airlines</td>\n",
       "      <td>Property Damage</td>\n",
       "      <td>Checkpoint</td>\n",
       "      <td>Other</td>\n",
       "      <td>$350.00</td>\n",
       "      <td>Approved</td>\n",
       "      <td>$350.00</td>\n",
       "      <td>Approve in Full</td>\n",
       "    </tr>\n",
       "    <tr>\n",
       "      <th>1</th>\n",
       "      <td>0202417M</td>\n",
       "      <td>2-Feb-02</td>\n",
       "      <td>1/16/2004 0:00</td>\n",
       "      <td>SEA</td>\n",
       "      <td>Seattle-Tacoma International</td>\n",
       "      <td>NaN</td>\n",
       "      <td>Property Damage</td>\n",
       "      <td>Checked Baggage</td>\n",
       "      <td>Luggage (all types including footlockers)</td>\n",
       "      <td>$100.00</td>\n",
       "      <td>Settled</td>\n",
       "      <td>$50.00</td>\n",
       "      <td>Settle</td>\n",
       "    </tr>\n",
       "    <tr>\n",
       "      <th>2</th>\n",
       "      <td>0202445M</td>\n",
       "      <td>4-Feb-02</td>\n",
       "      <td>11/26/2003 0:00</td>\n",
       "      <td>STL</td>\n",
       "      <td>Lambert St. Louis International</td>\n",
       "      <td>American Airlines</td>\n",
       "      <td>Property Damage</td>\n",
       "      <td>Checked Baggage</td>\n",
       "      <td>Cell Phones</td>\n",
       "      <td>$278.88</td>\n",
       "      <td>Settled</td>\n",
       "      <td>$227.92</td>\n",
       "      <td>Settle</td>\n",
       "    </tr>\n",
       "    <tr>\n",
       "      <th>3</th>\n",
       "      <td>0909816M</td>\n",
       "      <td>7-Feb-02</td>\n",
       "      <td>1/6/2003 0:00</td>\n",
       "      <td>MIA</td>\n",
       "      <td>Miami International Airport</td>\n",
       "      <td>American Airlines</td>\n",
       "      <td>Property Damage</td>\n",
       "      <td>Checkpoint</td>\n",
       "      <td>Luggage (all types including footlockers)</td>\n",
       "      <td>$50.00</td>\n",
       "      <td>Approved</td>\n",
       "      <td>$50.00</td>\n",
       "      <td>Approve in Full</td>\n",
       "    </tr>\n",
       "    <tr>\n",
       "      <th>4</th>\n",
       "      <td>2005032379513</td>\n",
       "      <td>18-Feb-02</td>\n",
       "      <td>2/5/2005 0:00</td>\n",
       "      <td>MCO</td>\n",
       "      <td>Orlando International Airport</td>\n",
       "      <td>Delta (Song)</td>\n",
       "      <td>Property Damage</td>\n",
       "      <td>Checkpoint</td>\n",
       "      <td>Baby - Strollers; car seats; playpen; etc.</td>\n",
       "      <td>$84.79</td>\n",
       "      <td>Approved</td>\n",
       "      <td>$84.79</td>\n",
       "      <td>Approve in Full</td>\n",
       "    </tr>\n",
       "  </tbody>\n",
       "</table>\n",
       "</div>"
      ],
      "text/plain": [
       "    Claim Number Date Received    Incident Date Airport Code  \\\n",
       "0       0909802M      4-Jan-02  12/12/2002 0:00          EWR   \n",
       "1       0202417M      2-Feb-02   1/16/2004 0:00          SEA   \n",
       "2       0202445M      4-Feb-02  11/26/2003 0:00          STL   \n",
       "3       0909816M      7-Feb-02    1/6/2003 0:00          MIA   \n",
       "4  2005032379513     18-Feb-02    2/5/2005 0:00          MCO   \n",
       "\n",
       "                      Airport Name          Airline Name       Claim Type  \\\n",
       "0     Newark International Airport  Continental Airlines  Property Damage   \n",
       "1     Seattle-Tacoma International                   NaN  Property Damage   \n",
       "2  Lambert St. Louis International     American Airlines  Property Damage   \n",
       "3      Miami International Airport     American Airlines  Property Damage   \n",
       "4    Orlando International Airport          Delta (Song)  Property Damage   \n",
       "\n",
       "        Claim Site                                        Item Claim Amount  \\\n",
       "0       Checkpoint                                       Other     $350.00    \n",
       "1  Checked Baggage   Luggage (all types including footlockers)     $100.00    \n",
       "2  Checked Baggage                                 Cell Phones     $278.88    \n",
       "3       Checkpoint   Luggage (all types including footlockers)      $50.00    \n",
       "4       Checkpoint  Baby - Strollers; car seats; playpen; etc.      $84.79    \n",
       "\n",
       "     Status Close Amount      Disposition  \n",
       "0  Approved     $350.00   Approve in Full  \n",
       "1   Settled      $50.00            Settle  \n",
       "2   Settled     $227.92            Settle  \n",
       "3  Approved      $50.00   Approve in Full  \n",
       "4  Approved      $84.79   Approve in Full  "
      ]
     },
     "execution_count": 4,
     "metadata": {},
     "output_type": "execute_result"
    }
   ],
   "source": [
    "# Display 1st 5 rows from TSA Claims dataset\n",
    "df_TSA.head()"
   ]
  },
  {
   "cell_type": "markdown",
   "metadata": {},
   "source": [
    "Let's describe what each of the columns in this dataset mean.\n",
    "\n",
    "<ul>\n",
    "    <li>Claim Number: Self-Explanatory</li>\n",
    "    <li>Date Received: DD-Mon-YY</li>\n",
    "    <li>Incident Date: MM/DD/YYYY</li>\n",
    "    <li>Airport Code: 3-Letter code from FAA for each US domestic airport</li>\n",
    "    <li>Airport Name: Full name of US domestic airport</li>\n",
    "    <li>Airline Name: Name of Airline</li>\n",
    "    <li>Claim Type: Self-Explanatory</li>\n",
    "    <li>Claim Site: Location where claim is made</li>\n",
    "    <li>Item: The type of item for which a claim was made</li>\n",
    "    <li>Claim Amount: The dollar amount for the claim</li>\n",
    "    <li>Claim Status: Adjudication of Claim</li>\n",
    "    <li>Close Amount: Dollar amount for resolving claim</li>\n",
    "    <li>Disposition: Final result of claim</li>\n",
    "</ul>"
   ]
  },
  {
   "cell_type": "markdown",
   "metadata": {},
   "source": [
    "## Data Cleaning"
   ]
  },
  {
   "cell_type": "markdown",
   "metadata": {},
   "source": [
    "First, let's get a sense of the quality of the dataset."
   ]
  },
  {
   "cell_type": "code",
   "execution_count": 5,
   "metadata": {},
   "outputs": [
    {
     "name": "stdout",
     "output_type": "stream",
     "text": [
      "<class 'pandas.core.frame.DataFrame'>\n",
      "RangeIndex: 204267 entries, 0 to 204266\n",
      "Data columns (total 13 columns):\n",
      " #   Column         Non-Null Count   Dtype \n",
      "---  ------         --------------   ----- \n",
      " 0   Claim Number   204267 non-null  object\n",
      " 1   Date Received  204004 non-null  object\n",
      " 2   Incident Date  202084 non-null  object\n",
      " 3   Airport Code   195743 non-null  object\n",
      " 4   Airport Name   195743 non-null  object\n",
      " 5   Airline Name   169893 non-null  object\n",
      " 6   Claim Type     196354 non-null  object\n",
      " 7   Claim Site     203527 non-null  object\n",
      " 8   Item           200301 non-null  object\n",
      " 9   Claim Amount   200224 non-null  object\n",
      " 10  Status         204262 non-null  object\n",
      " 11  Close Amount   135315 non-null  object\n",
      " 12  Disposition    131359 non-null  object\n",
      "dtypes: object(13)\n",
      "memory usage: 20.3+ MB\n"
     ]
    }
   ],
   "source": [
    "# Characteristics of the TSA Claims dataset\n",
    "df_TSA.info()"
   ]
  },
  {
   "cell_type": "code",
   "execution_count": null,
   "metadata": {},
   "outputs": [],
   "source": []
  }
 ],
 "metadata": {
  "kernelspec": {
   "display_name": "Python 3",
   "language": "python",
   "name": "python3"
  },
  "language_info": {
   "codemirror_mode": {
    "name": "ipython",
    "version": 3
   },
   "file_extension": ".py",
   "mimetype": "text/x-python",
   "name": "python",
   "nbconvert_exporter": "python",
   "pygments_lexer": "ipython3",
   "version": "3.8.3"
  }
 },
 "nbformat": 4,
 "nbformat_minor": 4
}
