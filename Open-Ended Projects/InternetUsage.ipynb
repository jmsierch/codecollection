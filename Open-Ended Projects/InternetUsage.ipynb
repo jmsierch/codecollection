{
 "cells": [
  {
   "cell_type": "markdown",
   "metadata": {},
   "source": [
    "# Internet Usage Analysis"
   ]
  },
  {
   "cell_type": "markdown",
   "metadata": {},
   "source": [
    "## by Justin Sierchio"
   ]
  },
  {
   "cell_type": "markdown",
   "metadata": {},
   "source": [
    "This Jupyter Notebook will be examining internet usage worldwide and its association with income and urban rate. \n",
    "\n",
    "This data is in .csv file format and is from Kaggle under a Public Domain License. It can be found at: https://www.kaggle.com/sansuthi/gapminder-internet/download. Additional related information can be found at: https://www.kaggle.com/sansuthi/gapminder-internet."
   ]
  },
  {
   "cell_type": "markdown",
   "metadata": {},
   "source": [
    "## Notebook Initialization"
   ]
  },
  {
   "cell_type": "code",
   "execution_count": 1,
   "metadata": {},
   "outputs": [
    {
     "name": "stdout",
     "output_type": "stream",
     "text": [
      "Initial libraries loaded into workspace!\n"
     ]
    }
   ],
   "source": [
    "# Import Relevant Libraries\n",
    "import pandas as pd\n",
    "import numpy as np\n",
    "import seaborn as sns \n",
    "import matplotlib.pyplot as plt\n",
    "\n",
    "print('Initial libraries loaded into workspace!')"
   ]
  },
  {
   "cell_type": "code",
   "execution_count": 2,
   "metadata": {},
   "outputs": [
    {
     "name": "stdout",
     "output_type": "stream",
     "text": [
      "Datasets uploaded!\n"
     ]
    }
   ],
   "source": [
    "# Upload Datasets for Study\n",
    "df_INTERNET = pd.read_csv(\"internet_gapminder.csv\");\n",
    "\n",
    "print('Datasets uploaded!');"
   ]
  },
  {
   "cell_type": "code",
   "execution_count": 3,
   "metadata": {
    "scrolled": false
   },
   "outputs": [
    {
     "data": {
      "text/html": [
       "<div>\n",
       "<style scoped>\n",
       "    .dataframe tbody tr th:only-of-type {\n",
       "        vertical-align: middle;\n",
       "    }\n",
       "\n",
       "    .dataframe tbody tr th {\n",
       "        vertical-align: top;\n",
       "    }\n",
       "\n",
       "    .dataframe thead th {\n",
       "        text-align: right;\n",
       "    }\n",
       "</style>\n",
       "<table border=\"1\" class=\"dataframe\">\n",
       "  <thead>\n",
       "    <tr style=\"text-align: right;\">\n",
       "      <th></th>\n",
       "      <th>country</th>\n",
       "      <th>incomeperperson</th>\n",
       "      <th>internetuserate</th>\n",
       "      <th>urbanrate</th>\n",
       "    </tr>\n",
       "  </thead>\n",
       "  <tbody>\n",
       "    <tr>\n",
       "      <th>0</th>\n",
       "      <td>Afghanistan</td>\n",
       "      <td>NaN</td>\n",
       "      <td>3.654121623</td>\n",
       "      <td>24.04</td>\n",
       "    </tr>\n",
       "    <tr>\n",
       "      <th>1</th>\n",
       "      <td>Albania</td>\n",
       "      <td>1914.996551</td>\n",
       "      <td>44.98994696</td>\n",
       "      <td>46.72</td>\n",
       "    </tr>\n",
       "    <tr>\n",
       "      <th>2</th>\n",
       "      <td>Algeria</td>\n",
       "      <td>2231.993335</td>\n",
       "      <td>12.50007331</td>\n",
       "      <td>65.22</td>\n",
       "    </tr>\n",
       "    <tr>\n",
       "      <th>3</th>\n",
       "      <td>Andorra</td>\n",
       "      <td>21943.339900</td>\n",
       "      <td>81</td>\n",
       "      <td>88.92</td>\n",
       "    </tr>\n",
       "    <tr>\n",
       "      <th>4</th>\n",
       "      <td>Angola</td>\n",
       "      <td>1381.004268</td>\n",
       "      <td>9.999953883</td>\n",
       "      <td>56.70</td>\n",
       "    </tr>\n",
       "  </tbody>\n",
       "</table>\n",
       "</div>"
      ],
      "text/plain": [
       "       country  incomeperperson internetuserate  urbanrate\n",
       "0  Afghanistan              NaN     3.654121623      24.04\n",
       "1      Albania      1914.996551     44.98994696      46.72\n",
       "2      Algeria      2231.993335     12.50007331      65.22\n",
       "3      Andorra     21943.339900              81      88.92\n",
       "4       Angola      1381.004268     9.999953883      56.70"
      ]
     },
     "execution_count": 3,
     "metadata": {},
     "output_type": "execute_result"
    }
   ],
   "source": [
    "# Open Internet Data Usage dataset and display 1st 5 rows\n",
    "df_INTERNET.head(5)"
   ]
  },
  {
   "cell_type": "markdown",
   "metadata": {},
   "source": [
    "As one can see, we have columns for (1) country (2) income per person (3) internet use rate and (4) rate of urbanization."
   ]
  },
  {
   "cell_type": "markdown",
   "metadata": {},
   "source": [
    "# Data Cleaning"
   ]
  },
  {
   "cell_type": "markdown",
   "metadata": {},
   "source": [
    "Let's begin looking at this dataset by making sure it is sufficiently cleaned."
   ]
  },
  {
   "cell_type": "code",
   "execution_count": 4,
   "metadata": {
    "scrolled": true
   },
   "outputs": [
    {
     "name": "stdout",
     "output_type": "stream",
     "text": [
      "<class 'pandas.core.frame.DataFrame'>\n",
      "RangeIndex: 213 entries, 0 to 212\n",
      "Data columns (total 4 columns):\n",
      " #   Column           Non-Null Count  Dtype  \n",
      "---  ------           --------------  -----  \n",
      " 0   country          213 non-null    object \n",
      " 1   incomeperperson  190 non-null    float64\n",
      " 2   internetuserate  193 non-null    object \n",
      " 3   urbanrate        203 non-null    float64\n",
      "dtypes: float64(2), object(2)\n",
      "memory usage: 6.8+ KB\n"
     ]
    }
   ],
   "source": [
    "df_INTERNET.info()"
   ]
  },
  {
   "cell_type": "markdown",
   "metadata": {},
   "source": [
    "We see that 'internetuserate' is defined as an object. We will need to convert this to a float64 to do analysis."
   ]
  },
  {
   "cell_type": "code",
   "execution_count": 5,
   "metadata": {},
   "outputs": [],
   "source": [
    "# Convert 'internetuserate' to a float64.\n",
    "df_INTERNET['internetuserate'] = pd.to_numeric(df_INTERNET['internetuserate'],errors='coerce')"
   ]
  },
  {
   "cell_type": "markdown",
   "metadata": {},
   "source": [
    "Now let's check for 'Nan' or 'null' values."
   ]
  },
  {
   "cell_type": "code",
   "execution_count": 6,
   "metadata": {},
   "outputs": [
    {
     "data": {
      "text/plain": [
       "country             0\n",
       "incomeperperson    23\n",
       "internetuserate    21\n",
       "urbanrate          10\n",
       "dtype: int64"
      ]
     },
     "execution_count": 6,
     "metadata": {},
     "output_type": "execute_result"
    }
   ],
   "source": [
    "# Check dataset for 'NaN' or 'null' values\n",
    "df_INTERNET.isnull().sum()"
   ]
  },
  {
   "cell_type": "markdown",
   "metadata": {},
   "source": [
    "We'll drop the countries with incomplete user data."
   ]
  },
  {
   "cell_type": "code",
   "execution_count": 7,
   "metadata": {},
   "outputs": [
    {
     "data": {
      "text/plain": [
       "country            0\n",
       "incomeperperson    0\n",
       "internetuserate    0\n",
       "urbanrate          0\n",
       "dtype: int64"
      ]
     },
     "execution_count": 7,
     "metadata": {},
     "output_type": "execute_result"
    }
   ],
   "source": [
    "# Remove 'NULL' rows from SBA Loans Dataset\n",
    "df_INTERNET2 = df_INTERNET.dropna()\n",
    "\n",
    "# Confirm all 'NULL' rows and columns removed\n",
    "df_INTERNET2.isnull().sum()"
   ]
  },
  {
   "cell_type": "code",
   "execution_count": 8,
   "metadata": {},
   "outputs": [
    {
     "name": "stdout",
     "output_type": "stream",
     "text": [
      "<class 'pandas.core.frame.DataFrame'>\n",
      "Int64Index: 182 entries, 1 to 212\n",
      "Data columns (total 4 columns):\n",
      " #   Column           Non-Null Count  Dtype  \n",
      "---  ------           --------------  -----  \n",
      " 0   country          182 non-null    object \n",
      " 1   incomeperperson  182 non-null    float64\n",
      " 2   internetuserate  182 non-null    float64\n",
      " 3   urbanrate        182 non-null    float64\n",
      "dtypes: float64(3), object(1)\n",
      "memory usage: 7.1+ KB\n"
     ]
    }
   ],
   "source": [
    "df_INTERNET2.info()"
   ]
  },
  {
   "cell_type": "markdown",
   "metadata": {},
   "source": [
    "Now it appears that our data is sufficiently cleaned to conduct a further analysis."
   ]
  },
  {
   "cell_type": "markdown",
   "metadata": {},
   "source": [
    "# Exploratory Data Analysis"
   ]
  },
  {
   "cell_type": "markdown",
   "metadata": {},
   "source": [
    "Let's begin by seeing (among the countries in our modified dataset) some of the basic characteristics."
   ]
  },
  {
   "cell_type": "code",
   "execution_count": 9,
   "metadata": {},
   "outputs": [
    {
     "name": "stdout",
     "output_type": "stream",
     "text": [
      "Top 20 Countries (w/ complete data) for Internet Usage Rates:\n",
      "\n",
      "                  country  internetuserate\n",
      "85                Iceland        95.638113\n",
      "144                Norway        93.277508\n",
      "136           Netherlands        90.703555\n",
      "111            Luxembourg        90.079527\n",
      "184                Sweden        90.016190\n",
      "50                Denmark        88.770254\n",
      "63                Finland        86.898845\n",
      "202        United Kingdom        84.731705\n",
      "20                Bermuda        84.654514\n",
      "139           New Zealand        83.002584\n",
      "69                Germany        82.526898\n",
      "100           Korea, Rep.        82.515928\n",
      "185           Switzerland        82.166660\n",
      "156                 Qatar        81.590397\n",
      "32                 Canada        81.338393\n",
      "3                 Andorra        81.000000\n",
      "5     Antigua and Barbuda        80.645455\n",
      "109         Liechtenstein        80.000000\n",
      "174       Slovak Republic        79.889777\n",
      "201  United Arab Emirates        77.996781\n"
     ]
    }
   ],
   "source": [
    "# Sort Countries by Internet Usage Rate\n",
    "df_INTERNET_explore1 = df_INTERNET2[['country','internetuserate']]\n",
    "df_INTERNET_explore1_sortUse = df_INTERNET_explore1.sort_values('internetuserate', ascending=False);\n",
    "print('Top 20 Countries (w/ complete data) for Internet Usage Rates:\\n')\n",
    "print(df_INTERNET_explore1_sortUse.head(20))"
   ]
  },
  {
   "cell_type": "markdown",
   "metadata": {},
   "source": [
    "As we can see, the vast majority of the countries in our complete dataset are in Europe, with a few others elsewhere.\n",
    "\n",
    "Let's look at income per person and urbanization rates."
   ]
  },
  {
   "cell_type": "code",
   "execution_count": 10,
   "metadata": {},
   "outputs": [
    {
     "name": "stdout",
     "output_type": "stream",
     "text": [
      "Top 20 Countries (w/ complete data) for Income per Person:\n",
      "\n",
      "              country  incomeperperson\n",
      "109     Liechtenstein      81647.10003\n",
      "20            Bermuda      62682.14701\n",
      "111        Luxembourg      52301.58718\n",
      "144            Norway      39972.35277\n",
      "94              Japan      39309.47886\n",
      "185       Switzerland      37662.75125\n",
      "203     United States      37491.17952\n",
      "83   Hong Kong, China      35536.07247\n",
      "85            Iceland      33945.31442\n",
      "156             Qatar      33931.83208\n",
      "112      Macao, China      33923.31387\n",
      "173         Singapore      32535.83251\n",
      "184            Sweden      32292.48298\n",
      "50            Denmark      30532.27704\n",
      "202    United Kingdom      28033.48928\n",
      "90            Ireland      27595.09135\n",
      "63            Finland      27110.73159\n",
      "10            Austria      26692.98411\n",
      "136       Netherlands      26551.84424\n",
      "32             Canada      25575.35262\n"
     ]
    }
   ],
   "source": [
    "# Sort Countries by Income per Person\n",
    "df_INTERNET_explore2 = df_INTERNET2[['country','incomeperperson']]\n",
    "df_INTERNET_explore2_sortUse = df_INTERNET_explore2.sort_values('incomeperperson', ascending=False);\n",
    "print('Top 20 Countries (w/ complete data) for Income per Person:\\n')\n",
    "print(df_INTERNET_explore2_sortUse.head(20))"
   ]
  },
  {
   "cell_type": "code",
   "execution_count": 11,
   "metadata": {},
   "outputs": [
    {
     "name": "stdout",
     "output_type": "stream",
     "text": [
      "Top 20 Countries (w/ complete data) for Urbanization Rate:\n",
      "\n",
      "              country  urbanrate\n",
      "173         Singapore     100.00\n",
      "83   Hong Kong, China     100.00\n",
      "112      Macao, China     100.00\n",
      "20            Bermuda     100.00\n",
      "155       Puerto Rico      98.32\n",
      "17            Belgium      97.36\n",
      "156             Qatar      95.64\n",
      "119             Malta      94.26\n",
      "207         Venezuela      93.32\n",
      "204           Uruguay      92.30\n",
      "85            Iceland      92.26\n",
      "6           Argentina      92.00\n",
      "91             Israel      91.66\n",
      "202    United Kingdom      89.94\n",
      "3             Andorra      88.92\n",
      "9           Australia      88.74\n",
      "13            Bahrain      88.52\n",
      "37              Chile      88.44\n",
      "51           Djibouti      87.30\n",
      "105           Lebanon      86.96\n"
     ]
    }
   ],
   "source": [
    "# Sort Countries by Urbanization Rate\n",
    "df_INTERNET_explore3 = df_INTERNET2[['country','urbanrate']]\n",
    "df_INTERNET_explore3_sortUse = df_INTERNET_explore3.sort_values('urbanrate', ascending=False);\n",
    "print('Top 20 Countries (w/ complete data) for Urbanization Rate:\\n')\n",
    "print(df_INTERNET_explore3_sortUse.head(20))"
   ]
  },
  {
   "cell_type": "markdown",
   "metadata": {},
   "source": [
    "We see a more geographically diverse distribution when it comes to incomes per person and urbanization rates worldwide."
   ]
  },
  {
   "cell_type": "code",
   "execution_count": null,
   "metadata": {},
   "outputs": [],
   "source": []
  }
 ],
 "metadata": {
  "kernelspec": {
   "display_name": "Python 3",
   "language": "python",
   "name": "python3"
  },
  "language_info": {
   "codemirror_mode": {
    "name": "ipython",
    "version": 3
   },
   "file_extension": ".py",
   "mimetype": "text/x-python",
   "name": "python",
   "nbconvert_exporter": "python",
   "pygments_lexer": "ipython3",
   "version": "3.8.5"
  }
 },
 "nbformat": 4,
 "nbformat_minor": 4
}
