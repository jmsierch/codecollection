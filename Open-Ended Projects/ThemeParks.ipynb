{
 "cells": [
  {
   "cell_type": "markdown",
   "id": "7838b3a3",
   "metadata": {},
   "source": [
    "# Theme Park Review Analysis"
   ]
  },
  {
   "cell_type": "markdown",
   "id": "6ab1d38a",
   "metadata": {},
   "source": [
    "## by Justin Sierchio"
   ]
  },
  {
   "cell_type": "markdown",
   "id": "3cd17fb9",
   "metadata": {},
   "source": [
    "In this analysis, we will be looking at reviews from 3 Disneyland(R) parks in California, Paris and Hong Kong as they were posted on Trip Advisor. We would like to be able to answer the following questions:\n",
    "\n",
    "<ul>\n",
    "    <li>Which park had the best reviews?</li>\n",
    "    <li>What was the most common complaint?</li>\n",
    "    <li>What are some other conclusions we might able to draw from this analysis?</li>\n",
    "</ul>\n",
    "\n",
    "This data is in .csv file format and is from Kaggle at: https://www.kaggle.com/arushchillar/disneyland-reviews/download. More information related to the dataset can be found at: https://www.kaggle.com/arushchillar/disneyland-reviews."
   ]
  },
  {
   "cell_type": "markdown",
   "id": "ded9b510",
   "metadata": {},
   "source": [
    "## Notebook Initialization"
   ]
  },
  {
   "cell_type": "code",
   "execution_count": 1,
   "id": "dea5ae82",
   "metadata": {},
   "outputs": [
    {
     "name": "stdout",
     "output_type": "stream",
     "text": [
      "Initial libraries loaded into workspace!\n"
     ]
    }
   ],
   "source": [
    "# Import Relevant Libraries\n",
    "import pandas as pd\n",
    "import numpy as np\n",
    "import seaborn as sns \n",
    "import matplotlib.pyplot as plt\n",
    "import datetime\n",
    "\n",
    "print('Initial libraries loaded into workspace!')"
   ]
  },
  {
   "cell_type": "code",
   "execution_count": 2,
   "id": "197285e9",
   "metadata": {},
   "outputs": [
    {
     "name": "stdout",
     "output_type": "stream",
     "text": [
      "Datasets uploaded!\n"
     ]
    }
   ],
   "source": [
    "# Upload Datasets for reviews\n",
    "df_REVIEWS = pd.read_csv(\"DisneylandReviews.csv\");\n",
    "\n",
    "print('Datasets uploaded!');"
   ]
  },
  {
   "cell_type": "code",
   "execution_count": 3,
   "id": "896af4f8",
   "metadata": {},
   "outputs": [
    {
     "data": {
      "text/html": [
       "<div>\n",
       "<style scoped>\n",
       "    .dataframe tbody tr th:only-of-type {\n",
       "        vertical-align: middle;\n",
       "    }\n",
       "\n",
       "    .dataframe tbody tr th {\n",
       "        vertical-align: top;\n",
       "    }\n",
       "\n",
       "    .dataframe thead th {\n",
       "        text-align: right;\n",
       "    }\n",
       "</style>\n",
       "<table border=\"1\" class=\"dataframe\">\n",
       "  <thead>\n",
       "    <tr style=\"text-align: right;\">\n",
       "      <th></th>\n",
       "      <th>Review_ID</th>\n",
       "      <th>Rating</th>\n",
       "      <th>Year_Month</th>\n",
       "      <th>Reviewer_Location</th>\n",
       "      <th>Review_Text</th>\n",
       "      <th>Branch</th>\n",
       "    </tr>\n",
       "  </thead>\n",
       "  <tbody>\n",
       "    <tr>\n",
       "      <th>0</th>\n",
       "      <td>670772142</td>\n",
       "      <td>4</td>\n",
       "      <td>2019-4</td>\n",
       "      <td>Australia</td>\n",
       "      <td>If you've ever been to Disneyland anywhere you...</td>\n",
       "      <td>Disneyland_HongKong</td>\n",
       "    </tr>\n",
       "    <tr>\n",
       "      <th>1</th>\n",
       "      <td>670682799</td>\n",
       "      <td>4</td>\n",
       "      <td>2019-5</td>\n",
       "      <td>Philippines</td>\n",
       "      <td>Its been a while since d last time we visit HK...</td>\n",
       "      <td>Disneyland_HongKong</td>\n",
       "    </tr>\n",
       "    <tr>\n",
       "      <th>2</th>\n",
       "      <td>670623270</td>\n",
       "      <td>4</td>\n",
       "      <td>2019-4</td>\n",
       "      <td>United Arab Emirates</td>\n",
       "      <td>Thanks God it wasn   t too hot or too humid wh...</td>\n",
       "      <td>Disneyland_HongKong</td>\n",
       "    </tr>\n",
       "    <tr>\n",
       "      <th>3</th>\n",
       "      <td>670607911</td>\n",
       "      <td>4</td>\n",
       "      <td>2019-4</td>\n",
       "      <td>Australia</td>\n",
       "      <td>HK Disneyland is a great compact park. Unfortu...</td>\n",
       "      <td>Disneyland_HongKong</td>\n",
       "    </tr>\n",
       "    <tr>\n",
       "      <th>4</th>\n",
       "      <td>670607296</td>\n",
       "      <td>4</td>\n",
       "      <td>2019-4</td>\n",
       "      <td>United Kingdom</td>\n",
       "      <td>the location is not in the city, took around 1...</td>\n",
       "      <td>Disneyland_HongKong</td>\n",
       "    </tr>\n",
       "  </tbody>\n",
       "</table>\n",
       "</div>"
      ],
      "text/plain": [
       "   Review_ID  Rating Year_Month     Reviewer_Location  \\\n",
       "0  670772142       4     2019-4             Australia   \n",
       "1  670682799       4     2019-5           Philippines   \n",
       "2  670623270       4     2019-4  United Arab Emirates   \n",
       "3  670607911       4     2019-4             Australia   \n",
       "4  670607296       4     2019-4        United Kingdom   \n",
       "\n",
       "                                         Review_Text               Branch  \n",
       "0  If you've ever been to Disneyland anywhere you...  Disneyland_HongKong  \n",
       "1  Its been a while since d last time we visit HK...  Disneyland_HongKong  \n",
       "2  Thanks God it wasn   t too hot or too humid wh...  Disneyland_HongKong  \n",
       "3  HK Disneyland is a great compact park. Unfortu...  Disneyland_HongKong  \n",
       "4  the location is not in the city, took around 1...  Disneyland_HongKong  "
      ]
     },
     "execution_count": 3,
     "metadata": {},
     "output_type": "execute_result"
    }
   ],
   "source": [
    "# Display 1st 5 rows from Theme Park review set\n",
    "df_REVIEWS.head()"
   ]
  },
  {
   "cell_type": "markdown",
   "id": "6e9d10e2",
   "metadata": {},
   "source": [
    "Let's briefly list the column titles and their descriptions:\n",
    "\n",
    "<ul>\n",
    "    <li> Review_ID: ID given to each entry </li>\n",
    "    <li> Rating: range of 1 to 5, 1 being bad and 5 being great </li>\n",
    "    <li> Year_Month: date when reviewer visited park </li>\n",
    "    <li> Reviewer_Location: where reviewed is located </li>\n",
    "    <li> Review_Text: visitor comments </li>\n",
    "    <li> Disneyland_Branch: which location of Disneyland Park reviewed?</li>\n",
    "</ul>"
   ]
  },
  {
   "cell_type": "markdown",
   "id": "1ffc66db",
   "metadata": {},
   "source": [
    "# Data Cleaning"
   ]
  },
  {
   "cell_type": "markdown",
   "id": "5f930e39",
   "metadata": {},
   "source": [
    "Let's begin by looking at the data types."
   ]
  },
  {
   "cell_type": "code",
   "execution_count": 4,
   "id": "c56f6a75",
   "metadata": {},
   "outputs": [
    {
     "name": "stdout",
     "output_type": "stream",
     "text": [
      "<class 'pandas.core.frame.DataFrame'>\n",
      "RangeIndex: 42656 entries, 0 to 42655\n",
      "Data columns (total 6 columns):\n",
      " #   Column             Non-Null Count  Dtype \n",
      "---  ------             --------------  ----- \n",
      " 0   Review_ID          42656 non-null  int64 \n",
      " 1   Rating             42656 non-null  int64 \n",
      " 2   Year_Month         42656 non-null  object\n",
      " 3   Reviewer_Location  42656 non-null  object\n",
      " 4   Review_Text        42656 non-null  object\n",
      " 5   Branch             42656 non-null  object\n",
      "dtypes: int64(2), object(4)\n",
      "memory usage: 2.0+ MB\n"
     ]
    }
   ],
   "source": [
    "# View data types in dataset\n",
    "df_REVIEWS.info()"
   ]
  },
  {
   "cell_type": "markdown",
   "id": "0ae61cf7",
   "metadata": {},
   "source": [
    "Let's take a look at an 'NaN' values we might have and (depending on the number) removing them from the dataset."
   ]
  },
  {
   "cell_type": "code",
   "execution_count": 5,
   "id": "590cba45",
   "metadata": {},
   "outputs": [
    {
     "data": {
      "text/plain": [
       "Review_ID            0\n",
       "Rating               0\n",
       "Year_Month           0\n",
       "Reviewer_Location    0\n",
       "Review_Text          0\n",
       "Branch               0\n",
       "dtype: int64"
      ]
     },
     "execution_count": 5,
     "metadata": {},
     "output_type": "execute_result"
    }
   ],
   "source": [
    "# View 'NaN' values and removing them (if applicable)\n",
    "df_REVIEWS.isnull().sum()"
   ]
  },
  {
   "cell_type": "markdown",
   "id": "76a92c09",
   "metadata": {},
   "source": [
    "Let's begin by converting the 'Year_Month' info into separate columns."
   ]
  },
  {
   "cell_type": "code",
   "execution_count": 6,
   "id": "970b0217",
   "metadata": {},
   "outputs": [],
   "source": [
    "# Convert 'Year_Month' into separate columns\n",
    "df_REVIEWS[\"Year_Month\"] = pd.to_datetime(df_REVIEWS[\"Year_Month\"], errors='coerce')"
   ]
  },
  {
   "cell_type": "code",
   "execution_count": 7,
   "id": "5c3e2feb",
   "metadata": {},
   "outputs": [],
   "source": [
    "df_REVIEWS[\"Year\"] = df_REVIEWS[\"Year_Month\"].dt.year\n",
    "df_REVIEWS[\"Month\"] = df_REVIEWS[\"Year_Month\"].dt.month"
   ]
  },
  {
   "cell_type": "code",
   "execution_count": 8,
   "id": "89b11863",
   "metadata": {},
   "outputs": [
    {
     "data": {
      "text/html": [
       "<div>\n",
       "<style scoped>\n",
       "    .dataframe tbody tr th:only-of-type {\n",
       "        vertical-align: middle;\n",
       "    }\n",
       "\n",
       "    .dataframe tbody tr th {\n",
       "        vertical-align: top;\n",
       "    }\n",
       "\n",
       "    .dataframe thead th {\n",
       "        text-align: right;\n",
       "    }\n",
       "</style>\n",
       "<table border=\"1\" class=\"dataframe\">\n",
       "  <thead>\n",
       "    <tr style=\"text-align: right;\">\n",
       "      <th></th>\n",
       "      <th>Review_ID</th>\n",
       "      <th>Rating</th>\n",
       "      <th>Year_Month</th>\n",
       "      <th>Reviewer_Location</th>\n",
       "      <th>Review_Text</th>\n",
       "      <th>Branch</th>\n",
       "      <th>Year</th>\n",
       "      <th>Month</th>\n",
       "    </tr>\n",
       "  </thead>\n",
       "  <tbody>\n",
       "    <tr>\n",
       "      <th>0</th>\n",
       "      <td>670772142</td>\n",
       "      <td>4</td>\n",
       "      <td>2019-04-01</td>\n",
       "      <td>Australia</td>\n",
       "      <td>If you've ever been to Disneyland anywhere you...</td>\n",
       "      <td>Disneyland_HongKong</td>\n",
       "      <td>2019.0</td>\n",
       "      <td>4.0</td>\n",
       "    </tr>\n",
       "    <tr>\n",
       "      <th>1</th>\n",
       "      <td>670682799</td>\n",
       "      <td>4</td>\n",
       "      <td>2019-05-01</td>\n",
       "      <td>Philippines</td>\n",
       "      <td>Its been a while since d last time we visit HK...</td>\n",
       "      <td>Disneyland_HongKong</td>\n",
       "      <td>2019.0</td>\n",
       "      <td>5.0</td>\n",
       "    </tr>\n",
       "    <tr>\n",
       "      <th>2</th>\n",
       "      <td>670623270</td>\n",
       "      <td>4</td>\n",
       "      <td>2019-04-01</td>\n",
       "      <td>United Arab Emirates</td>\n",
       "      <td>Thanks God it wasn   t too hot or too humid wh...</td>\n",
       "      <td>Disneyland_HongKong</td>\n",
       "      <td>2019.0</td>\n",
       "      <td>4.0</td>\n",
       "    </tr>\n",
       "    <tr>\n",
       "      <th>3</th>\n",
       "      <td>670607911</td>\n",
       "      <td>4</td>\n",
       "      <td>2019-04-01</td>\n",
       "      <td>Australia</td>\n",
       "      <td>HK Disneyland is a great compact park. Unfortu...</td>\n",
       "      <td>Disneyland_HongKong</td>\n",
       "      <td>2019.0</td>\n",
       "      <td>4.0</td>\n",
       "    </tr>\n",
       "    <tr>\n",
       "      <th>4</th>\n",
       "      <td>670607296</td>\n",
       "      <td>4</td>\n",
       "      <td>2019-04-01</td>\n",
       "      <td>United Kingdom</td>\n",
       "      <td>the location is not in the city, took around 1...</td>\n",
       "      <td>Disneyland_HongKong</td>\n",
       "      <td>2019.0</td>\n",
       "      <td>4.0</td>\n",
       "    </tr>\n",
       "  </tbody>\n",
       "</table>\n",
       "</div>"
      ],
      "text/plain": [
       "   Review_ID  Rating Year_Month     Reviewer_Location  \\\n",
       "0  670772142       4 2019-04-01             Australia   \n",
       "1  670682799       4 2019-05-01           Philippines   \n",
       "2  670623270       4 2019-04-01  United Arab Emirates   \n",
       "3  670607911       4 2019-04-01             Australia   \n",
       "4  670607296       4 2019-04-01        United Kingdom   \n",
       "\n",
       "                                         Review_Text               Branch  \\\n",
       "0  If you've ever been to Disneyland anywhere you...  Disneyland_HongKong   \n",
       "1  Its been a while since d last time we visit HK...  Disneyland_HongKong   \n",
       "2  Thanks God it wasn   t too hot or too humid wh...  Disneyland_HongKong   \n",
       "3  HK Disneyland is a great compact park. Unfortu...  Disneyland_HongKong   \n",
       "4  the location is not in the city, took around 1...  Disneyland_HongKong   \n",
       "\n",
       "     Year  Month  \n",
       "0  2019.0    4.0  \n",
       "1  2019.0    5.0  \n",
       "2  2019.0    4.0  \n",
       "3  2019.0    4.0  \n",
       "4  2019.0    4.0  "
      ]
     },
     "execution_count": 8,
     "metadata": {},
     "output_type": "execute_result"
    }
   ],
   "source": [
    "df_REVIEWS.head()"
   ]
  },
  {
   "cell_type": "markdown",
   "id": "b9f12b82",
   "metadata": {},
   "source": [
    "Now let's assess how many 'NaN' or missing values we may have in this dataset."
   ]
  },
  {
   "cell_type": "code",
   "execution_count": 9,
   "id": "b91272de",
   "metadata": {},
   "outputs": [
    {
     "data": {
      "text/plain": [
       "Review_ID            0.000000\n",
       "Rating               0.000000\n",
       "Year_Month           0.061258\n",
       "Reviewer_Location    0.000000\n",
       "Review_Text          0.000000\n",
       "Branch               0.000000\n",
       "Year                 0.061258\n",
       "Month                0.061258\n",
       "dtype: float64"
      ]
     },
     "execution_count": 9,
     "metadata": {},
     "output_type": "execute_result"
    }
   ],
   "source": [
    "# Assess 'NaN' values in dataset\n",
    "df_REVIEWS.isnull().sum()/len(df_REVIEWS)"
   ]
  },
  {
   "cell_type": "markdown",
   "id": "e4b41021",
   "metadata": {},
   "source": [
    "Since those values are less than 1 in 16 reviews, we will just remove them for simplicity."
   ]
  },
  {
   "cell_type": "code",
   "execution_count": 10,
   "id": "7bac4b45",
   "metadata": {},
   "outputs": [
    {
     "name": "stdout",
     "output_type": "stream",
     "text": [
      "<class 'pandas.core.frame.DataFrame'>\n",
      "Int64Index: 40043 entries, 0 to 42117\n",
      "Data columns (total 8 columns):\n",
      " #   Column             Non-Null Count  Dtype         \n",
      "---  ------             --------------  -----         \n",
      " 0   Review_ID          40043 non-null  int64         \n",
      " 1   Rating             40043 non-null  int64         \n",
      " 2   Year_Month         40043 non-null  datetime64[ns]\n",
      " 3   Reviewer_Location  40043 non-null  object        \n",
      " 4   Review_Text        40043 non-null  object        \n",
      " 5   Branch             40043 non-null  object        \n",
      " 6   Year               40043 non-null  float64       \n",
      " 7   Month              40043 non-null  float64       \n",
      "dtypes: datetime64[ns](1), float64(2), int64(2), object(3)\n",
      "memory usage: 2.7+ MB\n"
     ]
    }
   ],
   "source": [
    "# Remove 'NaN' values\n",
    "df_REVIEWS.dropna(inplace=True)\n",
    "\n",
    "# Show updated dataset\n",
    "df_REVIEWS.info()"
   ]
  },
  {
   "cell_type": "markdown",
   "id": "67563bd2",
   "metadata": {},
   "source": [
    "The last step we want to engage in with data cleaning is removing any duplicates."
   ]
  },
  {
   "cell_type": "code",
   "execution_count": 11,
   "id": "ab6fe63b",
   "metadata": {},
   "outputs": [
    {
     "name": "stdout",
     "output_type": "stream",
     "text": [
      "<class 'pandas.core.frame.DataFrame'>\n",
      "Int64Index: 40023 entries, 0 to 42117\n",
      "Data columns (total 8 columns):\n",
      " #   Column             Non-Null Count  Dtype         \n",
      "---  ------             --------------  -----         \n",
      " 0   Review_ID          40023 non-null  int64         \n",
      " 1   Rating             40023 non-null  int64         \n",
      " 2   Year_Month         40023 non-null  datetime64[ns]\n",
      " 3   Reviewer_Location  40023 non-null  object        \n",
      " 4   Review_Text        40023 non-null  object        \n",
      " 5   Branch             40023 non-null  object        \n",
      " 6   Year               40023 non-null  float64       \n",
      " 7   Month              40023 non-null  float64       \n",
      "dtypes: datetime64[ns](1), float64(2), int64(2), object(3)\n",
      "memory usage: 2.7+ MB\n"
     ]
    }
   ],
   "source": [
    "# Remove duplicates from dataset\n",
    "df_REVIEWS.drop_duplicates(subset=\"Review_ID\",inplace=True, keep=\"first\")\n",
    "\n",
    "# Show updated dataset\n",
    "df_REVIEWS.info()"
   ]
  },
  {
   "cell_type": "markdown",
   "id": "7144152a",
   "metadata": {},
   "source": [
    "As we can see, 20 reviews have been removed as duplicates. We should be good to go for our exploratory data analysis."
   ]
  },
  {
   "cell_type": "markdown",
   "id": "f535ad37",
   "metadata": {},
   "source": [
    "# Exploratory Data Analysis"
   ]
  },
  {
   "cell_type": "markdown",
   "id": "8deb6ed2",
   "metadata": {},
   "source": [
    "Let's begin our analysis by the range of ratings for the Disneyland theme parks."
   ]
  },
  {
   "cell_type": "code",
   "execution_count": 12,
   "id": "6933c8f1",
   "metadata": {},
   "outputs": [
    {
     "data": {
      "text/plain": [
       "Text(0.5, 1.0, 'Histogram of Disneyland Review Ratings')"
      ]
     },
     "execution_count": 12,
     "metadata": {},
     "output_type": "execute_result"
    },
    {
     "data": {
      "image/png": "[encoded data removed]",
      "text/plain": [
       "<Figure size 432x288 with 1 Axes>"
      ]
     },
     "metadata": {
      "needs_background": "light"
     },
     "output_type": "display_data"
    }
   ],
   "source": [
    "# Create a histogram showing ratings for the Disneyland theme parks' dataset\n",
    "plt.hist(df_REVIEWS['Rating'], bins = 10)\n",
    "plt.xlabel('Rating')\n",
    "plt.ylabel('# of Reviews')\n",
    "plt.title('Histogram of Disneyland Review Ratings')"
   ]
  },
  {
   "cell_type": "markdown",
   "id": "ef6c9266",
   "metadata": {},
   "source": [
    "As we can see, the vast majority of ratings are in the 4.0+ range. Let's take a look at where the reviews are coming from (in terms of which Disneyland branches)."
   ]
  },
  {
   "cell_type": "code",
   "execution_count": 13,
   "id": "91616557",
   "metadata": {},
   "outputs": [
    {
     "data": {
      "text/plain": [
       "Text(0.5, 1.0, 'Histogram of Disneyland Review Ratings by Branch')"
      ]
     },
     "execution_count": 13,
     "metadata": {},
     "output_type": "execute_result"
    },
    {
     "data": {
      "image/png": "[encoded data removed]",
      "text/plain": [
       "<Figure size 432x288 with 1 Axes>"
      ]
     },
     "metadata": {
      "needs_background": "light"
     },
     "output_type": "display_data"
    }
   ],
   "source": [
    "# Create a histogram showing where the reviews come from for each Disneyland branch\n",
    "plt.hist(df_REVIEWS['Branch'], bins = 10)\n",
    "plt.xlabel('Branch')\n",
    "plt.ylabel('# of Reviews')\n",
    "plt.title('Histogram of Disneyland Review Ratings by Branch')"
   ]
  },
  {
   "cell_type": "markdown",
   "id": "712a0c48",
   "metadata": {},
   "source": [
    "Here we see a plurality of the reviews are at the California park, followed by Paris and then Hong Kong. At this point, it would be useful to see the range of years that the parks have been reviewed."
   ]
  },
  {
   "cell_type": "code",
   "execution_count": 14,
   "id": "28bc9537",
   "metadata": {},
   "outputs": [
    {
     "data": {
      "text/plain": [
       "Text(0.5, 1.0, 'Histogram of Disneyland Reviews by Year')"
      ]
     },
     "execution_count": 14,
     "metadata": {},
     "output_type": "execute_result"
    },
    {
     "data": {
      "image/png": "[encoded data removed]",
      "text/plain": [
       "<Figure size 432x288 with 1 Axes>"
      ]
     },
     "metadata": {
      "needs_background": "light"
     },
     "output_type": "display_data"
    }
   ],
   "source": [
    "# Create a histogram showing the years for which there are Disneyland reviews in the dataset\n",
    "plt.hist(df_REVIEWS['Year'], bins = 10)\n",
    "plt.xlabel('Year')\n",
    "plt.ylabel('# of Reviews')\n",
    "plt.title('Histogram of Disneyland Reviews by Year')"
   ]
  },
  {
   "cell_type": "markdown",
   "id": "5db81474",
   "metadata": {},
   "source": [
    "It appears the bulk of the reviews are between 2014 and 2016."
   ]
  },
  {
   "cell_type": "code",
   "execution_count": null,
   "id": "5ef3a964",
   "metadata": {},
   "outputs": [],
   "source": []
  }
 ],
 "metadata": {
  "kernelspec": {
   "display_name": "Python 3",
   "language": "python",
   "name": "python3"
  },
  "language_info": {
   "codemirror_mode": {
    "name": "ipython",
    "version": 3
   },
   "file_extension": ".py",
   "mimetype": "text/x-python",
   "name": "python",
   "nbconvert_exporter": "python",
   "pygments_lexer": "ipython3",
   "version": "3.8.10"
  }
 },
 "nbformat": 4,
 "nbformat_minor": 5
}
