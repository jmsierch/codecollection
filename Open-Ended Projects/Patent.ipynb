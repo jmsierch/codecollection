{
 "cells": [
  {
   "cell_type": "markdown",
   "metadata": {},
   "source": [
    "# Aircraft Patent Application Analysis"
   ]
  },
  {
   "cell_type": "markdown",
   "metadata": {},
   "source": [
    "## by Justin Sierchio"
   ]
  },
  {
   "cell_type": "markdown",
   "metadata": {},
   "source": [
    "In this analysis, we will be looking at patent applications related to aircraft. Ideally, we would like to be able to answer the following questions:\n",
    "\n",
    "<ul>\n",
    "    <li>What specific technologies are being patented?</li>\n",
    "    <li>How long is it taking to obtain these patents?</li>\n",
    "    <li>Where are the patent applications being filed?>/li>\n",
    "    <li>What are some other conclusions we might able to draw from this analysis?</li>\n",
    "</ul>\n",
    "\n",
    "This data is in .csv file format and is from Kaggle at: https://www.kaggle.com/mystery/patents/download. More information related to the dataset can be found at: https://www.kaggle.com/mystery/patents."
   ]
  },
  {
   "cell_type": "markdown",
   "metadata": {},
   "source": [
    "## Notebook Initialization"
   ]
  },
  {
   "cell_type": "code",
   "execution_count": 1,
   "metadata": {},
   "outputs": [
    {
     "name": "stdout",
     "output_type": "stream",
     "text": [
      "Initial libraries loaded into workspace!\n"
     ]
    }
   ],
   "source": [
    "# Import Relevant Libraries\n",
    "from mpl_toolkits.mplot3d import Axes3D\n",
    "from sklearn.preprocessing import StandardScaler\n",
    "import matplotlib.pyplot as plt \n",
    "import numpy as np\n",
    "import pandas as pd\n",
    "import seaborn as sns \n",
    "\n",
    "print('Initial libraries loaded into workspace!')"
   ]
  },
  {
   "cell_type": "code",
   "execution_count": 2,
   "metadata": {},
   "outputs": [
    {
     "name": "stdout",
     "output_type": "stream",
     "text": [
      "Datasets uploaded!\n"
     ]
    }
   ],
   "source": [
    "# Upload Datasets for Study\n",
    "df_PATENTS = pd.read_csv(\"df_merged.csv\");\n",
    "\n",
    "print('Datasets uploaded!');"
   ]
  },
  {
   "cell_type": "code",
   "execution_count": 3,
   "metadata": {},
   "outputs": [
    {
     "data": {
      "text/html": [
       "<div>\n",
       "<style scoped>\n",
       "    .dataframe tbody tr th:only-of-type {\n",
       "        vertical-align: middle;\n",
       "    }\n",
       "\n",
       "    .dataframe tbody tr th {\n",
       "        vertical-align: top;\n",
       "    }\n",
       "\n",
       "    .dataframe thead th {\n",
       "        text-align: right;\n",
       "    }\n",
       "</style>\n",
       "<table border=\"1\" class=\"dataframe\">\n",
       "  <thead>\n",
       "    <tr style=\"text-align: right;\">\n",
       "      <th></th>\n",
       "      <th>Unnamed: 0</th>\n",
       "      <th>Application Id</th>\n",
       "      <th>Application Number</th>\n",
       "      <th>Country</th>\n",
       "      <th>Title</th>\n",
       "      <th>Abstract</th>\n",
       "      <th>I P C</th>\n",
       "      <th>Application Date</th>\n",
       "      <th>year</th>\n",
       "      <th>cluster_tf_idf</th>\n",
       "    </tr>\n",
       "  </thead>\n",
       "  <tbody>\n",
       "    <tr>\n",
       "      <th>0</th>\n",
       "      <td>0</td>\n",
       "      <td>WO2015116015</td>\n",
       "      <td>PCT/UA2014/000017</td>\n",
       "      <td>WO</td>\n",
       "      <td>INFLATABLE AIRCRAFT</td>\n",
       "      <td>inflatable vertical takeoff landing aircraft i...</td>\n",
       "      <td>B64C 29/00; B64C 31/06; B64C 27/32</td>\n",
       "      <td>2014-03-02</td>\n",
       "      <td>2014</td>\n",
       "      <td>7</td>\n",
       "    </tr>\n",
       "    <tr>\n",
       "      <th>1</th>\n",
       "      <td>1</td>\n",
       "      <td>WO2015166113</td>\n",
       "      <td>PCT/ES2014/070372</td>\n",
       "      <td>WO</td>\n",
       "      <td>SEALING DEVICE FOR AIRCRAFT PROPELLER ENGINE</td>\n",
       "      <td>invention relates sealing device aircraft engi...</td>\n",
       "      <td>B64C 35/00; B64C 11/00; B64C 99/00</td>\n",
       "      <td>2014-04-29</td>\n",
       "      <td>2014</td>\n",
       "      <td>1</td>\n",
       "    </tr>\n",
       "    <tr>\n",
       "      <th>2</th>\n",
       "      <td>2</td>\n",
       "      <td>WO2014185492</td>\n",
       "      <td>PCT/JP2014/062955</td>\n",
       "      <td>WO</td>\n",
       "      <td>VERTICAL TAKE-OFF AND LANDING AIRCRAFT</td>\n",
       "      <td>vertical take landing aircraft comprises prope...</td>\n",
       "      <td>B64C 29/00; B64C 27/20; B64C 27/22</td>\n",
       "      <td>2014-05-15</td>\n",
       "      <td>2014</td>\n",
       "      <td>4</td>\n",
       "    </tr>\n",
       "    <tr>\n",
       "      <th>3</th>\n",
       "      <td>3</td>\n",
       "      <td>WO2015112039</td>\n",
       "      <td>PCT/RU2014/000035</td>\n",
       "      <td>WO</td>\n",
       "      <td>AIRCRAFT</td>\n",
       "      <td>﻿ claimed invention relates aviation particula...</td>\n",
       "      <td>B64C 39/12; B64C 11/00; B64C 9/00</td>\n",
       "      <td>2014-01-22</td>\n",
       "      <td>2014</td>\n",
       "      <td>9</td>\n",
       "    </tr>\n",
       "    <tr>\n",
       "      <th>4</th>\n",
       "      <td>4</td>\n",
       "      <td>WO2015099375</td>\n",
       "      <td>PCT/KR2014/012634</td>\n",
       "      <td>WO</td>\n",
       "      <td>MULTI-ROTOR FLYING OBJECT</td>\n",
       "      <td>present invention provides multi rotor flying ...</td>\n",
       "      <td>B64C 27/08; B64C 29/02; B64C 27/52</td>\n",
       "      <td>2014-12-22</td>\n",
       "      <td>2014</td>\n",
       "      <td>7</td>\n",
       "    </tr>\n",
       "  </tbody>\n",
       "</table>\n",
       "</div>"
      ],
      "text/plain": [
       "   Unnamed: 0 Application Id Application Number  Country  \\\n",
       "0           0   WO2015116015  PCT/UA2014/000017       WO   \n",
       "1           1   WO2015166113  PCT/ES2014/070372       WO   \n",
       "2           2   WO2014185492  PCT/JP2014/062955       WO   \n",
       "3           3   WO2015112039  PCT/RU2014/000035       WO   \n",
       "4           4   WO2015099375  PCT/KR2014/012634       WO   \n",
       "\n",
       "                                          Title  \\\n",
       "0                           INFLATABLE AIRCRAFT   \n",
       "1  SEALING DEVICE FOR AIRCRAFT PROPELLER ENGINE   \n",
       "2        VERTICAL TAKE-OFF AND LANDING AIRCRAFT   \n",
       "3                                      AIRCRAFT   \n",
       "4                     MULTI-ROTOR FLYING OBJECT   \n",
       "\n",
       "                                            Abstract  \\\n",
       "0  inflatable vertical takeoff landing aircraft i...   \n",
       "1  invention relates sealing device aircraft engi...   \n",
       "2  vertical take landing aircraft comprises prope...   \n",
       "3  ﻿ claimed invention relates aviation particula...   \n",
       "4  present invention provides multi rotor flying ...   \n",
       "\n",
       "                                I P C Application Date  year  cluster_tf_idf  \n",
       "0  B64C 29/00; B64C 31/06; B64C 27/32       2014-03-02  2014               7  \n",
       "1  B64C 35/00; B64C 11/00; B64C 99/00       2014-04-29  2014               1  \n",
       "2  B64C 29/00; B64C 27/20; B64C 27/22       2014-05-15  2014               4  \n",
       "3   B64C 39/12; B64C 11/00; B64C 9/00       2014-01-22  2014               9  \n",
       "4  B64C 27/08; B64C 29/02; B64C 27/52       2014-12-22  2014               7  "
      ]
     },
     "execution_count": 3,
     "metadata": {},
     "output_type": "execute_result"
    }
   ],
   "source": [
    "# Display 1st 5 rows from Patent Dataset\n",
    "df_PATENTS.head()"
   ]
  },
  {
   "cell_type": "markdown",
   "metadata": {},
   "source": [
    "This dataset contains columns describing such features as the application ID, application number, country of origin, title, abstract, international patent classification (IPC), application date and year."
   ]
  },
  {
   "cell_type": "markdown",
   "metadata": {},
   "source": [
    "## Data Cleaning"
   ]
  },
  {
   "cell_type": "markdown",
   "metadata": {},
   "source": [
    "Let's begin this project by looking at some of the general aspects of our data."
   ]
  },
  {
   "cell_type": "code",
   "execution_count": 4,
   "metadata": {},
   "outputs": [
    {
     "name": "stdout",
     "output_type": "stream",
     "text": [
      "<class 'pandas.core.frame.DataFrame'>\n",
      "RangeIndex: 118942 entries, 0 to 118941\n",
      "Data columns (total 10 columns):\n",
      " #   Column              Non-Null Count   Dtype \n",
      "---  ------              --------------   ----- \n",
      " 0   Unnamed: 0          118942 non-null  int64 \n",
      " 1   Application Id      118942 non-null  object\n",
      " 2   Application Number  118940 non-null  object\n",
      " 3    Country            118942 non-null  object\n",
      " 4   Title               118924 non-null  object\n",
      " 5   Abstract            118919 non-null  object\n",
      " 6   I P C               118942 non-null  object\n",
      " 7   Application Date    118942 non-null  object\n",
      " 8   year                118942 non-null  int64 \n",
      " 9   cluster_tf_idf      118942 non-null  int64 \n",
      "dtypes: int64(3), object(7)\n",
      "memory usage: 9.1+ MB\n"
     ]
    }
   ],
   "source": [
    "# Display basic info about our patent dataset\n",
    "df_PATENTS.info()"
   ]
  },
  {
   "cell_type": "markdown",
   "metadata": {},
   "source": [
    "We see that we have two patents that do not have an application number. Other than that, the data appears to be sufficiently cleaned for analysis."
   ]
  },
  {
   "cell_type": "markdown",
   "metadata": {},
   "source": [
    "## Exploratory Data Analysis"
   ]
  },
  {
   "cell_type": "markdown",
   "metadata": {},
   "source": [
    "Let's first determine what data range these patent applications were filed."
   ]
  },
  {
   "cell_type": "code",
   "execution_count": 5,
   "metadata": {},
   "outputs": [
    {
     "data": {
      "text/plain": [
       "Text(0.5, 0, 'Year')"
      ]
     },
     "execution_count": 5,
     "metadata": {},
     "output_type": "execute_result"
    },
    {
     "data": {
      "image/png": "[encoded data removed]",
      "text/plain": [
       "<Figure size 1080x864 with 1 Axes>"
      ]
     },
     "metadata": {
      "needs_background": "light"
     },
     "output_type": "display_data"
    }
   ],
   "source": [
    "# Determine Timeframe for Patent Applications\n",
    "plt.figure(figsize=(15,12))\n",
    "df_PATENTS['year'].value_counts()[:40].plot(kind='bar')\n",
    "plt.title('# of Patent Applications by Year')\n",
    "plt.ylabel('# of Patent Applications')\n",
    "plt.xlabel('Year')"
   ]
  },
  {
   "cell_type": "markdown",
   "metadata": {},
   "source": [
    "So now we know the patent applications were filed from 1980 to 2017. Now let's determine where these patents are from using a bar chart."
   ]
  },
  {
   "cell_type": "code",
   "execution_count": 6,
   "metadata": {},
   "outputs": [
    {
     "data": {
      "text/plain": [
       "Text(0.5, 0, 'Country Code')"
      ]
     },
     "execution_count": 6,
     "metadata": {},
     "output_type": "execute_result"
    },
    {
     "data": {
      "image/png": "[encoded data removed]",
      "text/plain": [
       "<Figure size 1080x864 with 1 Axes>"
      ]
     },
     "metadata": {
      "needs_background": "light"
     },
     "output_type": "display_data"
    }
   ],
   "source": [
    "# Determine Country of Origin for Patents\n",
    "plt.figure(figsize=(15,12))\n",
    "df_PATENTS[' Country'].value_counts()[:20].plot(kind='bar')\n",
    "plt.title('# of Patent Applications by Country')\n",
    "plt.ylabel('# of Patent Applications')\n",
    "plt.xlabel('Country Code')"
   ]
  },
  {
   "cell_type": "markdown",
   "metadata": {},
   "source": [
    "As we can see, the leading countries for patent applications among aircraft-related technologies are China (CN), the United States (US), European Union (EP), Japan (JP), Russia (RU) and South Korea (KR). WO represents the World Intellectual Property Organization (WIPO) and is an international standard."
   ]
  },
  {
   "cell_type": "code",
   "execution_count": null,
   "metadata": {},
   "outputs": [],
   "source": []
  }
 ],
 "metadata": {
  "kernelspec": {
   "display_name": "Python 3",
   "language": "python",
   "name": "python3"
  },
  "language_info": {
   "codemirror_mode": {
    "name": "ipython",
    "version": 3
   },
   "file_extension": ".py",
   "mimetype": "text/x-python",
   "name": "python",
   "nbconvert_exporter": "python",
   "pygments_lexer": "ipython3",
   "version": "3.8.3"
  }
 },
 "nbformat": 4,
 "nbformat_minor": 4
}
