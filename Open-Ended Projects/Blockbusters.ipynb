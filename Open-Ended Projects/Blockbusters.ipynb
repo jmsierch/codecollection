{
 "cells": [
  {
   "cell_type": "markdown",
   "metadata": {},
   "source": [
    "# Box Office Analysis"
   ]
  },
  {
   "cell_type": "markdown",
   "metadata": {},
   "source": [
    "## by Justin Sierchio"
   ]
  },
  {
   "cell_type": "markdown",
   "metadata": {},
   "source": [
    "In this analysis, we will be looking at box office receipts for films between 1977 and 2019. We would like to be able to answer the following:\n",
    "\n",
    "<ul>\n",
    "    <li>What studios have the best return on investment?</li>\n",
    "    <li>What changes have occurred in blockbuster films over the dataset's time period?</li>\n",
    "    <li>What are some other conclusions we might able to draw from this analysis?</li>\n",
    "</ul>\n",
    "\n",
    "This data is in .csv file format and is from Kaggle at: https://www.kaggle.com/narmelan/top-ten-blockbusters-20191977/download. More information related to the dataset can be found at: https://www.kaggle.com/narmelan/top-ten-blockbusters-20191977."
   ]
  },
  {
   "cell_type": "markdown",
   "metadata": {},
   "source": [
    "## Notebook Initialization"
   ]
  },
  {
   "cell_type": "code",
   "execution_count": 1,
   "metadata": {},
   "outputs": [
    {
     "name": "stdout",
     "output_type": "stream",
     "text": [
      "Initial libraries loaded into workspace!\n"
     ]
    }
   ],
   "source": [
    "# Import Relevant Libraries\n",
    "import pandas as pd\n",
    "import numpy as np\n",
    "import seaborn as sns \n",
    "import matplotlib.pyplot as plt\n",
    "\n",
    "print('Initial libraries loaded into workspace!')"
   ]
  },
  {
   "cell_type": "code",
   "execution_count": 2,
   "metadata": {},
   "outputs": [
    {
     "name": "stdout",
     "output_type": "stream",
     "text": [
      "Datasets uploaded!\n"
     ]
    }
   ],
   "source": [
    "# Upload Datasets for Study\n",
    "df_BOXOFFICE = pd.read_excel(\"Blockbusters_2019-1977.xlsx\");\n",
    "\n",
    "print('Datasets uploaded!');"
   ]
  },
  {
   "cell_type": "markdown",
   "metadata": {},
   "source": [
    "Note: In order to solve encoding issues, I resaved the .csv file as an Excel spreadsheet and used the 'read_excel' function in Pandas to reload the dataset."
   ]
  },
  {
   "cell_type": "code",
   "execution_count": 3,
   "metadata": {},
   "outputs": [
    {
     "data": {
      "text/html": [
       "<div>\n",
       "<style scoped>\n",
       "    .dataframe tbody tr th:only-of-type {\n",
       "        vertical-align: middle;\n",
       "    }\n",
       "\n",
       "    .dataframe tbody tr th {\n",
       "        vertical-align: top;\n",
       "    }\n",
       "\n",
       "    .dataframe thead th {\n",
       "        text-align: right;\n",
       "    }\n",
       "</style>\n",
       "<table border=\"1\" class=\"dataframe\">\n",
       "  <thead>\n",
       "    <tr style=\"text-align: right;\">\n",
       "      <th></th>\n",
       "      <th>release_year</th>\n",
       "      <th>rank_in_year</th>\n",
       "      <th>imdb_rating</th>\n",
       "      <th>mpaa_rating</th>\n",
       "      <th>film_title</th>\n",
       "      <th>film_budget</th>\n",
       "      <th>length_in_min</th>\n",
       "      <th>domestic_distributor</th>\n",
       "      <th>worldwide_gross</th>\n",
       "      <th>domestic_gross</th>\n",
       "      <th>genre_1</th>\n",
       "      <th>genre_2</th>\n",
       "      <th>genre_3</th>\n",
       "    </tr>\n",
       "  </thead>\n",
       "  <tbody>\n",
       "    <tr>\n",
       "      <th>0</th>\n",
       "      <td>2019</td>\n",
       "      <td>1</td>\n",
       "      <td>8.5</td>\n",
       "      <td>PG-13</td>\n",
       "      <td>Avengers: Endgame</td>\n",
       "      <td>356000000</td>\n",
       "      <td>181</td>\n",
       "      <td>Walt Disney</td>\n",
       "      <td>2797800564</td>\n",
       "      <td>858373000</td>\n",
       "      <td>Action</td>\n",
       "      <td>Adventure</td>\n",
       "      <td>Drama</td>\n",
       "    </tr>\n",
       "    <tr>\n",
       "      <th>1</th>\n",
       "      <td>2019</td>\n",
       "      <td>2</td>\n",
       "      <td>7.0</td>\n",
       "      <td>PG</td>\n",
       "      <td>The Lion King</td>\n",
       "      <td>260000000</td>\n",
       "      <td>118</td>\n",
       "      <td>Walt Disney</td>\n",
       "      <td>1656943394</td>\n",
       "      <td>543638043</td>\n",
       "      <td>Animation</td>\n",
       "      <td>Adventure</td>\n",
       "      <td>Drama</td>\n",
       "    </tr>\n",
       "    <tr>\n",
       "      <th>2</th>\n",
       "      <td>2019</td>\n",
       "      <td>3</td>\n",
       "      <td>7.2</td>\n",
       "      <td>PG</td>\n",
       "      <td>Frozen II</td>\n",
       "      <td>150000000</td>\n",
       "      <td>103</td>\n",
       "      <td>Walt Disney</td>\n",
       "      <td>1420560456</td>\n",
       "      <td>470089732</td>\n",
       "      <td>Animation</td>\n",
       "      <td>Adventure</td>\n",
       "      <td>Comedy</td>\n",
       "    </tr>\n",
       "    <tr>\n",
       "      <th>3</th>\n",
       "      <td>2019</td>\n",
       "      <td>4</td>\n",
       "      <td>7.6</td>\n",
       "      <td>PG-13</td>\n",
       "      <td>Spider-Man: Far from Home</td>\n",
       "      <td>160000000</td>\n",
       "      <td>129</td>\n",
       "      <td>Sony Pictures</td>\n",
       "      <td>1131927996</td>\n",
       "      <td>390532085</td>\n",
       "      <td>Action</td>\n",
       "      <td>Adventure</td>\n",
       "      <td>Sci-Fi</td>\n",
       "    </tr>\n",
       "    <tr>\n",
       "      <th>4</th>\n",
       "      <td>2019</td>\n",
       "      <td>5</td>\n",
       "      <td>6.9</td>\n",
       "      <td>PG-13</td>\n",
       "      <td>Captain Marvel</td>\n",
       "      <td>175000000</td>\n",
       "      <td>123</td>\n",
       "      <td>Walt Disney</td>\n",
       "      <td>1128274794</td>\n",
       "      <td>426829839</td>\n",
       "      <td>Action</td>\n",
       "      <td>Adventure</td>\n",
       "      <td>Sci-Fi</td>\n",
       "    </tr>\n",
       "  </tbody>\n",
       "</table>\n",
       "</div>"
      ],
      "text/plain": [
       "   release_year  rank_in_year  imdb_rating mpaa_rating  \\\n",
       "0          2019             1          8.5       PG-13   \n",
       "1          2019             2          7.0          PG   \n",
       "2          2019             3          7.2          PG   \n",
       "3          2019             4          7.6       PG-13   \n",
       "4          2019             5          6.9       PG-13   \n",
       "\n",
       "                  film_title  film_budget  length_in_min domestic_distributor  \\\n",
       "0          Avengers: Endgame    356000000            181         Walt Disney    \n",
       "1              The Lion King    260000000            118         Walt Disney    \n",
       "2                  Frozen II    150000000            103         Walt Disney    \n",
       "3  Spider-Man: Far from Home    160000000            129        Sony Pictures   \n",
       "4             Captain Marvel    175000000            123         Walt Disney    \n",
       "\n",
       "   worldwide_gross  domestic_gross    genre_1    genre_2 genre_3  \n",
       "0       2797800564       858373000     Action  Adventure   Drama  \n",
       "1       1656943394       543638043  Animation  Adventure   Drama  \n",
       "2       1420560456       470089732  Animation  Adventure  Comedy  \n",
       "3       1131927996       390532085     Action  Adventure  Sci-Fi  \n",
       "4       1128274794       426829839     Action  Adventure  Sci-Fi  "
      ]
     },
     "execution_count": 3,
     "metadata": {},
     "output_type": "execute_result"
    }
   ],
   "source": [
    "# Display 1st 5 rows from Jeopardy dataset\n",
    "df_BOXOFFICE.head()"
   ]
  },
  {
   "cell_type": "markdown",
   "metadata": {},
   "source": [
    "Finally, let's formally define each of the columns in this dataset."
   ]
  },
  {
   "cell_type": "markdown",
   "metadata": {},
   "source": [
    "<ul>\n",
    "    <li> release_year: the year the film was released in theaters</li>\n",
    "    <li> rank_in_year: the rank in worldwide gross for the film in that year</li>\n",
    "    <li> imdb_rating: the rating of the film according to the Internet Movie Database</li>\n",
    "    <li> mpaa_rating: the rating of the film according to the MPAA</li>\n",
    "    <li> film_title: the title of the film</li>\n",
    "    <li> film_budget: budget of the film (US Dollars)</li>\n",
    "    <li> length_in_min: the length of the film in minutes</li>\n",
    "    <li> domestic distributor: the distributor of the film in its home country</li>\n",
    "    <li> worldwide gross: receipts of the film worldwide</li>\n",
    "    <li> domestic gross: receipts of the film in its home market</li>\n",
    "    <li> genre_1, genre_2, genre_3: category of the film's subject matter</li>\n",
    "</ui>"
   ]
  },
  {
   "cell_type": "markdown",
   "metadata": {},
   "source": [
    "# Data Cleaning"
   ]
  },
  {
   "cell_type": "markdown",
   "metadata": {},
   "source": [
    "Now let's commence with any necessary data cleaning. We'll begin by looking at the data types."
   ]
  },
  {
   "cell_type": "code",
   "execution_count": 4,
   "metadata": {},
   "outputs": [
    {
     "name": "stdout",
     "output_type": "stream",
     "text": [
      "<class 'pandas.core.frame.DataFrame'>\n",
      "RangeIndex: 430 entries, 0 to 429\n",
      "Data columns (total 13 columns):\n",
      " #   Column                Non-Null Count  Dtype  \n",
      "---  ------                --------------  -----  \n",
      " 0   release_year          430 non-null    int64  \n",
      " 1   rank_in_year          430 non-null    int64  \n",
      " 2   imdb_rating           430 non-null    float64\n",
      " 3   mpaa_rating           429 non-null    object \n",
      " 4   film_title            430 non-null    object \n",
      " 5   film_budget           430 non-null    int64  \n",
      " 6   length_in_min         430 non-null    int64  \n",
      " 7   domestic_distributor  430 non-null    object \n",
      " 8   worldwide_gross       430 non-null    int64  \n",
      " 9   domestic_gross        430 non-null    int64  \n",
      " 10  genre_1               430 non-null    object \n",
      " 11  genre_2               409 non-null    object \n",
      " 12  genre_3               324 non-null    object \n",
      "dtypes: float64(1), int64(6), object(6)\n",
      "memory usage: 43.8+ KB\n"
     ]
    }
   ],
   "source": [
    "# Show data types for dataset\n",
    "df_BOXOFFICE.info()"
   ]
  },
  {
   "cell_type": "markdown",
   "metadata": {},
   "source": [
    "We immediately see that several films do not have second and third genres, as well as one film lacks an MPAA rating. Since we want to be able to use as many films as possible in our analysis, let's convert the missing second and third genres to 'Blank' and the one MPAA rating to a generic PG (since that is frequently the most common rating)."
   ]
  },
  {
   "cell_type": "code",
   "execution_count": 5,
   "metadata": {},
   "outputs": [
    {
     "name": "stdout",
     "output_type": "stream",
     "text": [
      "<class 'pandas.core.frame.DataFrame'>\n",
      "RangeIndex: 430 entries, 0 to 429\n",
      "Data columns (total 13 columns):\n",
      " #   Column                Non-Null Count  Dtype  \n",
      "---  ------                --------------  -----  \n",
      " 0   release_year          430 non-null    int64  \n",
      " 1   rank_in_year          430 non-null    int64  \n",
      " 2   imdb_rating           430 non-null    float64\n",
      " 3   mpaa_rating           430 non-null    object \n",
      " 4   film_title            430 non-null    object \n",
      " 5   film_budget           430 non-null    int64  \n",
      " 6   length_in_min         430 non-null    int64  \n",
      " 7   domestic_distributor  430 non-null    object \n",
      " 8   worldwide_gross       430 non-null    int64  \n",
      " 9   domestic_gross        430 non-null    int64  \n",
      " 10  genre_1               430 non-null    object \n",
      " 11  genre_2               430 non-null    object \n",
      " 12  genre_3               430 non-null    object \n",
      "dtypes: float64(1), int64(6), object(6)\n",
      "memory usage: 43.8+ KB\n"
     ]
    }
   ],
   "source": [
    "# Convert 'NULL' values to 'Blank' in box office dataset\n",
    "df_BOXOFFICE['mpaa_rating'].fillna('PG', inplace = True)\n",
    "df_BOXOFFICE['genre_2'].fillna('Blank', inplace = True)\n",
    "df_BOXOFFICE['genre_3'].fillna('Blank', inplace = True)\n",
    "\n",
    "# Show updated dataset\n",
    "df_BOXOFFICE.info()"
   ]
  },
  {
   "cell_type": "markdown",
   "metadata": {},
   "source": [
    "All the dataset cells are filled and the datatypes correspond well to the columns. This dataset should be ready for exploratory analysis."
   ]
  },
  {
   "cell_type": "markdown",
   "metadata": {},
   "source": [
    "# Exploratory Data Analysis"
   ]
  },
  {
   "cell_type": "markdown",
   "metadata": {},
   "source": [
    "Let's first look at the ranges associated with the film IMDB ratings, budgets, time lengths, and worldwide & domestic grosses."
   ]
  },
  {
   "cell_type": "code",
   "execution_count": 6,
   "metadata": {},
   "outputs": [
    {
     "data": {
      "text/plain": [
       "Text(0.5, 1.0, 'IMDB Distribution for Blockbuster films (1977-2019)')"
      ]
     },
     "execution_count": 6,
     "metadata": {},
     "output_type": "execute_result"
    },
    {
     "data": {
      "image/png": "[encoded data removed]",
      "text/plain": [
       "<Figure size 432x288 with 1 Axes>"
      ]
     },
     "metadata": {
      "needs_background": "light"
     },
     "output_type": "display_data"
    }
   ],
   "source": [
    "# Create a histogram showing IMDB film ratings for the box office blockbuster dataset.\n",
    "plt.hist(df_BOXOFFICE['imdb_rating'], bins = 10)\n",
    "plt.xlabel('Rating')\n",
    "plt.ylabel('# of Films')\n",
    "plt.title('IMDB Distribution for Blockbuster films (1977-2019)')"
   ]
  },
  {
   "cell_type": "markdown",
   "metadata": {},
   "source": [
    "As we can see, blockbuster films typically score between 6 to 8 on the IMDB rating scale."
   ]
  },
  {
   "cell_type": "code",
   "execution_count": 7,
   "metadata": {},
   "outputs": [
    {
     "data": {
      "text/plain": [
       "Text(0.5, 1.0, 'Budget Distribution for Blockbuster films (1977-2019)')"
      ]
     },
     "execution_count": 7,
     "metadata": {},
     "output_type": "execute_result"
    },
    {
     "data": {
      "image/png": "[encoded data removed]",
      "text/plain": [
       "<Figure size 432x288 with 1 Axes>"
      ]
     },
     "metadata": {
      "needs_background": "light"
     },
     "output_type": "display_data"
    }
   ],
   "source": [
    "# Create a histogram showing budgets for the box office blockbuster dataset.\n",
    "plt.hist(df_BOXOFFICE['film_budget'], bins = 15)\n",
    "plt.xlabel('Budget (100 Mil USD)')\n",
    "plt.ylabel('# of Films')\n",
    "plt.title('Budget Distribution for Blockbuster films (1977-2019)')"
   ]
  },
  {
   "cell_type": "markdown",
   "metadata": {},
   "source": [
    "As we can see, blockbuster films typically have budgets less than 150 million USD."
   ]
  },
  {
   "cell_type": "code",
   "execution_count": 8,
   "metadata": {},
   "outputs": [
    {
     "data": {
      "text/plain": [
       "Text(0.5, 1.0, 'Film Length Distribution for Blockbuster films (1977-2019)')"
      ]
     },
     "execution_count": 8,
     "metadata": {},
     "output_type": "execute_result"
    },
    {
     "data": {
      "image/png": "[encoded data removed]",
      "text/plain": [
       "<Figure size 432x288 with 1 Axes>"
      ]
     },
     "metadata": {
      "needs_background": "light"
     },
     "output_type": "display_data"
    }
   ],
   "source": [
    "# Create a histogram showing time lengths for the box office blockbuster dataset.\n",
    "plt.hist(df_BOXOFFICE['length_in_min'], bins = 30)\n",
    "plt.xlabel('Length (minutes)')\n",
    "plt.ylabel('# of Films')\n",
    "plt.title('Film Length Distribution for Blockbuster films (1977-2019)')"
   ]
  },
  {
   "cell_type": "markdown",
   "metadata": {},
   "source": [
    "We see that blockbusters rarely have lengths before approximately 90 minutes and are rarely longer than 140 minutes.\n",
    "\n",
    "Let's look at the worldwide and domestic grosses."
   ]
  },
  {
   "cell_type": "code",
   "execution_count": 9,
   "metadata": {},
   "outputs": [
    {
     "data": {
      "text/plain": [
       "Text(0.5, 1.0, 'Worldwide Gross for Blockbuster films (1977-2019)')"
      ]
     },
     "execution_count": 9,
     "metadata": {},
     "output_type": "execute_result"
    },
    {
     "data": {
      "image/png": "[encoded data removed]",
      "text/plain": [
       "<Figure size 432x288 with 1 Axes>"
      ]
     },
     "metadata": {
      "needs_background": "light"
     },
     "output_type": "display_data"
    }
   ],
   "source": [
    "# Create a histogram showing grosses for the box office blockbuster dataset.\n",
    "plt.hist(df_BOXOFFICE['worldwide_gross'], bins = 20)\n",
    "plt.xlabel('Gross (1 Bil USD)')\n",
    "plt.ylabel('# of Films')\n",
    "plt.title('Worldwide Gross for Blockbuster films (1977-2019)')"
   ]
  },
  {
   "cell_type": "markdown",
   "metadata": {},
   "source": [
    "The highest number of grosses for films considered blockbusters worldwide is between 100 and 500 mil USD."
   ]
  },
  {
   "cell_type": "code",
   "execution_count": 10,
   "metadata": {},
   "outputs": [
    {
     "data": {
      "text/plain": [
       "Text(0.5, 1.0, 'Domestic Gross for Blockbuster films (1977-2019)')"
      ]
     },
     "execution_count": 10,
     "metadata": {},
     "output_type": "execute_result"
    },
    {
     "data": {
      "image/png": "[encoded data removed]",
      "text/plain": [
       "<Figure size 432x288 with 1 Axes>"
      ]
     },
     "metadata": {
      "needs_background": "light"
     },
     "output_type": "display_data"
    }
   ],
   "source": [
    "# Create a histogram showing grosses for the box office blockbuster dataset.\n",
    "plt.hist(df_BOXOFFICE['domestic_gross'], bins = 20)\n",
    "plt.xlabel('Gross (100 Mil USD)')\n",
    "plt.ylabel('# of Films')\n",
    "plt.title('Domestic Gross for Blockbuster films (1977-2019)')"
   ]
  },
  {
   "cell_type": "markdown",
   "metadata": {},
   "source": [
    "For domestic gross the common figures are around 150 to 250 mil USD."
   ]
  },
  {
   "cell_type": "markdown",
   "metadata": {},
   "source": [
    "Now let's look at the distribution of genres for blockbuster films."
   ]
  },
  {
   "cell_type": "code",
   "execution_count": 11,
   "metadata": {},
   "outputs": [
    {
     "name": "stdout",
     "output_type": "stream",
     "text": [
      "Here are the Top 10 genres for blockbuster films:\n",
      "\n"
     ]
    },
    {
     "data": {
      "text/plain": [
       "Action       194\n",
       "Comedy        69\n",
       "Animation     55\n",
       "Adventure     46\n",
       "Drama         37\n",
       "Crime         11\n",
       "Biography      7\n",
       "Horror         5\n",
       "Family         3\n",
       "Mystery        1\n",
       "Sci-Fi         1\n",
       "Musical        1\n",
       "Name: genre_1, dtype: int64"
      ]
     },
     "execution_count": 11,
     "metadata": {},
     "output_type": "execute_result"
    }
   ],
   "source": [
    "# List the most common genres for blockbuster films\n",
    "print('Here are the Top 10 genres for blockbuster films:\\n')\n",
    "df_BOXOFFICE['genre_1'].value_counts()"
   ]
  },
  {
   "cell_type": "markdown",
   "metadata": {},
   "source": [
    "So as we can see, action and comedy films are the most common blockbusters."
   ]
  },
  {
   "cell_type": "markdown",
   "metadata": {},
   "source": [
    "# More Focused Analysis"
   ]
  },
  {
   "cell_type": "markdown",
   "metadata": {},
   "source": [
    "At this point, we want to begin to answer some the questions we posed at the beginning of this project. As a reminder, let's write them here again:\n",
    "\n",
    "<ul>\n",
    "    <li>What studios have the best return on investment?</li>\n",
    "    <li>What changes have occurred in blockbuster films over the dataset's time period?</li>\n",
    "    <li>What are some other conclusions we might able to draw from this analysis?</li>\n",
    "</ul>"
   ]
  },
  {
   "cell_type": "markdown",
   "metadata": {},
   "source": [
    "Let's begin with the question regarding studios. In order to answer this question, we need to add a column describing the \"return on investment\" for each film.\n",
    "\n",
    "Doing some research shows that the film's total expense (including advertising, distribution and marketing costs) is roughly 1.5x the actual film budget. For example, if a film budget is listed at 100 million, the actual total cost might be more like 150 million.\n",
    "\n",
    "Regarding box office receipts, studios typically keep about 60% of the domestic (US & Canada) box office gross, and anywhere between 20-40% of the overseas gross.\n",
    "\n",
    "So in order to complete this question, we will need to calculate:\n",
    "<ul>\n",
    "    <li>The film's total expense.</li>\n",
    "    <li>Overseas box office receipts.</li>\n",
    "    <li>Domestic box office take.</li>\n",
    "    <li>Overseas box office take (using a rough average of 30%).</li>\n",
    "    <li>Combined studio revenue (domestic + overseas take).</li>\n",
    "    <li>Return on investment (net profit / film's total expense).</li>    \n",
    "</ul>\n",
    "\n",
    "Now that we have our categories, let's begin populating these additional columns."
   ]
  },
  {
   "cell_type": "code",
   "execution_count": 12,
   "metadata": {},
   "outputs": [],
   "source": [
    "# Find the film's total expense\n",
    "df_BOXOFFICE['total_expense'] = df_BOXOFFICE['film_budget'] * 1.5;\n",
    "\n",
    "# Find the film's overseas box office receipts\n",
    "df_BOXOFFICE['overseas_gross'] = df_BOXOFFICE['worldwide_gross'] - df_BOXOFFICE['domestic_gross'];\n",
    "\n",
    "# Find the domestic and overseas box office studio takes\n",
    "df_BOXOFFICE['domestic_take'] = df_BOXOFFICE['domestic_gross'] * 0.6;\n",
    "df_BOXOFFICE['overseas_take'] = df_BOXOFFICE['overseas_gross'] * 0.3;\n",
    "\n",
    "# Find the film's total studio revenue\n",
    "df_BOXOFFICE['studio_revenue'] = df_BOXOFFICE['domestic_take'] +  df_BOXOFFICE['overseas_take'];\n",
    "\n",
    "# Find the film's return on investment[ROI]\n",
    "df_BOXOFFICE['ROI'] = df_BOXOFFICE['studio_revenue'] / df_BOXOFFICE['total_expense'];"
   ]
  },
  {
   "cell_type": "markdown",
   "metadata": {},
   "source": [
    "Let's make sure the new columns are loading properly."
   ]
  },
  {
   "cell_type": "code",
   "execution_count": 13,
   "metadata": {},
   "outputs": [
    {
     "data": {
      "text/html": [
       "<div>\n",
       "<style scoped>\n",
       "    .dataframe tbody tr th:only-of-type {\n",
       "        vertical-align: middle;\n",
       "    }\n",
       "\n",
       "    .dataframe tbody tr th {\n",
       "        vertical-align: top;\n",
       "    }\n",
       "\n",
       "    .dataframe thead th {\n",
       "        text-align: right;\n",
       "    }\n",
       "</style>\n",
       "<table border=\"1\" class=\"dataframe\">\n",
       "  <thead>\n",
       "    <tr style=\"text-align: right;\">\n",
       "      <th></th>\n",
       "      <th>release_year</th>\n",
       "      <th>rank_in_year</th>\n",
       "      <th>imdb_rating</th>\n",
       "      <th>mpaa_rating</th>\n",
       "      <th>film_title</th>\n",
       "      <th>film_budget</th>\n",
       "      <th>length_in_min</th>\n",
       "      <th>domestic_distributor</th>\n",
       "      <th>worldwide_gross</th>\n",
       "      <th>domestic_gross</th>\n",
       "      <th>genre_1</th>\n",
       "      <th>genre_2</th>\n",
       "      <th>genre_3</th>\n",
       "      <th>total_expense</th>\n",
       "      <th>overseas_gross</th>\n",
       "      <th>domestic_take</th>\n",
       "      <th>overseas_take</th>\n",
       "      <th>studio_revenue</th>\n",
       "      <th>ROI</th>\n",
       "    </tr>\n",
       "  </thead>\n",
       "  <tbody>\n",
       "    <tr>\n",
       "      <th>0</th>\n",
       "      <td>2019</td>\n",
       "      <td>1</td>\n",
       "      <td>8.5</td>\n",
       "      <td>PG-13</td>\n",
       "      <td>Avengers: Endgame</td>\n",
       "      <td>356000000</td>\n",
       "      <td>181</td>\n",
       "      <td>Walt Disney</td>\n",
       "      <td>2797800564</td>\n",
       "      <td>858373000</td>\n",
       "      <td>Action</td>\n",
       "      <td>Adventure</td>\n",
       "      <td>Drama</td>\n",
       "      <td>534000000.0</td>\n",
       "      <td>1939427564</td>\n",
       "      <td>515023800.0</td>\n",
       "      <td>581828269.2</td>\n",
       "      <td>1.096852e+09</td>\n",
       "      <td>2.054030</td>\n",
       "    </tr>\n",
       "    <tr>\n",
       "      <th>1</th>\n",
       "      <td>2019</td>\n",
       "      <td>2</td>\n",
       "      <td>7.0</td>\n",
       "      <td>PG</td>\n",
       "      <td>The Lion King</td>\n",
       "      <td>260000000</td>\n",
       "      <td>118</td>\n",
       "      <td>Walt Disney</td>\n",
       "      <td>1656943394</td>\n",
       "      <td>543638043</td>\n",
       "      <td>Animation</td>\n",
       "      <td>Adventure</td>\n",
       "      <td>Drama</td>\n",
       "      <td>390000000.0</td>\n",
       "      <td>1113305351</td>\n",
       "      <td>326182825.8</td>\n",
       "      <td>333991605.3</td>\n",
       "      <td>6.601744e+08</td>\n",
       "      <td>1.692755</td>\n",
       "    </tr>\n",
       "    <tr>\n",
       "      <th>2</th>\n",
       "      <td>2019</td>\n",
       "      <td>3</td>\n",
       "      <td>7.2</td>\n",
       "      <td>PG</td>\n",
       "      <td>Frozen II</td>\n",
       "      <td>150000000</td>\n",
       "      <td>103</td>\n",
       "      <td>Walt Disney</td>\n",
       "      <td>1420560456</td>\n",
       "      <td>470089732</td>\n",
       "      <td>Animation</td>\n",
       "      <td>Adventure</td>\n",
       "      <td>Comedy</td>\n",
       "      <td>225000000.0</td>\n",
       "      <td>950470724</td>\n",
       "      <td>282053839.2</td>\n",
       "      <td>285141217.2</td>\n",
       "      <td>5.671951e+08</td>\n",
       "      <td>2.520867</td>\n",
       "    </tr>\n",
       "    <tr>\n",
       "      <th>3</th>\n",
       "      <td>2019</td>\n",
       "      <td>4</td>\n",
       "      <td>7.6</td>\n",
       "      <td>PG-13</td>\n",
       "      <td>Spider-Man: Far from Home</td>\n",
       "      <td>160000000</td>\n",
       "      <td>129</td>\n",
       "      <td>Sony Pictures</td>\n",
       "      <td>1131927996</td>\n",
       "      <td>390532085</td>\n",
       "      <td>Action</td>\n",
       "      <td>Adventure</td>\n",
       "      <td>Sci-Fi</td>\n",
       "      <td>240000000.0</td>\n",
       "      <td>741395911</td>\n",
       "      <td>234319251.0</td>\n",
       "      <td>222418773.3</td>\n",
       "      <td>4.567380e+08</td>\n",
       "      <td>1.903075</td>\n",
       "    </tr>\n",
       "    <tr>\n",
       "      <th>4</th>\n",
       "      <td>2019</td>\n",
       "      <td>5</td>\n",
       "      <td>6.9</td>\n",
       "      <td>PG-13</td>\n",
       "      <td>Captain Marvel</td>\n",
       "      <td>175000000</td>\n",
       "      <td>123</td>\n",
       "      <td>Walt Disney</td>\n",
       "      <td>1128274794</td>\n",
       "      <td>426829839</td>\n",
       "      <td>Action</td>\n",
       "      <td>Adventure</td>\n",
       "      <td>Sci-Fi</td>\n",
       "      <td>262500000.0</td>\n",
       "      <td>701444955</td>\n",
       "      <td>256097903.4</td>\n",
       "      <td>210433486.5</td>\n",
       "      <td>4.665314e+08</td>\n",
       "      <td>1.777262</td>\n",
       "    </tr>\n",
       "  </tbody>\n",
       "</table>\n",
       "</div>"
      ],
      "text/plain": [
       "   release_year  rank_in_year  imdb_rating mpaa_rating  \\\n",
       "0          2019             1          8.5       PG-13   \n",
       "1          2019             2          7.0          PG   \n",
       "2          2019             3          7.2          PG   \n",
       "3          2019             4          7.6       PG-13   \n",
       "4          2019             5          6.9       PG-13   \n",
       "\n",
       "                  film_title  film_budget  length_in_min domestic_distributor  \\\n",
       "0          Avengers: Endgame    356000000            181         Walt Disney    \n",
       "1              The Lion King    260000000            118         Walt Disney    \n",
       "2                  Frozen II    150000000            103         Walt Disney    \n",
       "3  Spider-Man: Far from Home    160000000            129        Sony Pictures   \n",
       "4             Captain Marvel    175000000            123         Walt Disney    \n",
       "\n",
       "   worldwide_gross  domestic_gross    genre_1    genre_2 genre_3  \\\n",
       "0       2797800564       858373000     Action  Adventure   Drama   \n",
       "1       1656943394       543638043  Animation  Adventure   Drama   \n",
       "2       1420560456       470089732  Animation  Adventure  Comedy   \n",
       "3       1131927996       390532085     Action  Adventure  Sci-Fi   \n",
       "4       1128274794       426829839     Action  Adventure  Sci-Fi   \n",
       "\n",
       "   total_expense  overseas_gross  domestic_take  overseas_take  \\\n",
       "0    534000000.0      1939427564    515023800.0    581828269.2   \n",
       "1    390000000.0      1113305351    326182825.8    333991605.3   \n",
       "2    225000000.0       950470724    282053839.2    285141217.2   \n",
       "3    240000000.0       741395911    234319251.0    222418773.3   \n",
       "4    262500000.0       701444955    256097903.4    210433486.5   \n",
       "\n",
       "   studio_revenue       ROI  \n",
       "0    1.096852e+09  2.054030  \n",
       "1    6.601744e+08  1.692755  \n",
       "2    5.671951e+08  2.520867  \n",
       "3    4.567380e+08  1.903075  \n",
       "4    4.665314e+08  1.777262  "
      ]
     },
     "execution_count": 13,
     "metadata": {},
     "output_type": "execute_result"
    }
   ],
   "source": [
    "df_BOXOFFICE.head()"
   ]
  },
  {
   "cell_type": "markdown",
   "metadata": {},
   "source": [
    "Since our columns are working correctly, let's look at the top 10 ROI films in this dataset."
   ]
  },
  {
   "cell_type": "code",
   "execution_count": 14,
   "metadata": {},
   "outputs": [
    {
     "name": "stdout",
     "output_type": "stream",
     "text": [
      "Top 10 ROI films:\n",
      "\n",
      "                             film_title        ROI\n",
      "419                           Halloween  57.846154\n",
      "178            My Big Fat Greek Wedding  24.407290\n",
      "422                Saturday Night Fever  22.088425\n",
      "370        E.T. the Extra-Terrestrial    19.478056\n",
      "410                              Grease  17.538591\n",
      "229                      The Full Monty  17.365073\n",
      "376                             Porky's  16.878797\n",
      "413     National Lampoon's Animal House  16.012150\n",
      "420  Star Wars: Episode IV - A New Hope  14.732358\n",
      "257         Four Weddings and a Funeral  13.563712\n"
     ]
    }
   ],
   "source": [
    "# Find the top 10 ROI films in the blockbuster dataset\n",
    "df_BOXOFFICE_ROI = df_BOXOFFICE[['film_title', 'ROI']]\n",
    "df_BOXOFFICE_ROI.sort_values('ROI', ascending = False)\n",
    "print('Top 10 ROI films:\\n')\n",
    "print(df_BOXOFFICE_ROI.sort_values('ROI', ascending = False).head(10))"
   ]
  },
  {
   "cell_type": "markdown",
   "metadata": {},
   "source": [
    "As we can see, the film's with the best ROI are less intuitive, including 'Halloween', 'My Big Fat Greek Wedding', and 'Saturday Night Fever.' We do some unsurprising films in the Top 10 however, including 'E.T the Extra-Terrestrial' and 'Star Wars: Episode IV - A New Hope'.\n",
    "\n",
    "Let's take a look at the films on the blockbuster list with the lowest ROI."
   ]
  },
  {
   "cell_type": "code",
   "execution_count": 15,
   "metadata": {},
   "outputs": [
    {
     "name": "stdout",
     "output_type": "stream",
     "text": [
      "Bottom 10 ROI films:\n",
      "\n",
      "                                   film_title       ROI\n",
      "228                         The Fifth Element  0.704818\n",
      "239                                    Eraser  0.687182\n",
      "136                     X-Men: The Last Stand  0.661712\n",
      "169                               Bad Boys II  0.633766\n",
      "97                                    Tangled  0.610764\n",
      "219                           Lethal Weapon 4  0.594127\n",
      "166        Terminator 3: Rise of the Machines  0.583742\n",
      "119  The Chronicles of Narnia: Prince Caspian  0.498922\n",
      "138                          Superman Returns  0.437898\n",
      "248                                Waterworld  0.402817\n"
     ]
    }
   ],
   "source": [
    "# Find the bottom 10 ROI films in the blockbuster dataset\n",
    "df_BOXOFFICE_ROI.sort_values('ROI', ascending = False)\n",
    "print('Bottom 10 ROI films:\\n')\n",
    "print(df_BOXOFFICE_ROI.sort_values('ROI', ascending = False).tail(10))"
   ]
  },
  {
   "cell_type": "markdown",
   "metadata": {},
   "source": [
    "Some of the lowest ROI films include 'The Fifth Element', 'Tangled', and 'Waterworld,' which only (using our assumptions) recouped roughly 40% of its expense at the box office."
   ]
  },
  {
   "cell_type": "markdown",
   "metadata": {},
   "source": [
    "Now let's look at the studios specifically and see which have the best ROI. Let's begin by determining how many studios are in our dataset."
   ]
  },
  {
   "cell_type": "code",
   "execution_count": 19,
   "metadata": {},
   "outputs": [
    {
     "data": {
      "text/plain": [
       "25"
      ]
     },
     "execution_count": 19,
     "metadata": {},
     "output_type": "execute_result"
    }
   ],
   "source": [
    "# Determine number of studios in dataset\n",
    "df_BOXOFFICE['domestic_distributor'].nunique()"
   ]
  },
  {
   "cell_type": "markdown",
   "metadata": {},
   "source": [
    "We see there are 25 studios that have blockbuster films in this dataset. Let's determine what those studios are and how many films each has."
   ]
  },
  {
   "cell_type": "code",
   "execution_count": 20,
   "metadata": {},
   "outputs": [
    {
     "data": {
      "text/plain": [
       "Walt Disney                        76\n",
       "Warner Bros.                       71\n",
       "Universal Pictures                 58\n",
       "Paramount Pictures                 51\n",
       "Twentieth Century Fox              49\n",
       "Sony Pictures                      31\n",
       "DreamWorks                         17\n",
       "Columbia Pictures                  15\n",
       "Metro-Goldwyn-Mayer                13\n",
       "TriStar Pictures                    9\n",
       "United Artists                      8\n",
       "New Line Cinema                     8\n",
       "Orion Pictures                      6\n",
       "Lionsgate                           5\n",
       "Summit Entertainment                3\n",
       "American International Pictures     1\n",
       "Embassy Pictures                    1\n",
       "The H Collective                    1\n",
       "Compass International Pictures      1\n",
       "IFC Films                           1\n",
       "Icon Productions                    1\n",
       "Rank Film Distributors              1\n",
       "Fox Searchlight Pictures            1\n",
       "Vestron Pictures                    1\n",
       "Miramax                             1\n",
       "Name: domestic_distributor, dtype: int64"
      ]
     },
     "execution_count": 20,
     "metadata": {},
     "output_type": "execute_result"
    }
   ],
   "source": [
    "# Determine number of studios' blockbusters in dataset\n",
    "df_BOXOFFICE['domestic_distributor'].value_counts()"
   ]
  },
  {
   "cell_type": "markdown",
   "metadata": {},
   "source": [
    "As we can see, Walt Disney studios has the most films (76) followed by Warner Bros. (71) and Universal Pictures (58).\n",
    "\n",
    "In order to determine which studio has the best ROI, we will need to add up all the projected total expenses for film by studio and divide that into the studio revenues. To avoid statistically questionable outliers, we'll only look at studios with at least 5 films in the blockbuster dataset."
   ]
  },
  {
   "cell_type": "code",
   "execution_count": null,
   "metadata": {},
   "outputs": [],
   "source": []
  }
 ],
 "metadata": {
  "kernelspec": {
   "display_name": "Python 3",
   "language": "python",
   "name": "python3"
  },
  "language_info": {
   "codemirror_mode": {
    "name": "ipython",
    "version": 3
   },
   "file_extension": ".py",
   "mimetype": "text/x-python",
   "name": "python",
   "nbconvert_exporter": "python",
   "pygments_lexer": "ipython3",
   "version": "3.8.5"
  }
 },
 "nbformat": 4,
 "nbformat_minor": 4
}
