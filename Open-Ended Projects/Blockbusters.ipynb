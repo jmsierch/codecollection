{
 "cells": [
  {
   "cell_type": "markdown",
   "metadata": {},
   "source": [
    "# Box Office Analysis"
   ]
  },
  {
   "cell_type": "markdown",
   "metadata": {},
   "source": [
    "## by Justin Sierchio"
   ]
  },
  {
   "cell_type": "markdown",
   "metadata": {},
   "source": [
    "In this analysis, we will be looking at box office receipts for films between 1977 and 2019. We would like to be able to answer the following:\n",
    "\n",
    "<ul>\n",
    "    <li>What studios have the best return on investment?</li>\n",
    "    <li>What changes have occurred in blockbuster films over the dataset's time period?</li>\n",
    "    <li>What are some other conclusions we might able to draw from this analysis?</li>\n",
    "</ul>\n",
    "\n",
    "This data is in .csv file format and is from Kaggle at: https://www.kaggle.com/narmelan/top-ten-blockbusters-20191977/download. More information related to the dataset can be found at: https://www.kaggle.com/narmelan/top-ten-blockbusters-20191977."
   ]
  },
  {
   "cell_type": "markdown",
   "metadata": {},
   "source": [
    "## Notebook Initialization"
   ]
  },
  {
   "cell_type": "code",
   "execution_count": 1,
   "metadata": {},
   "outputs": [
    {
     "name": "stdout",
     "output_type": "stream",
     "text": [
      "Initial libraries loaded into workspace!\n"
     ]
    }
   ],
   "source": [
    "# Import Relevant Libraries\n",
    "import pandas as pd\n",
    "import numpy as np\n",
    "import seaborn as sns \n",
    "import matplotlib.pyplot as plt\n",
    "\n",
    "print('Initial libraries loaded into workspace!')"
   ]
  },
  {
   "cell_type": "code",
   "execution_count": 6,
   "metadata": {},
   "outputs": [
    {
     "name": "stdout",
     "output_type": "stream",
     "text": [
      "Datasets uploaded!\n"
     ]
    }
   ],
   "source": [
    "# Upload Datasets for Study\n",
    "df_BOXOFFICE = pd.read_excel(\"Blockbusters_2019-1977.xlsx\");\n",
    "\n",
    "print('Datasets uploaded!');"
   ]
  },
  {
   "cell_type": "markdown",
   "metadata": {},
   "source": [
    "Note: In order to solve encoding issues, I resaved the .csv file as an Excel spreadsheet and used the 'read_excel' function in Pandas to reload the dataset."
   ]
  },
  {
   "cell_type": "code",
   "execution_count": 7,
   "metadata": {},
   "outputs": [
    {
     "data": {
      "text/html": [
       "<div>\n",
       "<style scoped>\n",
       "    .dataframe tbody tr th:only-of-type {\n",
       "        vertical-align: middle;\n",
       "    }\n",
       "\n",
       "    .dataframe tbody tr th {\n",
       "        vertical-align: top;\n",
       "    }\n",
       "\n",
       "    .dataframe thead th {\n",
       "        text-align: right;\n",
       "    }\n",
       "</style>\n",
       "<table border=\"1\" class=\"dataframe\">\n",
       "  <thead>\n",
       "    <tr style=\"text-align: right;\">\n",
       "      <th></th>\n",
       "      <th>release_year</th>\n",
       "      <th>rank_in_year</th>\n",
       "      <th>imdb_rating</th>\n",
       "      <th>mpaa_rating</th>\n",
       "      <th>film_title</th>\n",
       "      <th>film_budget</th>\n",
       "      <th>length_in_min</th>\n",
       "      <th>domestic_distributor</th>\n",
       "      <th>worldwide_gross</th>\n",
       "      <th>domestic_gross</th>\n",
       "      <th>genre_1</th>\n",
       "      <th>genre_2</th>\n",
       "      <th>genre_3</th>\n",
       "    </tr>\n",
       "  </thead>\n",
       "  <tbody>\n",
       "    <tr>\n",
       "      <th>0</th>\n",
       "      <td>2019</td>\n",
       "      <td>1</td>\n",
       "      <td>8.5</td>\n",
       "      <td>PG-13</td>\n",
       "      <td>Avengers: Endgame</td>\n",
       "      <td>356000000</td>\n",
       "      <td>181</td>\n",
       "      <td>Walt Disney</td>\n",
       "      <td>2797800564</td>\n",
       "      <td>858373000</td>\n",
       "      <td>Action</td>\n",
       "      <td>Adventure</td>\n",
       "      <td>Drama</td>\n",
       "    </tr>\n",
       "    <tr>\n",
       "      <th>1</th>\n",
       "      <td>2019</td>\n",
       "      <td>2</td>\n",
       "      <td>7.0</td>\n",
       "      <td>PG</td>\n",
       "      <td>The Lion King</td>\n",
       "      <td>260000000</td>\n",
       "      <td>118</td>\n",
       "      <td>Walt Disney</td>\n",
       "      <td>1656943394</td>\n",
       "      <td>543638043</td>\n",
       "      <td>Animation</td>\n",
       "      <td>Adventure</td>\n",
       "      <td>Drama</td>\n",
       "    </tr>\n",
       "    <tr>\n",
       "      <th>2</th>\n",
       "      <td>2019</td>\n",
       "      <td>3</td>\n",
       "      <td>7.2</td>\n",
       "      <td>PG</td>\n",
       "      <td>Frozen II</td>\n",
       "      <td>150000000</td>\n",
       "      <td>103</td>\n",
       "      <td>Walt Disney</td>\n",
       "      <td>1420560456</td>\n",
       "      <td>470089732</td>\n",
       "      <td>Animation</td>\n",
       "      <td>Adventure</td>\n",
       "      <td>Comedy</td>\n",
       "    </tr>\n",
       "    <tr>\n",
       "      <th>3</th>\n",
       "      <td>2019</td>\n",
       "      <td>4</td>\n",
       "      <td>7.6</td>\n",
       "      <td>PG-13</td>\n",
       "      <td>Spider-Man: Far from Home</td>\n",
       "      <td>160000000</td>\n",
       "      <td>129</td>\n",
       "      <td>Sony Pictures</td>\n",
       "      <td>1131927996</td>\n",
       "      <td>390532085</td>\n",
       "      <td>Action</td>\n",
       "      <td>Adventure</td>\n",
       "      <td>Sci-Fi</td>\n",
       "    </tr>\n",
       "    <tr>\n",
       "      <th>4</th>\n",
       "      <td>2019</td>\n",
       "      <td>5</td>\n",
       "      <td>6.9</td>\n",
       "      <td>PG-13</td>\n",
       "      <td>Captain Marvel</td>\n",
       "      <td>175000000</td>\n",
       "      <td>123</td>\n",
       "      <td>Walt Disney</td>\n",
       "      <td>1128274794</td>\n",
       "      <td>426829839</td>\n",
       "      <td>Action</td>\n",
       "      <td>Adventure</td>\n",
       "      <td>Sci-Fi</td>\n",
       "    </tr>\n",
       "  </tbody>\n",
       "</table>\n",
       "</div>"
      ],
      "text/plain": [
       "   release_year  rank_in_year  imdb_rating mpaa_rating  \\\n",
       "0          2019             1          8.5       PG-13   \n",
       "1          2019             2          7.0          PG   \n",
       "2          2019             3          7.2          PG   \n",
       "3          2019             4          7.6       PG-13   \n",
       "4          2019             5          6.9       PG-13   \n",
       "\n",
       "                  film_title  film_budget  length_in_min domestic_distributor  \\\n",
       "0          Avengers: Endgame    356000000            181         Walt Disney    \n",
       "1              The Lion King    260000000            118         Walt Disney    \n",
       "2                  Frozen II    150000000            103         Walt Disney    \n",
       "3  Spider-Man: Far from Home    160000000            129        Sony Pictures   \n",
       "4             Captain Marvel    175000000            123         Walt Disney    \n",
       "\n",
       "   worldwide_gross  domestic_gross    genre_1    genre_2 genre_3  \n",
       "0       2797800564       858373000     Action  Adventure   Drama  \n",
       "1       1656943394       543638043  Animation  Adventure   Drama  \n",
       "2       1420560456       470089732  Animation  Adventure  Comedy  \n",
       "3       1131927996       390532085     Action  Adventure  Sci-Fi  \n",
       "4       1128274794       426829839     Action  Adventure  Sci-Fi  "
      ]
     },
     "execution_count": 7,
     "metadata": {},
     "output_type": "execute_result"
    }
   ],
   "source": [
    "# Display 1st 5 rows from Jeopardy dataset\n",
    "df_BOXOFFICE.head()"
   ]
  },
  {
   "cell_type": "markdown",
   "metadata": {},
   "source": [
    "Finally, let's formally define each of the columns in this dataset."
   ]
  },
  {
   "cell_type": "markdown",
   "metadata": {},
   "source": [
    "<ul>\n",
    "    <li> release_year: the year the film was released in theaters</li>\n",
    "    <li> rank_in_year: the rank in worldwide gross for the film in that year</li>\n",
    "    <li> imdb_rating: the rating of the film according to the Internet Movie Database</li>\n",
    "    <li> mpaa_rating: the rating of the film according to the MPAA</li>\n",
    "    <li> film_title: the title of the film</li>\n",
    "    <li> film_budget: budget of the film (US Dollars)</li>\n",
    "    <li> length_in_min: the length of the film in minutes</li>\n",
    "    <li> domestic distributor: the distributor of the film in its home country</li>\n",
    "    <li> worldwide gross: receipts of the film worldwide</li>\n",
    "    <li> domestic gross: receipts of the film in its home market</li>\n",
    "    <li> genre_1, genre_2, genre_3: category of the film's subject matter</li>\n",
    "</ui>"
   ]
  },
  {
   "cell_type": "code",
   "execution_count": null,
   "metadata": {},
   "outputs": [],
   "source": []
  }
 ],
 "metadata": {
  "kernelspec": {
   "display_name": "Python 3",
   "language": "python",
   "name": "python3"
  },
  "language_info": {
   "codemirror_mode": {
    "name": "ipython",
    "version": 3
   },
   "file_extension": ".py",
   "mimetype": "text/x-python",
   "name": "python",
   "nbconvert_exporter": "python",
   "pygments_lexer": "ipython3",
   "version": "3.8.5"
  }
 },
 "nbformat": 4,
 "nbformat_minor": 4
}
