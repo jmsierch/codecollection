{
 "cells": [
  {
   "cell_type": "markdown",
   "metadata": {},
   "source": [
    "# Jeopardy Analysis"
   ]
  },
  {
   "cell_type": "markdown",
   "metadata": {},
   "source": [
    "## by Justin Sierchio"
   ]
  },
  {
   "cell_type": "markdown",
   "metadata": {},
   "source": [
    "In this analysis, we will be looking at the game-show Jeopardy! Ideally, we would like to be able to answer the following questions:\n",
    "\n",
    "<ul>\n",
    "    <li>What topics are most likely covered?</li>\n",
    "    <li>What is the most common answer on Jeopardy?</li>\n",
    "    <li>What are some other conclusions we might able to draw from this analysis?</li>\n",
    "</ul>\n",
    "\n",
    "This data is in .csv file format and is from Kaggle at: https://www.kaggle.com/tunguz/200000-jeopardy-questions/download. More information related to the dataset can be found at: https://www.kaggle.com/tunguz/200000-jeopardy-questions."
   ]
  },
  {
   "cell_type": "markdown",
   "metadata": {},
   "source": [
    "## Notebook Initialization"
   ]
  },
  {
   "cell_type": "code",
   "execution_count": 1,
   "metadata": {},
   "outputs": [
    {
     "name": "stdout",
     "output_type": "stream",
     "text": [
      "Initial libraries loaded into workspace!\n"
     ]
    }
   ],
   "source": [
    "# Import Relevant Libraries\n",
    "import pandas as pd\n",
    "import numpy as np\n",
    "import seaborn as sns \n",
    "import matplotlib.pyplot as plt\n",
    "\n",
    "print('Initial libraries loaded into workspace!')"
   ]
  },
  {
   "cell_type": "code",
   "execution_count": 2,
   "metadata": {},
   "outputs": [
    {
     "name": "stdout",
     "output_type": "stream",
     "text": [
      "Datasets uploaded!\n"
     ]
    }
   ],
   "source": [
    "# Upload Datasets for Study\n",
    "df_JEOPARDY = pd.read_csv(\"JEOPARDY_CSV.csv\");\n",
    "\n",
    "print('Datasets uploaded!');"
   ]
  },
  {
   "cell_type": "code",
   "execution_count": 3,
   "metadata": {},
   "outputs": [
    {
     "data": {
      "text/html": [
       "<div>\n",
       "<style scoped>\n",
       "    .dataframe tbody tr th:only-of-type {\n",
       "        vertical-align: middle;\n",
       "    }\n",
       "\n",
       "    .dataframe tbody tr th {\n",
       "        vertical-align: top;\n",
       "    }\n",
       "\n",
       "    .dataframe thead th {\n",
       "        text-align: right;\n",
       "    }\n",
       "</style>\n",
       "<table border=\"1\" class=\"dataframe\">\n",
       "  <thead>\n",
       "    <tr style=\"text-align: right;\">\n",
       "      <th></th>\n",
       "      <th>Show Number</th>\n",
       "      <th>Air Date</th>\n",
       "      <th>Round</th>\n",
       "      <th>Category</th>\n",
       "      <th>Value</th>\n",
       "      <th>Question</th>\n",
       "      <th>Answer</th>\n",
       "    </tr>\n",
       "  </thead>\n",
       "  <tbody>\n",
       "    <tr>\n",
       "      <th>0</th>\n",
       "      <td>4680</td>\n",
       "      <td>2004-12-31</td>\n",
       "      <td>Jeopardy!</td>\n",
       "      <td>HISTORY</td>\n",
       "      <td>$200</td>\n",
       "      <td>For the last 8 years of his life, Galileo was ...</td>\n",
       "      <td>Copernicus</td>\n",
       "    </tr>\n",
       "    <tr>\n",
       "      <th>1</th>\n",
       "      <td>4680</td>\n",
       "      <td>2004-12-31</td>\n",
       "      <td>Jeopardy!</td>\n",
       "      <td>ESPN's TOP 10 ALL-TIME ATHLETES</td>\n",
       "      <td>$200</td>\n",
       "      <td>No. 2: 1912 Olympian; football star at Carlisl...</td>\n",
       "      <td>Jim Thorpe</td>\n",
       "    </tr>\n",
       "    <tr>\n",
       "      <th>2</th>\n",
       "      <td>4680</td>\n",
       "      <td>2004-12-31</td>\n",
       "      <td>Jeopardy!</td>\n",
       "      <td>EVERYBODY TALKS ABOUT IT...</td>\n",
       "      <td>$200</td>\n",
       "      <td>The city of Yuma in this state has a record av...</td>\n",
       "      <td>Arizona</td>\n",
       "    </tr>\n",
       "    <tr>\n",
       "      <th>3</th>\n",
       "      <td>4680</td>\n",
       "      <td>2004-12-31</td>\n",
       "      <td>Jeopardy!</td>\n",
       "      <td>THE COMPANY LINE</td>\n",
       "      <td>$200</td>\n",
       "      <td>In 1963, live on \"The Art Linkletter Show\", th...</td>\n",
       "      <td>McDonald's</td>\n",
       "    </tr>\n",
       "    <tr>\n",
       "      <th>4</th>\n",
       "      <td>4680</td>\n",
       "      <td>2004-12-31</td>\n",
       "      <td>Jeopardy!</td>\n",
       "      <td>EPITAPHS &amp; TRIBUTES</td>\n",
       "      <td>$200</td>\n",
       "      <td>Signer of the Dec. of Indep., framer of the Co...</td>\n",
       "      <td>John Adams</td>\n",
       "    </tr>\n",
       "  </tbody>\n",
       "</table>\n",
       "</div>"
      ],
      "text/plain": [
       "   Show Number    Air Date      Round                         Category  Value  \\\n",
       "0         4680  2004-12-31  Jeopardy!                          HISTORY   $200   \n",
       "1         4680  2004-12-31  Jeopardy!  ESPN's TOP 10 ALL-TIME ATHLETES   $200   \n",
       "2         4680  2004-12-31  Jeopardy!      EVERYBODY TALKS ABOUT IT...   $200   \n",
       "3         4680  2004-12-31  Jeopardy!                 THE COMPANY LINE   $200   \n",
       "4         4680  2004-12-31  Jeopardy!              EPITAPHS & TRIBUTES   $200   \n",
       "\n",
       "                                            Question      Answer  \n",
       "0  For the last 8 years of his life, Galileo was ...  Copernicus  \n",
       "1  No. 2: 1912 Olympian; football star at Carlisl...  Jim Thorpe  \n",
       "2  The city of Yuma in this state has a record av...     Arizona  \n",
       "3  In 1963, live on \"The Art Linkletter Show\", th...  McDonald's  \n",
       "4  Signer of the Dec. of Indep., framer of the Co...  John Adams  "
      ]
     },
     "execution_count": 3,
     "metadata": {},
     "output_type": "execute_result"
    }
   ],
   "source": [
    "# Display 1st 5 rows from Jeopardy dataset\n",
    "df_JEOPARDY.head()"
   ]
  },
  {
   "cell_type": "markdown",
   "metadata": {},
   "source": [
    "As a final step, let's list how the dataset defines each of the terms (using the Kaggle definitions)."
   ]
  },
  {
   "cell_type": "markdown",
   "metadata": {},
   "source": [
    "<ul>\n",
    "    <li> Show Number:: the production number for that episode of Jeopardy!</li>\n",
    "    <li> Air Date: the date the episode aired (YYYY-MM-DD).</li>\n",
    "    <li> Round: the round of Jeopardy - Jeopardy, Double Jeopardy or Final Jeopardy.</li>\n",
    "    <li> Category: the question category.</li>\n",
    "    <li> Value: the $ for the question.</li>\n",
    "    <li> Question: the actual Jeopardy question.</li>\n",
    "    <li> Answer: the answer to the Jeopardy question.</li>\n",
    "</ui>"
   ]
  },
  {
   "cell_type": "markdown",
   "metadata": {},
   "source": [
    "# Data Cleaning"
   ]
  },
  {
   "cell_type": "markdown",
   "metadata": {},
   "source": [
    "Let's make sure that the data is sufficiently cleaned for analysis. We will begin by looking at some basic statistics."
   ]
  },
  {
   "cell_type": "code",
   "execution_count": 4,
   "metadata": {},
   "outputs": [
    {
     "name": "stdout",
     "output_type": "stream",
     "text": [
      "<class 'pandas.core.frame.DataFrame'>\n",
      "RangeIndex: 216930 entries, 0 to 216929\n",
      "Data columns (total 7 columns):\n",
      " #   Column       Non-Null Count   Dtype \n",
      "---  ------       --------------   ----- \n",
      " 0   Show Number  216930 non-null  int64 \n",
      " 1    Air Date    216930 non-null  object\n",
      " 2    Round       216930 non-null  object\n",
      " 3    Category    216930 non-null  object\n",
      " 4    Value       216930 non-null  object\n",
      " 5    Question    216930 non-null  object\n",
      " 6    Answer      216928 non-null  object\n",
      "dtypes: int64(1), object(6)\n",
      "memory usage: 11.6+ MB\n"
     ]
    }
   ],
   "source": [
    "# What are the data types in the Jeopardy dataset?\n",
    "df_JEOPARDY.info()"
   ]
  },
  {
   "cell_type": "markdown",
   "metadata": {},
   "source": [
    "So we have the episode numers in 64-bit integers and every other variable as an object. Let's check for any 'NaN' or 'null' values."
   ]
  },
  {
   "cell_type": "code",
   "execution_count": 5,
   "metadata": {},
   "outputs": [
    {
     "data": {
      "text/plain": [
       "Show Number    0\n",
       " Air Date      0\n",
       " Round         0\n",
       " Category      0\n",
       " Value         0\n",
       " Question      0\n",
       " Answer        2\n",
       "dtype: int64"
      ]
     },
     "execution_count": 5,
     "metadata": {},
     "output_type": "execute_result"
    }
   ],
   "source": [
    "# Check dataset for 'NaN' or 'null' values\n",
    "df_JEOPARDY.isnull().sum()"
   ]
  },
  {
   "cell_type": "markdown",
   "metadata": {},
   "source": [
    "Since we have 2 rows in the 'Answer' column that are 'null' (out of 216,928 rows), we can safely remove those rows without adversely affecting the data quality."
   ]
  },
  {
   "cell_type": "code",
   "execution_count": 6,
   "metadata": {},
   "outputs": [],
   "source": [
    "# Remove 'NULL' rows from Jeopardy Dataset\n",
    "df_JEOPARDY = df_JEOPARDY.dropna()"
   ]
  },
  {
   "cell_type": "code",
   "execution_count": 7,
   "metadata": {
    "scrolled": true
   },
   "outputs": [
    {
     "data": {
      "text/plain": [
       "Show Number    0\n",
       " Air Date      0\n",
       " Round         0\n",
       " Category      0\n",
       " Value         0\n",
       " Question      0\n",
       " Answer        0\n",
       "dtype: int64"
      ]
     },
     "execution_count": 7,
     "metadata": {},
     "output_type": "execute_result"
    }
   ],
   "source": [
    "# Confirm all 'NULL' rows and columns removed\n",
    "df_JEOPARDY.isnull().sum()"
   ]
  },
  {
   "cell_type": "markdown",
   "metadata": {},
   "source": [
    "Lastly, we will convert the 'Air Date' column into a format more conducive to future analysis."
   ]
  },
  {
   "cell_type": "code",
   "execution_count": 8,
   "metadata": {},
   "outputs": [],
   "source": [
    "df_JEOPARDY['Air Year'] = pd.DatetimeIndex(df_JEOPARDY[' Air Date']).year\n",
    "df_JEOPARDY['Air Month'] = pd.DatetimeIndex(df_JEOPARDY[' Air Date']).month\n",
    "df_JEOPARDY['Air Day'] = pd.DatetimeIndex(df_JEOPARDY[' Air Date']).day"
   ]
  },
  {
   "cell_type": "markdown",
   "metadata": {},
   "source": [
    "And now let's reload the 1st 5 rows of the dataset."
   ]
  },
  {
   "cell_type": "code",
   "execution_count": 9,
   "metadata": {},
   "outputs": [
    {
     "data": {
      "text/html": [
       "<div>\n",
       "<style scoped>\n",
       "    .dataframe tbody tr th:only-of-type {\n",
       "        vertical-align: middle;\n",
       "    }\n",
       "\n",
       "    .dataframe tbody tr th {\n",
       "        vertical-align: top;\n",
       "    }\n",
       "\n",
       "    .dataframe thead th {\n",
       "        text-align: right;\n",
       "    }\n",
       "</style>\n",
       "<table border=\"1\" class=\"dataframe\">\n",
       "  <thead>\n",
       "    <tr style=\"text-align: right;\">\n",
       "      <th></th>\n",
       "      <th>Show Number</th>\n",
       "      <th>Air Date</th>\n",
       "      <th>Round</th>\n",
       "      <th>Category</th>\n",
       "      <th>Value</th>\n",
       "      <th>Question</th>\n",
       "      <th>Answer</th>\n",
       "      <th>Air Year</th>\n",
       "      <th>Air Month</th>\n",
       "      <th>Air Day</th>\n",
       "    </tr>\n",
       "  </thead>\n",
       "  <tbody>\n",
       "    <tr>\n",
       "      <th>0</th>\n",
       "      <td>4680</td>\n",
       "      <td>2004-12-31</td>\n",
       "      <td>Jeopardy!</td>\n",
       "      <td>HISTORY</td>\n",
       "      <td>$200</td>\n",
       "      <td>For the last 8 years of his life, Galileo was ...</td>\n",
       "      <td>Copernicus</td>\n",
       "      <td>2004</td>\n",
       "      <td>12</td>\n",
       "      <td>31</td>\n",
       "    </tr>\n",
       "    <tr>\n",
       "      <th>1</th>\n",
       "      <td>4680</td>\n",
       "      <td>2004-12-31</td>\n",
       "      <td>Jeopardy!</td>\n",
       "      <td>ESPN's TOP 10 ALL-TIME ATHLETES</td>\n",
       "      <td>$200</td>\n",
       "      <td>No. 2: 1912 Olympian; football star at Carlisl...</td>\n",
       "      <td>Jim Thorpe</td>\n",
       "      <td>2004</td>\n",
       "      <td>12</td>\n",
       "      <td>31</td>\n",
       "    </tr>\n",
       "    <tr>\n",
       "      <th>2</th>\n",
       "      <td>4680</td>\n",
       "      <td>2004-12-31</td>\n",
       "      <td>Jeopardy!</td>\n",
       "      <td>EVERYBODY TALKS ABOUT IT...</td>\n",
       "      <td>$200</td>\n",
       "      <td>The city of Yuma in this state has a record av...</td>\n",
       "      <td>Arizona</td>\n",
       "      <td>2004</td>\n",
       "      <td>12</td>\n",
       "      <td>31</td>\n",
       "    </tr>\n",
       "    <tr>\n",
       "      <th>3</th>\n",
       "      <td>4680</td>\n",
       "      <td>2004-12-31</td>\n",
       "      <td>Jeopardy!</td>\n",
       "      <td>THE COMPANY LINE</td>\n",
       "      <td>$200</td>\n",
       "      <td>In 1963, live on \"The Art Linkletter Show\", th...</td>\n",
       "      <td>McDonald's</td>\n",
       "      <td>2004</td>\n",
       "      <td>12</td>\n",
       "      <td>31</td>\n",
       "    </tr>\n",
       "    <tr>\n",
       "      <th>4</th>\n",
       "      <td>4680</td>\n",
       "      <td>2004-12-31</td>\n",
       "      <td>Jeopardy!</td>\n",
       "      <td>EPITAPHS &amp; TRIBUTES</td>\n",
       "      <td>$200</td>\n",
       "      <td>Signer of the Dec. of Indep., framer of the Co...</td>\n",
       "      <td>John Adams</td>\n",
       "      <td>2004</td>\n",
       "      <td>12</td>\n",
       "      <td>31</td>\n",
       "    </tr>\n",
       "  </tbody>\n",
       "</table>\n",
       "</div>"
      ],
      "text/plain": [
       "   Show Number    Air Date      Round                         Category  Value  \\\n",
       "0         4680  2004-12-31  Jeopardy!                          HISTORY   $200   \n",
       "1         4680  2004-12-31  Jeopardy!  ESPN's TOP 10 ALL-TIME ATHLETES   $200   \n",
       "2         4680  2004-12-31  Jeopardy!      EVERYBODY TALKS ABOUT IT...   $200   \n",
       "3         4680  2004-12-31  Jeopardy!                 THE COMPANY LINE   $200   \n",
       "4         4680  2004-12-31  Jeopardy!              EPITAPHS & TRIBUTES   $200   \n",
       "\n",
       "                                            Question      Answer  Air Year  \\\n",
       "0  For the last 8 years of his life, Galileo was ...  Copernicus      2004   \n",
       "1  No. 2: 1912 Olympian; football star at Carlisl...  Jim Thorpe      2004   \n",
       "2  The city of Yuma in this state has a record av...     Arizona      2004   \n",
       "3  In 1963, live on \"The Art Linkletter Show\", th...  McDonald's      2004   \n",
       "4  Signer of the Dec. of Indep., framer of the Co...  John Adams      2004   \n",
       "\n",
       "   Air Month  Air Day  \n",
       "0         12       31  \n",
       "1         12       31  \n",
       "2         12       31  \n",
       "3         12       31  \n",
       "4         12       31  "
      ]
     },
     "execution_count": 9,
     "metadata": {},
     "output_type": "execute_result"
    }
   ],
   "source": [
    "# Display 1st 5 rows from Jeopardy dataset\n",
    "df_JEOPARDY.head()"
   ]
  },
  {
   "cell_type": "markdown",
   "metadata": {},
   "source": [
    "Now it appears that our data is sufficiently cleaned to conduct a further analysis."
   ]
  },
  {
   "cell_type": "markdown",
   "metadata": {},
   "source": [
    "# Exploratory Data Analysis"
   ]
  },
  {
   "cell_type": "markdown",
   "metadata": {},
   "source": [
    "Now let's look at how many question categories have been used on Jeopardy in this dataset."
   ]
  },
  {
   "cell_type": "code",
   "execution_count": 10,
   "metadata": {},
   "outputs": [
    {
     "data": {
      "text/plain": [
       "27995"
      ]
     },
     "execution_count": 10,
     "metadata": {},
     "output_type": "execute_result"
    }
   ],
   "source": [
    "# How many question categories on Jeopardy in this dataset?\n",
    "df_JEOPARDY[' Category'].nunique()"
   ]
  },
  {
   "cell_type": "markdown",
   "metadata": {},
   "source": [
    "Over the course of this dataset, there have been almost 28,000 categories for questions. What about the number of rounds?"
   ]
  },
  {
   "cell_type": "code",
   "execution_count": 11,
   "metadata": {},
   "outputs": [
    {
     "data": {
      "text/plain": [
       "4"
      ]
     },
     "execution_count": 11,
     "metadata": {},
     "output_type": "execute_result"
    }
   ],
   "source": [
    "# How many question categories on Jeopardy in this dataset?\n",
    "df_JEOPARDY[' Round'].nunique()"
   ]
  },
  {
   "cell_type": "markdown",
   "metadata": {},
   "source": [
    "Interestingly enough, we see there are 4 rounds. Let's see the names of those rounds."
   ]
  },
  {
   "cell_type": "code",
   "execution_count": 12,
   "metadata": {},
   "outputs": [
    {
     "data": {
      "text/plain": [
       "array(['Jeopardy!', 'Double Jeopardy!', 'Final Jeopardy!', 'Tiebreaker'],\n",
       "      dtype=object)"
      ]
     },
     "execution_count": 12,
     "metadata": {},
     "output_type": "execute_result"
    }
   ],
   "source": [
    "# How many question categories on Jeopardy in this dataset?\n",
    "df_JEOPARDY[' Round'].unique()"
   ]
  },
  {
   "cell_type": "markdown",
   "metadata": {},
   "source": [
    "As we can see from the result, there have actually been tiebreaker questions in addition to the typical 3 categories of 'Jeopardy!', 'Double Jeopardy!' and 'Final Jeopardy!'.\n",
    "\n",
    "Now let's look at the distribution of years for this dataset."
   ]
  },
  {
   "cell_type": "code",
   "execution_count": 13,
   "metadata": {},
   "outputs": [
    {
     "data": {
      "text/plain": [
       "29"
      ]
     },
     "execution_count": 13,
     "metadata": {},
     "output_type": "execute_result"
    }
   ],
   "source": [
    "# Distribution of years for Jeopardy dataset\n",
    "df_JEOPARDY['Air Year'].nunique()"
   ]
  },
  {
   "cell_type": "code",
   "execution_count": 14,
   "metadata": {},
   "outputs": [
    {
     "data": {
      "text/plain": [
       "array([2004, 2010, 2000, 2006, 2009, 1996, 2007, 1997, 2002, 2003, 2001,\n",
       "       1990, 1999, 2008, 2011, 2005, 1998, 2012, 1992, 1986, 1985, 1991,\n",
       "       1993, 1994, 1988, 1987, 1995, 1984, 1989], dtype=int64)"
      ]
     },
     "execution_count": 14,
     "metadata": {},
     "output_type": "execute_result"
    }
   ],
   "source": [
    "# Distribution of years for Jeopardy dataset\n",
    "df_JEOPARDY['Air Year'].unique()"
   ]
  },
  {
   "cell_type": "markdown",
   "metadata": {},
   "source": [
    "So this dataset provides every question and answer on Jeopardy! from 1984 through the end of 2012. Cool!\n",
    "\n",
    "Now let's begin to answer the questions we set out in our analysis. First, let's find out the most frequently used categories in Jeopardy."
   ]
  },
  {
   "cell_type": "code",
   "execution_count": 15,
   "metadata": {},
   "outputs": [
    {
     "data": {
      "text/plain": [
       "BEFORE & AFTER             547\n",
       "SCIENCE                    519\n",
       "LITERATURE                 496\n",
       "AMERICAN HISTORY           418\n",
       "POTPOURRI                  401\n",
       "WORLD HISTORY              377\n",
       "WORD ORIGINS               371\n",
       "COLLEGES & UNIVERSITIES    351\n",
       "HISTORY                    349\n",
       "SPORTS                     342\n",
       "U.S. CITIES                339\n",
       "WORLD GEOGRAPHY            338\n",
       "BODIES OF WATER            327\n",
       "ANIMALS                    324\n",
       "STATE CAPITALS             314\n",
       "BUSINESS & INDUSTRY        311\n",
       "ISLANDS                    301\n",
       "WORLD CAPITALS             300\n",
       "U.S. GEOGRAPHY             299\n",
       "RELIGION                   297\n",
       "Name:  Category, dtype: int64"
      ]
     },
     "execution_count": 15,
     "metadata": {},
     "output_type": "execute_result"
    }
   ],
   "source": [
    "# Find the most frequent categories in Jeopardy!\n",
    "df_JEOPARDYCategory = df_JEOPARDY[' Category'];\n",
    "df_JEOPARDYCategory.value_counts().head(20)"
   ]
  },
  {
   "cell_type": "markdown",
   "metadata": {},
   "source": [
    "As we can see from the results, common topics for Jeopardy questions include history (American History, World History, History) and geography (U.S. Cities, World Geography, Bodies of Water, State Capitals, Islands, World Capitals, U.S. Geography). Interestingly enough, the most common category is 'Before and After.'\n",
    "\n",
    "Let's take a look at some of the least common categories."
   ]
  },
  {
   "cell_type": "code",
   "execution_count": 16,
   "metadata": {},
   "outputs": [
    {
     "data": {
      "text/plain": [
       "SPACE NEWS                           1\n",
       "THEORIES OF SCIENCE                  1\n",
       "THAT'S YOUNG!                        1\n",
       "ALL ABOUT CORN                       1\n",
       "LITERARY INFLUENCES                  1\n",
       "NORTH AMERICAN BIRDS                 1\n",
       "1989 NO. 1 HITS                      1\n",
       "GOVERNMENT OFFICIALS                 1\n",
       "BESTSELLING NOVELS                   1\n",
       "AFI LIFE ACHIEVEMENT AWARDS          1\n",
       "ROYAL RESIDENCES                     1\n",
       "WORDS IN PHYSICS                     1\n",
       "WORDS FROM MYTHOLOGY                 1\n",
       "INFLUENTIAL 19th CENTURY THINKERS    1\n",
       "AVIATION HISTORY                     1\n",
       "PLACE NAMES                          1\n",
       "TOP OF THE POP CHARTS                1\n",
       "WORDS IN POETRY                      1\n",
       "POPULAR FICTION                      1\n",
       "CLASSIC CHILDREN'S LIT               1\n",
       "Name:  Category, dtype: int64"
      ]
     },
     "execution_count": 16,
     "metadata": {},
     "output_type": "execute_result"
    }
   ],
   "source": [
    "# Find the least frequent categories in Jeopardy!\n",
    "df_JEOPARDYCategory = df_JEOPARDY[' Category'];\n",
    "df_JEOPARDYCategory.value_counts().tail(20)"
   ]
  },
  {
   "cell_type": "markdown",
   "metadata": {},
   "source": [
    "As can be seen from the results, some of the least frequent categories (which only appeared in 1 episode) include Hollywood Dogs, Olympic Athletes, The Space Shuttle, R-Rated Operas and Pyschology Terms. Fascinating!\n",
    "\n",
    "Now let's take a look at the most common answers in Jeopardy!"
   ]
  },
  {
   "cell_type": "code",
   "execution_count": 17,
   "metadata": {},
   "outputs": [
    {
     "data": {
      "text/plain": [
       "China           216\n",
       "Australia       215\n",
       "Japan           196\n",
       "Chicago         194\n",
       "France          193\n",
       "India           185\n",
       "California      180\n",
       "Canada          176\n",
       "Spain           171\n",
       "Mexico          164\n",
       "Alaska          161\n",
       "Italy           160\n",
       "Hawaii          157\n",
       "Texas           153\n",
       "Paris           149\n",
       "Germany         147\n",
       "Russia          141\n",
       "Florida         140\n",
       "South Africa    139\n",
       "Ireland         136\n",
       "Name:  Answer, dtype: int64"
      ]
     },
     "execution_count": 17,
     "metadata": {},
     "output_type": "execute_result"
    }
   ],
   "source": [
    "# Find the most frequent categories in Jeopardy!\n",
    "df_JEOPARDYCategory = df_JEOPARDY[' Answer'];\n",
    "df_JEOPARDYCategory.value_counts().head(20)"
   ]
  },
  {
   "cell_type": "markdown",
   "metadata": {},
   "source": [
    "Interestingly, the most common answers are places. This observations ties in well with the calculation earlier that showed that geography and history were the most common types of categories."
   ]
  },
  {
   "cell_type": "markdown",
   "metadata": {},
   "source": [
    "To wrap up this project, let's determine the most common values for questions in Jeopardy! To accomplish this task, we need to define a couple of processing functions."
   ]
  },
  {
   "cell_type": "code",
   "execution_count": 18,
   "metadata": {},
   "outputs": [],
   "source": [
    "# Convert values from objects to integers\n",
    "def value_filter(value):\n",
    "    value = value.strip('$')\n",
    "    value = ''.join(value.split(','))\n",
    "    return int(value)"
   ]
  },
  {
   "cell_type": "code",
   "execution_count": 19,
   "metadata": {},
   "outputs": [],
   "source": [
    "# Convert individual values to bins \n",
    "# [This eliminates the differences due to non-100 amounts during Daily Doubles and Final Jeopardy]\n",
    "def bin_values(value):\n",
    "    if value < 1000:\n",
    "        return np.round(value, -2)\n",
    "    elif value < 10000:\n",
    "        return np.round(value, -3)\n",
    "    else:\n",
    "        return np.round(value, -4)"
   ]
  },
  {
   "cell_type": "code",
   "execution_count": 20,
   "metadata": {},
   "outputs": [],
   "source": [
    "# Apply value_filter to the values column of the Jeopardy dataset\n",
    "df_JEOPARDY.drop(df_JEOPARDY[df_JEOPARDY[' Value'] == \"None\"].index, inplace= True)\n",
    "df_JEOPARDY['value_number'] = df_JEOPARDY[' Value'].apply(value_filter)"
   ]
  },
  {
   "cell_type": "code",
   "execution_count": 22,
   "metadata": {},
   "outputs": [],
   "source": [
    "# Apply Bins to values column of the Jeopardy dataset\n",
    "df_JEOPARDY['value_bins'] = df_JEOPARDY['value_number'].apply(bin_values)"
   ]
  },
  {
   "cell_type": "code",
   "execution_count": 25,
   "metadata": {},
   "outputs": [
    {
     "data": {
      "image/png": "[encoded data removed]",
      "text/plain": [
       "<Figure size 1080x720 with 1 Axes>"
      ]
     },
     "metadata": {
      "needs_background": "light"
     },
     "output_type": "display_data"
    }
   ],
   "source": [
    "# Plot the value distribution for questions in the Jeopardy dataset\n",
    "\n",
    "# Create a function for plotting\n",
    "def plot_dist(data, title, xlabel, ylabel):\n",
    "    x_pos = np.arange(len(data.keys()))\n",
    "    plt.figure(figsize=[15,10])\n",
    "    plt.bar(x_pos, data.values(), color = \"purple\")\n",
    "    plt.title(title)\n",
    "    plt.xlabel(xlabel)\n",
    "    plt.ylabel(ylabel)\n",
    "    \n",
    "    plt.xticks(x_pos, data.keys())\n",
    "    \n",
    "    plt.show()\n",
    "\n",
    "# Apply function to the dataset\n",
    "plot_dist(df_JEOPARDY[\"value_bins\"].value_counts().to_dict(),\n",
    "               '# of Questions per Bin',\n",
    "               'Bin Values',\n",
    "               'Number of Questions'\n",
    "              )"
   ]
  },
  {
   "cell_type": "markdown",
   "metadata": {},
   "source": [
    "As we can see, the 400 dollar questions are actually the most common, followed by the 1000 dollar and 800 dollar."
   ]
  },
  {
   "cell_type": "markdown",
   "metadata": {},
   "source": [
    "## Discussion"
   ]
  },
  {
   "cell_type": "markdown",
   "metadata": {},
   "source": [
    "In this open-ended project, we were able to show the following:\n",
    "\n",
    "<ul>\n",
    "    <li>(1) 400 dollar questions are the most common on Jeopardy.</li>\n",
    "    <li>(2) 'Before and After' is the most common question on Jeopardy.</li>\n",
    "    <li>(3) Places are the most common answers.</li>\n",
    "    <li>(4) Obscure categories include Hollywood Dogs and Pyschology Terms.</li>\n",
    "</ul>"
   ]
  },
  {
   "cell_type": "markdown",
   "metadata": {},
   "source": [
    "## Conclusion\n",
    "\n",
    "The goal of this project was to explore Jeopardy questions. In this project, we were able to upload a real-world dataset, clean the data systematically, perform several different exploratory data analysis, make useful data visualizations, and draw logical inferences from those analyses. It is the author's hope that others find this exericse useful. Thanks for reading!"
   ]
  },
  {
   "cell_type": "code",
   "execution_count": null,
   "metadata": {},
   "outputs": [],
   "source": []
  }
 ],
 "metadata": {
  "kernelspec": {
   "display_name": "Python 3",
   "language": "python",
   "name": "python3"
  },
  "language_info": {
   "codemirror_mode": {
    "name": "ipython",
    "version": 3
   },
   "file_extension": ".py",
   "mimetype": "text/x-python",
   "name": "python",
   "nbconvert_exporter": "python",
   "pygments_lexer": "ipython3",
   "version": "3.8.5"
  }
 },
 "nbformat": 4,
 "nbformat_minor": 4
}
