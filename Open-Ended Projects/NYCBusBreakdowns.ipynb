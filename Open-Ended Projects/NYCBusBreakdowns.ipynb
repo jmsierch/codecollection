{
 "cells": [
  {
   "cell_type": "markdown",
   "metadata": {},
   "source": [
    "# NYC Bus Breakdown Analysis and Dashboard"
   ]
  },
  {
   "cell_type": "markdown",
   "metadata": {},
   "source": [
    "## by Justin Sierchio"
   ]
  },
  {
   "cell_type": "markdown",
   "metadata": {},
   "source": [
    "In this analysis, we will be looking at bus breakdowns in New York City as well as creating a dashboard. We would like to be able to gain insights from this data as well.\n",
    "\n",
    "This data is in .csv and .json file format and is from Kaggle at: https://www.kaggle.com/new-york-city/ny-bus-breakdown-and-delays/download. More information related to the dataset can be found at: https://www.kaggle.com/new-york-city/ny-bus-breakdown-and-delays."
   ]
  },
  {
   "cell_type": "markdown",
   "metadata": {},
   "source": [
    "## Notebook Initialization"
   ]
  },
  {
   "cell_type": "code",
   "execution_count": 1,
   "metadata": {},
   "outputs": [
    {
     "name": "stdout",
     "output_type": "stream",
     "text": [
      "Initial libraries loaded into workspace!\n"
     ]
    }
   ],
   "source": [
    "# Import Relevant Libraries\n",
    "import pandas as pd\n",
    "import numpy as np\n",
    "import seaborn as sns \n",
    "import matplotlib.pyplot as plt\n",
    "\n",
    "print('Initial libraries loaded into workspace!')"
   ]
  },
  {
   "cell_type": "code",
   "execution_count": 2,
   "metadata": {},
   "outputs": [
    {
     "name": "stdout",
     "output_type": "stream",
     "text": [
      "Datasets uploaded!\n"
     ]
    },
    {
     "name": "stderr",
     "output_type": "stream",
     "text": [
      "C:\\ProgramData\\Anaconda3\\lib\\site-packages\\IPython\\core\\interactiveshell.py:3146: DtypeWarning: Columns (17) have mixed types.Specify dtype option on import or set low_memory=False.\n",
      "  has_raised = await self.run_ast_nodes(code_ast.body, cell_name,\n"
     ]
    }
   ],
   "source": [
    "# Upload Datasets for Study\n",
    "df_NYCBus = pd.read_csv(\"bus-breakdown-and-delays.csv\");\n",
    "df_NYCBusMeta = pd.read_json('socrata_metadata.json', lines=True)\n",
    "\n",
    "print('Datasets uploaded!');"
   ]
  },
  {
   "cell_type": "code",
   "execution_count": 3,
   "metadata": {},
   "outputs": [
    {
     "data": {
      "text/html": [
       "<div>\n",
       "<style scoped>\n",
       "    .dataframe tbody tr th:only-of-type {\n",
       "        vertical-align: middle;\n",
       "    }\n",
       "\n",
       "    .dataframe tbody tr th {\n",
       "        vertical-align: top;\n",
       "    }\n",
       "\n",
       "    .dataframe thead th {\n",
       "        text-align: right;\n",
       "    }\n",
       "</style>\n",
       "<table border=\"1\" class=\"dataframe\">\n",
       "  <thead>\n",
       "    <tr style=\"text-align: right;\">\n",
       "      <th></th>\n",
       "      <th>School_Year</th>\n",
       "      <th>Busbreakdown_ID</th>\n",
       "      <th>Run_Type</th>\n",
       "      <th>Bus_No</th>\n",
       "      <th>Route_Number</th>\n",
       "      <th>Reason</th>\n",
       "      <th>Schools_Serviced</th>\n",
       "      <th>Occurred_On</th>\n",
       "      <th>Created_On</th>\n",
       "      <th>Boro</th>\n",
       "      <th>...</th>\n",
       "      <th>How_Long_Delayed</th>\n",
       "      <th>Number_Of_Students_On_The_Bus</th>\n",
       "      <th>Has_Contractor_Notified_Schools</th>\n",
       "      <th>Has_Contractor_Notified_Parents</th>\n",
       "      <th>Have_You_Alerted_OPT</th>\n",
       "      <th>Informed_On</th>\n",
       "      <th>Incident_Number</th>\n",
       "      <th>Last_Updated_On</th>\n",
       "      <th>Breakdown_or_Running_Late</th>\n",
       "      <th>School_Age_or_PreK</th>\n",
       "    </tr>\n",
       "  </thead>\n",
       "  <tbody>\n",
       "    <tr>\n",
       "      <th>0</th>\n",
       "      <td>2015-2016</td>\n",
       "      <td>1227538</td>\n",
       "      <td>Special Ed AM Run</td>\n",
       "      <td>2621</td>\n",
       "      <td>J711</td>\n",
       "      <td>Heavy Traffic</td>\n",
       "      <td>75003</td>\n",
       "      <td>2015-11-05T08:10:00.000</td>\n",
       "      <td>2015-11-05T08:12:00.000</td>\n",
       "      <td>New Jersey</td>\n",
       "      <td>...</td>\n",
       "      <td>NaN</td>\n",
       "      <td>11</td>\n",
       "      <td>Yes</td>\n",
       "      <td>No</td>\n",
       "      <td>Yes</td>\n",
       "      <td>2015-11-05T08:12:00.000</td>\n",
       "      <td>NaN</td>\n",
       "      <td>2015-11-05T08:12:14.000</td>\n",
       "      <td>Running Late</td>\n",
       "      <td>School-Age</td>\n",
       "    </tr>\n",
       "    <tr>\n",
       "      <th>1</th>\n",
       "      <td>2015-2016</td>\n",
       "      <td>1227539</td>\n",
       "      <td>Special Ed AM Run</td>\n",
       "      <td>1260</td>\n",
       "      <td>M351</td>\n",
       "      <td>Heavy Traffic</td>\n",
       "      <td>06716</td>\n",
       "      <td>2015-11-05T08:10:00.000</td>\n",
       "      <td>2015-11-05T08:12:00.000</td>\n",
       "      <td>Manhattan</td>\n",
       "      <td>...</td>\n",
       "      <td>20MNS</td>\n",
       "      <td>2</td>\n",
       "      <td>Yes</td>\n",
       "      <td>Yes</td>\n",
       "      <td>No</td>\n",
       "      <td>2015-11-05T08:12:00.000</td>\n",
       "      <td>NaN</td>\n",
       "      <td>2015-11-05T08:13:34.000</td>\n",
       "      <td>Running Late</td>\n",
       "      <td>School-Age</td>\n",
       "    </tr>\n",
       "    <tr>\n",
       "      <th>2</th>\n",
       "      <td>2015-2016</td>\n",
       "      <td>1227540</td>\n",
       "      <td>Pre-K/EI</td>\n",
       "      <td>418</td>\n",
       "      <td>3</td>\n",
       "      <td>Heavy Traffic</td>\n",
       "      <td>C445</td>\n",
       "      <td>2015-11-05T08:09:00.000</td>\n",
       "      <td>2015-11-05T08:13:00.000</td>\n",
       "      <td>Bronx</td>\n",
       "      <td>...</td>\n",
       "      <td>15MIN</td>\n",
       "      <td>8</td>\n",
       "      <td>Yes</td>\n",
       "      <td>Yes</td>\n",
       "      <td>Yes</td>\n",
       "      <td>2015-11-05T08:13:00.000</td>\n",
       "      <td>NaN</td>\n",
       "      <td>2015-11-05T08:13:22.000</td>\n",
       "      <td>Running Late</td>\n",
       "      <td>Pre-K</td>\n",
       "    </tr>\n",
       "    <tr>\n",
       "      <th>3</th>\n",
       "      <td>2015-2016</td>\n",
       "      <td>1227541</td>\n",
       "      <td>Special Ed AM Run</td>\n",
       "      <td>4522</td>\n",
       "      <td>M271</td>\n",
       "      <td>Heavy Traffic</td>\n",
       "      <td>02699</td>\n",
       "      <td>2015-11-05T08:12:00.000</td>\n",
       "      <td>2015-11-05T08:14:00.000</td>\n",
       "      <td>Manhattan</td>\n",
       "      <td>...</td>\n",
       "      <td>15 MIN</td>\n",
       "      <td>6</td>\n",
       "      <td>No</td>\n",
       "      <td>No</td>\n",
       "      <td>No</td>\n",
       "      <td>2015-11-05T08:14:00.000</td>\n",
       "      <td>NaN</td>\n",
       "      <td>2015-11-05T08:14:04.000</td>\n",
       "      <td>Running Late</td>\n",
       "      <td>School-Age</td>\n",
       "    </tr>\n",
       "    <tr>\n",
       "      <th>4</th>\n",
       "      <td>2015-2016</td>\n",
       "      <td>1227542</td>\n",
       "      <td>Special Ed AM Run</td>\n",
       "      <td>3124</td>\n",
       "      <td>M373</td>\n",
       "      <td>Heavy Traffic</td>\n",
       "      <td>02116</td>\n",
       "      <td>2015-11-05T08:13:00.000</td>\n",
       "      <td>2015-11-05T08:14:00.000</td>\n",
       "      <td>Manhattan</td>\n",
       "      <td>...</td>\n",
       "      <td>NaN</td>\n",
       "      <td>6</td>\n",
       "      <td>No</td>\n",
       "      <td>No</td>\n",
       "      <td>No</td>\n",
       "      <td>2015-11-05T08:14:00.000</td>\n",
       "      <td>NaN</td>\n",
       "      <td>2015-11-05T08:14:08.000</td>\n",
       "      <td>Running Late</td>\n",
       "      <td>School-Age</td>\n",
       "    </tr>\n",
       "  </tbody>\n",
       "</table>\n",
       "<p>5 rows × 21 columns</p>\n",
       "</div>"
      ],
      "text/plain": [
       "  School_Year  Busbreakdown_ID           Run_Type Bus_No Route_Number  \\\n",
       "0   2015-2016          1227538  Special Ed AM Run   2621         J711   \n",
       "1   2015-2016          1227539  Special Ed AM Run   1260         M351   \n",
       "2   2015-2016          1227540           Pre-K/EI    418            3   \n",
       "3   2015-2016          1227541  Special Ed AM Run   4522         M271   \n",
       "4   2015-2016          1227542  Special Ed AM Run   3124         M373   \n",
       "\n",
       "          Reason Schools_Serviced              Occurred_On  \\\n",
       "0  Heavy Traffic            75003  2015-11-05T08:10:00.000   \n",
       "1  Heavy Traffic            06716  2015-11-05T08:10:00.000   \n",
       "2  Heavy Traffic             C445  2015-11-05T08:09:00.000   \n",
       "3  Heavy Traffic            02699  2015-11-05T08:12:00.000   \n",
       "4  Heavy Traffic            02116  2015-11-05T08:13:00.000   \n",
       "\n",
       "                Created_On        Boro  ... How_Long_Delayed  \\\n",
       "0  2015-11-05T08:12:00.000  New Jersey  ...              NaN   \n",
       "1  2015-11-05T08:12:00.000   Manhattan  ...            20MNS   \n",
       "2  2015-11-05T08:13:00.000       Bronx  ...            15MIN   \n",
       "3  2015-11-05T08:14:00.000   Manhattan  ...           15 MIN   \n",
       "4  2015-11-05T08:14:00.000   Manhattan  ...              NaN   \n",
       "\n",
       "  Number_Of_Students_On_The_Bus  Has_Contractor_Notified_Schools  \\\n",
       "0                            11                              Yes   \n",
       "1                             2                              Yes   \n",
       "2                             8                              Yes   \n",
       "3                             6                               No   \n",
       "4                             6                               No   \n",
       "\n",
       "  Has_Contractor_Notified_Parents Have_You_Alerted_OPT  \\\n",
       "0                              No                  Yes   \n",
       "1                             Yes                   No   \n",
       "2                             Yes                  Yes   \n",
       "3                              No                   No   \n",
       "4                              No                   No   \n",
       "\n",
       "               Informed_On Incident_Number          Last_Updated_On  \\\n",
       "0  2015-11-05T08:12:00.000             NaN  2015-11-05T08:12:14.000   \n",
       "1  2015-11-05T08:12:00.000             NaN  2015-11-05T08:13:34.000   \n",
       "2  2015-11-05T08:13:00.000             NaN  2015-11-05T08:13:22.000   \n",
       "3  2015-11-05T08:14:00.000             NaN  2015-11-05T08:14:04.000   \n",
       "4  2015-11-05T08:14:00.000             NaN  2015-11-05T08:14:08.000   \n",
       "\n",
       "  Breakdown_or_Running_Late School_Age_or_PreK  \n",
       "0              Running Late         School-Age  \n",
       "1              Running Late         School-Age  \n",
       "2              Running Late              Pre-K  \n",
       "3              Running Late         School-Age  \n",
       "4              Running Late         School-Age  \n",
       "\n",
       "[5 rows x 21 columns]"
      ]
     },
     "execution_count": 3,
     "metadata": {},
     "output_type": "execute_result"
    }
   ],
   "source": [
    "# Display 1st 5 rows from NYC Bus dataset\n",
    "df_NYCBus.head()"
   ]
  },
  {
   "cell_type": "code",
   "execution_count": 4,
   "metadata": {},
   "outputs": [
    {
     "data": {
      "text/html": [
       "<div>\n",
       "<style scoped>\n",
       "    .dataframe tbody tr th:only-of-type {\n",
       "        vertical-align: middle;\n",
       "    }\n",
       "\n",
       "    .dataframe tbody tr th {\n",
       "        vertical-align: top;\n",
       "    }\n",
       "\n",
       "    .dataframe thead th {\n",
       "        text-align: right;\n",
       "    }\n",
       "</style>\n",
       "<table border=\"1\" class=\"dataframe\">\n",
       "  <thead>\n",
       "    <tr style=\"text-align: right;\">\n",
       "      <th></th>\n",
       "      <th>downloadCount</th>\n",
       "      <th>query</th>\n",
       "      <th>viewLastModified</th>\n",
       "      <th>displayType</th>\n",
       "      <th>category</th>\n",
       "      <th>rowsUpdatedAt</th>\n",
       "      <th>description</th>\n",
       "      <th>viewType</th>\n",
       "      <th>totalTimesRated</th>\n",
       "      <th>name</th>\n",
       "      <th>...</th>\n",
       "      <th>flags</th>\n",
       "      <th>provenance</th>\n",
       "      <th>rowsUpdatedBy</th>\n",
       "      <th>owner</th>\n",
       "      <th>viewCount</th>\n",
       "      <th>approvals</th>\n",
       "      <th>averageRating</th>\n",
       "      <th>publicationGroup</th>\n",
       "      <th>id</th>\n",
       "      <th>hideFromCatalog</th>\n",
       "    </tr>\n",
       "  </thead>\n",
       "  <tbody>\n",
       "    <tr>\n",
       "      <th>0</th>\n",
       "      <td>5368</td>\n",
       "      <td>{}</td>\n",
       "      <td>1556893261</td>\n",
       "      <td>table</td>\n",
       "      <td>Transportation</td>\n",
       "      <td>1575114040</td>\n",
       "      <td>The Bus Breakdown and Delay system collects in...</td>\n",
       "      <td>tabular</td>\n",
       "      <td>0</td>\n",
       "      <td>Bus Breakdown and Delays</td>\n",
       "      <td>...</td>\n",
       "      <td>[default, restorable, restorePossibleForType]</td>\n",
       "      <td>official</td>\n",
       "      <td>5fuc-pqz2</td>\n",
       "      <td>{'profileImageUrlSmall': '/api/users/5fuc-pqz2...</td>\n",
       "      <td>10105</td>\n",
       "      <td>[{'submissionObject': 'public_audience_request...</td>\n",
       "      <td>0</td>\n",
       "      <td>4528409</td>\n",
       "      <td>ez4e-fazm</td>\n",
       "      <td>False</td>\n",
       "    </tr>\n",
       "  </tbody>\n",
       "</table>\n",
       "<p>1 rows × 38 columns</p>\n",
       "</div>"
      ],
      "text/plain": [
       "   downloadCount query  viewLastModified displayType        category  \\\n",
       "0           5368    {}        1556893261       table  Transportation   \n",
       "\n",
       "   rowsUpdatedAt                                        description viewType  \\\n",
       "0     1575114040  The Bus Breakdown and Delay system collects in...  tabular   \n",
       "\n",
       "   totalTimesRated                      name  ...  \\\n",
       "0                0  Bus Breakdown and Delays  ...   \n",
       "\n",
       "                                           flags provenance  rowsUpdatedBy  \\\n",
       "0  [default, restorable, restorePossibleForType]   official      5fuc-pqz2   \n",
       "\n",
       "                                               owner  viewCount  \\\n",
       "0  {'profileImageUrlSmall': '/api/users/5fuc-pqz2...      10105   \n",
       "\n",
       "                                           approvals averageRating  \\\n",
       "0  [{'submissionObject': 'public_audience_request...             0   \n",
       "\n",
       "  publicationGroup         id hideFromCatalog  \n",
       "0          4528409  ez4e-fazm           False  \n",
       "\n",
       "[1 rows x 38 columns]"
      ]
     },
     "execution_count": 4,
     "metadata": {},
     "output_type": "execute_result"
    }
   ],
   "source": [
    "# Display 1st 5 rows from NYC Bus Meta dataset\n",
    "df_NYCBusMeta.head()"
   ]
  },
  {
   "cell_type": "markdown",
   "metadata": {},
   "source": [
    "## Data Cleaning"
   ]
  },
  {
   "cell_type": "markdown",
   "metadata": {},
   "source": [
    "To begin, et us see how large this dataset is."
   ]
  },
  {
   "cell_type": "code",
   "execution_count": 5,
   "metadata": {},
   "outputs": [
    {
     "data": {
      "text/plain": [
       "(379412, 21)"
      ]
     },
     "execution_count": 5,
     "metadata": {},
     "output_type": "execute_result"
    }
   ],
   "source": [
    "# Find the shape of the dataset\n",
    "df_NYCBus.shape"
   ]
  },
  {
   "cell_type": "markdown",
   "metadata": {},
   "source": [
    "Let's find the status of our data and finding out how many 'NaN' or 'null' values we have."
   ]
  },
  {
   "cell_type": "code",
   "execution_count": 6,
   "metadata": {},
   "outputs": [
    {
     "data": {
      "text/plain": [
       "School_Year                             0\n",
       "Busbreakdown_ID                         0\n",
       "Run_Type                                3\n",
       "Bus_No                                 10\n",
       "Route_Number                            7\n",
       "Reason                                  2\n",
       "Schools_Serviced                        7\n",
       "Occurred_On                             0\n",
       "Created_On                              0\n",
       "Boro                                11095\n",
       "Bus_Company_Name                        0\n",
       "How_Long_Delayed                    43138\n",
       "Number_Of_Students_On_The_Bus           0\n",
       "Has_Contractor_Notified_Schools         0\n",
       "Has_Contractor_Notified_Parents         0\n",
       "Have_You_Alerted_OPT                    0\n",
       "Informed_On                             0\n",
       "Incident_Number                    369387\n",
       "Last_Updated_On                         0\n",
       "Breakdown_or_Running_Late               0\n",
       "School_Age_or_PreK                      0\n",
       "dtype: int64"
      ]
     },
     "execution_count": 6,
     "metadata": {},
     "output_type": "execute_result"
    }
   ],
   "source": [
    "# Display number of 'NaN' or 'null' values exist in the dataset\n",
    "df_NYCBus.isnull().sum()"
   ]
  },
  {
   "cell_type": "markdown",
   "metadata": {},
   "source": [
    "We see that the incident number is largely nonexistant, and there are significant numbers of 'How_Long_Delayed' and 'Boro.' For the purposes of this analysis and constructing a dashboard, let's remove Incident_Number and How_Long_Delayed, followed by removing all the remaining 'Nan' and 'null' values."
   ]
  },
  {
   "cell_type": "code",
   "execution_count": 7,
   "metadata": {},
   "outputs": [],
   "source": [
    "# Drop 'Incident_Number', 'How_Long_Delayed'\n",
    "df_NYCBus1 = df_NYCBus.drop(['Incident_Number', 'How_Long_Delayed'], axis = 1)\n",
    "df_NYCBus1.reset_index(drop=True,  inplace=True)"
   ]
  },
  {
   "cell_type": "code",
   "execution_count": 8,
   "metadata": {},
   "outputs": [
    {
     "data": {
      "text/plain": [
       "School_Year                        0\n",
       "Busbreakdown_ID                    0\n",
       "Run_Type                           0\n",
       "Bus_No                             0\n",
       "Route_Number                       0\n",
       "Reason                             0\n",
       "Schools_Serviced                   0\n",
       "Occurred_On                        0\n",
       "Created_On                         0\n",
       "Boro                               0\n",
       "Bus_Company_Name                   0\n",
       "Number_Of_Students_On_The_Bus      0\n",
       "Has_Contractor_Notified_Schools    0\n",
       "Has_Contractor_Notified_Parents    0\n",
       "Have_You_Alerted_OPT               0\n",
       "Informed_On                        0\n",
       "Last_Updated_On                    0\n",
       "Breakdown_or_Running_Late          0\n",
       "School_Age_or_PreK                 0\n",
       "dtype: int64"
      ]
     },
     "execution_count": 8,
     "metadata": {},
     "output_type": "execute_result"
    }
   ],
   "source": [
    "# Remove 'NaN' and 'null' values\n",
    "df_NYCBus2 = df_NYCBus1.dropna();\n",
    "df_NYCBus2.reset_index(drop=True,  inplace=True)\n",
    "\n",
    "# Display# Display number of 'NaN' or 'null' values exist in the modified dataset\n",
    "df_NYCBus2.isnull().sum()"
   ]
  },
  {
   "cell_type": "markdown",
   "metadata": {},
   "source": [
    "Now it has appeared that we have removed all the unknown values. For our exploratory analysis and dashboard, the dataset is sufficiently cleaned."
   ]
  },
  {
   "cell_type": "markdown",
   "metadata": {},
   "source": [
    "## Exploratory Data Analysis"
   ]
  },
  {
   "cell_type": "markdown",
   "metadata": {},
   "source": [
    "Let's explore a couple this dataset in a few basic ways. To begin, let's look at the reasons for the bus breakdowns."
   ]
  },
  {
   "cell_type": "code",
   "execution_count": 9,
   "metadata": {},
   "outputs": [
    {
     "data": {
      "text/plain": [
       "Text(0.5, 0, 'Reason')"
      ]
     },
     "execution_count": 9,
     "metadata": {},
     "output_type": "execute_result"
    },
    {
     "data": {
      "image/png": "[encoded data removed]",
      "text/plain": [
       "<Figure size 1080x864 with 1 Axes>"
      ]
     },
     "metadata": {
      "needs_background": "light"
     },
     "output_type": "display_data"
    }
   ],
   "source": [
    "# Determine Reasons for Bus Breakdowns\n",
    "plt.figure(figsize=(15,12))\n",
    "df_NYCBus2['Reason'].value_counts()[:20].plot(kind='bar')\n",
    "plt.title('Reasons for NYC Bus Breakdowns')\n",
    "plt.ylabel('# of Breakdowns')\n",
    "plt.xlabel('Reason')"
   ]
  },
  {
   "cell_type": "markdown",
   "metadata": {},
   "source": [
    "As we can see, heavy traffic is cited as the most common reason for bus breakdowns. Let's compare this reason against the column 'breakdowns or running late.'"
   ]
  },
  {
   "cell_type": "code",
   "execution_count": 10,
   "metadata": {},
   "outputs": [
    {
     "data": {
      "text/plain": [
       "Text(0.5, 0, 'Reason')"
      ]
     },
     "execution_count": 10,
     "metadata": {},
     "output_type": "execute_result"
    },
    {
     "data": {
      "image/png": "[encoded data removed]",
      "text/plain": [
       "<Figure size 1080x864 with 1 Axes>"
      ]
     },
     "metadata": {
      "needs_background": "light"
     },
     "output_type": "display_data"
    }
   ],
   "source": [
    "# Breakdowns vs. Running Late\n",
    "plt.figure(figsize=(15,12))\n",
    "df_NYCBus2['Breakdown_or_Running_Late'].value_counts()[:20].plot(kind='bar')\n",
    "plt.title('NYC Bus Breakdowns or Running Late?')\n",
    "plt.ylabel('# of Incidents')\n",
    "plt.xlabel('Reason')"
   ]
  },
  {
   "cell_type": "markdown",
   "metadata": {},
   "source": [
    "Approximately 90% of the bus 'breakdowns' are actually buses running late due to heavy traffic. Now let's take a look where the bus delays occur."
   ]
  },
  {
   "cell_type": "code",
   "execution_count": 11,
   "metadata": {},
   "outputs": [
    {
     "data": {
      "text/plain": [
       "Text(0.5, 0, 'Borough')"
      ]
     },
     "execution_count": 11,
     "metadata": {},
     "output_type": "execute_result"
    },
    {
     "data": {
      "image/png": "[encoded data removed]",
      "text/plain": [
       "<Figure size 1080x864 with 1 Axes>"
      ]
     },
     "metadata": {
      "needs_background": "light"
     },
     "output_type": "display_data"
    }
   ],
   "source": [
    "# Determine which boroughs have delays/breakdowns\n",
    "plt.figure(figsize=(15,12))\n",
    "df_NYCBus2['Boro'].value_counts()[:20].plot(kind='bar')\n",
    "plt.title('NYC Bus Breakdowns by Borough')\n",
    "plt.ylabel('# of Incidents')\n",
    "plt.xlabel('Borough')"
   ]
  },
  {
   "cell_type": "markdown",
   "metadata": {},
   "source": [
    "According to the plot, the most incidents occur in Manhattan, Bronx and Brooklyn. This observation tracks very well with population density.\n",
    "\n",
    "[https://www.census.gov/quickfacts/fact/table/newyorkcitynewyork,bronxcountybronxboroughnewyork,kingscountybrooklynboroughnewyork,newyorkcountymanhattanboroughnewyork,queenscountyqueensboroughnewyork,richmondcountystatenislandboroughnewyork/PST045219]\n",
    "\n",
    "Let's see if there is a correlation with the number of students on the bus and the number of incidents."
   ]
  },
  {
   "cell_type": "code",
   "execution_count": 13,
   "metadata": {},
   "outputs": [
    {
     "data": {
      "text/plain": [
       "Text(0.5, 0, '# of Students on Bus')"
      ]
     },
     "execution_count": 13,
     "metadata": {},
     "output_type": "execute_result"
    },
    {
     "data": {
      "image/png": "[encoded data removed]",
      "text/plain": [
       "<Figure size 1080x864 with 1 Axes>"
      ]
     },
     "metadata": {
      "needs_background": "light"
     },
     "output_type": "display_data"
    }
   ],
   "source": [
    "# Determine which boroughs have delays/breakdowns\n",
    "plt.figure(figsize=(15,12))\n",
    "df_NYCBus2['Number_Of_Students_On_The_Bus'].value_counts()[:20].plot(kind='bar')\n",
    "plt.title('NYC Bus Breakdowns by # of Students on Bus')\n",
    "plt.ylabel('# of Incidents')\n",
    "plt.xlabel('# of Students on Bus')"
   ]
  },
  {
   "cell_type": "markdown",
   "metadata": {},
   "source": [
    "The vast majority of incidents occur with no students actually on the bus. Possible reasons for this observation include (a) delays in reaching students waiting to be picked up for school (b) delays in dropping them off possibly during rush hour and (c) delays in reaching their final destinations for the evening (again possibly during rush hour).\n",
    "\n",
    "To round out this part of our project, let's see if the contractor is notifying both the parents and the schools."
   ]
  },
  {
   "cell_type": "code",
   "execution_count": 14,
   "metadata": {},
   "outputs": [
    {
     "data": {
      "text/plain": [
       "Text(0.5, 0, 'Notifications: Yes or No?')"
      ]
     },
     "execution_count": 14,
     "metadata": {},
     "output_type": "execute_result"
    },
    {
     "data": {
      "image/png": "[encoded data removed]",
      "text/plain": [
       "<Figure size 1080x864 with 1 Axes>"
      ]
     },
     "metadata": {
      "needs_background": "light"
     },
     "output_type": "display_data"
    }
   ],
   "source": [
    "# Are Parents notified of a delay?\n",
    "plt.figure(figsize=(15,12))\n",
    "df_NYCBus2['Has_Contractor_Notified_Parents'].value_counts()[:20].plot(kind='bar')\n",
    "plt.title('NYC Bus Breakdowns: Are Parents Notified?')\n",
    "plt.ylabel('# of Incidents')\n",
    "plt.xlabel('Notifications: Yes or No?')"
   ]
  },
  {
   "cell_type": "markdown",
   "metadata": {},
   "source": [
    "In roughly 1/4 of the cases, the parents are not notified of delays. What about the schools?"
   ]
  },
  {
   "cell_type": "code",
   "execution_count": 15,
   "metadata": {},
   "outputs": [
    {
     "data": {
      "text/plain": [
       "Text(0.5, 0, 'Notifications: Yes or No?')"
      ]
     },
     "execution_count": 15,
     "metadata": {},
     "output_type": "execute_result"
    },
    {
     "data": {
      "image/png": "[encoded data removed]",
      "text/plain": [
       "<Figure size 1080x864 with 1 Axes>"
      ]
     },
     "metadata": {
      "needs_background": "light"
     },
     "output_type": "display_data"
    }
   ],
   "source": [
    "# Are Schools notified of a delay?\n",
    "plt.figure(figsize=(15,12))\n",
    "df_NYCBus2['Has_Contractor_Notified_Schools'].value_counts()[:20].plot(kind='bar')\n",
    "plt.title('NYC Bus Breakdowns: Are Parents Notified?')\n",
    "plt.ylabel('# of Incidents')\n",
    "plt.xlabel('Notifications: Yes or No?')"
   ]
  },
  {
   "cell_type": "markdown",
   "metadata": {},
   "source": [
    "In the case of the schools, the vast majority (>90%) appear to be notified."
   ]
  },
  {
   "cell_type": "code",
   "execution_count": null,
   "metadata": {},
   "outputs": [],
   "source": []
  }
 ],
 "metadata": {
  "kernelspec": {
   "display_name": "Python 3",
   "language": "python",
   "name": "python3"
  },
  "language_info": {
   "codemirror_mode": {
    "name": "ipython",
    "version": 3
   },
   "file_extension": ".py",
   "mimetype": "text/x-python",
   "name": "python",
   "nbconvert_exporter": "python",
   "pygments_lexer": "ipython3",
   "version": "3.8.5"
  }
 },
 "nbformat": 4,
 "nbformat_minor": 4
}
