{
 "cells": [
  {
   "cell_type": "markdown",
   "id": "b822af57",
   "metadata": {},
   "source": [
    "# Car Buying Analysis"
   ]
  },
  {
   "cell_type": "markdown",
   "id": "858b0843",
   "metadata": {},
   "source": [
    "## by Justin Sierchio"
   ]
  },
  {
   "cell_type": "markdown",
   "id": "17b8bf97",
   "metadata": {},
   "source": [
    "In this analysis, we will be looking at car buying data and discussing trends:\n",
    "\n",
    "This data is in .csv file format and is from Kaggle at: https://www.kaggle.com/brijlaldhankour/car-buyers/download. More information related to the dataset can be found at: https://www.kaggle.com/brijlaldhankour/car-buyers."
   ]
  },
  {
   "cell_type": "markdown",
   "id": "19cf9c15",
   "metadata": {},
   "source": [
    "## Notebook Initialization"
   ]
  },
  {
   "cell_type": "code",
   "execution_count": 1,
   "id": "f553350f",
   "metadata": {},
   "outputs": [
    {
     "name": "stdout",
     "output_type": "stream",
     "text": [
      "Initial libraries loaded into workspace!\n"
     ]
    }
   ],
   "source": [
    "# Import Relevant Libraries\n",
    "import pandas as pd\n",
    "import numpy as np\n",
    "import seaborn as sns \n",
    "import matplotlib.pyplot as plt\n",
    "\n",
    "print('Initial libraries loaded into workspace!')"
   ]
  },
  {
   "cell_type": "code",
   "execution_count": 2,
   "id": "a4db9287",
   "metadata": {},
   "outputs": [
    {
     "name": "stdout",
     "output_type": "stream",
     "text": [
      "Datasets uploaded!\n"
     ]
    }
   ],
   "source": [
    "# Upload Datasets for Study\n",
    "df_CARBUYERS = pd.read_csv(\"CarBuyers.csv\");\n",
    "\n",
    "print('Datasets uploaded!');"
   ]
  },
  {
   "cell_type": "code",
   "execution_count": 3,
   "id": "02bd271a",
   "metadata": {},
   "outputs": [
    {
     "data": {
      "text/html": [
       "<div>\n",
       "<style scoped>\n",
       "    .dataframe tbody tr th:only-of-type {\n",
       "        vertical-align: middle;\n",
       "    }\n",
       "\n",
       "    .dataframe tbody tr th {\n",
       "        vertical-align: top;\n",
       "    }\n",
       "\n",
       "    .dataframe thead th {\n",
       "        text-align: right;\n",
       "    }\n",
       "</style>\n",
       "<table border=\"1\" class=\"dataframe\">\n",
       "  <thead>\n",
       "    <tr style=\"text-align: right;\">\n",
       "      <th></th>\n",
       "      <th>Manufacturer</th>\n",
       "      <th>Model</th>\n",
       "      <th>Price</th>\n",
       "      <th>Transmission</th>\n",
       "      <th>Power</th>\n",
       "      <th>Engine CC</th>\n",
       "      <th>Fuel</th>\n",
       "      <th>Male</th>\n",
       "      <th>Female</th>\n",
       "      <th>Unknown</th>\n",
       "      <th>Total</th>\n",
       "    </tr>\n",
       "  </thead>\n",
       "  <tbody>\n",
       "    <tr>\n",
       "      <th>0</th>\n",
       "      <td>Ford</td>\n",
       "      <td>Focus</td>\n",
       "      <td>30.619322</td>\n",
       "      <td>5.966102</td>\n",
       "      <td>94.033898</td>\n",
       "      <td>1497.169492</td>\n",
       "      <td>petrol</td>\n",
       "      <td>814172</td>\n",
       "      <td>422731</td>\n",
       "      <td>56,487</td>\n",
       "      <td>1293390</td>\n",
       "    </tr>\n",
       "    <tr>\n",
       "      <th>1</th>\n",
       "      <td>Ford</td>\n",
       "      <td>Fiesta</td>\n",
       "      <td>18.532143</td>\n",
       "      <td>5.714286</td>\n",
       "      <td>68.571429</td>\n",
       "      <td>1166.142857</td>\n",
       "      <td>petrol</td>\n",
       "      <td>554879</td>\n",
       "      <td>631666</td>\n",
       "      <td>54,057</td>\n",
       "      <td>1240602</td>\n",
       "    </tr>\n",
       "    <tr>\n",
       "      <th>2</th>\n",
       "      <td>Volkswagen</td>\n",
       "      <td>Golf</td>\n",
       "      <td>31.242154</td>\n",
       "      <td>6.164835</td>\n",
       "      <td>89.461538</td>\n",
       "      <td>1537.406593</td>\n",
       "      <td>petrol</td>\n",
       "      <td>483216</td>\n",
       "      <td>310604</td>\n",
       "      <td>47,563</td>\n",
       "      <td>841383</td>\n",
       "    </tr>\n",
       "    <tr>\n",
       "      <th>3</th>\n",
       "      <td>Renault</td>\n",
       "      <td>Clio</td>\n",
       "      <td>22.100000</td>\n",
       "      <td>5.615385</td>\n",
       "      <td>75.576923</td>\n",
       "      <td>1219.653846</td>\n",
       "      <td>petrol</td>\n",
       "      <td>241287</td>\n",
       "      <td>312556</td>\n",
       "      <td>28,004</td>\n",
       "      <td>581847</td>\n",
       "    </tr>\n",
       "    <tr>\n",
       "      <th>4</th>\n",
       "      <td>BMW</td>\n",
       "      <td>320i</td>\n",
       "      <td>47.848370</td>\n",
       "      <td>6.444444</td>\n",
       "      <td>126.111111</td>\n",
       "      <td>1995.777778</td>\n",
       "      <td>petrol</td>\n",
       "      <td>408016</td>\n",
       "      <td>115843</td>\n",
       "      <td>29,125</td>\n",
       "      <td>552984</td>\n",
       "    </tr>\n",
       "  </tbody>\n",
       "</table>\n",
       "</div>"
      ],
      "text/plain": [
       "  Manufacturer   Model      Price  Transmission       Power    Engine CC  \\\n",
       "0         Ford   Focus  30.619322      5.966102   94.033898  1497.169492   \n",
       "1         Ford  Fiesta  18.532143      5.714286   68.571429  1166.142857   \n",
       "2   Volkswagen    Golf  31.242154      6.164835   89.461538  1537.406593   \n",
       "3      Renault    Clio  22.100000      5.615385   75.576923  1219.653846   \n",
       "4          BMW    320i  47.848370      6.444444  126.111111  1995.777778   \n",
       "\n",
       "     Fuel    Male  Female Unknown    Total  \n",
       "0  petrol  814172  422731  56,487  1293390  \n",
       "1  petrol  554879  631666  54,057  1240602  \n",
       "2  petrol  483216  310604  47,563   841383  \n",
       "3  petrol  241287  312556  28,004   581847  \n",
       "4  petrol  408016  115843  29,125   552984  "
      ]
     },
     "execution_count": 3,
     "metadata": {},
     "output_type": "execute_result"
    }
   ],
   "source": [
    "# Display 1st 5 rows from dataset\n",
    "df_CARBUYERS.head()"
   ]
  },
  {
   "cell_type": "markdown",
   "id": "283bab22",
   "metadata": {},
   "source": [
    "## Data Cleaning"
   ]
  },
  {
   "cell_type": "markdown",
   "id": "4da2f9f8",
   "metadata": {},
   "source": [
    "Let's begin by looking at the quality of the dataset."
   ]
  },
  {
   "cell_type": "code",
   "execution_count": 4,
   "id": "8e6bf959",
   "metadata": {},
   "outputs": [
    {
     "name": "stdout",
     "output_type": "stream",
     "text": [
      "<class 'pandas.core.frame.DataFrame'>\n",
      "RangeIndex: 6092 entries, 0 to 6091\n",
      "Data columns (total 11 columns):\n",
      " #   Column        Non-Null Count  Dtype  \n",
      "---  ------        --------------  -----  \n",
      " 0   Manufacturer  6092 non-null   object \n",
      " 1   Model         6092 non-null   object \n",
      " 2   Price         6092 non-null   float64\n",
      " 3   Transmission  6092 non-null   float64\n",
      " 4   Power         6092 non-null   float64\n",
      " 5   Engine CC     6092 non-null   float64\n",
      " 6   Fuel          6092 non-null   object \n",
      " 7   Male          6092 non-null   object \n",
      " 8   Female        6092 non-null   object \n",
      " 9   Unknown       6092 non-null   object \n",
      " 10  Total         6092 non-null   object \n",
      "dtypes: float64(4), object(7)\n",
      "memory usage: 523.7+ KB\n"
     ]
    }
   ],
   "source": [
    "# See if there is any missing data\n",
    "df_CARBUYERS.info()"
   ]
  },
  {
   "cell_type": "markdown",
   "id": "5d431269",
   "metadata": {},
   "source": [
    "We see that the dataset appears to have no incomplete values. Let's check for null values."
   ]
  },
  {
   "cell_type": "code",
   "execution_count": 5,
   "id": "1816d3b5",
   "metadata": {},
   "outputs": [
    {
     "data": {
      "text/plain": [
       "Manufacturer    0\n",
       "Model           0\n",
       "Price           0\n",
       "Transmission    0\n",
       "Power           0\n",
       "Engine CC       0\n",
       "Fuel            0\n",
       "Male            0\n",
       "Female          0\n",
       "Unknown         0\n",
       "Total           0\n",
       "dtype: int64"
      ]
     },
     "execution_count": 5,
     "metadata": {},
     "output_type": "execute_result"
    }
   ],
   "source": [
    "# Check for null values\n",
    "df_CARBUYERS.isnull().sum()"
   ]
  },
  {
   "cell_type": "markdown",
   "id": "173b9c32",
   "metadata": {},
   "source": [
    "We see that the dataset has no null values."
   ]
  },
  {
   "cell_type": "code",
   "execution_count": null,
   "id": "b1e5d23d",
   "metadata": {},
   "outputs": [],
   "source": []
  }
 ],
 "metadata": {
  "kernelspec": {
   "display_name": "Python 3",
   "language": "python",
   "name": "python3"
  },
  "language_info": {
   "codemirror_mode": {
    "name": "ipython",
    "version": 3
   },
   "file_extension": ".py",
   "mimetype": "text/x-python",
   "name": "python",
   "nbconvert_exporter": "python",
   "pygments_lexer": "ipython3",
   "version": "3.8.10"
  }
 },
 "nbformat": 4,
 "nbformat_minor": 5
}
