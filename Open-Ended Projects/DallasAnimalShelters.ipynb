{
 "cells": [
  {
   "cell_type": "markdown",
   "metadata": {},
   "source": [
    "# Dallas Animal Shelter Analysis"
   ]
  },
  {
   "cell_type": "markdown",
   "metadata": {},
   "source": [
    "## by Justin Sierchio"
   ]
  },
  {
   "cell_type": "markdown",
   "metadata": {},
   "source": [
    "Since I reside in the Dallas/Ft. Worth Metroplex, I was particularly curious about how animals taken to local shelters. This Jupyter Notebook will be examining animal shelter data for the City of Dallas, TX. \n",
    "\n",
    "This data is in .csv file format and is from dallasopendata.com . It can be found at:https://www.dallasopendata.com/api/views/7h2m-3um5/rows.csv?accessType=DOWNLOAD. Additional related information can be found at: https://www.dallasopendata.com/City-Services/FY2020-Dallas-Animal-Shelter-Data/7h2m-3um5."
   ]
  },
  {
   "cell_type": "markdown",
   "metadata": {},
   "source": [
    "## Notebook Initialization"
   ]
  },
  {
   "cell_type": "code",
   "execution_count": 3,
   "metadata": {},
   "outputs": [
    {
     "name": "stdout",
     "output_type": "stream",
     "text": [
      "Initial libraries loaded into workspace!\n"
     ]
    }
   ],
   "source": [
    "# Import Relevant Libraries\n",
    "import pandas as pd\n",
    "import numpy as np\n",
    "import seaborn as sns \n",
    "import matplotlib.pyplot as plt\n",
    "\n",
    "print('Initial libraries loaded into workspace!')"
   ]
  },
  {
   "cell_type": "code",
   "execution_count": 4,
   "metadata": {},
   "outputs": [
    {
     "name": "stdout",
     "output_type": "stream",
     "text": [
      "Datasets uploaded!\n"
     ]
    },
    {
     "name": "stderr",
     "output_type": "stream",
     "text": [
      "C:\\Users\\jmsie\\anaconda3\\lib\\site-packages\\IPython\\core\\interactiveshell.py:3071: DtypeWarning: Columns (10) have mixed types.Specify dtype option on import or set low_memory=False.\n",
      "  has_raised = await self.run_ast_nodes(code_ast.body, cell_name,\n"
     ]
    }
   ],
   "source": [
    "# Upload Datasets for Study\n",
    "df_DAL = pd.read_csv(\"FY2020_Dallas_Animal_Shelter_Data.csv\");\n",
    "\n",
    "print('Datasets uploaded!');"
   ]
  },
  {
   "cell_type": "code",
   "execution_count": 5,
   "metadata": {},
   "outputs": [
    {
     "data": {
      "text/html": [
       "<div>\n",
       "<style scoped>\n",
       "    .dataframe tbody tr th:only-of-type {\n",
       "        vertical-align: middle;\n",
       "    }\n",
       "\n",
       "    .dataframe tbody tr th {\n",
       "        vertical-align: top;\n",
       "    }\n",
       "\n",
       "    .dataframe thead th {\n",
       "        text-align: right;\n",
       "    }\n",
       "</style>\n",
       "<table border=\"1\" class=\"dataframe\">\n",
       "  <thead>\n",
       "    <tr style=\"text-align: right;\">\n",
       "      <th></th>\n",
       "      <th>Animal Id</th>\n",
       "      <th>Animal Type</th>\n",
       "      <th>Animal Breed</th>\n",
       "      <th>Kennel Number</th>\n",
       "      <th>Kennel Status</th>\n",
       "      <th>Tag Type</th>\n",
       "      <th>Activity Number</th>\n",
       "      <th>Activity Sequence</th>\n",
       "      <th>Source Id</th>\n",
       "      <th>Census Tract</th>\n",
       "      <th>...</th>\n",
       "      <th>Outcome Time</th>\n",
       "      <th>Receipt Number</th>\n",
       "      <th>Impound Number</th>\n",
       "      <th>Service Request Number</th>\n",
       "      <th>Outcome Condition</th>\n",
       "      <th>Chip Status</th>\n",
       "      <th>Animal Origin</th>\n",
       "      <th>Additional Information</th>\n",
       "      <th>Month</th>\n",
       "      <th>Year</th>\n",
       "    </tr>\n",
       "  </thead>\n",
       "  <tbody>\n",
       "    <tr>\n",
       "      <th>0</th>\n",
       "      <td>A0144701</td>\n",
       "      <td>DOG</td>\n",
       "      <td>HAVANESE</td>\n",
       "      <td>VT 12</td>\n",
       "      <td>IMPOUNDED</td>\n",
       "      <td>NaN</td>\n",
       "      <td>NaN</td>\n",
       "      <td>1</td>\n",
       "      <td>P0098773</td>\n",
       "      <td>006301</td>\n",
       "      <td>...</td>\n",
       "      <td>11:31:00</td>\n",
       "      <td>R19-558731</td>\n",
       "      <td>K19-486742</td>\n",
       "      <td>NaN</td>\n",
       "      <td>APP SICK</td>\n",
       "      <td>SCAN CHIP</td>\n",
       "      <td>OVER THE COUNTER</td>\n",
       "      <td>RETURNED TO OWNER</td>\n",
       "      <td>NOV.2019</td>\n",
       "      <td>FY2020</td>\n",
       "    </tr>\n",
       "    <tr>\n",
       "      <th>1</th>\n",
       "      <td>A0442587</td>\n",
       "      <td>DOG</td>\n",
       "      <td>TERRIER MIX</td>\n",
       "      <td>FREEZER</td>\n",
       "      <td>IMPOUNDED</td>\n",
       "      <td>NaN</td>\n",
       "      <td>NaN</td>\n",
       "      <td>1</td>\n",
       "      <td>P0492284</td>\n",
       "      <td>007102</td>\n",
       "      <td>...</td>\n",
       "      <td>00:00:00</td>\n",
       "      <td>NaN</td>\n",
       "      <td>K19-486954</td>\n",
       "      <td>NaN</td>\n",
       "      <td>DEAD</td>\n",
       "      <td>SCAN CHIP</td>\n",
       "      <td>OVER THE COUNTER</td>\n",
       "      <td>NaN</td>\n",
       "      <td>NOV.2019</td>\n",
       "      <td>FY2020</td>\n",
       "    </tr>\n",
       "    <tr>\n",
       "      <th>2</th>\n",
       "      <td>A0458972</td>\n",
       "      <td>DOG</td>\n",
       "      <td>CATAHOULA</td>\n",
       "      <td>RECEIVING</td>\n",
       "      <td>UNAVAILABLE</td>\n",
       "      <td>NaN</td>\n",
       "      <td>A19-195601</td>\n",
       "      <td>1</td>\n",
       "      <td>P9991718</td>\n",
       "      <td>004600</td>\n",
       "      <td>...</td>\n",
       "      <td>13:36:00</td>\n",
       "      <td>NaN</td>\n",
       "      <td>K19-482022</td>\n",
       "      <td>NaN</td>\n",
       "      <td>TREATABLE REHABILITABLE NON-CONTAGIOUS</td>\n",
       "      <td>SCAN NO CHIP</td>\n",
       "      <td>SWEEP</td>\n",
       "      <td>NaN</td>\n",
       "      <td>OCT.2019</td>\n",
       "      <td>FY2020</td>\n",
       "    </tr>\n",
       "    <tr>\n",
       "      <th>3</th>\n",
       "      <td>A0525642</td>\n",
       "      <td>DOG</td>\n",
       "      <td>GERM SHEPHERD</td>\n",
       "      <td>INJD 001</td>\n",
       "      <td>IMPOUNDED</td>\n",
       "      <td>NaN</td>\n",
       "      <td>A19-196573</td>\n",
       "      <td>1</td>\n",
       "      <td>P0903792</td>\n",
       "      <td>016605</td>\n",
       "      <td>...</td>\n",
       "      <td>17:35:00</td>\n",
       "      <td>NaN</td>\n",
       "      <td>K19-483073</td>\n",
       "      <td>NaN</td>\n",
       "      <td>TREATABLE REHABILITABLE NON-CONTAGIOUS</td>\n",
       "      <td>SCAN CHIP</td>\n",
       "      <td>SWEEP</td>\n",
       "      <td>TAGGED</td>\n",
       "      <td>OCT.2019</td>\n",
       "      <td>FY2020</td>\n",
       "    </tr>\n",
       "    <tr>\n",
       "      <th>4</th>\n",
       "      <td>A0565586</td>\n",
       "      <td>DOG</td>\n",
       "      <td>SILKY TERRIER</td>\n",
       "      <td>LFD 119</td>\n",
       "      <td>UNAVAILABLE</td>\n",
       "      <td>NaN</td>\n",
       "      <td>NaN</td>\n",
       "      <td>1</td>\n",
       "      <td>P0890077</td>\n",
       "      <td>006900</td>\n",
       "      <td>...</td>\n",
       "      <td>12:57:00</td>\n",
       "      <td>R19-558750</td>\n",
       "      <td>K19-486694</td>\n",
       "      <td>NaN</td>\n",
       "      <td>APP WNL</td>\n",
       "      <td>SCAN CHIP</td>\n",
       "      <td>OVER THE COUNTER</td>\n",
       "      <td>RETURNED TO OWNER</td>\n",
       "      <td>NOV.2019</td>\n",
       "      <td>FY2020</td>\n",
       "    </tr>\n",
       "  </tbody>\n",
       "</table>\n",
       "<p>5 rows × 34 columns</p>\n",
       "</div>"
      ],
      "text/plain": [
       "  Animal Id Animal Type   Animal Breed Kennel Number Kennel Status  Tag Type  \\\n",
       "0  A0144701         DOG       HAVANESE         VT 12     IMPOUNDED       NaN   \n",
       "1  A0442587         DOG    TERRIER MIX       FREEZER     IMPOUNDED       NaN   \n",
       "2  A0458972         DOG      CATAHOULA     RECEIVING   UNAVAILABLE       NaN   \n",
       "3  A0525642         DOG  GERM SHEPHERD      INJD 001     IMPOUNDED       NaN   \n",
       "4  A0565586         DOG  SILKY TERRIER       LFD 119   UNAVAILABLE       NaN   \n",
       "\n",
       "  Activity Number  Activity Sequence Source Id Census Tract  ... Outcome Time  \\\n",
       "0             NaN                  1  P0098773       006301  ...     11:31:00   \n",
       "1             NaN                  1  P0492284       007102  ...     00:00:00   \n",
       "2      A19-195601                  1  P9991718       004600  ...     13:36:00   \n",
       "3      A19-196573                  1  P0903792       016605  ...     17:35:00   \n",
       "4             NaN                  1  P0890077       006900  ...     12:57:00   \n",
       "\n",
       "  Receipt Number Impound Number  Service Request Number  \\\n",
       "0     R19-558731     K19-486742                     NaN   \n",
       "1            NaN     K19-486954                     NaN   \n",
       "2            NaN     K19-482022                     NaN   \n",
       "3            NaN     K19-483073                     NaN   \n",
       "4     R19-558750     K19-486694                     NaN   \n",
       "\n",
       "                        Outcome Condition   Chip Status     Animal Origin  \\\n",
       "0                                APP SICK     SCAN CHIP  OVER THE COUNTER   \n",
       "1                                    DEAD     SCAN CHIP  OVER THE COUNTER   \n",
       "2  TREATABLE REHABILITABLE NON-CONTAGIOUS  SCAN NO CHIP             SWEEP   \n",
       "3  TREATABLE REHABILITABLE NON-CONTAGIOUS     SCAN CHIP             SWEEP   \n",
       "4                                 APP WNL     SCAN CHIP  OVER THE COUNTER   \n",
       "\n",
       "  Additional Information     Month    Year  \n",
       "0      RETURNED TO OWNER  NOV.2019  FY2020  \n",
       "1                    NaN  NOV.2019  FY2020  \n",
       "2                    NaN  OCT.2019  FY2020  \n",
       "3                 TAGGED  OCT.2019  FY2020  \n",
       "4      RETURNED TO OWNER  NOV.2019  FY2020  \n",
       "\n",
       "[5 rows x 34 columns]"
      ]
     },
     "execution_count": 5,
     "metadata": {},
     "output_type": "execute_result"
    }
   ],
   "source": [
    "# Dallas Animal Shelter dataset and display 1st 5 rows\n",
    "df_DAL.head()"
   ]
  },
  {
   "cell_type": "code",
   "execution_count": null,
   "metadata": {},
   "outputs": [],
   "source": []
  }
 ],
 "metadata": {
  "kernelspec": {
   "display_name": "Python 3",
   "language": "python",
   "name": "python3"
  },
  "language_info": {
   "codemirror_mode": {
    "name": "ipython",
    "version": 3
   },
   "file_extension": ".py",
   "mimetype": "text/x-python",
   "name": "python",
   "nbconvert_exporter": "python",
   "pygments_lexer": "ipython3",
   "version": "3.8.3"
  }
 },
 "nbformat": 4,
 "nbformat_minor": 4
}
