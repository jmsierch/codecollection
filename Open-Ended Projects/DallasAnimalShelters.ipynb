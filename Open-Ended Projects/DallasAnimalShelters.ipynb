{
 "cells": [
  {
   "cell_type": "markdown",
   "metadata": {},
   "source": [
    "# Dallas Animal Shelter Analysis"
   ]
  },
  {
   "cell_type": "markdown",
   "metadata": {},
   "source": [
    "## by Justin Sierchio"
   ]
  },
  {
   "cell_type": "markdown",
   "metadata": {},
   "source": [
    "Since I reside in the Dallas/Ft. Worth Metroplex, I was particularly curious about the outcomes of animals taken to local shelters. This Jupyter Notebook will be examining animal shelter data for the City of Dallas, TX. \n",
    "\n",
    "This data is in .csv file format and is from dallasopendata.com. It can be found at:https://www.dallasopendata.com/api/views/7h2m-3um5/rows.csv?accessType=DOWNLOAD. Additional related information can be found at: https://www.dallasopendata.com/City-Services/FY2020-Dallas-Animal-Shelter-Data/7h2m-3um5."
   ]
  },
  {
   "cell_type": "markdown",
   "metadata": {},
   "source": [
    "## Notebook Initialization"
   ]
  },
  {
   "cell_type": "code",
   "execution_count": 1,
   "metadata": {},
   "outputs": [
    {
     "name": "stdout",
     "output_type": "stream",
     "text": [
      "Initial libraries loaded into workspace!\n"
     ]
    }
   ],
   "source": [
    "# Import Relevant Libraries\n",
    "import pandas as pd\n",
    "import numpy as np\n",
    "import seaborn as sns \n",
    "import matplotlib.pyplot as plt\n",
    "\n",
    "print('Initial libraries loaded into workspace!')"
   ]
  },
  {
   "cell_type": "code",
   "execution_count": 2,
   "metadata": {},
   "outputs": [
    {
     "name": "stdout",
     "output_type": "stream",
     "text": [
      "Datasets uploaded!\n"
     ]
    },
    {
     "name": "stderr",
     "output_type": "stream",
     "text": [
      "C:\\Users\\jmsie\\anaconda3\\lib\\site-packages\\IPython\\core\\interactiveshell.py:3071: DtypeWarning: Columns (10) have mixed types.Specify dtype option on import or set low_memory=False.\n",
      "  has_raised = await self.run_ast_nodes(code_ast.body, cell_name,\n"
     ]
    }
   ],
   "source": [
    "# Upload Datasets for Study\n",
    "df_DAL = pd.read_csv(\"FY2020_Dallas_Animal_Shelter_Data.csv\");\n",
    "\n",
    "print('Datasets uploaded!');"
   ]
  },
  {
   "cell_type": "code",
   "execution_count": 3,
   "metadata": {},
   "outputs": [
    {
     "data": {
      "text/html": [
       "<div>\n",
       "<style scoped>\n",
       "    .dataframe tbody tr th:only-of-type {\n",
       "        vertical-align: middle;\n",
       "    }\n",
       "\n",
       "    .dataframe tbody tr th {\n",
       "        vertical-align: top;\n",
       "    }\n",
       "\n",
       "    .dataframe thead th {\n",
       "        text-align: right;\n",
       "    }\n",
       "</style>\n",
       "<table border=\"1\" class=\"dataframe\">\n",
       "  <thead>\n",
       "    <tr style=\"text-align: right;\">\n",
       "      <th></th>\n",
       "      <th>Animal Id</th>\n",
       "      <th>Animal Type</th>\n",
       "      <th>Animal Breed</th>\n",
       "      <th>Kennel Number</th>\n",
       "      <th>Kennel Status</th>\n",
       "      <th>Tag Type</th>\n",
       "      <th>Activity Number</th>\n",
       "      <th>Activity Sequence</th>\n",
       "      <th>Source Id</th>\n",
       "      <th>Census Tract</th>\n",
       "      <th>...</th>\n",
       "      <th>Outcome Time</th>\n",
       "      <th>Receipt Number</th>\n",
       "      <th>Impound Number</th>\n",
       "      <th>Service Request Number</th>\n",
       "      <th>Outcome Condition</th>\n",
       "      <th>Chip Status</th>\n",
       "      <th>Animal Origin</th>\n",
       "      <th>Additional Information</th>\n",
       "      <th>Month</th>\n",
       "      <th>Year</th>\n",
       "    </tr>\n",
       "  </thead>\n",
       "  <tbody>\n",
       "    <tr>\n",
       "      <th>0</th>\n",
       "      <td>A0144701</td>\n",
       "      <td>DOG</td>\n",
       "      <td>HAVANESE</td>\n",
       "      <td>VT 12</td>\n",
       "      <td>IMPOUNDED</td>\n",
       "      <td>NaN</td>\n",
       "      <td>NaN</td>\n",
       "      <td>1</td>\n",
       "      <td>P0098773</td>\n",
       "      <td>006301</td>\n",
       "      <td>...</td>\n",
       "      <td>11:31:00</td>\n",
       "      <td>R19-558731</td>\n",
       "      <td>K19-486742</td>\n",
       "      <td>NaN</td>\n",
       "      <td>APP SICK</td>\n",
       "      <td>SCAN CHIP</td>\n",
       "      <td>OVER THE COUNTER</td>\n",
       "      <td>RETURNED TO OWNER</td>\n",
       "      <td>NOV.2019</td>\n",
       "      <td>FY2020</td>\n",
       "    </tr>\n",
       "    <tr>\n",
       "      <th>1</th>\n",
       "      <td>A0442587</td>\n",
       "      <td>DOG</td>\n",
       "      <td>TERRIER MIX</td>\n",
       "      <td>FREEZER</td>\n",
       "      <td>IMPOUNDED</td>\n",
       "      <td>NaN</td>\n",
       "      <td>NaN</td>\n",
       "      <td>1</td>\n",
       "      <td>P0492284</td>\n",
       "      <td>007102</td>\n",
       "      <td>...</td>\n",
       "      <td>00:00:00</td>\n",
       "      <td>NaN</td>\n",
       "      <td>K19-486954</td>\n",
       "      <td>NaN</td>\n",
       "      <td>DEAD</td>\n",
       "      <td>SCAN CHIP</td>\n",
       "      <td>OVER THE COUNTER</td>\n",
       "      <td>NaN</td>\n",
       "      <td>NOV.2019</td>\n",
       "      <td>FY2020</td>\n",
       "    </tr>\n",
       "    <tr>\n",
       "      <th>2</th>\n",
       "      <td>A0458972</td>\n",
       "      <td>DOG</td>\n",
       "      <td>CATAHOULA</td>\n",
       "      <td>RECEIVING</td>\n",
       "      <td>UNAVAILABLE</td>\n",
       "      <td>NaN</td>\n",
       "      <td>A19-195601</td>\n",
       "      <td>1</td>\n",
       "      <td>P9991718</td>\n",
       "      <td>004600</td>\n",
       "      <td>...</td>\n",
       "      <td>13:36:00</td>\n",
       "      <td>NaN</td>\n",
       "      <td>K19-482022</td>\n",
       "      <td>NaN</td>\n",
       "      <td>TREATABLE REHABILITABLE NON-CONTAGIOUS</td>\n",
       "      <td>SCAN NO CHIP</td>\n",
       "      <td>SWEEP</td>\n",
       "      <td>NaN</td>\n",
       "      <td>OCT.2019</td>\n",
       "      <td>FY2020</td>\n",
       "    </tr>\n",
       "    <tr>\n",
       "      <th>3</th>\n",
       "      <td>A0525642</td>\n",
       "      <td>DOG</td>\n",
       "      <td>GERM SHEPHERD</td>\n",
       "      <td>INJD 001</td>\n",
       "      <td>IMPOUNDED</td>\n",
       "      <td>NaN</td>\n",
       "      <td>A19-196573</td>\n",
       "      <td>1</td>\n",
       "      <td>P0903792</td>\n",
       "      <td>016605</td>\n",
       "      <td>...</td>\n",
       "      <td>17:35:00</td>\n",
       "      <td>NaN</td>\n",
       "      <td>K19-483073</td>\n",
       "      <td>NaN</td>\n",
       "      <td>TREATABLE REHABILITABLE NON-CONTAGIOUS</td>\n",
       "      <td>SCAN CHIP</td>\n",
       "      <td>SWEEP</td>\n",
       "      <td>TAGGED</td>\n",
       "      <td>OCT.2019</td>\n",
       "      <td>FY2020</td>\n",
       "    </tr>\n",
       "    <tr>\n",
       "      <th>4</th>\n",
       "      <td>A0565586</td>\n",
       "      <td>DOG</td>\n",
       "      <td>SILKY TERRIER</td>\n",
       "      <td>LFD 119</td>\n",
       "      <td>UNAVAILABLE</td>\n",
       "      <td>NaN</td>\n",
       "      <td>NaN</td>\n",
       "      <td>1</td>\n",
       "      <td>P0890077</td>\n",
       "      <td>006900</td>\n",
       "      <td>...</td>\n",
       "      <td>12:57:00</td>\n",
       "      <td>R19-558750</td>\n",
       "      <td>K19-486694</td>\n",
       "      <td>NaN</td>\n",
       "      <td>APP WNL</td>\n",
       "      <td>SCAN CHIP</td>\n",
       "      <td>OVER THE COUNTER</td>\n",
       "      <td>RETURNED TO OWNER</td>\n",
       "      <td>NOV.2019</td>\n",
       "      <td>FY2020</td>\n",
       "    </tr>\n",
       "  </tbody>\n",
       "</table>\n",
       "<p>5 rows × 34 columns</p>\n",
       "</div>"
      ],
      "text/plain": [
       "  Animal Id Animal Type   Animal Breed Kennel Number Kennel Status  Tag Type  \\\n",
       "0  A0144701         DOG       HAVANESE         VT 12     IMPOUNDED       NaN   \n",
       "1  A0442587         DOG    TERRIER MIX       FREEZER     IMPOUNDED       NaN   \n",
       "2  A0458972         DOG      CATAHOULA     RECEIVING   UNAVAILABLE       NaN   \n",
       "3  A0525642         DOG  GERM SHEPHERD      INJD 001     IMPOUNDED       NaN   \n",
       "4  A0565586         DOG  SILKY TERRIER       LFD 119   UNAVAILABLE       NaN   \n",
       "\n",
       "  Activity Number  Activity Sequence Source Id Census Tract  ... Outcome Time  \\\n",
       "0             NaN                  1  P0098773       006301  ...     11:31:00   \n",
       "1             NaN                  1  P0492284       007102  ...     00:00:00   \n",
       "2      A19-195601                  1  P9991718       004600  ...     13:36:00   \n",
       "3      A19-196573                  1  P0903792       016605  ...     17:35:00   \n",
       "4             NaN                  1  P0890077       006900  ...     12:57:00   \n",
       "\n",
       "  Receipt Number Impound Number  Service Request Number  \\\n",
       "0     R19-558731     K19-486742                     NaN   \n",
       "1            NaN     K19-486954                     NaN   \n",
       "2            NaN     K19-482022                     NaN   \n",
       "3            NaN     K19-483073                     NaN   \n",
       "4     R19-558750     K19-486694                     NaN   \n",
       "\n",
       "                        Outcome Condition   Chip Status     Animal Origin  \\\n",
       "0                                APP SICK     SCAN CHIP  OVER THE COUNTER   \n",
       "1                                    DEAD     SCAN CHIP  OVER THE COUNTER   \n",
       "2  TREATABLE REHABILITABLE NON-CONTAGIOUS  SCAN NO CHIP             SWEEP   \n",
       "3  TREATABLE REHABILITABLE NON-CONTAGIOUS     SCAN CHIP             SWEEP   \n",
       "4                                 APP WNL     SCAN CHIP  OVER THE COUNTER   \n",
       "\n",
       "  Additional Information     Month    Year  \n",
       "0      RETURNED TO OWNER  NOV.2019  FY2020  \n",
       "1                    NaN  NOV.2019  FY2020  \n",
       "2                    NaN  OCT.2019  FY2020  \n",
       "3                 TAGGED  OCT.2019  FY2020  \n",
       "4      RETURNED TO OWNER  NOV.2019  FY2020  \n",
       "\n",
       "[5 rows x 34 columns]"
      ]
     },
     "execution_count": 3,
     "metadata": {},
     "output_type": "execute_result"
    }
   ],
   "source": [
    "# Dallas Animal Shelter dataset and display 1st 5 rows\n",
    "df_DAL.head()"
   ]
  },
  {
   "cell_type": "markdown",
   "metadata": {},
   "source": [
    "Let's describe what each of the columns in this dataset mean.\n",
    "\n",
    "<ul>\n",
    "    <li>Animal ID: ID number for the animal shelter transaction</li>\n",
    "    <li>Animal Type: Basic type of animal</li>\n",
    "    <li>Animal Breed: Breed of the animal</li>\n",
    "    <li>Kennel Number Number of Kennel</li>\n",
    "    <li>Kennel Status: Status of animal in kennel</li>\n",
    "    <li>Tag Type: Type of tag used for animal</li>\n",
    "    <li>Activity number: Unknown</li>\n",
    "    <li>Activity sequence: Unknown</li>\n",
    "    <li>Source ID: ID number for the source of the animal</li>\n",
    "    <li>Census Tract: Unknown</li>\n",
    "    <li>Council District: City Council District for animal source</li>\n",
    "    <li>Intake Type: Was the animal a stray?</li>\n",
    "    <li>Reason: Reason animal was taken into shelter</li>\n",
    "    <li>Staff ID: ID of staff member taking animal into shelter(?)</li>\n",
    "    <li>Intake Date: Date of intake for animal</li>\n",
    "    <li>Intake Time: Time of intake for animal</li>\n",
    "    <li>Due Out: Date animal was due out(?)</li>\n",
    "    <li>Intake Condition: Condition of animal when intake completed</li>\n",
    "    <li>Hold Request: Request for holding animal (i.e. adoption)</li>\n",
    "    <li>Outcome Type: Outcome after intake completed</li>\n",
    "    <li>Outcome Subtype: Specific outcome after intake completed</li>\n",
    "    <li>Outcome Date: Date of outcome for animal</li>\n",
    "    <li>Outcome Time: Time of intake for animal</li>\n",
    "    <li>Receipt Number: Receipt for outcome transaction</li>\n",
    "    <li>Impound Number: Number for impounding animal</li>\n",
    "    <li>Service Request Number: Number for service request</li>\n",
    "    <li>Outcome Condition: condition of animal at outcome</li>\n",
    "    <li>Chip Status: Whether animal was microchipped or not</li>\n",
    "    <li>Animal Origin: Where did animal come from</li>\n",
    "    <li>Additional Information: If given</li>\n",
    "    <li>Month: Month of Transaction</li>\n",
    "    <li>Year: Year of Tranaction</li>"
   ]
  },
  {
   "cell_type": "markdown",
   "metadata": {},
   "source": [
    "## Data Cleaning"
   ]
  },
  {
   "cell_type": "markdown",
   "metadata": {},
   "source": [
    "First, let's get a sense of the quality of the dataset."
   ]
  },
  {
   "cell_type": "code",
   "execution_count": 4,
   "metadata": {},
   "outputs": [
    {
     "name": "stdout",
     "output_type": "stream",
     "text": [
      "<class 'pandas.core.frame.DataFrame'>\n",
      "RangeIndex: 30194 entries, 0 to 30193\n",
      "Data columns (total 34 columns):\n",
      " #   Column                  Non-Null Count  Dtype  \n",
      "---  ------                  --------------  -----  \n",
      " 0   Animal Id               30194 non-null  object \n",
      " 1   Animal Type             30194 non-null  object \n",
      " 2   Animal Breed            30194 non-null  object \n",
      " 3   Kennel Number           30194 non-null  object \n",
      " 4   Kennel Status           30194 non-null  object \n",
      " 5   Tag Type                0 non-null      float64\n",
      " 6   Activity Number         16282 non-null  object \n",
      " 7   Activity Sequence       30194 non-null  int64  \n",
      " 8   Source Id               30194 non-null  object \n",
      " 9   Census Tract            25018 non-null  object \n",
      " 10  Council District        25018 non-null  object \n",
      " 11  Intake Type             30194 non-null  object \n",
      " 12  Intake Subtype          30194 non-null  object \n",
      " 13  Intake Total            30194 non-null  int64  \n",
      " 14  Reason                  28202 non-null  object \n",
      " 15  Staff Id                30194 non-null  object \n",
      " 16  Intake Date             30194 non-null  object \n",
      " 17  Intake Time             30194 non-null  object \n",
      " 18  Due Out                 30194 non-null  object \n",
      " 19  Intake Condition        30194 non-null  object \n",
      " 20  Hold Request            20781 non-null  object \n",
      " 21  Outcome Type            30194 non-null  object \n",
      " 22  Outcome Subtype         30194 non-null  object \n",
      " 23  Outcome Date            29836 non-null  object \n",
      " 24  Outcome Time            30194 non-null  object \n",
      " 25  Receipt Number          11540 non-null  object \n",
      " 26  Impound Number          30194 non-null  object \n",
      " 27  Service Request Number  69 non-null     object \n",
      " 28  Outcome Condition       27888 non-null  object \n",
      " 29  Chip Status             28202 non-null  object \n",
      " 30  Animal Origin           28202 non-null  object \n",
      " 31  Additional Information  9344 non-null   object \n",
      " 32  Month                   30194 non-null  object \n",
      " 33  Year                    30194 non-null  object \n",
      "dtypes: float64(1), int64(2), object(31)\n",
      "memory usage: 7.8+ MB\n"
     ]
    }
   ],
   "source": [
    "# Characteristics of the Dallas Animal Shelter dataset\n",
    "df_DAL.info()"
   ]
  },
  {
   "cell_type": "markdown",
   "metadata": {},
   "source": [
    "As we can first see, there is no tag number data and little service request number data provided. We can remove these columns from the dataset."
   ]
  },
  {
   "cell_type": "code",
   "execution_count": 5,
   "metadata": {},
   "outputs": [
    {
     "name": "stdout",
     "output_type": "stream",
     "text": [
      "<class 'pandas.core.frame.DataFrame'>\n",
      "RangeIndex: 30194 entries, 0 to 30193\n",
      "Data columns (total 32 columns):\n",
      " #   Column                  Non-Null Count  Dtype \n",
      "---  ------                  --------------  ----- \n",
      " 0   Animal Id               30194 non-null  object\n",
      " 1   Animal Type             30194 non-null  object\n",
      " 2   Animal Breed            30194 non-null  object\n",
      " 3   Kennel Number           30194 non-null  object\n",
      " 4   Kennel Status           30194 non-null  object\n",
      " 5   Activity Number         16282 non-null  object\n",
      " 6   Activity Sequence       30194 non-null  int64 \n",
      " 7   Source Id               30194 non-null  object\n",
      " 8   Census Tract            25018 non-null  object\n",
      " 9   Council District        25018 non-null  object\n",
      " 10  Intake Type             30194 non-null  object\n",
      " 11  Intake Subtype          30194 non-null  object\n",
      " 12  Intake Total            30194 non-null  int64 \n",
      " 13  Reason                  28202 non-null  object\n",
      " 14  Staff Id                30194 non-null  object\n",
      " 15  Intake Date             30194 non-null  object\n",
      " 16  Intake Time             30194 non-null  object\n",
      " 17  Due Out                 30194 non-null  object\n",
      " 18  Intake Condition        30194 non-null  object\n",
      " 19  Hold Request            20781 non-null  object\n",
      " 20  Outcome Type            30194 non-null  object\n",
      " 21  Outcome Subtype         30194 non-null  object\n",
      " 22  Outcome Date            29836 non-null  object\n",
      " 23  Outcome Time            30194 non-null  object\n",
      " 24  Receipt Number          11540 non-null  object\n",
      " 25  Impound Number          30194 non-null  object\n",
      " 26  Outcome Condition       27888 non-null  object\n",
      " 27  Chip Status             28202 non-null  object\n",
      " 28  Animal Origin           28202 non-null  object\n",
      " 29  Additional Information  9344 non-null   object\n",
      " 30  Month                   30194 non-null  object\n",
      " 31  Year                    30194 non-null  object\n",
      "dtypes: int64(2), object(30)\n",
      "memory usage: 7.4+ MB\n"
     ]
    }
   ],
   "source": [
    "# Drop 'Tag Type' and 'Service Request Number' from Dallas Animal Shelter dataset\n",
    "df_DAL1 = df_DAL.drop(['Tag Type', 'Service Request Number'], axis=1)\n",
    "df_DAL1.info()"
   ]
  },
  {
   "cell_type": "markdown",
   "metadata": {},
   "source": [
    "We can also see from our view of the data that 'Activity Number', 'Receipt Number', 'Census Tract' and 'Additional Information' will not be very useful, given that in each case much of the data is missing. Let's remove those rows."
   ]
  },
  {
   "cell_type": "code",
   "execution_count": 6,
   "metadata": {},
   "outputs": [
    {
     "name": "stdout",
     "output_type": "stream",
     "text": [
      "<class 'pandas.core.frame.DataFrame'>\n",
      "RangeIndex: 30194 entries, 0 to 30193\n",
      "Data columns (total 28 columns):\n",
      " #   Column             Non-Null Count  Dtype \n",
      "---  ------             --------------  ----- \n",
      " 0   Animal Id          30194 non-null  object\n",
      " 1   Animal Type        30194 non-null  object\n",
      " 2   Animal Breed       30194 non-null  object\n",
      " 3   Kennel Number      30194 non-null  object\n",
      " 4   Kennel Status      30194 non-null  object\n",
      " 5   Activity Sequence  30194 non-null  int64 \n",
      " 6   Source Id          30194 non-null  object\n",
      " 7   Council District   25018 non-null  object\n",
      " 8   Intake Type        30194 non-null  object\n",
      " 9   Intake Subtype     30194 non-null  object\n",
      " 10  Intake Total       30194 non-null  int64 \n",
      " 11  Reason             28202 non-null  object\n",
      " 12  Staff Id           30194 non-null  object\n",
      " 13  Intake Date        30194 non-null  object\n",
      " 14  Intake Time        30194 non-null  object\n",
      " 15  Due Out            30194 non-null  object\n",
      " 16  Intake Condition   30194 non-null  object\n",
      " 17  Hold Request       20781 non-null  object\n",
      " 18  Outcome Type       30194 non-null  object\n",
      " 19  Outcome Subtype    30194 non-null  object\n",
      " 20  Outcome Date       29836 non-null  object\n",
      " 21  Outcome Time       30194 non-null  object\n",
      " 22  Impound Number     30194 non-null  object\n",
      " 23  Outcome Condition  27888 non-null  object\n",
      " 24  Chip Status        28202 non-null  object\n",
      " 25  Animal Origin      28202 non-null  object\n",
      " 26  Month              30194 non-null  object\n",
      " 27  Year               30194 non-null  object\n",
      "dtypes: int64(2), object(26)\n",
      "memory usage: 6.5+ MB\n"
     ]
    }
   ],
   "source": [
    "# Drop 'Activity Number', 'Receipt Number' and 'Additional Information' from Dallas Animal Shelter dataset\n",
    "df_DAL2 = df_DAL1.drop(['Activity Number', 'Receipt Number', 'Census Tract', 'Additional Information'], axis=1)\n",
    "df_DAL2.info()"
   ]
  },
  {
   "cell_type": "markdown",
   "metadata": {},
   "source": [
    "Let'see how many 'NULL' values we have in this dataset."
   ]
  },
  {
   "cell_type": "code",
   "execution_count": 7,
   "metadata": {},
   "outputs": [
    {
     "name": "stdout",
     "output_type": "stream",
     "text": [
      "<class 'pandas.core.frame.DataFrame'>\n",
      "RangeIndex: 30194 entries, 0 to 30193\n",
      "Data columns (total 28 columns):\n",
      " #   Column             Non-Null Count  Dtype\n",
      "---  ------             --------------  -----\n",
      " 0   Animal Id          30194 non-null  bool \n",
      " 1   Animal Type        30194 non-null  bool \n",
      " 2   Animal Breed       30194 non-null  bool \n",
      " 3   Kennel Number      30194 non-null  bool \n",
      " 4   Kennel Status      30194 non-null  bool \n",
      " 5   Activity Sequence  30194 non-null  bool \n",
      " 6   Source Id          30194 non-null  bool \n",
      " 7   Council District   30194 non-null  bool \n",
      " 8   Intake Type        30194 non-null  bool \n",
      " 9   Intake Subtype     30194 non-null  bool \n",
      " 10  Intake Total       30194 non-null  bool \n",
      " 11  Reason             30194 non-null  bool \n",
      " 12  Staff Id           30194 non-null  bool \n",
      " 13  Intake Date        30194 non-null  bool \n",
      " 14  Intake Time        30194 non-null  bool \n",
      " 15  Due Out            30194 non-null  bool \n",
      " 16  Intake Condition   30194 non-null  bool \n",
      " 17  Hold Request       30194 non-null  bool \n",
      " 18  Outcome Type       30194 non-null  bool \n",
      " 19  Outcome Subtype    30194 non-null  bool \n",
      " 20  Outcome Date       30194 non-null  bool \n",
      " 21  Outcome Time       30194 non-null  bool \n",
      " 22  Impound Number     30194 non-null  bool \n",
      " 23  Outcome Condition  30194 non-null  bool \n",
      " 24  Chip Status        30194 non-null  bool \n",
      " 25  Animal Origin      30194 non-null  bool \n",
      " 26  Month              30194 non-null  bool \n",
      " 27  Year               30194 non-null  bool \n",
      "dtypes: bool(28)\n",
      "memory usage: 825.7 KB\n"
     ]
    }
   ],
   "source": [
    "# Find the 'NULL' values in the Dallas Animal Shelters dataset\n",
    "df_DAL2.isnull().info()"
   ]
  },
  {
   "cell_type": "markdown",
   "metadata": {},
   "source": [
    "Since 'Hold Request', 'Animal Origin', 'Reason', 'Chip Status' and 'Outcome Condition' information might be useful, let us replace all the unknown values with 'NONE'."
   ]
  },
  {
   "cell_type": "code",
   "execution_count": 8,
   "metadata": {},
   "outputs": [
    {
     "name": "stdout",
     "output_type": "stream",
     "text": [
      "<class 'pandas.core.frame.DataFrame'>\n",
      "RangeIndex: 30194 entries, 0 to 30193\n",
      "Data columns (total 28 columns):\n",
      " #   Column             Non-Null Count  Dtype \n",
      "---  ------             --------------  ----- \n",
      " 0   Animal Id          30194 non-null  object\n",
      " 1   Animal Type        30194 non-null  object\n",
      " 2   Animal Breed       30194 non-null  object\n",
      " 3   Kennel Number      30194 non-null  object\n",
      " 4   Kennel Status      30194 non-null  object\n",
      " 5   Activity Sequence  30194 non-null  int64 \n",
      " 6   Source Id          30194 non-null  object\n",
      " 7   Council District   25018 non-null  object\n",
      " 8   Intake Type        30194 non-null  object\n",
      " 9   Intake Subtype     30194 non-null  object\n",
      " 10  Intake Total       30194 non-null  int64 \n",
      " 11  Reason             30194 non-null  object\n",
      " 12  Staff Id           30194 non-null  object\n",
      " 13  Intake Date        30194 non-null  object\n",
      " 14  Intake Time        30194 non-null  object\n",
      " 15  Due Out            30194 non-null  object\n",
      " 16  Intake Condition   30194 non-null  object\n",
      " 17  Hold Request       30194 non-null  object\n",
      " 18  Outcome Type       30194 non-null  object\n",
      " 19  Outcome Subtype    30194 non-null  object\n",
      " 20  Outcome Date       29836 non-null  object\n",
      " 21  Outcome Time       30194 non-null  object\n",
      " 22  Impound Number     30194 non-null  object\n",
      " 23  Outcome Condition  30194 non-null  object\n",
      " 24  Chip Status        30194 non-null  object\n",
      " 25  Animal Origin      30194 non-null  object\n",
      " 26  Month              30194 non-null  object\n",
      " 27  Year               30194 non-null  object\n",
      "dtypes: int64(2), object(26)\n",
      "memory usage: 6.5+ MB\n"
     ]
    }
   ],
   "source": [
    "# Fill Blank Values in 'Hold Request' with 'NONE'\n",
    "df_DAL2['Hold Request'].fillna('NONE', inplace = True);\n",
    "df_DAL2['Reason'].fillna('NONE', inplace = True);\n",
    "df_DAL2['Outcome Condition'].fillna('UNKNOWN', inplace = True);\n",
    "df_DAL2['Animal Origin'].fillna('NONE', inplace = True);\n",
    "df_DAL2['Chip Status'].fillna('NONE', inplace = True);\n",
    "df_DAL2.info()"
   ]
  },
  {
   "cell_type": "markdown",
   "metadata": {},
   "source": [
    "Now that we know we have no 'NULL' values, let's drop any remaining NaN values to make the analysis easier."
   ]
  },
  {
   "cell_type": "code",
   "execution_count": 9,
   "metadata": {},
   "outputs": [
    {
     "name": "stdout",
     "output_type": "stream",
     "text": [
      "<class 'pandas.core.frame.DataFrame'>\n",
      "Int64Index: 24838 entries, 0 to 30190\n",
      "Data columns (total 28 columns):\n",
      " #   Column             Non-Null Count  Dtype \n",
      "---  ------             --------------  ----- \n",
      " 0   Animal Id          24838 non-null  object\n",
      " 1   Animal Type        24838 non-null  object\n",
      " 2   Animal Breed       24838 non-null  object\n",
      " 3   Kennel Number      24838 non-null  object\n",
      " 4   Kennel Status      24838 non-null  object\n",
      " 5   Activity Sequence  24838 non-null  int64 \n",
      " 6   Source Id          24838 non-null  object\n",
      " 7   Council District   24838 non-null  object\n",
      " 8   Intake Type        24838 non-null  object\n",
      " 9   Intake Subtype     24838 non-null  object\n",
      " 10  Intake Total       24838 non-null  int64 \n",
      " 11  Reason             24838 non-null  object\n",
      " 12  Staff Id           24838 non-null  object\n",
      " 13  Intake Date        24838 non-null  object\n",
      " 14  Intake Time        24838 non-null  object\n",
      " 15  Due Out            24838 non-null  object\n",
      " 16  Intake Condition   24838 non-null  object\n",
      " 17  Hold Request       24838 non-null  object\n",
      " 18  Outcome Type       24838 non-null  object\n",
      " 19  Outcome Subtype    24838 non-null  object\n",
      " 20  Outcome Date       24838 non-null  object\n",
      " 21  Outcome Time       24838 non-null  object\n",
      " 22  Impound Number     24838 non-null  object\n",
      " 23  Outcome Condition  24838 non-null  object\n",
      " 24  Chip Status        24838 non-null  object\n",
      " 25  Animal Origin      24838 non-null  object\n",
      " 26  Month              24838 non-null  object\n",
      " 27  Year               24838 non-null  object\n",
      "dtypes: int64(2), object(26)\n",
      "memory usage: 5.5+ MB\n"
     ]
    }
   ],
   "source": [
    "# Drop rows with NaN Values\n",
    "df_DAL3 = df_DAL2.dropna();\n",
    "\n",
    "# Drop Extra Stray Values that make no sense\n",
    "df_DAL3 = df_DAL3[df_DAL3['Council District'] != 'AS']\n",
    "df_DAL3 = df_DAL3[df_DAL3['Council District'] != '00']\n",
    "df_DAL3.info()"
   ]
  },
  {
   "cell_type": "markdown",
   "metadata": {},
   "source": [
    "Let's show the 1st 10 rows of the updated dataset."
   ]
  },
  {
   "cell_type": "code",
   "execution_count": 10,
   "metadata": {},
   "outputs": [
    {
     "data": {
      "text/html": [
       "<div>\n",
       "<style scoped>\n",
       "    .dataframe tbody tr th:only-of-type {\n",
       "        vertical-align: middle;\n",
       "    }\n",
       "\n",
       "    .dataframe tbody tr th {\n",
       "        vertical-align: top;\n",
       "    }\n",
       "\n",
       "    .dataframe thead th {\n",
       "        text-align: right;\n",
       "    }\n",
       "</style>\n",
       "<table border=\"1\" class=\"dataframe\">\n",
       "  <thead>\n",
       "    <tr style=\"text-align: right;\">\n",
       "      <th></th>\n",
       "      <th>Animal Id</th>\n",
       "      <th>Animal Type</th>\n",
       "      <th>Animal Breed</th>\n",
       "      <th>Kennel Number</th>\n",
       "      <th>Kennel Status</th>\n",
       "      <th>Activity Sequence</th>\n",
       "      <th>Source Id</th>\n",
       "      <th>Council District</th>\n",
       "      <th>Intake Type</th>\n",
       "      <th>Intake Subtype</th>\n",
       "      <th>...</th>\n",
       "      <th>Outcome Type</th>\n",
       "      <th>Outcome Subtype</th>\n",
       "      <th>Outcome Date</th>\n",
       "      <th>Outcome Time</th>\n",
       "      <th>Impound Number</th>\n",
       "      <th>Outcome Condition</th>\n",
       "      <th>Chip Status</th>\n",
       "      <th>Animal Origin</th>\n",
       "      <th>Month</th>\n",
       "      <th>Year</th>\n",
       "    </tr>\n",
       "  </thead>\n",
       "  <tbody>\n",
       "    <tr>\n",
       "      <th>0</th>\n",
       "      <td>A0144701</td>\n",
       "      <td>DOG</td>\n",
       "      <td>HAVANESE</td>\n",
       "      <td>VT 12</td>\n",
       "      <td>IMPOUNDED</td>\n",
       "      <td>1</td>\n",
       "      <td>P0098773</td>\n",
       "      <td>4</td>\n",
       "      <td>OWNER SURRENDER</td>\n",
       "      <td>GENERAL</td>\n",
       "      <td>...</td>\n",
       "      <td>RETURNED TO OWNER</td>\n",
       "      <td>WALK IN</td>\n",
       "      <td>11/09/2019</td>\n",
       "      <td>11:31:00</td>\n",
       "      <td>K19-486742</td>\n",
       "      <td>APP SICK</td>\n",
       "      <td>SCAN CHIP</td>\n",
       "      <td>OVER THE COUNTER</td>\n",
       "      <td>NOV.2019</td>\n",
       "      <td>FY2020</td>\n",
       "    </tr>\n",
       "    <tr>\n",
       "      <th>1</th>\n",
       "      <td>A0442587</td>\n",
       "      <td>DOG</td>\n",
       "      <td>TERRIER MIX</td>\n",
       "      <td>FREEZER</td>\n",
       "      <td>IMPOUNDED</td>\n",
       "      <td>1</td>\n",
       "      <td>P0492284</td>\n",
       "      <td>2</td>\n",
       "      <td>OWNER SURRENDER</td>\n",
       "      <td>DEAD ON ARRIVAL</td>\n",
       "      <td>...</td>\n",
       "      <td>DEAD ON ARRIVAL</td>\n",
       "      <td>DISPOSAL</td>\n",
       "      <td>11/10/2019</td>\n",
       "      <td>00:00:00</td>\n",
       "      <td>K19-486954</td>\n",
       "      <td>DEAD</td>\n",
       "      <td>SCAN CHIP</td>\n",
       "      <td>OVER THE COUNTER</td>\n",
       "      <td>NOV.2019</td>\n",
       "      <td>FY2020</td>\n",
       "    </tr>\n",
       "    <tr>\n",
       "      <th>2</th>\n",
       "      <td>A0458972</td>\n",
       "      <td>DOG</td>\n",
       "      <td>CATAHOULA</td>\n",
       "      <td>RECEIVING</td>\n",
       "      <td>UNAVAILABLE</td>\n",
       "      <td>1</td>\n",
       "      <td>P9991718</td>\n",
       "      <td>1</td>\n",
       "      <td>STRAY</td>\n",
       "      <td>AT LARGE</td>\n",
       "      <td>...</td>\n",
       "      <td>RETURNED TO OWNER</td>\n",
       "      <td>FIELD</td>\n",
       "      <td>10/03/2019</td>\n",
       "      <td>13:36:00</td>\n",
       "      <td>K19-482022</td>\n",
       "      <td>TREATABLE REHABILITABLE NON-CONTAGIOUS</td>\n",
       "      <td>SCAN NO CHIP</td>\n",
       "      <td>SWEEP</td>\n",
       "      <td>OCT.2019</td>\n",
       "      <td>FY2020</td>\n",
       "    </tr>\n",
       "    <tr>\n",
       "      <th>3</th>\n",
       "      <td>A0525642</td>\n",
       "      <td>DOG</td>\n",
       "      <td>GERM SHEPHERD</td>\n",
       "      <td>INJD 001</td>\n",
       "      <td>IMPOUNDED</td>\n",
       "      <td>1</td>\n",
       "      <td>P0903792</td>\n",
       "      <td>8</td>\n",
       "      <td>OWNER SURRENDER</td>\n",
       "      <td>GENERAL</td>\n",
       "      <td>...</td>\n",
       "      <td>TRANSFER</td>\n",
       "      <td>MEDICAL-CONTAGIOUS</td>\n",
       "      <td>10/15/2019</td>\n",
       "      <td>17:35:00</td>\n",
       "      <td>K19-483073</td>\n",
       "      <td>TREATABLE REHABILITABLE NON-CONTAGIOUS</td>\n",
       "      <td>SCAN CHIP</td>\n",
       "      <td>SWEEP</td>\n",
       "      <td>OCT.2019</td>\n",
       "      <td>FY2020</td>\n",
       "    </tr>\n",
       "    <tr>\n",
       "      <th>4</th>\n",
       "      <td>A0565586</td>\n",
       "      <td>DOG</td>\n",
       "      <td>SILKY TERRIER</td>\n",
       "      <td>LFD 119</td>\n",
       "      <td>UNAVAILABLE</td>\n",
       "      <td>1</td>\n",
       "      <td>P0890077</td>\n",
       "      <td>1</td>\n",
       "      <td>STRAY</td>\n",
       "      <td>AT LARGE</td>\n",
       "      <td>...</td>\n",
       "      <td>RETURNED TO OWNER</td>\n",
       "      <td>WALK IN</td>\n",
       "      <td>11/09/2019</td>\n",
       "      <td>12:57:00</td>\n",
       "      <td>K19-486694</td>\n",
       "      <td>APP WNL</td>\n",
       "      <td>SCAN CHIP</td>\n",
       "      <td>OVER THE COUNTER</td>\n",
       "      <td>NOV.2019</td>\n",
       "      <td>FY2020</td>\n",
       "    </tr>\n",
       "    <tr>\n",
       "      <th>5</th>\n",
       "      <td>A0570248</td>\n",
       "      <td>DOG</td>\n",
       "      <td>LABRADOR RETR</td>\n",
       "      <td>RECEIVING</td>\n",
       "      <td>IMPOUNDED</td>\n",
       "      <td>1</td>\n",
       "      <td>P0820658</td>\n",
       "      <td>5</td>\n",
       "      <td>OWNER SURRENDER</td>\n",
       "      <td>GENERAL</td>\n",
       "      <td>...</td>\n",
       "      <td>DIED</td>\n",
       "      <td>ENROUTE</td>\n",
       "      <td>10/21/2019</td>\n",
       "      <td>11:00:00</td>\n",
       "      <td>K19-484308</td>\n",
       "      <td>UNHEALTHY UNTREATABLE NON-CONTAGIOUS</td>\n",
       "      <td>SCAN CHIP</td>\n",
       "      <td>FIELD</td>\n",
       "      <td>OCT.2019</td>\n",
       "      <td>FY2020</td>\n",
       "    </tr>\n",
       "    <tr>\n",
       "      <th>6</th>\n",
       "      <td>A0578275</td>\n",
       "      <td>DOG</td>\n",
       "      <td>BICHON FRISE</td>\n",
       "      <td>LFD 081</td>\n",
       "      <td>UNAVAILABLE</td>\n",
       "      <td>1</td>\n",
       "      <td>P0906275</td>\n",
       "      <td>6</td>\n",
       "      <td>OWNER SURRENDER</td>\n",
       "      <td>GENERAL</td>\n",
       "      <td>...</td>\n",
       "      <td>TRANSFER</td>\n",
       "      <td>MEDICAL-CONTAGIOUS</td>\n",
       "      <td>11/02/2019</td>\n",
       "      <td>11:55:00</td>\n",
       "      <td>K19-485846</td>\n",
       "      <td>TREATABLE REHABILITABLE NON-CONTAGIOUS</td>\n",
       "      <td>SCAN CHIP</td>\n",
       "      <td>OVER THE COUNTER</td>\n",
       "      <td>NOV.2019</td>\n",
       "      <td>FY2020</td>\n",
       "    </tr>\n",
       "    <tr>\n",
       "      <th>7</th>\n",
       "      <td>A0601024</td>\n",
       "      <td>DOG</td>\n",
       "      <td>PITBULL</td>\n",
       "      <td>RECEIVING</td>\n",
       "      <td>UNAVAILABLE</td>\n",
       "      <td>1</td>\n",
       "      <td>P9991721</td>\n",
       "      <td>4</td>\n",
       "      <td>STRAY</td>\n",
       "      <td>AT LARGE</td>\n",
       "      <td>...</td>\n",
       "      <td>RETURNED TO OWNER</td>\n",
       "      <td>FIELD</td>\n",
       "      <td>10/18/2019</td>\n",
       "      <td>15:28:00</td>\n",
       "      <td>K19-484057</td>\n",
       "      <td>TREATABLE REHABILITABLE NON-CONTAGIOUS</td>\n",
       "      <td>UNABLE TO SCAN</td>\n",
       "      <td>SWEEP</td>\n",
       "      <td>OCT.2019</td>\n",
       "      <td>FY2020</td>\n",
       "    </tr>\n",
       "    <tr>\n",
       "      <th>8</th>\n",
       "      <td>A0601024</td>\n",
       "      <td>DOG</td>\n",
       "      <td>PITBULL</td>\n",
       "      <td>LAB 14</td>\n",
       "      <td>LAB</td>\n",
       "      <td>1</td>\n",
       "      <td>P0556316</td>\n",
       "      <td>4</td>\n",
       "      <td>OWNER SURRENDER</td>\n",
       "      <td>GENERAL</td>\n",
       "      <td>...</td>\n",
       "      <td>EUTHANIZED</td>\n",
       "      <td>BITE</td>\n",
       "      <td>11/13/2019</td>\n",
       "      <td>16:34:00</td>\n",
       "      <td>K19-486943</td>\n",
       "      <td>APP WNL</td>\n",
       "      <td>SCAN CHIP</td>\n",
       "      <td>FIELD</td>\n",
       "      <td>NOV.2019</td>\n",
       "      <td>FY2020</td>\n",
       "    </tr>\n",
       "    <tr>\n",
       "      <th>9</th>\n",
       "      <td>A0601180</td>\n",
       "      <td>DOG</td>\n",
       "      <td>COLLIE SMOOTH</td>\n",
       "      <td>LFD 076</td>\n",
       "      <td>IMPOUNDED</td>\n",
       "      <td>1</td>\n",
       "      <td>P0584572</td>\n",
       "      <td>4</td>\n",
       "      <td>OWNER SURRENDER</td>\n",
       "      <td>RETURN30</td>\n",
       "      <td>...</td>\n",
       "      <td>EUTHANIZED</td>\n",
       "      <td>HUMANE</td>\n",
       "      <td>11/06/2019</td>\n",
       "      <td>12:59:00</td>\n",
       "      <td>K19-486443</td>\n",
       "      <td>APP SICK</td>\n",
       "      <td>SCAN CHIP</td>\n",
       "      <td>OVER THE COUNTER</td>\n",
       "      <td>NOV.2019</td>\n",
       "      <td>FY2020</td>\n",
       "    </tr>\n",
       "  </tbody>\n",
       "</table>\n",
       "<p>10 rows × 28 columns</p>\n",
       "</div>"
      ],
      "text/plain": [
       "  Animal Id Animal Type   Animal Breed Kennel Number Kennel Status  \\\n",
       "0  A0144701         DOG       HAVANESE         VT 12     IMPOUNDED   \n",
       "1  A0442587         DOG    TERRIER MIX       FREEZER     IMPOUNDED   \n",
       "2  A0458972         DOG      CATAHOULA     RECEIVING   UNAVAILABLE   \n",
       "3  A0525642         DOG  GERM SHEPHERD      INJD 001     IMPOUNDED   \n",
       "4  A0565586         DOG  SILKY TERRIER       LFD 119   UNAVAILABLE   \n",
       "5  A0570248         DOG  LABRADOR RETR     RECEIVING     IMPOUNDED   \n",
       "6  A0578275         DOG   BICHON FRISE       LFD 081   UNAVAILABLE   \n",
       "7  A0601024         DOG        PITBULL     RECEIVING   UNAVAILABLE   \n",
       "8  A0601024         DOG        PITBULL        LAB 14           LAB   \n",
       "9  A0601180         DOG  COLLIE SMOOTH       LFD 076     IMPOUNDED   \n",
       "\n",
       "   Activity Sequence Source Id Council District      Intake Type  \\\n",
       "0                  1  P0098773                4  OWNER SURRENDER   \n",
       "1                  1  P0492284                2  OWNER SURRENDER   \n",
       "2                  1  P9991718                1            STRAY   \n",
       "3                  1  P0903792                8  OWNER SURRENDER   \n",
       "4                  1  P0890077                1            STRAY   \n",
       "5                  1  P0820658                5  OWNER SURRENDER   \n",
       "6                  1  P0906275                6  OWNER SURRENDER   \n",
       "7                  1  P9991721                4            STRAY   \n",
       "8                  1  P0556316                4  OWNER SURRENDER   \n",
       "9                  1  P0584572                4  OWNER SURRENDER   \n",
       "\n",
       "    Intake Subtype  ...       Outcome Type     Outcome Subtype Outcome Date  \\\n",
       "0          GENERAL  ...  RETURNED TO OWNER             WALK IN   11/09/2019   \n",
       "1  DEAD ON ARRIVAL  ...    DEAD ON ARRIVAL            DISPOSAL   11/10/2019   \n",
       "2         AT LARGE  ...  RETURNED TO OWNER               FIELD   10/03/2019   \n",
       "3          GENERAL  ...           TRANSFER  MEDICAL-CONTAGIOUS   10/15/2019   \n",
       "4         AT LARGE  ...  RETURNED TO OWNER             WALK IN   11/09/2019   \n",
       "5          GENERAL  ...               DIED             ENROUTE   10/21/2019   \n",
       "6          GENERAL  ...           TRANSFER  MEDICAL-CONTAGIOUS   11/02/2019   \n",
       "7         AT LARGE  ...  RETURNED TO OWNER               FIELD   10/18/2019   \n",
       "8          GENERAL  ...         EUTHANIZED                BITE   11/13/2019   \n",
       "9         RETURN30  ...         EUTHANIZED              HUMANE   11/06/2019   \n",
       "\n",
       "  Outcome Time Impound Number                       Outcome Condition  \\\n",
       "0     11:31:00     K19-486742                                APP SICK   \n",
       "1     00:00:00     K19-486954                                    DEAD   \n",
       "2     13:36:00     K19-482022  TREATABLE REHABILITABLE NON-CONTAGIOUS   \n",
       "3     17:35:00     K19-483073  TREATABLE REHABILITABLE NON-CONTAGIOUS   \n",
       "4     12:57:00     K19-486694                                 APP WNL   \n",
       "5     11:00:00     K19-484308    UNHEALTHY UNTREATABLE NON-CONTAGIOUS   \n",
       "6     11:55:00     K19-485846  TREATABLE REHABILITABLE NON-CONTAGIOUS   \n",
       "7     15:28:00     K19-484057  TREATABLE REHABILITABLE NON-CONTAGIOUS   \n",
       "8     16:34:00     K19-486943                                 APP WNL   \n",
       "9     12:59:00     K19-486443                                APP SICK   \n",
       "\n",
       "      Chip Status     Animal Origin     Month    Year  \n",
       "0       SCAN CHIP  OVER THE COUNTER  NOV.2019  FY2020  \n",
       "1       SCAN CHIP  OVER THE COUNTER  NOV.2019  FY2020  \n",
       "2    SCAN NO CHIP             SWEEP  OCT.2019  FY2020  \n",
       "3       SCAN CHIP             SWEEP  OCT.2019  FY2020  \n",
       "4       SCAN CHIP  OVER THE COUNTER  NOV.2019  FY2020  \n",
       "5       SCAN CHIP             FIELD  OCT.2019  FY2020  \n",
       "6       SCAN CHIP  OVER THE COUNTER  NOV.2019  FY2020  \n",
       "7  UNABLE TO SCAN             SWEEP  OCT.2019  FY2020  \n",
       "8       SCAN CHIP             FIELD  NOV.2019  FY2020  \n",
       "9       SCAN CHIP  OVER THE COUNTER  NOV.2019  FY2020  \n",
       "\n",
       "[10 rows x 28 columns]"
      ]
     },
     "execution_count": 10,
     "metadata": {},
     "output_type": "execute_result"
    }
   ],
   "source": [
    "# Display 1st 10 rows of updated dataset\n",
    "df_DAL3.head(10)"
   ]
  },
  {
   "cell_type": "markdown",
   "metadata": {},
   "source": [
    "At this point, it appears we have done enough cleaning to begin data exploration."
   ]
  },
  {
   "cell_type": "markdown",
   "metadata": {},
   "source": [
    "## Data Exploration"
   ]
  },
  {
   "cell_type": "markdown",
   "metadata": {},
   "source": [
    "To begin, let's look at the types of animals that are brought to the shelters in Dallas."
   ]
  },
  {
   "cell_type": "code",
   "execution_count": 11,
   "metadata": {},
   "outputs": [],
   "source": [
    "# Find the general types of animals brought to shelters in Dallas\n",
    "df_DAL3_AnimalTypes = df_DAL3['Animal Type'];\n",
    "\n",
    "# Find the specific types of animals (top 10) that are brought to shelters in Dallas\n",
    "df_DAL3_AnimalSpecific = df_DAL3['Animal Breed'];"
   ]
  },
  {
   "cell_type": "code",
   "execution_count": 12,
   "metadata": {},
   "outputs": [
    {
     "data": {
      "image/png": "[encoded data removed]",
      "text/plain": [
       "<Figure size 720x432 with 1 Axes>"
      ]
     },
     "metadata": {
      "needs_background": "light"
     },
     "output_type": "display_data"
    }
   ],
   "source": [
    "# Plot the General Types of animals brought into shelters in Dallas\n",
    "# Generate the Plot\n",
    "fig = plt.gcf()\n",
    "fig.set_size_inches(10, 6)\n",
    "sns.set(style=\"darkgrid\", font_scale = 1)\n",
    "\n",
    "# Fill in the Plot\n",
    "ax = sns.countplot(x=\"Animal Type\", data=df_DAL3)\n",
    "\n",
    "# Set the Title and Axes\n",
    "ax.set_title('Shelter Intakes by Animal Type - Dallas FY 2020', fontsize = 16)\n",
    "ax.set_ylabel('# of Intakes', fontsize = 16)\n",
    "ax.set_xlabel('Animal Type', fontsize = 16)\n",
    "\n",
    "# Annotate the plot with the # of animal intakes\n",
    "for p in ax.patches:\n",
    "    ax.annotate(str(p.get_height()), (p.get_x() * 1.005, p.get_height() * 1.005), fontsize = 12)"
   ]
  },
  {
   "cell_type": "markdown",
   "metadata": {},
   "source": [
    "As we can see, animal intakes are dominated by dogs and cats. Let's look more specifically at say the top 15 breeds intaken."
   ]
  },
  {
   "cell_type": "code",
   "execution_count": 13,
   "metadata": {},
   "outputs": [
    {
     "data": {
      "image/png": "[encoded data removed]",
      "text/plain": [
       "<Figure size 1152x576 with 1 Axes>"
      ]
     },
     "metadata": {},
     "output_type": "display_data"
    }
   ],
   "source": [
    "# Plot the General Types of animals brought into shelters in Dallas\n",
    "# Generate the Plot\n",
    "fig = plt.gcf()\n",
    "fig.set_size_inches(16, 8)\n",
    "sns.set(style=\"darkgrid\", font_scale = 1)\n",
    "\n",
    "# Fill in the Plot\n",
    "ax = sns.countplot(x=\"Animal Breed\", data=df_DAL3, order=df_DAL3['Animal Breed'].value_counts().iloc[:10].index)\n",
    "\n",
    "# Set the Title and Axes\n",
    "ax.set_title('Shelter Intakes by Animal Breed - Dallas FY 2020', fontsize = 16)\n",
    "ax.set_ylabel('# of Intakes', fontsize = 16)\n",
    "ax.set_xlabel('Animal Breed', fontsize = 10)\n",
    "\n",
    "# Annotate the plot with the # of animal intakes\n",
    "for p in ax.patches:\n",
    "    ax.annotate(str(p.get_height()), (p.get_x() * 1.005, p.get_height() * 1.005), fontsize = 10)"
   ]
  },
  {
   "cell_type": "markdown",
   "metadata": {},
   "source": [
    "Looking at the specific data, domestic shorthaired dogs are the number one animal breed intaken in the shelters, followed closely by pitbulls.\n",
    "\n",
    "Next, let's get a sense of why the animals are taken to the shelter by looking at the reasons and intake types, respectively."
   ]
  },
  {
   "cell_type": "code",
   "execution_count": 14,
   "metadata": {
    "scrolled": true
   },
   "outputs": [
    {
     "data": {
      "text/plain": [
       "OTHRINTAKS    12689\n",
       "OTHER          7993\n",
       "PERSNLISSU     1083\n",
       "MEDICAL        1032\n",
       "HOUSING         775\n",
       "BEHAVIOR        705\n",
       "NOTRIGHTFT      348\n",
       "FINANCIAL       213\n",
       "Name: Reason, dtype: int64"
      ]
     },
     "execution_count": 14,
     "metadata": {},
     "output_type": "execute_result"
    }
   ],
   "source": [
    "# Find the reasons animals are brought to shelters in Dallas\n",
    "df_DAL3_Reason = df_DAL3['Reason'];\n",
    "df_DAL3_Reason.value_counts().head(10)"
   ]
  },
  {
   "cell_type": "markdown",
   "metadata": {},
   "source": [
    "While the bulk of the reasons are apparently unknown, we see common themes of personal issues, medical issues and lack of housing. Animal behavior is # 6 on the list. "
   ]
  },
  {
   "cell_type": "code",
   "execution_count": 15,
   "metadata": {},
   "outputs": [
    {
     "data": {
      "text/plain": [
       "STRAY              14899\n",
       "OWNER SURRENDER     4053\n",
       "FOSTER              2227\n",
       "CONFISCATED         1177\n",
       "TREATMENT           1153\n",
       "WILDLIFE             895\n",
       "TRANSFER             311\n",
       "KEEPSAFE              88\n",
       "DISPOS REQ            35\n",
       "Name: Intake Type, dtype: int64"
      ]
     },
     "execution_count": 15,
     "metadata": {},
     "output_type": "execute_result"
    }
   ],
   "source": [
    "# Find the specific types of animals (top 10) that are brought to shelters in Dallas\n",
    "df_DAL3_IntakeType = df_DAL3['Intake Type'];\n",
    "df_DAL3_IntakeType.value_counts().head(10)"
   ]
  },
  {
   "cell_type": "markdown",
   "metadata": {},
   "source": [
    "For intake types, we see nearly 1/2 of the animals are strays, followed by owner surrenders, fosters, and confiscations. Given the urban environment, it is not surprising to see a lack of wildlife."
   ]
  },
  {
   "cell_type": "markdown",
   "metadata": {},
   "source": [
    "Now that we have a general sense of the initial picture of animal shelters in Dallas, let's attempt to answer our original question, which was to look at the outcomes of animals entering shelters."
   ]
  },
  {
   "cell_type": "markdown",
   "metadata": {},
   "source": [
    "## Data Analysis"
   ]
  },
  {
   "cell_type": "markdown",
   "metadata": {},
   "source": [
    "In order to evaluate animal outcomes, let's look at the columns 'Outcome Type', 'Outcome Subtype', and 'Outcome Condition'."
   ]
  },
  {
   "cell_type": "code",
   "execution_count": 16,
   "metadata": {},
   "outputs": [
    {
     "data": {
      "text/plain": [
       "ADOPTION             7859\n",
       "RETURNED TO OWNER    6144\n",
       "TRANSFER             4026\n",
       "FOSTER               2668\n",
       "EUTHANIZED           2087\n",
       "TREATMENT            1154\n",
       "WILDLIFE              401\n",
       "DIED                  272\n",
       "DEAD ON ARRIVAL       148\n",
       "DISPOSAL               55\n",
       "MISSING                16\n",
       "OTHER                   5\n",
       "FOUND EXP               3\n",
       "Name: Outcome Type, dtype: int64"
      ]
     },
     "execution_count": 16,
     "metadata": {},
     "output_type": "execute_result"
    }
   ],
   "source": [
    "# Find the Outcome Types in Dallas\n",
    "df_DAL3_OutcomeType = df_DAL3['Outcome Type'];\n",
    "df_DAL3_OutcomeType.value_counts().head(15)"
   ]
  },
  {
   "cell_type": "markdown",
   "metadata": {},
   "source": [
    "Let's look at these outcomes in terms of a percentage of the overall number of cases."
   ]
  },
  {
   "cell_type": "code",
   "execution_count": 17,
   "metadata": {},
   "outputs": [
    {
     "name": "stdout",
     "output_type": "stream",
     "text": [
      "Intake Outcomes for Dallas Animal Shelters - FY20\n",
      "\n",
      "Outcome             Percentage\n",
      "ADOPTION             31.641034\n",
      "RETURNED TO OWNER    24.736291\n",
      "TRANSFER             16.209035\n",
      "FOSTER               10.741606\n",
      "EUTHANIZED            8.402448\n",
      "TREATMENT             4.646107\n",
      "WILDLIFE              1.614462\n",
      "DIED                  1.095096\n",
      "DEAD ON ARRIVAL       0.595861\n",
      "DISPOSAL              0.221435\n",
      "MISSING               0.064417\n",
      "OTHER                 0.020130\n",
      "FOUND EXP             0.012078\n",
      "Name: Outcome Type, dtype: float64\n"
     ]
    }
   ],
   "source": [
    "# Turn the Outcome Type Values in a % of the Overall Case Total\n",
    "df_DAL3['Outcome Type Frequency'] = df_DAL3['Outcome Type'].value_counts()\n",
    "df_DAL3_OutcomeTypePerc = 100. * df_DAL3['Outcome Type'].value_counts() / len(df_DAL3);\n",
    "print('Intake Outcomes for Dallas Animal Shelters - FY20\\n')\n",
    "print('Outcome             Percentage')\n",
    "print(df_DAL3_OutcomeTypePerc)"
   ]
  },
  {
   "cell_type": "markdown",
   "metadata": {},
   "source": [
    "So in 31.6% of the cases, the animals taken to the shelter are adopted, followed by 24.7% that are returned to their owners and another 16.2% that are transferred - to other shelters?\n",
    "\n",
    "Of the total number, approximately 8.4% are euthanized while approximately 3.5% of the animals either die in custody, are DOA, or are disposed.\n",
    "\n",
    "Of the animals that are euthanized, let's find out which animals are most likely to have that outcome."
   ]
  },
  {
   "cell_type": "code",
   "execution_count": 18,
   "metadata": {},
   "outputs": [
    {
     "data": {
      "text/html": [
       "<div>\n",
       "<style scoped>\n",
       "    .dataframe tbody tr th:only-of-type {\n",
       "        vertical-align: middle;\n",
       "    }\n",
       "\n",
       "    .dataframe tbody tr th {\n",
       "        vertical-align: top;\n",
       "    }\n",
       "\n",
       "    .dataframe thead th {\n",
       "        text-align: right;\n",
       "    }\n",
       "</style>\n",
       "<table border=\"1\" class=\"dataframe\">\n",
       "  <thead>\n",
       "    <tr style=\"text-align: right;\">\n",
       "      <th></th>\n",
       "      <th>Animal Id</th>\n",
       "      <th>Animal Type</th>\n",
       "      <th>Animal Breed</th>\n",
       "      <th>Kennel Number</th>\n",
       "      <th>Kennel Status</th>\n",
       "      <th>Activity Sequence</th>\n",
       "      <th>Source Id</th>\n",
       "      <th>Council District</th>\n",
       "      <th>Intake Type</th>\n",
       "      <th>Intake Subtype</th>\n",
       "      <th>...</th>\n",
       "      <th>Outcome Subtype</th>\n",
       "      <th>Outcome Date</th>\n",
       "      <th>Outcome Time</th>\n",
       "      <th>Impound Number</th>\n",
       "      <th>Outcome Condition</th>\n",
       "      <th>Chip Status</th>\n",
       "      <th>Animal Origin</th>\n",
       "      <th>Month</th>\n",
       "      <th>Year</th>\n",
       "      <th>Outcome Type Frequency</th>\n",
       "    </tr>\n",
       "  </thead>\n",
       "  <tbody>\n",
       "    <tr>\n",
       "      <th>8</th>\n",
       "      <td>A0601024</td>\n",
       "      <td>DOG</td>\n",
       "      <td>PITBULL</td>\n",
       "      <td>LAB 14</td>\n",
       "      <td>LAB</td>\n",
       "      <td>1</td>\n",
       "      <td>P0556316</td>\n",
       "      <td>4</td>\n",
       "      <td>OWNER SURRENDER</td>\n",
       "      <td>GENERAL</td>\n",
       "      <td>...</td>\n",
       "      <td>BITE</td>\n",
       "      <td>11/13/2019</td>\n",
       "      <td>16:34:00</td>\n",
       "      <td>K19-486943</td>\n",
       "      <td>APP WNL</td>\n",
       "      <td>SCAN CHIP</td>\n",
       "      <td>FIELD</td>\n",
       "      <td>NOV.2019</td>\n",
       "      <td>FY2020</td>\n",
       "      <td>NaN</td>\n",
       "    </tr>\n",
       "    <tr>\n",
       "      <th>9</th>\n",
       "      <td>A0601180</td>\n",
       "      <td>DOG</td>\n",
       "      <td>COLLIE SMOOTH</td>\n",
       "      <td>LFD 076</td>\n",
       "      <td>IMPOUNDED</td>\n",
       "      <td>1</td>\n",
       "      <td>P0584572</td>\n",
       "      <td>4</td>\n",
       "      <td>OWNER SURRENDER</td>\n",
       "      <td>RETURN30</td>\n",
       "      <td>...</td>\n",
       "      <td>HUMANE</td>\n",
       "      <td>11/06/2019</td>\n",
       "      <td>12:59:00</td>\n",
       "      <td>K19-486443</td>\n",
       "      <td>APP SICK</td>\n",
       "      <td>SCAN CHIP</td>\n",
       "      <td>OVER THE COUNTER</td>\n",
       "      <td>NOV.2019</td>\n",
       "      <td>FY2020</td>\n",
       "      <td>NaN</td>\n",
       "    </tr>\n",
       "    <tr>\n",
       "      <th>13</th>\n",
       "      <td>A0638012</td>\n",
       "      <td>DOG</td>\n",
       "      <td>ROTTWEILER</td>\n",
       "      <td>RECEIVING</td>\n",
       "      <td>IMPOUNDED</td>\n",
       "      <td>1</td>\n",
       "      <td>P0787875</td>\n",
       "      <td>8</td>\n",
       "      <td>OWNER SURRENDER</td>\n",
       "      <td>EUTHANASIA REQUESTED</td>\n",
       "      <td>...</td>\n",
       "      <td>HUMANE</td>\n",
       "      <td>12/16/2019</td>\n",
       "      <td>15:24:00</td>\n",
       "      <td>K19-491028</td>\n",
       "      <td>APP SICK</td>\n",
       "      <td>SCAN CHIP</td>\n",
       "      <td>SWEEP</td>\n",
       "      <td>DEC.2019</td>\n",
       "      <td>FY2020</td>\n",
       "      <td>NaN</td>\n",
       "    </tr>\n",
       "    <tr>\n",
       "      <th>20</th>\n",
       "      <td>A0669554</td>\n",
       "      <td>DOG</td>\n",
       "      <td>LABRADOR RETR</td>\n",
       "      <td>VT 11</td>\n",
       "      <td>IMPOUNDED</td>\n",
       "      <td>1</td>\n",
       "      <td>P0908720</td>\n",
       "      <td>4</td>\n",
       "      <td>OWNER SURRENDER</td>\n",
       "      <td>EUTHANASIA REQUESTED</td>\n",
       "      <td>...</td>\n",
       "      <td>HUMANE</td>\n",
       "      <td>11/22/2019</td>\n",
       "      <td>16:58:00</td>\n",
       "      <td>K19-488358</td>\n",
       "      <td>UNKNOWN</td>\n",
       "      <td>SCAN CHIP</td>\n",
       "      <td>FIELD</td>\n",
       "      <td>NOV.2019</td>\n",
       "      <td>FY2020</td>\n",
       "      <td>NaN</td>\n",
       "    </tr>\n",
       "    <tr>\n",
       "      <th>22</th>\n",
       "      <td>A0689860</td>\n",
       "      <td>DOG</td>\n",
       "      <td>ROTTWEILER</td>\n",
       "      <td>LAB 04</td>\n",
       "      <td>LAB</td>\n",
       "      <td>1</td>\n",
       "      <td>P0531548</td>\n",
       "      <td>14</td>\n",
       "      <td>CONFISCATED</td>\n",
       "      <td>QUARANTINE</td>\n",
       "      <td>...</td>\n",
       "      <td>BITE</td>\n",
       "      <td>10/21/2019</td>\n",
       "      <td>17:05:00</td>\n",
       "      <td>K19-484321</td>\n",
       "      <td>UNHEALTHY UNTREATABLE NON-CONTAGIOUS</td>\n",
       "      <td>SCAN CHIP</td>\n",
       "      <td>OVER THE COUNTER</td>\n",
       "      <td>OCT.2019</td>\n",
       "      <td>FY2020</td>\n",
       "      <td>NaN</td>\n",
       "    </tr>\n",
       "  </tbody>\n",
       "</table>\n",
       "<p>5 rows × 29 columns</p>\n",
       "</div>"
      ],
      "text/plain": [
       "   Animal Id Animal Type   Animal Breed Kennel Number Kennel Status  \\\n",
       "8   A0601024         DOG        PITBULL        LAB 14           LAB   \n",
       "9   A0601180         DOG  COLLIE SMOOTH       LFD 076     IMPOUNDED   \n",
       "13  A0638012         DOG     ROTTWEILER     RECEIVING     IMPOUNDED   \n",
       "20  A0669554         DOG  LABRADOR RETR         VT 11     IMPOUNDED   \n",
       "22  A0689860         DOG     ROTTWEILER        LAB 04           LAB   \n",
       "\n",
       "    Activity Sequence Source Id Council District      Intake Type  \\\n",
       "8                   1  P0556316                4  OWNER SURRENDER   \n",
       "9                   1  P0584572                4  OWNER SURRENDER   \n",
       "13                  1  P0787875                8  OWNER SURRENDER   \n",
       "20                  1  P0908720                4  OWNER SURRENDER   \n",
       "22                  1  P0531548               14      CONFISCATED   \n",
       "\n",
       "          Intake Subtype  ...  Outcome Subtype Outcome Date Outcome Time  \\\n",
       "8                GENERAL  ...             BITE   11/13/2019     16:34:00   \n",
       "9               RETURN30  ...           HUMANE   11/06/2019     12:59:00   \n",
       "13  EUTHANASIA REQUESTED  ...           HUMANE   12/16/2019     15:24:00   \n",
       "20  EUTHANASIA REQUESTED  ...           HUMANE   11/22/2019     16:58:00   \n",
       "22            QUARANTINE  ...             BITE   10/21/2019     17:05:00   \n",
       "\n",
       "   Impound Number                     Outcome Condition Chip Status  \\\n",
       "8      K19-486943                               APP WNL   SCAN CHIP   \n",
       "9      K19-486443                              APP SICK   SCAN CHIP   \n",
       "13     K19-491028                              APP SICK   SCAN CHIP   \n",
       "20     K19-488358                               UNKNOWN   SCAN CHIP   \n",
       "22     K19-484321  UNHEALTHY UNTREATABLE NON-CONTAGIOUS   SCAN CHIP   \n",
       "\n",
       "       Animal Origin     Month    Year Outcome Type Frequency  \n",
       "8              FIELD  NOV.2019  FY2020                    NaN  \n",
       "9   OVER THE COUNTER  NOV.2019  FY2020                    NaN  \n",
       "13             SWEEP  DEC.2019  FY2020                    NaN  \n",
       "20             FIELD  NOV.2019  FY2020                    NaN  \n",
       "22  OVER THE COUNTER  OCT.2019  FY2020                    NaN  \n",
       "\n",
       "[5 rows x 29 columns]"
      ]
     },
     "execution_count": 18,
     "metadata": {},
     "output_type": "execute_result"
    }
   ],
   "source": [
    "# Determine which animals are being euthanized in Dallas animal shelters\n",
    "df_DAL3_Euthanized = df_DAL3[df_DAL3['Outcome Type'].str.contains(\"EUTHANIZED\")]\n",
    "df_DAL3_Euthanized.head(5)"
   ]
  },
  {
   "cell_type": "code",
   "execution_count": 19,
   "metadata": {},
   "outputs": [],
   "source": [
    "# Find the general types of animals euthanized in Dallas shelters\n",
    "df_DAL3_EuthanizedTypes = df_DAL3_Euthanized['Animal Type'];\n",
    "\n",
    "# Find the specific types of animals (top 10) that are euthanized in shelters in Dallas\n",
    "df_DAL3_EuthanizedSpecific = df_DAL3_Euthanized['Animal Breed'];"
   ]
  },
  {
   "cell_type": "code",
   "execution_count": 20,
   "metadata": {},
   "outputs": [
    {
     "data": {
      "text/plain": [
       "Text(0.5, 0, 'Animal Type')"
      ]
     },
     "execution_count": 20,
     "metadata": {},
     "output_type": "execute_result"
    },
    {
     "data": {
      "image/png": "[encoded data removed]",
      "text/plain": [
       "<Figure size 720x432 with 1 Axes>"
      ]
     },
     "metadata": {},
     "output_type": "display_data"
    }
   ],
   "source": [
    "# Plot the General Types of animals brought into shelters in Dallas\n",
    "\n",
    "# Generate the Plot\n",
    "fig = plt.gcf()\n",
    "fig.set_size_inches(10, 6)\n",
    "sns.set(style=\"darkgrid\", font_scale = 1)\n",
    "\n",
    "# Fill in the Plot\n",
    "ax = sns.countplot(y=\"Animal Type\", data=df_DAL3_Euthanized)\n",
    "\n",
    "# Set the Title and Axes\n",
    "ax.set_title('Euthanized Animals by Type - Dallas FY 2020', fontsize = 16)\n",
    "ax.set_ylabel('# Euthanized', fontsize = 16)\n",
    "ax.set_xlabel('Animal Type', fontsize = 16)"
   ]
  },
  {
   "cell_type": "markdown",
   "metadata": {},
   "source": [
    "As one can see compared to the original intakes, dogs have a higher likelihood of being euthanized than cats. However, wildlife are also disproportionally euthanized. The latter is not surprising as they cannot be placed into foster care and may carry diseases.\n",
    "\n",
    "Let's look at the cases for specific animal breeds."
   ]
  },
  {
   "cell_type": "code",
   "execution_count": 21,
   "metadata": {},
   "outputs": [
    {
     "data": {
      "text/plain": [
       "Text(0.5, 0, 'Animal Breed')"
      ]
     },
     "execution_count": 21,
     "metadata": {},
     "output_type": "execute_result"
    },
    {
     "data": {
      "image/png": "[encoded data removed]",
      "text/plain": [
       "<Figure size 720x432 with 1 Axes>"
      ]
     },
     "metadata": {},
     "output_type": "display_data"
    }
   ],
   "source": [
    "# Plot the Specific Breeds of animals brought into shelters in Dallas\n",
    "\n",
    "# Generate the Plot\n",
    "fig = plt.gcf()\n",
    "fig.set_size_inches(10, 6)\n",
    "sns.set(style=\"darkgrid\", font_scale = 1)\n",
    "\n",
    "# Fill in the Plot\n",
    "ax = sns.countplot(y=\"Animal Breed\", data=df_DAL3_Euthanized, order=df_DAL3_Euthanized['Animal Breed']\n",
    "                   .value_counts().iloc[:10].index)\n",
    "\n",
    "# Set the Title and Axes\n",
    "ax.set_title('Euthanized Animals by Breed - Dallas FY 2020', fontsize = 16)\n",
    "ax.set_ylabel('# Euthanized', fontsize = 16)\n",
    "ax.set_xlabel('Animal Breed', fontsize = 16)"
   ]
  },
  {
   "cell_type": "markdown",
   "metadata": {},
   "source": [
    "This plot confirms our earlier hypotheses. While domestic shorthaired dogs are the mostly likely animal to be euthanized, they are closely followed by pitbulls (which often leave a negative impression with the populace). Subsequently we see that opossums and raccoons are the next animals to be euthanized (as they are most likely wildlife).\n",
    "\n",
    "As we discussed earlier, let's look at 'Outcome Condition'."
   ]
  },
  {
   "cell_type": "code",
   "execution_count": 22,
   "metadata": {},
   "outputs": [
    {
     "data": {
      "text/plain": [
       "APP WNL                                   15694\n",
       "TREATABLE REHABILITABLE NON-CONTAGIOUS     2961\n",
       "UNDERAGE                                   1622\n",
       "APP SICK                                   1334\n",
       "APP INJ                                     766\n",
       "UNKNOWN                                     749\n",
       "CRITICAL                                    595\n",
       "UNHEALTHY UNTREATABLE NON-CONTAGIOUS        349\n",
       "DECEASED                                    184\n",
       "DEAD                                        169\n",
       "FATAL                                       149\n",
       "HEALTHY                                     134\n",
       "TREATABLE MANAGEABLE NON-CONTAGIOUS          65\n",
       "TREATABLE REHABILITABLE CONTAGIOUS           37\n",
       "UNHEALTHY UNTREATABLE CONTAGIOUS             27\n",
       "Name: Outcome Condition, dtype: int64"
      ]
     },
     "execution_count": 22,
     "metadata": {},
     "output_type": "execute_result"
    }
   ],
   "source": [
    "# Find the Outcome Conditions in Dallas\n",
    "df_DAL3_OutcomeCondition = df_DAL3['Outcome Condition'];\n",
    "df_DAL3_OutcomeCondition.value_counts().head(15)"
   ]
  },
  {
   "cell_type": "markdown",
   "metadata": {},
   "source": [
    "To make this data more understandable, we will convert the raw numbers to percentages."
   ]
  },
  {
   "cell_type": "code",
   "execution_count": 23,
   "metadata": {},
   "outputs": [
    {
     "name": "stdout",
     "output_type": "stream",
     "text": [
      "Outcome Conditions for Dallas Animal Shelters - FY20\n",
      "\n",
      "Conditions                               Percentage\n",
      "APP WNL                                   63.185442\n",
      "TREATABLE REHABILITABLE NON-CONTAGIOUS    11.921250\n",
      "UNDERAGE                                   6.530316\n",
      "APP SICK                                   5.370803\n",
      "APP INJ                                    3.083984\n",
      "UNKNOWN                                    3.015541\n",
      "CRITICAL                                   2.395523\n",
      "UNHEALTHY UNTREATABLE NON-CONTAGIOUS       1.405105\n",
      "DECEASED                                   0.740800\n",
      "DEAD                                       0.680409\n",
      "FATAL                                      0.599887\n",
      "HEALTHY                                    0.539496\n",
      "TREATABLE MANAGEABLE NON-CONTAGIOUS        0.261696\n",
      "TREATABLE REHABILITABLE CONTAGIOUS         0.148965\n",
      "UNHEALTHY UNTREATABLE CONTAGIOUS           0.108704\n",
      "TREATABLE MANAGEABLE CONTAGIOUS            0.012078\n",
      "Name: Outcome Condition, dtype: float64\n"
     ]
    }
   ],
   "source": [
    "# Turn the Outcome Condition Values in a % of the Overall Case Total\n",
    "df_DAL3['Outcome Condition Frequency'] = df_DAL3['Outcome Condition'].value_counts()\n",
    "df_DAL3_OutcomeCondPerc = 100. * df_DAL3['Outcome Condition'].value_counts() / len(df_DAL3);\n",
    "print('Outcome Conditions for Dallas Animal Shelters - FY20\\n')\n",
    "print('Conditions                               Percentage')\n",
    "print(df_DAL3_OutcomeCondPerc)"
   ]
  },
  {
   "cell_type": "markdown",
   "metadata": {},
   "source": [
    "As we can see, at least 76% of the animal outcomes are favorable, while only 3% end up fatal. It appears the remaining 21% of cases could go either way."
   ]
  },
  {
   "cell_type": "markdown",
   "metadata": {},
   "source": [
    "As a final analysis, let's look at a time analysis to determine what times of the year animals are taken to the shelter."
   ]
  },
  {
   "cell_type": "code",
   "execution_count": 41,
   "metadata": {},
   "outputs": [
    {
     "data": {
      "text/plain": [
       "OCT.2019    3792\n",
       "JAN.2020    3478\n",
       "NOV.2019    3333\n",
       "DEC.2019    3147\n",
       "FEB.2020    2394\n",
       "MAR.2020    2107\n",
       "MAY.2020    1434\n",
       "JUL.2020    1417\n",
       "JUN.2020    1400\n",
       "APR.2020    1181\n",
       "AUG.2020    1116\n",
       "SEP.2020      39\n",
       "Name: Month, dtype: int64"
      ]
     },
     "execution_count": 41,
     "metadata": {},
     "output_type": "execute_result"
    }
   ],
   "source": [
    "# When are animals\n",
    "df_DAL3_Month = df_DAL3['Month'];\n",
    "df_DAL4_Month = df_DAL3_Month.value_counts().head(12);\n",
    "df_DAL4_Month"
   ]
  },
  {
   "cell_type": "markdown",
   "metadata": {},
   "source": [
    "Given that September 2020 has not yet completed at the time of this analysis, let's replace its value with an extrapolated value based upon a 30-day month."
   ]
  },
  {
   "cell_type": "code",
   "execution_count": 47,
   "metadata": {},
   "outputs": [
    {
     "data": {
      "text/plain": [
       "OCT.2019    3792\n",
       "JAN.2020    3478\n",
       "NOV.2019    3333\n",
       "DEC.2019    3147\n",
       "FEB.2020    2394\n",
       "MAR.2020    2107\n",
       "MAY.2020    1434\n",
       "JUL.2020    1417\n",
       "JUN.2020    1400\n",
       "APR.2020    1181\n",
       "AUG.2020    1116\n",
       "SEP.2020    1170\n",
       "Name: Month, dtype: int64"
      ]
     },
     "execution_count": 47,
     "metadata": {},
     "output_type": "execute_result"
    }
   ],
   "source": [
    "# Replace September 2020 value with extrapolated approximation\n",
    "df_DAL4_Month.at['SEP.2020'] = 1170; # 39 cases/day x 30 days\n",
    "df_DAL4_Month"
   ]
  },
  {
   "cell_type": "markdown",
   "metadata": {},
   "source": [
    "Now let's plot the number of cases per month."
   ]
  },
  {
   "cell_type": "code",
   "execution_count": 124,
   "metadata": {},
   "outputs": [
    {
     "data": {
      "text/plain": [
       "Text(0.5, 1.0, 'Animal Intakes - Dallas Shelters FY 2020')"
      ]
     },
     "execution_count": 124,
     "metadata": {},
     "output_type": "execute_result"
    },
    {
     "data": {
      "image/png": "[encoded data removed]",
      "text/plain": [
       "<Figure size 1152x720 with 1 Axes>"
      ]
     },
     "metadata": {},
     "output_type": "display_data"
    }
   ],
   "source": [
    "# Plot the Animal Shelter Intakes per month from October 2019 to September 2020 in Dallas\n",
    "x = df_DAL4_Month.index;\n",
    "y = df_DAL4_Month;\n",
    "\n",
    "fig= plt.figure(figsize=(16,10))\n",
    "plt.plot(x, y, 'g-')\n",
    "plt.xlabel('Month of FY 2020', fontsize  = 16)\n",
    "plt.ylabel('# of Animal Intakes', fontsize = 16)\n",
    "plt.title('Animal Intakes - Dallas Shelters FY 2020', fontsize  = 20)"
   ]
  },
  {
   "cell_type": "markdown",
   "metadata": {},
   "source": [
    "We see a dramatic decline in the number of intakes over the course of the fiscal year. Much of this decline may be due to the COVID-19 pandemic and the public closure of the animal shelters in the area.\n",
    "\n",
    "Since we have what appears to be a linear plot, let's see if we can't use linear regression to apply a trendline."
   ]
  },
  {
   "cell_type": "code",
   "execution_count": 126,
   "metadata": {},
   "outputs": [
    {
     "data": {
      "text/plain": [
       "<matplotlib.legend.Legend at 0x285023f8c10>"
      ]
     },
     "execution_count": 126,
     "metadata": {},
     "output_type": "execute_result"
    },
    {
     "data": {
      "image/png": "[encoded data removed]",
      "text/plain": [
       "<Figure size 1152x720 with 1 Axes>"
      ]
     },
     "metadata": {},
     "output_type": "display_data"
    }
   ],
   "source": [
    "# Create a Plot of Animal Intakes with a Trendline superimposed\n",
    "\n",
    "# Plot the Animal Shelter Intakes per month from October 2019 to September 2020 in Dallas\n",
    "x = [1, 2, 3, 4, 5, 6, 7, 8, 9, 10, 11, 12]; # Convert Dates to Values\n",
    "y = df_DAL4_Month;\n",
    "\n",
    "fig= plt.figure(figsize=(16,10))\n",
    "plt.plot(x, y, 'g-')\n",
    "plt.xlabel('Month of FY 2020', fontsize  = 16)\n",
    "plt.ylabel('# of Animal Intakes', fontsize = 16)\n",
    "plt.title('Animal Intakes - Dallas Shelters FY 2020', fontsize  = 22)\n",
    "\n",
    "# Create the Trendline and Superimpose It\n",
    "z = np.polyfit(x, y, 2)\n",
    "p = np.poly1d(z)\n",
    "plt.plot(x,p(x),\"r--\")\n",
    "plt.legend(('Actual Data', '2-Degree Trendline'), fontsize = 14)"
   ]
  },
  {
   "cell_type": "markdown",
   "metadata": {},
   "source": [
    "Let's display the trendline function."
   ]
  },
  {
   "cell_type": "code",
   "execution_count": 127,
   "metadata": {},
   "outputs": [
    {
     "name": "stdout",
     "output_type": "stream",
     "text": [
      "Animal Intake Trendline Function Coefficients\n",
      "[  20.11013986 -532.42132867 4535.52272727]\n"
     ]
    }
   ],
   "source": [
    "# Display the Trendline Function for the Animal Intakes\n",
    "print('Animal Intake Trendline Function Coefficients')\n",
    "print(z)"
   ]
  },
  {
   "cell_type": "markdown",
   "metadata": {},
   "source": [
    "Finally, let's display the R^2 Value for our Trendline."
   ]
  },
  {
   "cell_type": "code",
   "execution_count": 128,
   "metadata": {},
   "outputs": [
    {
     "name": "stdout",
     "output_type": "stream",
     "text": [
      "The R^2 Value is:  0.9606550364127907\n"
     ]
    }
   ],
   "source": [
    "# Determine R^2 Value\n",
    "\n",
    "# Import R^2 Value from Sk-Learn\n",
    "from sklearn.metrics import r2_score\n",
    "\n",
    "# Calculate the R^2 Value\n",
    "coefficient_of_dermination = r2_score(y, p(x));\n",
    "\n",
    "# Display the R^2 Value\n",
    "print('The R^2 Value is: ', coefficient_of_dermination)"
   ]
  },
  {
   "cell_type": "markdown",
   "metadata": {},
   "source": [
    "As we can see, we can model the animal intakes in Dallas shelters with a 2nd degree regression analysis within 96% accuracy."
   ]
  },
  {
   "cell_type": "markdown",
   "metadata": {},
   "source": [
    "## Results and Discussion"
   ]
  },
  {
   "cell_type": "markdown",
   "metadata": {},
   "source": [
    "In this open-ended project, we were able to arrive at some interesting results:\n",
    "\n",
    "<ul>\n",
    "    <li>(1) Dogs and cats are by far the most likely animals brought to a shelter.</li>\n",
    "    <li>(2) Pitbulls, opossums and raccoons are the most likely animals to be euthanized.</li>\n",
    "    <li>(3) At least 76% of the animals have a favorable outcome.</li>\n",
    "    <li>(4) Animal shelter intakes have rapidly dropped in the last 12 months.</li>\n",
    "</ul>"
   ]
  },
  {
   "cell_type": "markdown",
   "metadata": {},
   "source": [
    "## Conclusion"
   ]
  },
  {
   "cell_type": "markdown",
   "metadata": {},
   "source": [
    "The goal of this project was to explore any trends in the City of Dallas animal shelter data for FY2020. In this project, we were able to upload a real-world dataset, clean the data systematically, perform several different exploratory data analysis, make useful data visualizations, and draw logical inferences from those analyses. It is the author's hope that others find this exericse useful. Thanks for reading!"
   ]
  },
  {
   "cell_type": "code",
   "execution_count": null,
   "metadata": {},
   "outputs": [],
   "source": []
  }
 ],
 "metadata": {
  "kernelspec": {
   "display_name": "Python 3",
   "language": "python",
   "name": "python3"
  },
  "language_info": {
   "codemirror_mode": {
    "name": "ipython",
    "version": 3
   },
   "file_extension": ".py",
   "mimetype": "text/x-python",
   "name": "python",
   "nbconvert_exporter": "python",
   "pygments_lexer": "ipython3",
   "version": "3.8.3"
  }
 },
 "nbformat": 4,
 "nbformat_minor": 4
}
