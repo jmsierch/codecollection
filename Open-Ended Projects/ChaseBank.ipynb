{
 "cells": [
  {
   "cell_type": "markdown",
   "metadata": {},
   "source": [
    "# Chase Bank Deposit Analysis"
   ]
  },
  {
   "cell_type": "markdown",
   "metadata": {},
   "source": [
    "## by Justin Sierchio"
   ]
  },
  {
   "cell_type": "markdown",
   "metadata": {},
   "source": [
    "In this analysis, we will be looking at deposits in various Chase Bank locations across the United States from the years 2010 to 2016. Ideally, we would like to be able to answer the following questions:\n",
    "\n",
    "<ul>\n",
    "    <li>Where do Chase customers deposit the most money?</li>\n",
    "    <li>How have the deposits changed over time with respect to location?</li>\n",
    "    <li>What are some hypothesis and conclusions we might able to draw from this analysis?</li>\n",
    "</ul>\n",
    "\n",
    "This data is in .csv file format and is from Kaggle at: https://www.kaggle.com/chasebank/bank-deposits/download. More information related to the dataset can be found at: https://www.kaggle.com/chasebank/bank-deposits."
   ]
  },
  {
   "cell_type": "markdown",
   "metadata": {},
   "source": [
    "## Notebook Initialization"
   ]
  },
  {
   "cell_type": "code",
   "execution_count": 1,
   "metadata": {},
   "outputs": [
    {
     "name": "stdout",
     "output_type": "stream",
     "text": [
      "Initial libraries loaded into workspace!\n"
     ]
    }
   ],
   "source": [
    "# Import Relevant Libraries\n",
    "import pandas as pd\n",
    "import numpy as np\n",
    "import seaborn as sns \n",
    "import matplotlib.pyplot as plt\n",
    "\n",
    "print('Initial libraries loaded into workspace!')"
   ]
  },
  {
   "cell_type": "code",
   "execution_count": 2,
   "metadata": {},
   "outputs": [
    {
     "name": "stdout",
     "output_type": "stream",
     "text": [
      "Datasets uploaded!\n"
     ]
    }
   ],
   "source": [
    "# Upload Datasets for Study\n",
    "df_CHASE = pd.read_csv(\"database.csv\");\n",
    "\n",
    "print('Datasets uploaded!');"
   ]
  },
  {
   "cell_type": "code",
   "execution_count": 3,
   "metadata": {},
   "outputs": [
    {
     "data": {
      "text/html": [
       "<div>\n",
       "<style scoped>\n",
       "    .dataframe tbody tr th:only-of-type {\n",
       "        vertical-align: middle;\n",
       "    }\n",
       "\n",
       "    .dataframe tbody tr th {\n",
       "        vertical-align: top;\n",
       "    }\n",
       "\n",
       "    .dataframe thead th {\n",
       "        text-align: right;\n",
       "    }\n",
       "</style>\n",
       "<table border=\"1\" class=\"dataframe\">\n",
       "  <thead>\n",
       "    <tr style=\"text-align: right;\">\n",
       "      <th></th>\n",
       "      <th>Institution Name</th>\n",
       "      <th>Main Office</th>\n",
       "      <th>Branch Name</th>\n",
       "      <th>Branch Number</th>\n",
       "      <th>Established Date</th>\n",
       "      <th>Acquired Date</th>\n",
       "      <th>Street Address</th>\n",
       "      <th>City</th>\n",
       "      <th>County</th>\n",
       "      <th>State</th>\n",
       "      <th>Zipcode</th>\n",
       "      <th>Latitude</th>\n",
       "      <th>Longitude</th>\n",
       "      <th>2010 Deposits</th>\n",
       "      <th>2011 Deposits</th>\n",
       "      <th>2012 Deposits</th>\n",
       "      <th>2013 Deposits</th>\n",
       "      <th>2014 Deposits</th>\n",
       "      <th>2015 Deposits</th>\n",
       "      <th>2016 Deposits</th>\n",
       "    </tr>\n",
       "  </thead>\n",
       "  <tbody>\n",
       "    <tr>\n",
       "      <th>0</th>\n",
       "      <td>JPMorgan Chase Bank</td>\n",
       "      <td>1</td>\n",
       "      <td>JPMorgan Chase Bank Main Office</td>\n",
       "      <td>0</td>\n",
       "      <td>01/01/1824</td>\n",
       "      <td>NaN</td>\n",
       "      <td>1111 Polaris Parkway</td>\n",
       "      <td>Columbus</td>\n",
       "      <td>Delaware</td>\n",
       "      <td>OH</td>\n",
       "      <td>43240</td>\n",
       "      <td>40.14453</td>\n",
       "      <td>-82.99115</td>\n",
       "      <td>633131000.0</td>\n",
       "      <td>743268000.0</td>\n",
       "      <td>832455000.0</td>\n",
       "      <td>916543000.0</td>\n",
       "      <td>1.032549e+09</td>\n",
       "      <td>1.069425e+09</td>\n",
       "      <td>1155185000</td>\n",
       "    </tr>\n",
       "    <tr>\n",
       "      <th>1</th>\n",
       "      <td>JPMorgan Chase Bank</td>\n",
       "      <td>0</td>\n",
       "      <td>Vernon Hills Scarsdale Branch</td>\n",
       "      <td>2</td>\n",
       "      <td>03/20/1961</td>\n",
       "      <td>NaN</td>\n",
       "      <td>676 White Plains Road</td>\n",
       "      <td>Scarsdale</td>\n",
       "      <td>Westchester</td>\n",
       "      <td>NY</td>\n",
       "      <td>10583</td>\n",
       "      <td>40.97008</td>\n",
       "      <td>-73.80670</td>\n",
       "      <td>293229.0</td>\n",
       "      <td>310791.0</td>\n",
       "      <td>325742.0</td>\n",
       "      <td>327930.0</td>\n",
       "      <td>3.277920e+05</td>\n",
       "      <td>3.414750e+05</td>\n",
       "      <td>381558</td>\n",
       "    </tr>\n",
       "    <tr>\n",
       "      <th>2</th>\n",
       "      <td>JPMorgan Chase Bank</td>\n",
       "      <td>0</td>\n",
       "      <td>Great Neck Northern Boulevard Branch</td>\n",
       "      <td>3</td>\n",
       "      <td>09/09/1963</td>\n",
       "      <td>NaN</td>\n",
       "      <td>410 Northern Boulevard</td>\n",
       "      <td>Great Neck</td>\n",
       "      <td>Nassau</td>\n",
       "      <td>NY</td>\n",
       "      <td>11021</td>\n",
       "      <td>40.77944</td>\n",
       "      <td>-73.72240</td>\n",
       "      <td>191011.0</td>\n",
       "      <td>206933.0</td>\n",
       "      <td>216439.0</td>\n",
       "      <td>237983.0</td>\n",
       "      <td>2.341830e+05</td>\n",
       "      <td>2.624550e+05</td>\n",
       "      <td>278940</td>\n",
       "    </tr>\n",
       "    <tr>\n",
       "      <th>3</th>\n",
       "      <td>JPMorgan Chase Bank</td>\n",
       "      <td>0</td>\n",
       "      <td>North Hartsdale Branch</td>\n",
       "      <td>4</td>\n",
       "      <td>02/19/1966</td>\n",
       "      <td>NaN</td>\n",
       "      <td>353 North Central Avenue</td>\n",
       "      <td>Hartsdale</td>\n",
       "      <td>Westchester</td>\n",
       "      <td>NY</td>\n",
       "      <td>10530</td>\n",
       "      <td>41.02654</td>\n",
       "      <td>-73.79168</td>\n",
       "      <td>87110.0</td>\n",
       "      <td>88367.0</td>\n",
       "      <td>93163.0</td>\n",
       "      <td>109659.0</td>\n",
       "      <td>1.119850e+05</td>\n",
       "      <td>1.167720e+05</td>\n",
       "      <td>140233</td>\n",
       "    </tr>\n",
       "    <tr>\n",
       "      <th>4</th>\n",
       "      <td>JPMorgan Chase Bank</td>\n",
       "      <td>0</td>\n",
       "      <td>Lawrence Rockaway Branch</td>\n",
       "      <td>5</td>\n",
       "      <td>01/16/1965</td>\n",
       "      <td>NaN</td>\n",
       "      <td>335 Rockaway Turnpike</td>\n",
       "      <td>Lawrence</td>\n",
       "      <td>Nassau</td>\n",
       "      <td>NY</td>\n",
       "      <td>11559</td>\n",
       "      <td>40.62715</td>\n",
       "      <td>-73.73675</td>\n",
       "      <td>172608.0</td>\n",
       "      <td>172749.0</td>\n",
       "      <td>189413.0</td>\n",
       "      <td>198445.0</td>\n",
       "      <td>2.051980e+05</td>\n",
       "      <td>2.232000e+05</td>\n",
       "      <td>235594</td>\n",
       "    </tr>\n",
       "  </tbody>\n",
       "</table>\n",
       "</div>"
      ],
      "text/plain": [
       "      Institution Name  Main Office                           Branch Name  \\\n",
       "0  JPMorgan Chase Bank            1       JPMorgan Chase Bank Main Office   \n",
       "1  JPMorgan Chase Bank            0         Vernon Hills Scarsdale Branch   \n",
       "2  JPMorgan Chase Bank            0  Great Neck Northern Boulevard Branch   \n",
       "3  JPMorgan Chase Bank            0                North Hartsdale Branch   \n",
       "4  JPMorgan Chase Bank            0              Lawrence Rockaway Branch   \n",
       "\n",
       "   Branch Number Established Date Acquired Date            Street Address  \\\n",
       "0              0       01/01/1824           NaN      1111 Polaris Parkway   \n",
       "1              2       03/20/1961           NaN     676 White Plains Road   \n",
       "2              3       09/09/1963           NaN    410 Northern Boulevard   \n",
       "3              4       02/19/1966           NaN  353 North Central Avenue   \n",
       "4              5       01/16/1965           NaN     335 Rockaway Turnpike   \n",
       "\n",
       "         City       County State  Zipcode  Latitude  Longitude  2010 Deposits  \\\n",
       "0    Columbus     Delaware    OH    43240  40.14453  -82.99115    633131000.0   \n",
       "1   Scarsdale  Westchester    NY    10583  40.97008  -73.80670       293229.0   \n",
       "2  Great Neck       Nassau    NY    11021  40.77944  -73.72240       191011.0   \n",
       "3   Hartsdale  Westchester    NY    10530  41.02654  -73.79168        87110.0   \n",
       "4    Lawrence       Nassau    NY    11559  40.62715  -73.73675       172608.0   \n",
       "\n",
       "   2011 Deposits  2012 Deposits  2013 Deposits  2014 Deposits  2015 Deposits  \\\n",
       "0    743268000.0    832455000.0    916543000.0   1.032549e+09   1.069425e+09   \n",
       "1       310791.0       325742.0       327930.0   3.277920e+05   3.414750e+05   \n",
       "2       206933.0       216439.0       237983.0   2.341830e+05   2.624550e+05   \n",
       "3        88367.0        93163.0       109659.0   1.119850e+05   1.167720e+05   \n",
       "4       172749.0       189413.0       198445.0   2.051980e+05   2.232000e+05   \n",
       "\n",
       "   2016 Deposits  \n",
       "0     1155185000  \n",
       "1         381558  \n",
       "2         278940  \n",
       "3         140233  \n",
       "4         235594  "
      ]
     },
     "execution_count": 3,
     "metadata": {},
     "output_type": "execute_result"
    }
   ],
   "source": [
    "# Display 1st 5 rows from Chase Bank dataset\n",
    "df_CHASE.head()"
   ]
  },
  {
   "cell_type": "markdown",
   "metadata": {},
   "source": [
    "Let's describe what each of the columns in this dataset mean.\n",
    "\n",
    "<ul>\n",
    "    <li>Institution Name: name of the financial institution</li>\n",
    "    <li>Main Office: Whether the branch is the main office</li>\n",
    "    <li>Branch Name: Name of Chase Bank branch</li>\n",
    "    <li>Branch Number: Number of branch</li>\n",
    "    <li>Established Date: Date branch was established</li>\n",
    "    <li>Acquired Date: Date branch was acquired by Chase</li>\n",
    "    <li>Street Address: Self-Explanatory</li>\n",
    "    <li>City: Self-Explanatory</li>\n",
    "    <li>County: Self-Explanatory</li>\n",
    "    <li>State: Self-Explanatory</li>\n",
    "    <li>Zipcode: Self-Explanatory</li>\n",
    "    <li>Latitude: Self-Explanatory</li>\n",
    "    <li>Longitude: Self-Explanatory</li>\n",
    "    <li>2010 Deposits: Deposits during CY 2010</li>\n",
    "    <li>2011 Deposits: Deposits during CY 2010</li>\n",
    "    <li>2012 Deposits: Deposits during CY 2010</li>\n",
    "    <li>2013 Deposits: Deposits during CY 2010</li>\n",
    "    <li>2014 Deposits: Deposits during CY 2010</li>\n",
    "    <li>2015 Deposits: Deposits during CY 2010</li>\n",
    "    <li>2016 Deposits: Deposits during CY 2010</li>\n",
    "</ul>"
   ]
  },
  {
   "cell_type": "markdown",
   "metadata": {},
   "source": [
    "## Data Cleaning"
   ]
  },
  {
   "cell_type": "markdown",
   "metadata": {},
   "source": [
    "First, let's get a sense of the quality of the dataset."
   ]
  },
  {
   "cell_type": "code",
   "execution_count": 4,
   "metadata": {},
   "outputs": [
    {
     "name": "stdout",
     "output_type": "stream",
     "text": [
      "<class 'pandas.core.frame.DataFrame'>\n",
      "RangeIndex: 5413 entries, 0 to 5412\n",
      "Data columns (total 20 columns):\n",
      " #   Column            Non-Null Count  Dtype  \n",
      "---  ------            --------------  -----  \n",
      " 0   Institution Name  5413 non-null   object \n",
      " 1   Main Office       5413 non-null   int64  \n",
      " 2   Branch Name       5413 non-null   object \n",
      " 3   Branch Number     5413 non-null   int64  \n",
      " 4   Established Date  5413 non-null   object \n",
      " 5   Acquired Date     3798 non-null   object \n",
      " 6   Street Address    5413 non-null   object \n",
      " 7   City              5413 non-null   object \n",
      " 8   County            5413 non-null   object \n",
      " 9   State             5413 non-null   object \n",
      " 10  Zipcode           5413 non-null   int64  \n",
      " 11  Latitude          5347 non-null   float64\n",
      " 12  Longitude         5347 non-null   float64\n",
      " 13  2010 Deposits     4673 non-null   float64\n",
      " 14  2011 Deposits     4835 non-null   float64\n",
      " 15  2012 Deposits     5084 non-null   float64\n",
      " 16  2013 Deposits     5238 non-null   float64\n",
      " 17  2014 Deposits     5357 non-null   float64\n",
      " 18  2015 Deposits     5394 non-null   float64\n",
      " 19  2016 Deposits     5413 non-null   int64  \n",
      "dtypes: float64(8), int64(4), object(8)\n",
      "memory usage: 845.9+ KB\n"
     ]
    }
   ],
   "source": [
    "# Characteristics of the Chase Bank dataset\n",
    "df_CHASE.info()"
   ]
  },
  {
   "cell_type": "markdown",
   "metadata": {},
   "source": [
    "First, let's check the institution name to see if there are any deviations."
   ]
  },
  {
   "cell_type": "code",
   "execution_count": 5,
   "metadata": {},
   "outputs": [
    {
     "data": {
      "text/plain": [
       "JPMorgan Chase Bank    5413\n",
       "Name: Institution Name, dtype: int64"
      ]
     },
     "execution_count": 5,
     "metadata": {},
     "output_type": "execute_result"
    }
   ],
   "source": [
    "# Check Chase Institution Name Values\n",
    "df_CHASE['Institution Name'].value_counts()"
   ]
  },
  {
   "cell_type": "markdown",
   "metadata": {},
   "source": [
    "Since there are no other institution names other than JPMorgan Chase Bank, let us go ahead and drop that column from the data set."
   ]
  },
  {
   "cell_type": "code",
   "execution_count": 6,
   "metadata": {},
   "outputs": [
    {
     "name": "stdout",
     "output_type": "stream",
     "text": [
      "<class 'pandas.core.frame.DataFrame'>\n",
      "RangeIndex: 5413 entries, 0 to 5412\n",
      "Data columns (total 19 columns):\n",
      " #   Column            Non-Null Count  Dtype  \n",
      "---  ------            --------------  -----  \n",
      " 0   Main Office       5413 non-null   int64  \n",
      " 1   Branch Name       5413 non-null   object \n",
      " 2   Branch Number     5413 non-null   int64  \n",
      " 3   Established Date  5413 non-null   object \n",
      " 4   Acquired Date     3798 non-null   object \n",
      " 5   Street Address    5413 non-null   object \n",
      " 6   City              5413 non-null   object \n",
      " 7   County            5413 non-null   object \n",
      " 8   State             5413 non-null   object \n",
      " 9   Zipcode           5413 non-null   int64  \n",
      " 10  Latitude          5347 non-null   float64\n",
      " 11  Longitude         5347 non-null   float64\n",
      " 12  2010 Deposits     4673 non-null   float64\n",
      " 13  2011 Deposits     4835 non-null   float64\n",
      " 14  2012 Deposits     5084 non-null   float64\n",
      " 15  2013 Deposits     5238 non-null   float64\n",
      " 16  2014 Deposits     5357 non-null   float64\n",
      " 17  2015 Deposits     5394 non-null   float64\n",
      " 18  2016 Deposits     5413 non-null   int64  \n",
      "dtypes: float64(8), int64(4), object(7)\n",
      "memory usage: 803.6+ KB\n"
     ]
    }
   ],
   "source": [
    "# Drop Institution Name from Chase Bank Dataset\n",
    "df_CHASE2 = df_CHASE.drop(['Institution Name'], axis=1)\n",
    "df_CHASE2.info()"
   ]
  },
  {
   "cell_type": "markdown",
   "metadata": {},
   "source": [
    "We can see that some banks did not take in deposits from 2010 to 2015. This is perhaps because they had not been acquired or established by Chase until that point. In order to clean that data, let us convert all the 'NULL' values for the 2010, 2011, 2012, 2013, 2014, 2015 and 2016 deposits to '$0 dollars.'"
   ]
  },
  {
   "cell_type": "code",
   "execution_count": 7,
   "metadata": {},
   "outputs": [
    {
     "name": "stdout",
     "output_type": "stream",
     "text": [
      "<class 'pandas.core.frame.DataFrame'>\n",
      "RangeIndex: 5413 entries, 0 to 5412\n",
      "Data columns (total 19 columns):\n",
      " #   Column            Non-Null Count  Dtype  \n",
      "---  ------            --------------  -----  \n",
      " 0   Main Office       5413 non-null   int64  \n",
      " 1   Branch Name       5413 non-null   object \n",
      " 2   Branch Number     5413 non-null   int64  \n",
      " 3   Established Date  5413 non-null   object \n",
      " 4   Acquired Date     3798 non-null   object \n",
      " 5   Street Address    5413 non-null   object \n",
      " 6   City              5413 non-null   object \n",
      " 7   County            5413 non-null   object \n",
      " 8   State             5413 non-null   object \n",
      " 9   Zipcode           5413 non-null   int64  \n",
      " 10  Latitude          5347 non-null   float64\n",
      " 11  Longitude         5347 non-null   float64\n",
      " 12  2010 Deposits     5413 non-null   float64\n",
      " 13  2011 Deposits     5413 non-null   float64\n",
      " 14  2012 Deposits     5413 non-null   float64\n",
      " 15  2013 Deposits     5413 non-null   float64\n",
      " 16  2014 Deposits     5413 non-null   float64\n",
      " 17  2015 Deposits     5413 non-null   float64\n",
      " 18  2016 Deposits     5413 non-null   int64  \n",
      "dtypes: float64(8), int64(4), object(7)\n",
      "memory usage: 803.6+ KB\n"
     ]
    }
   ],
   "source": [
    "# Convert 'NULL' values in deposit columns to 0\n",
    "df_CHASE2['2010 Deposits'].fillna(0, inplace = True)\n",
    "df_CHASE2['2011 Deposits'].fillna(0, inplace = True)\n",
    "df_CHASE2['2012 Deposits'].fillna(0, inplace = True)\n",
    "df_CHASE2['2013 Deposits'].fillna(0, inplace = True)\n",
    "df_CHASE2['2014 Deposits'].fillna(0, inplace = True)\n",
    "df_CHASE2['2015 Deposits'].fillna(0, inplace = True)\n",
    "df_CHASE2['2016 Deposits'].fillna(0, inplace = True)\n",
    "df_CHASE2.info()"
   ]
  },
  {
   "cell_type": "markdown",
   "metadata": {},
   "source": [
    "At next glance, we can see that it appears that 3798 of the 5413 Chase branches were acquired by the main financial institution. \n",
    "\n",
    "The data appears to be sufficiently clean for conducting exploratory data analysis."
   ]
  },
  {
   "cell_type": "markdown",
   "metadata": {},
   "source": [
    "## Exploratory Data Analysis"
   ]
  },
  {
   "cell_type": "markdown",
   "metadata": {},
   "source": [
    "As an initial analysis, let's plot the locations of all the Chase locations for say Texas."
   ]
  },
  {
   "cell_type": "code",
   "execution_count": 8,
   "metadata": {},
   "outputs": [
    {
     "data": {
      "text/html": [
       "<div>\n",
       "<style scoped>\n",
       "    .dataframe tbody tr th:only-of-type {\n",
       "        vertical-align: middle;\n",
       "    }\n",
       "\n",
       "    .dataframe tbody tr th {\n",
       "        vertical-align: top;\n",
       "    }\n",
       "\n",
       "    .dataframe thead th {\n",
       "        text-align: right;\n",
       "    }\n",
       "</style>\n",
       "<table border=\"1\" class=\"dataframe\">\n",
       "  <thead>\n",
       "    <tr style=\"text-align: right;\">\n",
       "      <th></th>\n",
       "      <th>Main Office</th>\n",
       "      <th>Branch Name</th>\n",
       "      <th>Branch Number</th>\n",
       "      <th>Established Date</th>\n",
       "      <th>Acquired Date</th>\n",
       "      <th>Street Address</th>\n",
       "      <th>City</th>\n",
       "      <th>County</th>\n",
       "      <th>State</th>\n",
       "      <th>Zipcode</th>\n",
       "      <th>Latitude</th>\n",
       "      <th>Longitude</th>\n",
       "      <th>2010 Deposits</th>\n",
       "      <th>2011 Deposits</th>\n",
       "      <th>2012 Deposits</th>\n",
       "      <th>2013 Deposits</th>\n",
       "      <th>2014 Deposits</th>\n",
       "      <th>2015 Deposits</th>\n",
       "      <th>2016 Deposits</th>\n",
       "    </tr>\n",
       "  </thead>\n",
       "  <tbody>\n",
       "    <tr>\n",
       "      <th>395</th>\n",
       "      <td>0</td>\n",
       "      <td>Houston Main Office</td>\n",
       "      <td>1315</td>\n",
       "      <td>07/03/1912</td>\n",
       "      <td>08/01/2000</td>\n",
       "      <td>712 Main Street</td>\n",
       "      <td>Houston</td>\n",
       "      <td>Harris</td>\n",
       "      <td>TX</td>\n",
       "      <td>77002</td>\n",
       "      <td>29.75917</td>\n",
       "      <td>-95.36334</td>\n",
       "      <td>26356388.0</td>\n",
       "      <td>36991358.0</td>\n",
       "      <td>38794794.0</td>\n",
       "      <td>52284845.0</td>\n",
       "      <td>82408236.0</td>\n",
       "      <td>60702170.0</td>\n",
       "      <td>57820585</td>\n",
       "    </tr>\n",
       "    <tr>\n",
       "      <th>396</th>\n",
       "      <td>0</td>\n",
       "      <td>Motor Bank Branch</td>\n",
       "      <td>1318</td>\n",
       "      <td>02/04/1980</td>\n",
       "      <td>08/01/2000</td>\n",
       "      <td>212 Milam Street</td>\n",
       "      <td>Houston</td>\n",
       "      <td>Harris</td>\n",
       "      <td>TX</td>\n",
       "      <td>77002</td>\n",
       "      <td>29.76398</td>\n",
       "      <td>-95.36201</td>\n",
       "      <td>0.0</td>\n",
       "      <td>0.0</td>\n",
       "      <td>0.0</td>\n",
       "      <td>0.0</td>\n",
       "      <td>0.0</td>\n",
       "      <td>0.0</td>\n",
       "      <td>0</td>\n",
       "    </tr>\n",
       "    <tr>\n",
       "      <th>397</th>\n",
       "      <td>0</td>\n",
       "      <td>Woodlands Branch</td>\n",
       "      <td>1319</td>\n",
       "      <td>05/17/1972</td>\n",
       "      <td>08/01/2000</td>\n",
       "      <td>25025 Interstate 45 North Freeway</td>\n",
       "      <td>Spring</td>\n",
       "      <td>Montgomery</td>\n",
       "      <td>TX</td>\n",
       "      <td>77380</td>\n",
       "      <td>30.13594</td>\n",
       "      <td>-95.46871</td>\n",
       "      <td>124642.0</td>\n",
       "      <td>191821.0</td>\n",
       "      <td>139133.0</td>\n",
       "      <td>144451.0</td>\n",
       "      <td>158027.0</td>\n",
       "      <td>219354.0</td>\n",
       "      <td>177906</td>\n",
       "    </tr>\n",
       "    <tr>\n",
       "      <th>398</th>\n",
       "      <td>0</td>\n",
       "      <td>Detached Drive-In Facility Branch</td>\n",
       "      <td>1320</td>\n",
       "      <td>11/13/1979</td>\n",
       "      <td>08/01/2000</td>\n",
       "      <td>25025 Interstate 45 North Freeway</td>\n",
       "      <td>Spring</td>\n",
       "      <td>Montgomery</td>\n",
       "      <td>TX</td>\n",
       "      <td>77380</td>\n",
       "      <td>30.13594</td>\n",
       "      <td>-95.46871</td>\n",
       "      <td>0.0</td>\n",
       "      <td>0.0</td>\n",
       "      <td>0.0</td>\n",
       "      <td>0.0</td>\n",
       "      <td>0.0</td>\n",
       "      <td>0.0</td>\n",
       "      <td>0</td>\n",
       "    </tr>\n",
       "    <tr>\n",
       "      <th>399</th>\n",
       "      <td>0</td>\n",
       "      <td>Stafford Branch</td>\n",
       "      <td>1321</td>\n",
       "      <td>05/29/1956</td>\n",
       "      <td>08/01/2000</td>\n",
       "      <td>11806 Wilcrest Drive</td>\n",
       "      <td>Houston</td>\n",
       "      <td>Harris</td>\n",
       "      <td>TX</td>\n",
       "      <td>77031</td>\n",
       "      <td>29.65071</td>\n",
       "      <td>-95.56772</td>\n",
       "      <td>228748.0</td>\n",
       "      <td>235691.0</td>\n",
       "      <td>283603.0</td>\n",
       "      <td>300138.0</td>\n",
       "      <td>325135.0</td>\n",
       "      <td>331924.0</td>\n",
       "      <td>348054</td>\n",
       "    </tr>\n",
       "  </tbody>\n",
       "</table>\n",
       "</div>"
      ],
      "text/plain": [
       "     Main Office                        Branch Name  Branch Number  \\\n",
       "395            0                Houston Main Office           1315   \n",
       "396            0                  Motor Bank Branch           1318   \n",
       "397            0                   Woodlands Branch           1319   \n",
       "398            0  Detached Drive-In Facility Branch           1320   \n",
       "399            0                    Stafford Branch           1321   \n",
       "\n",
       "    Established Date Acquired Date                     Street Address  \\\n",
       "395       07/03/1912    08/01/2000                    712 Main Street   \n",
       "396       02/04/1980    08/01/2000                   212 Milam Street   \n",
       "397       05/17/1972    08/01/2000  25025 Interstate 45 North Freeway   \n",
       "398       11/13/1979    08/01/2000  25025 Interstate 45 North Freeway   \n",
       "399       05/29/1956    08/01/2000               11806 Wilcrest Drive   \n",
       "\n",
       "        City      County State  Zipcode  Latitude  Longitude  2010 Deposits  \\\n",
       "395  Houston      Harris    TX    77002  29.75917  -95.36334     26356388.0   \n",
       "396  Houston      Harris    TX    77002  29.76398  -95.36201            0.0   \n",
       "397   Spring  Montgomery    TX    77380  30.13594  -95.46871       124642.0   \n",
       "398   Spring  Montgomery    TX    77380  30.13594  -95.46871            0.0   \n",
       "399  Houston      Harris    TX    77031  29.65071  -95.56772       228748.0   \n",
       "\n",
       "     2011 Deposits  2012 Deposits  2013 Deposits  2014 Deposits  \\\n",
       "395     36991358.0     38794794.0     52284845.0     82408236.0   \n",
       "396            0.0            0.0            0.0            0.0   \n",
       "397       191821.0       139133.0       144451.0       158027.0   \n",
       "398            0.0            0.0            0.0            0.0   \n",
       "399       235691.0       283603.0       300138.0       325135.0   \n",
       "\n",
       "     2015 Deposits  2016 Deposits  \n",
       "395     60702170.0       57820585  \n",
       "396            0.0              0  \n",
       "397       219354.0         177906  \n",
       "398            0.0              0  \n",
       "399       331924.0         348054  "
      ]
     },
     "execution_count": 8,
     "metadata": {},
     "output_type": "execute_result"
    }
   ],
   "source": [
    "# Create a subset for all the Chase bank branches in Texas\n",
    "df_CHASE2_TX = df_CHASE2[df_CHASE2['State'].str.match('TX')]\n",
    "df_CHASE2_TX.head()"
   ]
  },
  {
   "cell_type": "code",
   "execution_count": null,
   "metadata": {},
   "outputs": [],
   "source": [
    "# Install folium into local Jupyter Notebook\n",
    "!pip install folium\n",
    "\n",
    "print('Successfully installed folium package!')"
   ]
  },
  {
   "cell_type": "code",
   "execution_count": null,
   "metadata": {},
   "outputs": [],
   "source": [
    "# Create a map of Texas\n",
    "import folium\n",
    "TEX_map = folium.Map([31.106, -97.648], zoom_start=6)\n",
    "TEX_map"
   ]
  },
  {
   "cell_type": "markdown",
   "metadata": {},
   "source": [
    "Now that we can generate the map, let's mark the Chase locations. But first, we need to remove the locations that do not have latitude or longitude values."
   ]
  },
  {
   "cell_type": "code",
   "execution_count": null,
   "metadata": {},
   "outputs": [],
   "source": [
    "# Remove Locations without Latitude or Longitude values\n",
    "df_CHASE2_TX = df_CHASE2_TX.dropna()\n",
    "\n",
    "# Add Chase Locations to Texas Map\n",
    "for i in range(0,len(df_CHASE2_TX)):\n",
    "    folium.Marker([df_CHASE2_TX.iloc[i]['Latitude'], df_CHASE2_TX.iloc[i]['Longitude']], \n",
    "                  popup=df_CHASE2_TX.iloc[i]['Branch Name']).add_to(TEX_map)\n",
    "\n",
    "# Re-Display Texas Map\n",
    "TEX_map"
   ]
  },
  {
   "cell_type": "markdown",
   "metadata": {},
   "source": [
    "Now that we have shown the Chase Bank branches in Texas, let's take a look at the range of deposits in 2010 by branch in Texas. Then we will compare them to the deposits in 2016."
   ]
  },
  {
   "cell_type": "code",
   "execution_count": null,
   "metadata": {},
   "outputs": [],
   "source": [
    "# Sort all the Chase branches in Texas by 2010 deposits\n",
    "df_CHASE2_TX_Deposits = df_CHASE2_TX[['Branch Name', 'City', 'County', '2010 Deposits']];\n",
    "df_CHASE2_TX_Deposits = df_CHASE2_TX_Deposits.sort_values(by=['2010 Deposits'], ascending=False)\n",
    "print('Top 10 Chase Branches in Texas by Deposits, 2010\\n')\n",
    "print(df_CHASE2_TX_Deposits.head(10))"
   ]
  },
  {
   "cell_type": "markdown",
   "metadata": {},
   "source": [
    "The result of this inquiry is quite interesting. It turns out that 4 of the top 10 Chase branches (by 2010 deposits) are located in Houston, with the main office branch handling $26,356,388 dollars in deposits. A possible reason for this observation is the plentitude of oil and natural gas companies located in Houston, which could require large amounts of loans and deposits."
   ]
  },
  {
   "cell_type": "code",
   "execution_count": null,
   "metadata": {},
   "outputs": [],
   "source": [
    "# Sort all the Chase branches in Texas by 2016 deposits\n",
    "df_CHASE2_TX_Deposits = df_CHASE2_TX[['Branch Name', 'City', 'County', '2016 Deposits']];\n",
    "df_CHASE2_TX_Deposits = df_CHASE2_TX_Deposits.sort_values(by=['2016 Deposits'], ascending=False)\n",
    "print('Top 10 Chase Branches in Texas by Deposits, 2016\\n')\n",
    "print(df_CHASE2_TX_Deposits.head(10))"
   ]
  },
  {
   "cell_type": "markdown",
   "metadata": {},
   "source": [
    "Over the 6 year period, we see a dramatic increase in the deposit amounts in the Houston main branch. This would appear to indicate (a) population growth and (b) increasing economic activity. Given that the energy industry picked up in the 2010s, this hypothesis appears to have some merit.\n",
    "\n",
    "Let's plot the change in deposit amounts for the top 10 recipients in 2010 to get a better sense of the change over the 6 year period."
   ]
  },
  {
   "cell_type": "code",
   "execution_count": null,
   "metadata": {},
   "outputs": [],
   "source": [
    "# Create a Subset for plotting deposit amounts for the Top 10 Branch recipients in Texas\n",
    "df_CHASE2_TX_Deposits_2010 = df_CHASE2_TX[['2010 Deposits', '2011 Deposits', '2012 Deposits', '2013 Deposits', \n",
    "                                          '2014 Deposits', '2015 Deposits', '2016 Deposits']];\n",
    "df_CHASE2_TX_Deposits_2010 = df_CHASE2_TX_Deposits_2010.sort_values(by=['2010 Deposits'], ascending=False)\n",
    "df_CHASE2_TX_Deposits_2010_Top10 = df_CHASE2_TX_Deposits_2010.head(10);\n",
    "\n",
    "# Transpose the Values for making the plots\n",
    "df_CHASE2_TX_Deposits_2010_Top10_Transpose = df_CHASE2_TX_Deposits_2010_Top10.T\n",
    "df_CTXTop10 = df_CHASE2_TX_Deposits_2010_Top10_Transpose; #Shorten the Name\n",
    "df_CTXTop10.columns = ['HOU-Main', 'AUS-6thStreet', 'FW-Downtown', 'HOU-Lakeside', 'DAL-Preston', 'HOU-Bellaire', \n",
    "                   'ELP-Downtown', 'MCA-Neuhaus', 'HOU-Medical', 'HOU-ReaganMotor'];\n",
    "\n",
    "y = df_CTXTop10\n",
    "\n",
    "# Display Branch Values for Top 10 Deposit Recipients in Plot-Friendly Form\n",
    "y"
   ]
  },
  {
   "cell_type": "code",
   "execution_count": null,
   "metadata": {},
   "outputs": [],
   "source": [
    "# Plot the Yearly Deposits for the Top 10 Branch Recipients (2010 Baseline)\n",
    "\n",
    "# Create the Variables\n",
    "x = [2010, 2011, 2012, 2013, 2014, 2015, 2016]; # Convert Dates to Values\n",
    "y1 = y['HOU-Main']*0.02 # Because HOU-Main is so much larger, we'll change the scale.\n",
    "y2 = y['AUS-6thStreet']\n",
    "y3 = y['FW-Downtown']\n",
    "y4 = y['HOU-Lakeside']\n",
    "y5 = y['DAL-Preston']\n",
    "y6 = y['HOU-Bellaire']\n",
    "y7 = y['ELP-Downtown']\n",
    "y8 = y['MCA-Neuhaus']\n",
    "y9 = y['HOU-Medical']\n",
    "y10 = y['HOU-ReaganMotor']\n",
    "\n",
    "# Create the Plot\n",
    "fig = plt.figure(figsize=(16,12))\n",
    "ax = fig.add_subplot(111)\n",
    "\n",
    "# Create the Axes\n",
    "ax.plot(x,y1,c='b',marker=\"o\",ls='-',label='HOU-Main (50x REDUX)',fillstyle='none')\n",
    "ax.plot(x,y2,c='g',marker=\"o\",ls='-',label='AUS-6thStreet')\n",
    "ax.plot(x,y3,c='r',marker=\"o\",ls='-',label='FW-Downtown')\n",
    "ax.plot(x,y4,c='c',marker=\"o\",ls='-',label='HOU-Lakeside')\n",
    "ax.plot(x,y5,c='m',marker=\"o\",ls='-',label='DAL-Preston',fillstyle='none')\n",
    "ax.plot(x,y6,c='k',marker=\"o\",ls='-',label='HOU-Bellaire')\n",
    "ax.plot(x,y7,c='b',marker=\"*\",ls='--',label='ELP-Downtown')\n",
    "ax.plot(x,y8,c='g',marker=\"*\",ls='--',label='MCA-Neuhaus')\n",
    "ax.plot(x,y9,c='r',marker=\"*\",ls='--',label='ELP-Downtown')\n",
    "ax.plot(x,y10,c='c',marker=\"*\",ls='--',label='HOU-ReaganMotor')\n",
    "\n",
    "# Label the Plot\n",
    "plt.title('Top 10 Chase Branches in Texas by Deposits (2010 baseline) to 2016', fontsize = 18)\n",
    "plt.xlabel('Year', fontsize = 16)\n",
    "plt.ylabel('Deposits (Mil)', fontsize = 16)\n",
    " \n",
    "# Generate a Legend\n",
    "plt.legend(loc=2, fontsize = 12)\n",
    "\n",
    "# Display the Graph\n",
    "plt.show()"
   ]
  },
  {
   "cell_type": "markdown",
   "metadata": {},
   "source": [
    "As can be seen, the branches that made the biggest jumps in deposits were HOU-Main, FW-Downtown, and MCA-Neuhaus. HOU-Lakeside was relatively flat and DAL-Preston actually declined slightly.\n",
    "\n",
    "If the author were to make a guess as to why HOU-Main, FW-Downtown and MCA-Neuhaus had the biggest jumps in deposits, the author would suppose the increases were due to (a) population growth (b) cross-border trade with Mexico and (c) increased economic activity, particularly in the energy and defense sectors for which Houston (a,c) McAllen (b) and Fort Worth (a,c) are known.\n",
    "\n",
    "Let's conduct a similar analysis for another state with different demographics and economic forces: Michigan."
   ]
  },
  {
   "cell_type": "code",
   "execution_count": null,
   "metadata": {},
   "outputs": [],
   "source": [
    "# Create a subset for all the Chase bank branches in Michigan\n",
    "df_CHASE2_MI = df_CHASE2[df_CHASE2['State'].str.match('MI')]\n",
    "df_CHASE2_MI.head()"
   ]
  },
  {
   "cell_type": "code",
   "execution_count": null,
   "metadata": {
    "scrolled": true
   },
   "outputs": [],
   "source": [
    "# Create a map of Michigan\n",
    "import folium\n",
    "MICH_map = folium.Map([44.979, -84.516], zoom_start=6.25)\n",
    "MICH_map"
   ]
  },
  {
   "cell_type": "markdown",
   "metadata": {},
   "source": [
    "Now let's plot the Chase branch locations in Michigan."
   ]
  },
  {
   "cell_type": "code",
   "execution_count": null,
   "metadata": {},
   "outputs": [],
   "source": [
    "# Remove Locations without Latitude or Longitude values\n",
    "df_CHASE2_MI = df_CHASE2_MI.dropna()\n",
    "\n",
    "# Add Chase Locations to Michigan Map\n",
    "for i in range(0,len(df_CHASE2_MI)):\n",
    "    folium.Marker([df_CHASE2_MI.iloc[i]['Latitude'], df_CHASE2_MI.iloc[i]['Longitude']], \n",
    "                  popup=df_CHASE2_MI.iloc[i]['Branch Name']).add_to(MICH_map)\n",
    "\n",
    "# Re-Display Michigan Map\n",
    "MICH_map"
   ]
  },
  {
   "cell_type": "markdown",
   "metadata": {},
   "source": [
    "Again as before, now that we have shown the Chase Bank branches in Michigan, let's take a look at the range of deposits in 2010 by branch in Michigan. Then we will compare them to the deposits in 2016."
   ]
  },
  {
   "cell_type": "code",
   "execution_count": null,
   "metadata": {},
   "outputs": [],
   "source": [
    "# Sort all the Chase branches in Texas by 2010 deposits\n",
    "df_CHASE2_MI_Deposits = df_CHASE2_MI[['Branch Name', 'City', 'County', '2010 Deposits']];\n",
    "df_CHASE2_MI_Deposits = df_CHASE2_MI_Deposits.sort_values(by=['2010 Deposits'], ascending=False)\n",
    "print('Top 10 Chase Branches in Michigan by Deposits, 2010\\n')\n",
    "print(df_CHASE2_MI_Deposits.head(10))"
   ]
  },
  {
   "cell_type": "markdown",
   "metadata": {},
   "source": [
    "As one might expect, the Detroit Main Branch handles the most deposits at $6,953,356 in 2010."
   ]
  },
  {
   "cell_type": "code",
   "execution_count": null,
   "metadata": {},
   "outputs": [],
   "source": [
    "# Sort all the Chase branches in Texas by 2016 deposits\n",
    "df_CHASE2_MI_Deposits = df_CHASE2_MI[['Branch Name', 'City', 'County', '2016 Deposits']];\n",
    "df_CHASE2_MI_Deposits = df_CHASE2_MI_Deposits.sort_values(by=['2016 Deposits'], ascending=False)\n",
    "print('Top 10 Chase Branches in Michigan by Deposits, 2016\\n')\n",
    "print(df_CHASE2_MI_Deposits.head(10))"
   ]
  },
  {
   "cell_type": "markdown",
   "metadata": {},
   "source": [
    "Interestingly, the Detroit Main Branch deposits dramatically increased by almost 3x from 2010 to 2016, with $19,499,502 deposited in 2016. A possible reason for this might be the improving conditions in the automobile industry over the same period.\n",
    "\n",
    "Let's plot the change in deposit amounts for the top 10 recipients in 2010 to get a better sense of the change over the 6 year period."
   ]
  },
  {
   "cell_type": "code",
   "execution_count": null,
   "metadata": {},
   "outputs": [],
   "source": [
    "# Create a Subset for plotting deposit amounts for the Top 10 Branch recipients in Michigan\n",
    "df_CHASE2_MI_Deposits_2010 = df_CHASE2_MI[['2010 Deposits', '2011 Deposits', '2012 Deposits', '2013 Deposits', \n",
    "                                          '2014 Deposits', '2015 Deposits', '2016 Deposits']];\n",
    "df_CHASE2_MI_Deposits_2010 = df_CHASE2_MI_Deposits_2010.sort_values(by=['2010 Deposits'], ascending=False)\n",
    "df_CHASE2_MI_Deposits_2010_Top10 = df_CHASE2_MI_Deposits_2010.head(10);\n",
    "\n",
    "# Transpose the Values for making the plots\n",
    "df_CHASE2_MI_Deposits_2010_Top10_Transpose = df_CHASE2_MI_Deposits_2010_Top10.T\n",
    "df_CMITop10 = df_CHASE2_MI_Deposits_2010_Top10_Transpose; #Shorten the Name\n",
    "df_CMITop10.columns = ['DET-Main', 'GP-Kercheval', 'GR-Plaza', 'BH-WestLongLake', 'TROY-Somerset', 'WB-OrchardLake', \n",
    "                   'PLYM-Sheldon', 'AA-Plymouth', 'CTN-FordRoad', 'NOVI-Novi'];\n",
    "\n",
    "yy = df_CMITop10\n",
    "\n",
    "# Display Branch Values for Top 10 Deposit Recipients in Plot-Friendly Form\n",
    "yy"
   ]
  },
  {
   "cell_type": "code",
   "execution_count": null,
   "metadata": {},
   "outputs": [],
   "source": [
    "# Plot the Yearly Deposits for the Top 10 Branch Recipients (2010 Baseline)\n",
    "\n",
    "# Create the Variables\n",
    "x = [2010, 2011, 2012, 2013, 2014, 2015, 2016]; # Convert Dates to Values\n",
    "yy1 = yy['DET-Main']*0.05 # Because DET-Main is so much larger, we'll change the scale.\n",
    "yy2 = yy['GP-Kercheval']\n",
    "yy3 = yy['GR-Plaza']\n",
    "yy4 = yy['BH-WestLongLake']\n",
    "yy5 = yy['TROY-Somerset']\n",
    "yy6 = yy['WB-OrchardLake']\n",
    "yy7 = yy['PLYM-Sheldon']\n",
    "yy8 = yy['AA-Plymouth']\n",
    "yy9 = yy['CTN-FordRoad']\n",
    "yy10 = yy['NOVI-Novi']\n",
    "\n",
    "# Create the Plot\n",
    "fig = plt.figure(figsize=(16,12))\n",
    "ax = fig.add_subplot(111)\n",
    "\n",
    "# Create the Axes\n",
    "ax.plot(x,yy1,c='b',marker=\"o\",ls='-',label='DET-Main (20x REDUX)',fillstyle='none')\n",
    "ax.plot(x,yy2,c='g',marker=\"o\",ls='-',label='GP-Kercheval')\n",
    "ax.plot(x,yy3,c='r',marker=\"o\",ls='-',label='GR-Plaza')\n",
    "ax.plot(x,yy4,c='c',marker=\"o\",ls='-',label='BH-WestLongLake')\n",
    "ax.plot(x,yy5,c='m',marker=\"o\",ls='-',label='TROY-Somerset',fillstyle='none')\n",
    "ax.plot(x,yy6,c='k',marker=\"o\",ls='-',label='WB-OrchardLake')\n",
    "ax.plot(x,yy7,c='b',marker=\"*\",ls='--',label='PLYM-Sheldon')\n",
    "ax.plot(x,yy8,c='g',marker=\"*\",ls='--',label='AA-Plymouth')\n",
    "ax.plot(x,yy9,c='r',marker=\"*\",ls='--',label='CTN-FordRoad')\n",
    "ax.plot(x,yy10,c='c',marker=\"*\",ls='--',label='NOVI-Novi')\n",
    "\n",
    "# Label the Plot\n",
    "plt.title('Top 10 Chase Branches in Michigan by Deposits (2010 baseline) to 2016', fontsize = 18)\n",
    "plt.xlabel('Year', fontsize = 16)\n",
    "plt.ylabel('Deposits (Mil)', fontsize = 16)\n",
    " \n",
    "# Generate a Legend\n",
    "plt.legend(loc=2, fontsize = 12)\n",
    "\n",
    "# Display the Graph\n",
    "plt.show()"
   ]
  },
  {
   "cell_type": "markdown",
   "metadata": {},
   "source": [
    "Looking at the plot above, the DET-Main saw a dramatic rise in deposits from 2010 to 2016. Other branches saw a overall small rise. Interestingly enough, the AA-Plymouth (Ann Arbor) saw a decline in deposits; The GP-Kercheval (Gross Pointe, a suburb of Detroit) also saw a spike in deposits from 2015 to 2016. It is unclear why these observations occurred and they deserve further study."
   ]
  },
  {
   "cell_type": "markdown",
   "metadata": {},
   "source": [
    "## Results and Discussion"
   ]
  },
  {
   "cell_type": "markdown",
   "metadata": {},
   "source": [
    "In this open-ended project, we were able to arrive at some interesting results:\n",
    "\n",
    "<ul>\n",
    "    <li>(1) Nearly 2/3rds of Chase's branches were acquired rather than initiated.</li>\n",
    "    <li>(2) In Texas, the Houston-Main Branch handles the most deposits and has seen increases from 2010-2016.</li>\n",
    "    <li>(3) In Michigan, the Detroit-Main Branch handles the most deposits and has seen increases from 2010-2016.</li>\n",
    "    <li>(4) There are no Chase branches in the upper peninsula of Michigan; there are no Chase branches in San Angelo or Corpus Christi, TX.</li>\n",
    "</ul>"
   ]
  },
  {
   "cell_type": "markdown",
   "metadata": {},
   "source": [
    "## Conclusion"
   ]
  },
  {
   "cell_type": "markdown",
   "metadata": {},
   "source": [
    "The goal of this project was to explore deposit trends for Chase bank from 2010 to 2016. We were able to answer the questions about tracking deposits over time and where deposits were occurring for the states of Texas and Michigan. \n",
    "\n",
    "In this project, we were able to upload a real-world dataset, clean the data systematically, perform several different exploratory data analysis, make useful data visualizations, and draw logical inferences from those analyses. It is the author's hope that others find this exericse useful. Thanks for reading!"
   ]
  },
  {
   "cell_type": "code",
   "execution_count": null,
   "metadata": {},
   "outputs": [],
   "source": []
  }
 ],
 "metadata": {
  "kernelspec": {
   "display_name": "Python 3",
   "language": "python",
   "name": "python3"
  },
  "language_info": {
   "codemirror_mode": {
    "name": "ipython",
    "version": 3
   },
   "file_extension": ".py",
   "mimetype": "text/x-python",
   "name": "python",
   "nbconvert_exporter": "python",
   "pygments_lexer": "ipython3",
   "version": "3.8.3"
  }
 },
 "nbformat": 4,
 "nbformat_minor": 4
}
