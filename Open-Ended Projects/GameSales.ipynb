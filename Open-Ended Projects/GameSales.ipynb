{
 "cells": [
  {
   "cell_type": "markdown",
   "id": "ca0cf639",
   "metadata": {},
   "source": [
    "# Video Games Sales Analysis"
   ]
  },
  {
   "cell_type": "markdown",
   "id": "a7e2eaf9",
   "metadata": {},
   "source": [
    "## by Justin Sierchio"
   ]
  },
  {
   "cell_type": "markdown",
   "id": "632f3d3b",
   "metadata": {},
   "source": [
    "In this analysis, we will be looking at video game sales. We would like to be able to answer the following questions:\n",
    "\n",
    "<ul>\n",
    "    <li>What were the most popular games? Where were they popular?</li>\n",
    "    <li>What genres sell better over time?</li>\n",
    "    <li>What are some other conclusions we might able to draw from this analysis?</li>\n",
    "</ul>\n",
    "\n",
    "This data is in .csv file format and is from Kaggle at: https://www.kaggle.com/gregorut/videogamesales/download. More information related to the dataset can be found at: https://www.kaggle.com/gregorut/videogamesales."
   ]
  },
  {
   "cell_type": "markdown",
   "id": "a4132ab7",
   "metadata": {},
   "source": [
    "## Notebook Initialization"
   ]
  },
  {
   "cell_type": "code",
   "execution_count": 1,
   "id": "86433125",
   "metadata": {},
   "outputs": [
    {
     "name": "stdout",
     "output_type": "stream",
     "text": [
      "Initial libraries loaded into workspace!\n"
     ]
    }
   ],
   "source": [
    "# Import Relevant Libraries\n",
    "import pandas as pd\n",
    "import numpy as np\n",
    "import seaborn as sns \n",
    "import matplotlib.pyplot as plt\n",
    "import datetime\n",
    "\n",
    "print('Initial libraries loaded into workspace!')"
   ]
  },
  {
   "cell_type": "code",
   "execution_count": 2,
   "id": "86686217",
   "metadata": {},
   "outputs": [
    {
     "name": "stdout",
     "output_type": "stream",
     "text": [
      "Datasets uploaded!\n"
     ]
    }
   ],
   "source": [
    "# Upload Datasets for reviews\n",
    "df_GAMESALES = pd.read_csv(\"vgsales.csv\");\n",
    "\n",
    "print('Datasets uploaded!');"
   ]
  },
  {
   "cell_type": "code",
   "execution_count": 3,
   "id": "9d4a4364",
   "metadata": {},
   "outputs": [
    {
     "data": {
      "text/html": [
       "<div>\n",
       "<style scoped>\n",
       "    .dataframe tbody tr th:only-of-type {\n",
       "        vertical-align: middle;\n",
       "    }\n",
       "\n",
       "    .dataframe tbody tr th {\n",
       "        vertical-align: top;\n",
       "    }\n",
       "\n",
       "    .dataframe thead th {\n",
       "        text-align: right;\n",
       "    }\n",
       "</style>\n",
       "<table border=\"1\" class=\"dataframe\">\n",
       "  <thead>\n",
       "    <tr style=\"text-align: right;\">\n",
       "      <th></th>\n",
       "      <th>Rank</th>\n",
       "      <th>Name</th>\n",
       "      <th>Platform</th>\n",
       "      <th>Year</th>\n",
       "      <th>Genre</th>\n",
       "      <th>Publisher</th>\n",
       "      <th>NA_Sales</th>\n",
       "      <th>EU_Sales</th>\n",
       "      <th>JP_Sales</th>\n",
       "      <th>Other_Sales</th>\n",
       "      <th>Global_Sales</th>\n",
       "    </tr>\n",
       "  </thead>\n",
       "  <tbody>\n",
       "    <tr>\n",
       "      <th>0</th>\n",
       "      <td>1</td>\n",
       "      <td>Wii Sports</td>\n",
       "      <td>Wii</td>\n",
       "      <td>2006.0</td>\n",
       "      <td>Sports</td>\n",
       "      <td>Nintendo</td>\n",
       "      <td>41.49</td>\n",
       "      <td>29.02</td>\n",
       "      <td>3.77</td>\n",
       "      <td>8.46</td>\n",
       "      <td>82.74</td>\n",
       "    </tr>\n",
       "    <tr>\n",
       "      <th>1</th>\n",
       "      <td>2</td>\n",
       "      <td>Super Mario Bros.</td>\n",
       "      <td>NES</td>\n",
       "      <td>1985.0</td>\n",
       "      <td>Platform</td>\n",
       "      <td>Nintendo</td>\n",
       "      <td>29.08</td>\n",
       "      <td>3.58</td>\n",
       "      <td>6.81</td>\n",
       "      <td>0.77</td>\n",
       "      <td>40.24</td>\n",
       "    </tr>\n",
       "    <tr>\n",
       "      <th>2</th>\n",
       "      <td>3</td>\n",
       "      <td>Mario Kart Wii</td>\n",
       "      <td>Wii</td>\n",
       "      <td>2008.0</td>\n",
       "      <td>Racing</td>\n",
       "      <td>Nintendo</td>\n",
       "      <td>15.85</td>\n",
       "      <td>12.88</td>\n",
       "      <td>3.79</td>\n",
       "      <td>3.31</td>\n",
       "      <td>35.82</td>\n",
       "    </tr>\n",
       "    <tr>\n",
       "      <th>3</th>\n",
       "      <td>4</td>\n",
       "      <td>Wii Sports Resort</td>\n",
       "      <td>Wii</td>\n",
       "      <td>2009.0</td>\n",
       "      <td>Sports</td>\n",
       "      <td>Nintendo</td>\n",
       "      <td>15.75</td>\n",
       "      <td>11.01</td>\n",
       "      <td>3.28</td>\n",
       "      <td>2.96</td>\n",
       "      <td>33.00</td>\n",
       "    </tr>\n",
       "    <tr>\n",
       "      <th>4</th>\n",
       "      <td>5</td>\n",
       "      <td>Pokemon Red/Pokemon Blue</td>\n",
       "      <td>GB</td>\n",
       "      <td>1996.0</td>\n",
       "      <td>Role-Playing</td>\n",
       "      <td>Nintendo</td>\n",
       "      <td>11.27</td>\n",
       "      <td>8.89</td>\n",
       "      <td>10.22</td>\n",
       "      <td>1.00</td>\n",
       "      <td>31.37</td>\n",
       "    </tr>\n",
       "  </tbody>\n",
       "</table>\n",
       "</div>"
      ],
      "text/plain": [
       "   Rank                      Name Platform    Year         Genre Publisher  \\\n",
       "0     1                Wii Sports      Wii  2006.0        Sports  Nintendo   \n",
       "1     2         Super Mario Bros.      NES  1985.0      Platform  Nintendo   \n",
       "2     3            Mario Kart Wii      Wii  2008.0        Racing  Nintendo   \n",
       "3     4         Wii Sports Resort      Wii  2009.0        Sports  Nintendo   \n",
       "4     5  Pokemon Red/Pokemon Blue       GB  1996.0  Role-Playing  Nintendo   \n",
       "\n",
       "   NA_Sales  EU_Sales  JP_Sales  Other_Sales  Global_Sales  \n",
       "0     41.49     29.02      3.77         8.46         82.74  \n",
       "1     29.08      3.58      6.81         0.77         40.24  \n",
       "2     15.85     12.88      3.79         3.31         35.82  \n",
       "3     15.75     11.01      3.28         2.96         33.00  \n",
       "4     11.27      8.89     10.22         1.00         31.37  "
      ]
     },
     "execution_count": 3,
     "metadata": {},
     "output_type": "execute_result"
    }
   ],
   "source": [
    "# Display 1st 5 rows from Video Game Sales dataset\n",
    "df_GAMESALES.head()"
   ]
  },
  {
   "cell_type": "markdown",
   "id": "2e9b5be4",
   "metadata": {},
   "source": [
    "## Data Cleaning"
   ]
  },
  {
   "cell_type": "markdown",
   "id": "a30e06e6",
   "metadata": {},
   "source": [
    "Let's take a look at the structure of the data to see if any cleaning is necessary prior to analysis."
   ]
  },
  {
   "cell_type": "code",
   "execution_count": 4,
   "id": "776486ca",
   "metadata": {},
   "outputs": [
    {
     "name": "stdout",
     "output_type": "stream",
     "text": [
      "<class 'pandas.core.frame.DataFrame'>\n",
      "RangeIndex: 16598 entries, 0 to 16597\n",
      "Data columns (total 11 columns):\n",
      " #   Column        Non-Null Count  Dtype  \n",
      "---  ------        --------------  -----  \n",
      " 0   Rank          16598 non-null  int64  \n",
      " 1   Name          16598 non-null  object \n",
      " 2   Platform      16598 non-null  object \n",
      " 3   Year          16327 non-null  float64\n",
      " 4   Genre         16598 non-null  object \n",
      " 5   Publisher     16540 non-null  object \n",
      " 6   NA_Sales      16598 non-null  float64\n",
      " 7   EU_Sales      16598 non-null  float64\n",
      " 8   JP_Sales      16598 non-null  float64\n",
      " 9   Other_Sales   16598 non-null  float64\n",
      " 10  Global_Sales  16598 non-null  float64\n",
      "dtypes: float64(6), int64(1), object(4)\n",
      "memory usage: 1.4+ MB\n"
     ]
    }
   ],
   "source": [
    "# Determine data types from video games sales dataset\n",
    "df_GAMESALES.info()"
   ]
  },
  {
   "cell_type": "markdown",
   "id": "62987fad",
   "metadata": {},
   "source": [
    "In order to get a better view, let's look at where the NULL values are."
   ]
  },
  {
   "cell_type": "code",
   "execution_count": 5,
   "id": "c8bf52e9",
   "metadata": {},
   "outputs": [
    {
     "data": {
      "text/plain": [
       "Rank              0\n",
       "Name              0\n",
       "Platform          0\n",
       "Year            271\n",
       "Genre             0\n",
       "Publisher        58\n",
       "NA_Sales          0\n",
       "EU_Sales          0\n",
       "JP_Sales          0\n",
       "Other_Sales       0\n",
       "Global_Sales      0\n",
       "dtype: int64"
      ]
     },
     "execution_count": 5,
     "metadata": {},
     "output_type": "execute_result"
    }
   ],
   "source": [
    "# Investigate 'NULL' values from video game sales dataset\n",
    "df_GAMESALES.isnull().sum()"
   ]
  },
  {
   "cell_type": "markdown",
   "id": "3f13a527",
   "metadata": {},
   "source": [
    "For 'year', let's replace the missing data with the mean value for year. Then for 'publisher' we will remove the missing rows."
   ]
  },
  {
   "cell_type": "code",
   "execution_count": 6,
   "id": "40bf229c",
   "metadata": {},
   "outputs": [
    {
     "data": {
      "text/plain": [
       "Rank            0\n",
       "Name            0\n",
       "Platform        0\n",
       "Year            0\n",
       "Genre           0\n",
       "Publisher       0\n",
       "NA_Sales        0\n",
       "EU_Sales        0\n",
       "JP_Sales        0\n",
       "Other_Sales     0\n",
       "Global_Sales    0\n",
       "dtype: int64"
      ]
     },
     "execution_count": 6,
     "metadata": {},
     "output_type": "execute_result"
    }
   ],
   "source": [
    "# Clean the 'year' column by using the mean; remove the missing 'pubisher' data from the dataset\n",
    "df_GAMESALES['Year'] = df_GAMESALES['Year'].fillna(df_GAMESALES['Year'].mean())\n",
    "df_GAMESALES = df_GAMESALES.dropna(axis=0)\n",
    "\n",
    "# Show updated 'NULL' value counts for dataset\n",
    "df_GAMESALES.isnull().sum()"
   ]
  },
  {
   "cell_type": "code",
   "execution_count": 7,
   "id": "3511eaca",
   "metadata": {},
   "outputs": [
    {
     "name": "stdout",
     "output_type": "stream",
     "text": [
      "<class 'pandas.core.frame.DataFrame'>\n",
      "Int64Index: 16540 entries, 0 to 16597\n",
      "Data columns (total 11 columns):\n",
      " #   Column        Non-Null Count  Dtype  \n",
      "---  ------        --------------  -----  \n",
      " 0   Rank          16540 non-null  int64  \n",
      " 1   Name          16540 non-null  object \n",
      " 2   Platform      16540 non-null  object \n",
      " 3   Year          16540 non-null  float64\n",
      " 4   Genre         16540 non-null  object \n",
      " 5   Publisher     16540 non-null  object \n",
      " 6   NA_Sales      16540 non-null  float64\n",
      " 7   EU_Sales      16540 non-null  float64\n",
      " 8   JP_Sales      16540 non-null  float64\n",
      " 9   Other_Sales   16540 non-null  float64\n",
      " 10  Global_Sales  16540 non-null  float64\n",
      "dtypes: float64(6), int64(1), object(4)\n",
      "memory usage: 1.5+ MB\n"
     ]
    }
   ],
   "source": [
    "# Show updated data types from video games sales dataset\n",
    "df_GAMESALES.info()"
   ]
  },
  {
   "cell_type": "markdown",
   "id": "29f46f6e",
   "metadata": {},
   "source": [
    "The dataset looks sufficiently clean for further analysis."
   ]
  },
  {
   "cell_type": "markdown",
   "id": "ab3a4f96",
   "metadata": {},
   "source": [
    "## Exploratory Data Analysis"
   ]
  },
  {
   "cell_type": "markdown",
   "id": "9a5d1b9c",
   "metadata": {},
   "source": [
    "Let's begin by looking at the relationships among the different columns in this dataset."
   ]
  },
  {
   "cell_type": "code",
   "execution_count": 8,
   "id": "6fa54b80",
   "metadata": {},
   "outputs": [
    {
     "data": {
      "text/plain": [
       "<AxesSubplot:>"
      ]
     },
     "execution_count": 8,
     "metadata": {},
     "output_type": "execute_result"
    },
    {
     "data": {
      "image/png": "[encoded data removed]",
      "text/plain": [
       "<Figure size 936x720 with 2 Axes>"
      ]
     },
     "metadata": {
      "needs_background": "light"
     },
     "output_type": "display_data"
    }
   ],
   "source": [
    "# Ceate a heatmap to get a sense of relationships among the different columns in the video game sales dataset\n",
    "plt.figure(figsize=(13,10))\n",
    "sns.heatmap(df_GAMESALES.corr(), cmap = \"Blues\", annot=True, linewidth=3)"
   ]
  },
  {
   "cell_type": "markdown",
   "id": "4a7c0bbd",
   "metadata": {},
   "source": [
    "We notice a few pattens from this heatmap."
   ]
  },
  {
   "cell_type": "markdown",
   "id": "98ce5717",
   "metadata": {},
   "source": [
    "<ul>\n",
    "    <li>Global sales are strongly correlated with North American sales.</li>\n",
    "    <li>Other sales are most strongly correlated with European sales (compared to North America, Europe and Japan).</li>\n",
    "    <li>Year and sales have weak correlations.</li>\n",
    "</ul>"
   ]
  },
  {
   "cell_type": "markdown",
   "id": "ac3df076",
   "metadata": {},
   "source": [
    "Let's now take a look at what kinds of games sell by region."
   ]
  },
  {
   "cell_type": "code",
   "execution_count": 9,
   "id": "f49d9325",
   "metadata": {},
   "outputs": [
    {
     "data": {
      "text/html": [
       "<div>\n",
       "<style scoped>\n",
       "    .dataframe tbody tr th:only-of-type {\n",
       "        vertical-align: middle;\n",
       "    }\n",
       "\n",
       "    .dataframe tbody tr th {\n",
       "        vertical-align: top;\n",
       "    }\n",
       "\n",
       "    .dataframe thead th {\n",
       "        text-align: right;\n",
       "    }\n",
       "</style>\n",
       "<table border=\"1\" class=\"dataframe\">\n",
       "  <thead>\n",
       "    <tr style=\"text-align: right;\">\n",
       "      <th></th>\n",
       "      <th>Rank</th>\n",
       "      <th>Year</th>\n",
       "      <th>NA_Sales</th>\n",
       "      <th>EU_Sales</th>\n",
       "      <th>JP_Sales</th>\n",
       "      <th>Other_Sales</th>\n",
       "      <th>Global_Sales</th>\n",
       "    </tr>\n",
       "    <tr>\n",
       "      <th>Genre</th>\n",
       "      <th></th>\n",
       "      <th></th>\n",
       "      <th></th>\n",
       "      <th></th>\n",
       "      <th></th>\n",
       "      <th></th>\n",
       "      <th></th>\n",
       "    </tr>\n",
       "  </thead>\n",
       "  <tbody>\n",
       "    <tr>\n",
       "      <th>Action</th>\n",
       "      <td>26361435</td>\n",
       "      <td>6.644075e+06</td>\n",
       "      <td>877.54</td>\n",
       "      <td>524.92</td>\n",
       "      <td>159.49</td>\n",
       "      <td>187.35</td>\n",
       "      <td>1750.33</td>\n",
       "    </tr>\n",
       "    <tr>\n",
       "      <th>Adventure</th>\n",
       "      <td>14778800</td>\n",
       "      <td>2.574406e+06</td>\n",
       "      <td>105.67</td>\n",
       "      <td>64.08</td>\n",
       "      <td>51.99</td>\n",
       "      <td>16.81</td>\n",
       "      <td>238.77</td>\n",
       "    </tr>\n",
       "    <tr>\n",
       "      <th>Fighting</th>\n",
       "      <td>6476418</td>\n",
       "      <td>1.695935e+06</td>\n",
       "      <td>221.92</td>\n",
       "      <td>100.22</td>\n",
       "      <td>87.35</td>\n",
       "      <td>36.24</td>\n",
       "      <td>445.70</td>\n",
       "    </tr>\n",
       "    <tr>\n",
       "      <th>Misc</th>\n",
       "      <td>14667633</td>\n",
       "      <td>3.436475e+06</td>\n",
       "      <td>404.67</td>\n",
       "      <td>213.93</td>\n",
       "      <td>107.72</td>\n",
       "      <td>75.22</td>\n",
       "      <td>802.15</td>\n",
       "    </tr>\n",
       "    <tr>\n",
       "      <th>Platform</th>\n",
       "      <td>6118339</td>\n",
       "      <td>1.771393e+06</td>\n",
       "      <td>447.05</td>\n",
       "      <td>201.13</td>\n",
       "      <td>130.77</td>\n",
       "      <td>51.59</td>\n",
       "      <td>830.87</td>\n",
       "    </tr>\n",
       "    <tr>\n",
       "      <th>Puzzle</th>\n",
       "      <td>5586639</td>\n",
       "      <td>1.165050e+06</td>\n",
       "      <td>123.78</td>\n",
       "      <td>50.77</td>\n",
       "      <td>57.31</td>\n",
       "      <td>12.55</td>\n",
       "      <td>244.94</td>\n",
       "    </tr>\n",
       "    <tr>\n",
       "      <th>Racing</th>\n",
       "      <td>9927387</td>\n",
       "      <td>2.502070e+06</td>\n",
       "      <td>359.42</td>\n",
       "      <td>238.38</td>\n",
       "      <td>56.69</td>\n",
       "      <td>77.27</td>\n",
       "      <td>732.03</td>\n",
       "    </tr>\n",
       "    <tr>\n",
       "      <th>Role-Playing</th>\n",
       "      <td>12002392</td>\n",
       "      <td>2.982468e+06</td>\n",
       "      <td>327.28</td>\n",
       "      <td>188.05</td>\n",
       "      <td>352.26</td>\n",
       "      <td>59.61</td>\n",
       "      <td>927.31</td>\n",
       "    </tr>\n",
       "    <tr>\n",
       "      <th>Shooter</th>\n",
       "      <td>9623676</td>\n",
       "      <td>2.623755e+06</td>\n",
       "      <td>582.59</td>\n",
       "      <td>313.24</td>\n",
       "      <td>38.28</td>\n",
       "      <td>102.69</td>\n",
       "      <td>1037.32</td>\n",
       "    </tr>\n",
       "    <tr>\n",
       "      <th>Simulation</th>\n",
       "      <td>7426751</td>\n",
       "      <td>1.731654e+06</td>\n",
       "      <td>183.31</td>\n",
       "      <td>113.20</td>\n",
       "      <td>63.64</td>\n",
       "      <td>31.52</td>\n",
       "      <td>391.96</td>\n",
       "    </tr>\n",
       "    <tr>\n",
       "      <th>Sports</th>\n",
       "      <td>17392047</td>\n",
       "      <td>4.698871e+06</td>\n",
       "      <td>682.54</td>\n",
       "      <td>376.30</td>\n",
       "      <td>135.25</td>\n",
       "      <td>134.87</td>\n",
       "      <td>1329.35</td>\n",
       "    </tr>\n",
       "    <tr>\n",
       "      <th>Strategy</th>\n",
       "      <td>6824512</td>\n",
       "      <td>1.359797e+06</td>\n",
       "      <td>68.64</td>\n",
       "      <td>45.23</td>\n",
       "      <td>49.34</td>\n",
       "      <td>11.36</td>\n",
       "      <td>174.83</td>\n",
       "    </tr>\n",
       "  </tbody>\n",
       "</table>\n",
       "</div>"
      ],
      "text/plain": [
       "                  Rank          Year  NA_Sales  EU_Sales  JP_Sales  \\\n",
       "Genre                                                                \n",
       "Action        26361435  6.644075e+06    877.54    524.92    159.49   \n",
       "Adventure     14778800  2.574406e+06    105.67     64.08     51.99   \n",
       "Fighting       6476418  1.695935e+06    221.92    100.22     87.35   \n",
       "Misc          14667633  3.436475e+06    404.67    213.93    107.72   \n",
       "Platform       6118339  1.771393e+06    447.05    201.13    130.77   \n",
       "Puzzle         5586639  1.165050e+06    123.78     50.77     57.31   \n",
       "Racing         9927387  2.502070e+06    359.42    238.38     56.69   \n",
       "Role-Playing  12002392  2.982468e+06    327.28    188.05    352.26   \n",
       "Shooter        9623676  2.623755e+06    582.59    313.24     38.28   \n",
       "Simulation     7426751  1.731654e+06    183.31    113.20     63.64   \n",
       "Sports        17392047  4.698871e+06    682.54    376.30    135.25   \n",
       "Strategy       6824512  1.359797e+06     68.64     45.23     49.34   \n",
       "\n",
       "              Other_Sales  Global_Sales  \n",
       "Genre                                    \n",
       "Action             187.35       1750.33  \n",
       "Adventure           16.81        238.77  \n",
       "Fighting            36.24        445.70  \n",
       "Misc                75.22        802.15  \n",
       "Platform            51.59        830.87  \n",
       "Puzzle              12.55        244.94  \n",
       "Racing              77.27        732.03  \n",
       "Role-Playing        59.61        927.31  \n",
       "Shooter            102.69       1037.32  \n",
       "Simulation          31.52        391.96  \n",
       "Sports             134.87       1329.35  \n",
       "Strategy            11.36        174.83  "
      ]
     },
     "execution_count": 9,
     "metadata": {},
     "output_type": "execute_result"
    }
   ],
   "source": [
    "# Show game sales by different region for the dataset\n",
    "df_GAMESALES.groupby(df_GAMESALES['Genre']).sum()"
   ]
  },
  {
   "cell_type": "markdown",
   "id": "721e1078",
   "metadata": {},
   "source": [
    "We see that in each region, the leading genres are Action, Sports and Shooter games."
   ]
  },
  {
   "cell_type": "markdown",
   "id": "c1d352b9",
   "metadata": {},
   "source": [
    "Now let's look at the overall sales for each genre compared to one another over the last 5 years of data."
   ]
  },
  {
   "cell_type": "code",
   "execution_count": 10,
   "id": "8a4d1363",
   "metadata": {},
   "outputs": [
    {
     "data": {
      "text/plain": [
       "(array([0, 1, 2, 3, 4]),\n",
       " [Text(0, 0, '2009.0'),\n",
       "  Text(1, 0, '2008.0'),\n",
       "  Text(2, 0, '2010.0'),\n",
       "  Text(3, 0, '2007.0'),\n",
       "  Text(4, 0, '2011.0')])"
      ]
     },
     "execution_count": 10,
     "metadata": {},
     "output_type": "execute_result"
    },
    {
     "data": {
      "image/png": "[encoded data removed]",
      "text/plain": [
       "<Figure size 2016x1008 with 1 Axes>"
      ]
     },
     "metadata": {
      "needs_background": "light"
     },
     "output_type": "display_data"
    }
   ],
   "source": [
    "# Create a plot showing the last 5 years of game sales data from the dataset\n",
    "\n",
    "# Create the plot\n",
    "plt.figure(figsize=(28, 14))\n",
    "sns.countplot(x=\"Year\", data=df_GAMESALES, hue='Genre', order=df_GAMESALES.Year.value_counts().iloc[:5].index)\n",
    "\n",
    "# Format the plot\n",
    "plt.title('Game Sales by Genre: 2007 to 2011', fontsize = 20)\n",
    "plt.ylabel('Sales [millions]', fontsize = 16)\n",
    "plt.xlabel('Year', fontsize = 16)\n",
    "plt.legend(fontsize=20)\n",
    "plt.xticks(size=16, rotation=45)"
   ]
  },
  {
   "cell_type": "markdown",
   "id": "e14c3023",
   "metadata": {},
   "source": [
    "As we can see, the sales of games seems to have peaked around 2009 and begun to decline subsequently."
   ]
  },
  {
   "cell_type": "markdown",
   "id": "1284aaed",
   "metadata": {},
   "source": [
    "At this point, let's find out what the Top 10 publishers were over this time period."
   ]
  },
  {
   "cell_type": "code",
   "execution_count": 17,
   "id": "c870817d",
   "metadata": {},
   "outputs": [
    {
     "data": {
      "text/plain": [
       "<AxesSubplot:title={'center':'Top 10 Publishers'}, xlabel='Publisher Name', ylabel='Sales '>"
      ]
     },
     "execution_count": 17,
     "metadata": {},
     "output_type": "execute_result"
    },
    {
     "data": {
      "image/png": "[encoded data removed]",
      "text/plain": [
       "<Figure size 432x288 with 1 Axes>"
      ]
     },
     "metadata": {
      "needs_background": "light"
     },
     "output_type": "display_data"
    }
   ],
   "source": [
    "# Plot the Top 10 publishers over the time period from this dataset\n",
    "\n",
    "# Find the Top 10 Publishers\n",
    "df_GAMESALES['Publisher'].value_counts().sort_values(ascending=True).tail(10).plot(kind='bar', \n",
    "                                                                                   title = 'Top 10 Publishers',\n",
    "                                                                                  xlabel = 'Publisher Name', \n",
    "                                                                                  ylabel = 'Sales ')"
   ]
  },
  {
   "cell_type": "code",
   "execution_count": null,
   "id": "6e57f859",
   "metadata": {},
   "outputs": [],
   "source": []
  }
 ],
 "metadata": {
  "kernelspec": {
   "display_name": "Python 3",
   "language": "python",
   "name": "python3"
  },
  "language_info": {
   "codemirror_mode": {
    "name": "ipython",
    "version": 3
   },
   "file_extension": ".py",
   "mimetype": "text/x-python",
   "name": "python",
   "nbconvert_exporter": "python",
   "pygments_lexer": "ipython3",
   "version": "3.8.10"
  }
 },
 "nbformat": 4,
 "nbformat_minor": 5
}
