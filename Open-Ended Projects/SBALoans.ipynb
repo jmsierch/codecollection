{
 "cells": [
  {
   "cell_type": "markdown",
   "metadata": {},
   "source": [
    "# SBA Loan Approval Analysis"
   ]
  },
  {
   "cell_type": "markdown",
   "metadata": {},
   "source": [
    "## by Justin Sierchio"
   ]
  },
  {
   "cell_type": "markdown",
   "metadata": {},
   "source": [
    "In this analysis, we will be looking at loan approvals by the U.S. Small Business Administration. Ideally, we would like to be able to answer the following questions:\n",
    "\n",
    "<ul>\n",
    "    <li>What types of businesses receive more SBA Loans than others?</li>\n",
    "    <li>Where geographically do SBA Loans get approved?</li>\n",
    "    <li>What are some other conclusions we might able to draw from this analysis?</li>\n",
    "</ul>\n",
    "\n",
    "This data is in .csv file format and is from Kaggle at: https://www.kaggle.com/mirbektoktogaraev/should-this-loan-be-approved-or-denied?select=SBAnational.csv. More information related to the dataset can be found at: https://www.kaggle.com/mirbektoktogaraev/should-this-loan-be-approved-or-denied?select=Should+This+Loan+be+Approved+or+Denied+A+Large+Dataset+with+Class+Assignment+Guidelines.pdf."
   ]
  },
  {
   "cell_type": "markdown",
   "metadata": {},
   "source": [
    "## Notebook Initialization"
   ]
  },
  {
   "cell_type": "code",
   "execution_count": 1,
   "metadata": {},
   "outputs": [
    {
     "name": "stdout",
     "output_type": "stream",
     "text": [
      "Initial libraries loaded into workspace!\n"
     ]
    }
   ],
   "source": [
    "# Import Relevant Libraries\n",
    "import pandas as pd\n",
    "import numpy as np\n",
    "import seaborn as sns \n",
    "import matplotlib.pyplot as plt\n",
    "\n",
    "print('Initial libraries loaded into workspace!')"
   ]
  },
  {
   "cell_type": "code",
   "execution_count": 2,
   "metadata": {},
   "outputs": [
    {
     "name": "stderr",
     "output_type": "stream",
     "text": [
      "C:\\Users\\jmsie\\anaconda3\\lib\\site-packages\\IPython\\core\\interactiveshell.py:3071: DtypeWarning: Columns (9) have mixed types.Specify dtype option on import or set low_memory=False.\n",
      "  has_raised = await self.run_ast_nodes(code_ast.body, cell_name,\n"
     ]
    },
    {
     "name": "stdout",
     "output_type": "stream",
     "text": [
      "Datasets uploaded!\n"
     ]
    }
   ],
   "source": [
    "# Upload Datasets for Study\n",
    "df_SBA = pd.read_csv(\"SBAnational.csv\");\n",
    "\n",
    "print('Datasets uploaded!');"
   ]
  },
  {
   "cell_type": "code",
   "execution_count": 3,
   "metadata": {
    "scrolled": true
   },
   "outputs": [
    {
     "data": {
      "text/html": [
       "<div>\n",
       "<style scoped>\n",
       "    .dataframe tbody tr th:only-of-type {\n",
       "        vertical-align: middle;\n",
       "    }\n",
       "\n",
       "    .dataframe tbody tr th {\n",
       "        vertical-align: top;\n",
       "    }\n",
       "\n",
       "    .dataframe thead th {\n",
       "        text-align: right;\n",
       "    }\n",
       "</style>\n",
       "<table border=\"1\" class=\"dataframe\">\n",
       "  <thead>\n",
       "    <tr style=\"text-align: right;\">\n",
       "      <th></th>\n",
       "      <th>LoanNr_ChkDgt</th>\n",
       "      <th>Name</th>\n",
       "      <th>City</th>\n",
       "      <th>State</th>\n",
       "      <th>Zip</th>\n",
       "      <th>Bank</th>\n",
       "      <th>BankState</th>\n",
       "      <th>NAICS</th>\n",
       "      <th>ApprovalDate</th>\n",
       "      <th>ApprovalFY</th>\n",
       "      <th>...</th>\n",
       "      <th>RevLineCr</th>\n",
       "      <th>LowDoc</th>\n",
       "      <th>ChgOffDate</th>\n",
       "      <th>DisbursementDate</th>\n",
       "      <th>DisbursementGross</th>\n",
       "      <th>BalanceGross</th>\n",
       "      <th>MIS_Status</th>\n",
       "      <th>ChgOffPrinGr</th>\n",
       "      <th>GrAppv</th>\n",
       "      <th>SBA_Appv</th>\n",
       "    </tr>\n",
       "  </thead>\n",
       "  <tbody>\n",
       "    <tr>\n",
       "      <th>0</th>\n",
       "      <td>1000014003</td>\n",
       "      <td>ABC HOBBYCRAFT</td>\n",
       "      <td>EVANSVILLE</td>\n",
       "      <td>IN</td>\n",
       "      <td>47711</td>\n",
       "      <td>FIFTH THIRD BANK</td>\n",
       "      <td>OH</td>\n",
       "      <td>451120</td>\n",
       "      <td>28-Feb-97</td>\n",
       "      <td>1997</td>\n",
       "      <td>...</td>\n",
       "      <td>N</td>\n",
       "      <td>Y</td>\n",
       "      <td>NaN</td>\n",
       "      <td>28-Feb-99</td>\n",
       "      <td>$60,000.00</td>\n",
       "      <td>$0.00</td>\n",
       "      <td>P I F</td>\n",
       "      <td>$0.00</td>\n",
       "      <td>$60,000.00</td>\n",
       "      <td>$48,000.00</td>\n",
       "    </tr>\n",
       "    <tr>\n",
       "      <th>1</th>\n",
       "      <td>1000024006</td>\n",
       "      <td>LANDMARK BAR &amp; GRILLE (THE)</td>\n",
       "      <td>NEW PARIS</td>\n",
       "      <td>IN</td>\n",
       "      <td>46526</td>\n",
       "      <td>1ST SOURCE BANK</td>\n",
       "      <td>IN</td>\n",
       "      <td>722410</td>\n",
       "      <td>28-Feb-97</td>\n",
       "      <td>1997</td>\n",
       "      <td>...</td>\n",
       "      <td>N</td>\n",
       "      <td>Y</td>\n",
       "      <td>NaN</td>\n",
       "      <td>31-May-97</td>\n",
       "      <td>$40,000.00</td>\n",
       "      <td>$0.00</td>\n",
       "      <td>P I F</td>\n",
       "      <td>$0.00</td>\n",
       "      <td>$40,000.00</td>\n",
       "      <td>$32,000.00</td>\n",
       "    </tr>\n",
       "    <tr>\n",
       "      <th>2</th>\n",
       "      <td>1000034009</td>\n",
       "      <td>WHITLOCK DDS, TODD M.</td>\n",
       "      <td>BLOOMINGTON</td>\n",
       "      <td>IN</td>\n",
       "      <td>47401</td>\n",
       "      <td>GRANT COUNTY STATE BANK</td>\n",
       "      <td>IN</td>\n",
       "      <td>621210</td>\n",
       "      <td>28-Feb-97</td>\n",
       "      <td>1997</td>\n",
       "      <td>...</td>\n",
       "      <td>N</td>\n",
       "      <td>N</td>\n",
       "      <td>NaN</td>\n",
       "      <td>31-Dec-97</td>\n",
       "      <td>$287,000.00</td>\n",
       "      <td>$0.00</td>\n",
       "      <td>P I F</td>\n",
       "      <td>$0.00</td>\n",
       "      <td>$287,000.00</td>\n",
       "      <td>$215,250.00</td>\n",
       "    </tr>\n",
       "    <tr>\n",
       "      <th>3</th>\n",
       "      <td>1000044001</td>\n",
       "      <td>BIG BUCKS PAWN &amp; JEWELRY, LLC</td>\n",
       "      <td>BROKEN ARROW</td>\n",
       "      <td>OK</td>\n",
       "      <td>74012</td>\n",
       "      <td>1ST NATL BK &amp; TR CO OF BROKEN</td>\n",
       "      <td>OK</td>\n",
       "      <td>0</td>\n",
       "      <td>28-Feb-97</td>\n",
       "      <td>1997</td>\n",
       "      <td>...</td>\n",
       "      <td>N</td>\n",
       "      <td>Y</td>\n",
       "      <td>NaN</td>\n",
       "      <td>30-Jun-97</td>\n",
       "      <td>$35,000.00</td>\n",
       "      <td>$0.00</td>\n",
       "      <td>P I F</td>\n",
       "      <td>$0.00</td>\n",
       "      <td>$35,000.00</td>\n",
       "      <td>$28,000.00</td>\n",
       "    </tr>\n",
       "    <tr>\n",
       "      <th>4</th>\n",
       "      <td>1000054004</td>\n",
       "      <td>ANASTASIA CONFECTIONS, INC.</td>\n",
       "      <td>ORLANDO</td>\n",
       "      <td>FL</td>\n",
       "      <td>32801</td>\n",
       "      <td>FLORIDA BUS. DEVEL CORP</td>\n",
       "      <td>FL</td>\n",
       "      <td>0</td>\n",
       "      <td>28-Feb-97</td>\n",
       "      <td>1997</td>\n",
       "      <td>...</td>\n",
       "      <td>N</td>\n",
       "      <td>N</td>\n",
       "      <td>NaN</td>\n",
       "      <td>14-May-97</td>\n",
       "      <td>$229,000.00</td>\n",
       "      <td>$0.00</td>\n",
       "      <td>P I F</td>\n",
       "      <td>$0.00</td>\n",
       "      <td>$229,000.00</td>\n",
       "      <td>$229,000.00</td>\n",
       "    </tr>\n",
       "  </tbody>\n",
       "</table>\n",
       "<p>5 rows × 27 columns</p>\n",
       "</div>"
      ],
      "text/plain": [
       "   LoanNr_ChkDgt                           Name          City State    Zip  \\\n",
       "0     1000014003                 ABC HOBBYCRAFT    EVANSVILLE    IN  47711   \n",
       "1     1000024006    LANDMARK BAR & GRILLE (THE)     NEW PARIS    IN  46526   \n",
       "2     1000034009          WHITLOCK DDS, TODD M.   BLOOMINGTON    IN  47401   \n",
       "3     1000044001  BIG BUCKS PAWN & JEWELRY, LLC  BROKEN ARROW    OK  74012   \n",
       "4     1000054004    ANASTASIA CONFECTIONS, INC.       ORLANDO    FL  32801   \n",
       "\n",
       "                            Bank BankState   NAICS ApprovalDate ApprovalFY  \\\n",
       "0               FIFTH THIRD BANK        OH  451120    28-Feb-97       1997   \n",
       "1                1ST SOURCE BANK        IN  722410    28-Feb-97       1997   \n",
       "2        GRANT COUNTY STATE BANK        IN  621210    28-Feb-97       1997   \n",
       "3  1ST NATL BK & TR CO OF BROKEN        OK       0    28-Feb-97       1997   \n",
       "4        FLORIDA BUS. DEVEL CORP        FL       0    28-Feb-97       1997   \n",
       "\n",
       "   ...  RevLineCr  LowDoc  ChgOffDate  DisbursementDate  DisbursementGross  \\\n",
       "0  ...          N       Y         NaN         28-Feb-99        $60,000.00    \n",
       "1  ...          N       Y         NaN         31-May-97        $40,000.00    \n",
       "2  ...          N       N         NaN         31-Dec-97       $287,000.00    \n",
       "3  ...          N       Y         NaN         30-Jun-97        $35,000.00    \n",
       "4  ...          N       N         NaN         14-May-97       $229,000.00    \n",
       "\n",
       "   BalanceGross  MIS_Status ChgOffPrinGr        GrAppv      SBA_Appv  \n",
       "0        $0.00        P I F       $0.00    $60,000.00    $48,000.00   \n",
       "1        $0.00        P I F       $0.00    $40,000.00    $32,000.00   \n",
       "2        $0.00        P I F       $0.00   $287,000.00   $215,250.00   \n",
       "3        $0.00        P I F       $0.00    $35,000.00    $28,000.00   \n",
       "4        $0.00        P I F       $0.00   $229,000.00   $229,000.00   \n",
       "\n",
       "[5 rows x 27 columns]"
      ]
     },
     "execution_count": 3,
     "metadata": {},
     "output_type": "execute_result"
    }
   ],
   "source": [
    "# Display 1st 5 rows from SBA dataset\n",
    "df_SBA.head()"
   ]
  },
  {
   "cell_type": "markdown",
   "metadata": {},
   "source": [
    "Let us describe what the most important columns mean."
   ]
  },
  {
   "cell_type": "markdown",
   "metadata": {},
   "source": [
    "<ul>\n",
    "    <li>LoanNr_ChkDgt : Identification Number for the Loan </li>\n",
    "    <li>Name: Name of the business</li>\n",
    "    <li>City, State, ZIP: Self-Explanatory</li>\n",
    "    <li>Bank: Bank that distributed the loan </li>\n",
    "    <li>BankState: Self-Explanatory</li>\n",
    "    <li>NAICS: Business Classification Code</li>\n",
    "    <li>ApprovalDate: Self-Explanatory</li>\n",
    "    <li>ApprovalFY: Fiscal Year of Loan Approval</li>\n",
    "    <li>Term: How long the loan is valid for</li>\n",
    "    <li>NoEmp: Whether the business has employees or not</li>\n",
    "    <li>NewExist: Whether the business is new or existing</li>\n",
    "    <li>CreateJob: Number of Created Jobs</li>\n",
    "    <li>RetainedJob: Number of Retained Jobs</li>\n",
    "    <li>FranchiseCode: The franchise code of the business (if applicable)</li>\n",
    "    <li>UrbanRural: Is the business located in an urban or rural area</li>\n",
    "    <li>LowDoc: Whether the loan application qualified for the LowDoc program</li>\n",
    "    <li>RevLineCr: Does the business have a revolving line of credit</li>\n",
    "    <li>DisbursementDate: The date the money was dispersed</li>\n",
    "    <li>DisbursementGross: How much money was dispersed</li>\n",
    "    <li>BalanceGross: How much of the loan needs to be repaid?</li>\n",
    "    <li>GrAppv: How much the granting bank approved the business for</li>\n",
    "    <li>SBA_Appv: How much the SBA approved the business for</li>"
   ]
  },
  {
   "cell_type": "markdown",
   "metadata": {},
   "source": [
    "## Data Cleaning"
   ]
  },
  {
   "cell_type": "markdown",
   "metadata": {},
   "source": [
    "Now let's clean some of the data for our analysis. Let's establish an initial impression as to the quality of the dataset."
   ]
  },
  {
   "cell_type": "code",
   "execution_count": 4,
   "metadata": {},
   "outputs": [
    {
     "name": "stdout",
     "output_type": "stream",
     "text": [
      "<class 'pandas.core.frame.DataFrame'>\n",
      "RangeIndex: 899164 entries, 0 to 899163\n",
      "Data columns (total 27 columns):\n",
      " #   Column             Non-Null Count   Dtype  \n",
      "---  ------             --------------   -----  \n",
      " 0   LoanNr_ChkDgt      899164 non-null  int64  \n",
      " 1   Name               899150 non-null  object \n",
      " 2   City               899134 non-null  object \n",
      " 3   State              899150 non-null  object \n",
      " 4   Zip                899164 non-null  int64  \n",
      " 5   Bank               897605 non-null  object \n",
      " 6   BankState          897598 non-null  object \n",
      " 7   NAICS              899164 non-null  int64  \n",
      " 8   ApprovalDate       899164 non-null  object \n",
      " 9   ApprovalFY         899164 non-null  object \n",
      " 10  Term               899164 non-null  int64  \n",
      " 11  NoEmp              899164 non-null  int64  \n",
      " 12  NewExist           899028 non-null  float64\n",
      " 13  CreateJob          899164 non-null  int64  \n",
      " 14  RetainedJob        899164 non-null  int64  \n",
      " 15  FranchiseCode      899164 non-null  int64  \n",
      " 16  UrbanRural         899164 non-null  int64  \n",
      " 17  RevLineCr          894636 non-null  object \n",
      " 18  LowDoc             896582 non-null  object \n",
      " 19  ChgOffDate         162699 non-null  object \n",
      " 20  DisbursementDate   896796 non-null  object \n",
      " 21  DisbursementGross  899164 non-null  object \n",
      " 22  BalanceGross       899164 non-null  object \n",
      " 23  MIS_Status         897167 non-null  object \n",
      " 24  ChgOffPrinGr       899164 non-null  object \n",
      " 25  GrAppv             899164 non-null  object \n",
      " 26  SBA_Appv           899164 non-null  object \n",
      "dtypes: float64(1), int64(9), object(17)\n",
      "memory usage: 185.2+ MB\n"
     ]
    }
   ],
   "source": [
    "# Characteristics of the SBA Loan dataset\n",
    "df_SBA.info()"
   ]
  },
  {
   "cell_type": "markdown",
   "metadata": {},
   "source": [
    "It appears that the 'ChgOffDate' is not particularly useful, so let's drop that from the dataset."
   ]
  },
  {
   "cell_type": "code",
   "execution_count": 5,
   "metadata": {},
   "outputs": [
    {
     "name": "stdout",
     "output_type": "stream",
     "text": [
      "<class 'pandas.core.frame.DataFrame'>\n",
      "RangeIndex: 899164 entries, 0 to 899163\n",
      "Data columns (total 26 columns):\n",
      " #   Column             Non-Null Count   Dtype  \n",
      "---  ------             --------------   -----  \n",
      " 0   LoanNr_ChkDgt      899164 non-null  int64  \n",
      " 1   Name               899150 non-null  object \n",
      " 2   City               899134 non-null  object \n",
      " 3   State              899150 non-null  object \n",
      " 4   Zip                899164 non-null  int64  \n",
      " 5   Bank               897605 non-null  object \n",
      " 6   BankState          897598 non-null  object \n",
      " 7   NAICS              899164 non-null  int64  \n",
      " 8   ApprovalDate       899164 non-null  object \n",
      " 9   ApprovalFY         899164 non-null  object \n",
      " 10  Term               899164 non-null  int64  \n",
      " 11  NoEmp              899164 non-null  int64  \n",
      " 12  NewExist           899028 non-null  float64\n",
      " 13  CreateJob          899164 non-null  int64  \n",
      " 14  RetainedJob        899164 non-null  int64  \n",
      " 15  FranchiseCode      899164 non-null  int64  \n",
      " 16  UrbanRural         899164 non-null  int64  \n",
      " 17  RevLineCr          894636 non-null  object \n",
      " 18  LowDoc             896582 non-null  object \n",
      " 19  DisbursementDate   896796 non-null  object \n",
      " 20  DisbursementGross  899164 non-null  object \n",
      " 21  BalanceGross       899164 non-null  object \n",
      " 22  MIS_Status         897167 non-null  object \n",
      " 23  ChgOffPrinGr       899164 non-null  object \n",
      " 24  GrAppv             899164 non-null  object \n",
      " 25  SBA_Appv           899164 non-null  object \n",
      "dtypes: float64(1), int64(9), object(16)\n",
      "memory usage: 178.4+ MB\n"
     ]
    }
   ],
   "source": [
    "# Drop Institution Name from the SBA Loan Dataset\n",
    "df_SBA2 = df_SBA.drop(['ChgOffDate'], axis=1)\n",
    "df_SBA2.info()"
   ]
  },
  {
   "cell_type": "markdown",
   "metadata": {},
   "source": [
    "Now let's find out how many nulls we have remaining in the dataset."
   ]
  },
  {
   "cell_type": "code",
   "execution_count": 6,
   "metadata": {},
   "outputs": [
    {
     "data": {
      "text/plain": [
       "LoanNr_ChkDgt           0\n",
       "Name                   14\n",
       "City                   30\n",
       "State                  14\n",
       "Zip                     0\n",
       "Bank                 1559\n",
       "BankState            1566\n",
       "NAICS                   0\n",
       "ApprovalDate            0\n",
       "ApprovalFY              0\n",
       "Term                    0\n",
       "NoEmp                   0\n",
       "NewExist              136\n",
       "CreateJob               0\n",
       "RetainedJob             0\n",
       "FranchiseCode           0\n",
       "UrbanRural              0\n",
       "RevLineCr            4528\n",
       "LowDoc               2582\n",
       "DisbursementDate     2368\n",
       "DisbursementGross       0\n",
       "BalanceGross            0\n",
       "MIS_Status           1997\n",
       "ChgOffPrinGr            0\n",
       "GrAppv                  0\n",
       "SBA_Appv                0\n",
       "dtype: int64"
      ]
     },
     "execution_count": 6,
     "metadata": {},
     "output_type": "execute_result"
    }
   ],
   "source": [
    "# Find 'NULL' values in SBA Loan Dataset\n",
    "df_SBA2.isnull().sum()"
   ]
  },
  {
   "cell_type": "markdown",
   "metadata": {},
   "source": [
    "The number of null values appears to be quite small compared to the overall dataset size, so let's drop the 'NULL' rows."
   ]
  },
  {
   "cell_type": "code",
   "execution_count": 7,
   "metadata": {
    "scrolled": true
   },
   "outputs": [
    {
     "data": {
      "text/plain": [
       "LoanNr_ChkDgt        0\n",
       "Name                 0\n",
       "City                 0\n",
       "State                0\n",
       "Zip                  0\n",
       "Bank                 0\n",
       "BankState            0\n",
       "NAICS                0\n",
       "ApprovalDate         0\n",
       "ApprovalFY           0\n",
       "Term                 0\n",
       "NoEmp                0\n",
       "NewExist             0\n",
       "CreateJob            0\n",
       "RetainedJob          0\n",
       "FranchiseCode        0\n",
       "UrbanRural           0\n",
       "RevLineCr            0\n",
       "LowDoc               0\n",
       "DisbursementDate     0\n",
       "DisbursementGross    0\n",
       "BalanceGross         0\n",
       "MIS_Status           0\n",
       "ChgOffPrinGr         0\n",
       "GrAppv               0\n",
       "SBA_Appv             0\n",
       "dtype: int64"
      ]
     },
     "execution_count": 7,
     "metadata": {},
     "output_type": "execute_result"
    }
   ],
   "source": [
    "# Remove 'NULL' rows from SBA Loans Dataset\n",
    "df_SBA3 = df_SBA2.dropna()\n",
    "\n",
    "# Confirm all 'NULL' rows and columns removed\n",
    "df_SBA3.isnull().sum()"
   ]
  },
  {
   "cell_type": "markdown",
   "metadata": {},
   "source": [
    "Let's look at 'RevLineCr' to see what the values are."
   ]
  },
  {
   "cell_type": "markdown",
   "metadata": {},
   "source": [
    "Now it appears that our dataset is sufficiently cleaned and ready for exploratory analysis."
   ]
  },
  {
   "cell_type": "markdown",
   "metadata": {},
   "source": [
    "## Exploratory Data Analysis"
   ]
  },
  {
   "cell_type": "markdown",
   "metadata": {},
   "source": [
    "To begin this analysis, let's get an idea of how many SBA loans have been issued over time."
   ]
  },
  {
   "cell_type": "code",
   "execution_count": 8,
   "metadata": {},
   "outputs": [
    {
     "data": {
      "text/plain": [
       "array([1997, 1980, 2006, 1998, 1999, 2000, 2001, 1972, 2003, 2004, 1978,\n",
       "       1979, 1981, 2005, 1982, 1983, 1973, 1984, 2007, 1985, 1986, 1987,\n",
       "       2008, 1988, 2009, 1989, 1991, 1990, 1974, 2010, 2011, 1992, 1993,\n",
       "       2002, 2012, 2013, 1994, 2014, 1975, 1977, 1976, '2004', '1994',\n",
       "       '1979', '1976', '1975', '1974', '1977', '1981', '1982', '1983',\n",
       "       '1984', '1978', '1980', '1968', '1976A', '1969', '1995', '1970',\n",
       "       '2005', '1996', '1971', 1996, 1971], dtype=object)"
      ]
     },
     "execution_count": 8,
     "metadata": {},
     "output_type": "execute_result"
    }
   ],
   "source": [
    "# Determine distribution of SBA Loan Approval Years\n",
    "df_SBA3['ApprovalFY'].unique()"
   ]
  },
  {
   "cell_type": "markdown",
   "metadata": {},
   "source": [
    "Let's make sure all these years are the same datatype, as well as convert '1976A' to '1976'."
   ]
  },
  {
   "cell_type": "code",
   "execution_count": 9,
   "metadata": {},
   "outputs": [
    {
     "name": "stderr",
     "output_type": "stream",
     "text": [
      "C:\\Users\\jmsie\\anaconda3\\lib\\site-packages\\pandas\\core\\generic.py:6746: SettingWithCopyWarning: \n",
      "A value is trying to be set on a copy of a slice from a DataFrame\n",
      "\n",
      "See the caveats in the documentation: https://pandas.pydata.org/pandas-docs/stable/user_guide/indexing.html#returning-a-view-versus-a-copy\n",
      "  self._update_inplace(new_data)\n",
      "<ipython-input-9-d308279bc728>:5: SettingWithCopyWarning: \n",
      "A value is trying to be set on a copy of a slice from a DataFrame.\n",
      "Try using .loc[row_indexer,col_indexer] = value instead\n",
      "\n",
      "See the caveats in the documentation: https://pandas.pydata.org/pandas-docs/stable/user_guide/indexing.html#returning-a-view-versus-a-copy\n",
      "  df_SBA3['ApprovalFY'] = df_SBA3['ApprovalFY'].astype(str)\n"
     ]
    }
   ],
   "source": [
    "# Convert '1976A' to '1976'\n",
    "df_SBA3['ApprovalFY'].replace(\"1976A\", 1976, inplace=True)\n",
    "\n",
    "# Convert all values in 'ApprovedFY' to string\n",
    "df_SBA3['ApprovalFY'] = df_SBA3['ApprovalFY'].astype(str)"
   ]
  },
  {
   "cell_type": "code",
   "execution_count": 10,
   "metadata": {
    "scrolled": true
   },
   "outputs": [
    {
     "data": {
      "text/plain": [
       "Text(0, 0.5, '# of Approved Loans')"
      ]
     },
     "execution_count": 10,
     "metadata": {},
     "output_type": "execute_result"
    },
    {
     "data": {
      "image/png": "[encoded data removed]",
      "text/plain": [
       "<Figure size 1440x1280 with 1 Axes>"
      ]
     },
     "metadata": {},
     "output_type": "display_data"
    }
   ],
   "source": [
    "# Plot SBA Loan Approvals by Fiscal Year\n",
    "from matplotlib.pyplot import figure\n",
    "figure(num=None, figsize=(18, 16), dpi=80, facecolor='w', edgecolor='k')\n",
    "\n",
    "df_SBA3[\"ApprovalFY\"].groupby(df_SBA3[\"ApprovalFY\"]).count().plot(kind=\"bar\")\n",
    "plt.title('SBA Loan Approvals by Year', fontsize = 18)\n",
    "plt.xlabel('Fiscal Year', fontsize = 16)\n",
    "plt.ylabel('# of Approved Loans', fontsize = 16)"
   ]
  },
  {
   "cell_type": "markdown",
   "metadata": {},
   "source": [
    "As we can see the greatest concentration of SBA Loan approvals occurred in 2004 to 2007, right before the Great Financial Crisis. After 2008, the rate of SBA Loan approvals plummeted."
   ]
  },
  {
   "cell_type": "markdown",
   "metadata": {},
   "source": [
    "From online research, we can see that NAICS is the North American Industrial Classification System, which is a code routine that the US Small Business Administration uses to classify different types of businesses. Let us see which NAICS codes have the highest SBA loan approval rate."
   ]
  },
  {
   "cell_type": "code",
   "execution_count": 11,
   "metadata": {},
   "outputs": [
    {
     "data": {
      "text/plain": [
       "0         198267\n",
       "722110     27772\n",
       "722211     19338\n",
       "811111     14392\n",
       "621210     13856\n",
       "624410      9999\n",
       "812112      9144\n",
       "561730      8789\n",
       "621310      8627\n",
       "812320      7813\n",
       "541110      6975\n",
       "Name: NAICS, dtype: int64"
      ]
     },
     "execution_count": 11,
     "metadata": {},
     "output_type": "execute_result"
    }
   ],
   "source": [
    "# Find the top SBA Loan Approvals by NAICS Code\n",
    "df_SBA3_NAICS = df_SBA3['NAICS'];\n",
    "df_SBA3_NAICS.value_counts().head(11)"
   ]
  },
  {
   "cell_type": "markdown",
   "metadata": {},
   "source": [
    "Using NAICS code lookup tools, we find that these codes correspond to the following types of busineses:\n",
    "\n",
    "<ul>\n",
    "    <li>722110: Hotels (except Casino Hotels) and Motels</li>\n",
    "    <li>722111: Limited-Service Restaurants</li>\n",
    "    <li>811111: General Automotive Repair</li>\n",
    "    <li>621210: Offices of Dentists</li>\n",
    "    <li>624410: Child Care Day Services</li>\n",
    "    <li>812112: Beauty Salons</li>\n",
    "    <li>561730: Landscaping Services</li>\n",
    "    <li>621310: Offices of Chiropractors</li>\n",
    "    <li>812320: Drycleaning and Laundry Services (except coin operated)</li>\n",
    "    <li>541110: Offices of Lawyers</li>\n",
    "    \n",
    "Source: https://secure.industriuscfo.com/industry-metrics/naics/"
   ]
  },
  {
   "cell_type": "code",
   "execution_count": 12,
   "metadata": {
    "scrolled": true
   },
   "outputs": [
    {
     "data": {
      "text/plain": [
       "1    465149\n",
       "0    317016\n",
       "2    104075\n",
       "Name: UrbanRural, dtype: int64"
      ]
     },
     "execution_count": 12,
     "metadata": {},
     "output_type": "execute_result"
    }
   ],
   "source": [
    "# Find the top SBA Loan Approvals by Urban Rural\n",
    "df_SBA3_UrbanRural = df_SBA3['UrbanRural'];\n",
    "df_SBA3_UrbanRural.value_counts().head(11)"
   ]
  },
  {
   "cell_type": "markdown",
   "metadata": {},
   "source": [
    "From what we can gather, 1 = urban, 0 = rural and 2 = undefined. Let's plot this information."
   ]
  },
  {
   "cell_type": "code",
   "execution_count": 13,
   "metadata": {},
   "outputs": [
    {
     "data": {
      "image/png": "[encoded data removed]",
      "text/plain": [
       "<Figure size 720x432 with 1 Axes>"
      ]
     },
     "metadata": {
      "needs_background": "light"
     },
     "output_type": "display_data"
    }
   ],
   "source": [
    "# Find the urban vs. rural distribution of SBA Loan Approvals\n",
    "\n",
    "# Generate the Plot\n",
    "fig = plt.gcf()\n",
    "fig.set_size_inches(10, 6)\n",
    "sns.set(style=\"darkgrid\", font_scale = 1)\n",
    "\n",
    "# Fill in the Plot\n",
    "ax = sns.countplot(x=\"UrbanRural\", data=df_SBA3)\n",
    "\n",
    "# Set the Title and Axes\n",
    "ax.set_title('Urban/Rural Distribution of SBA Loans', fontsize = 16)\n",
    "ax.set_ylabel('# of Approvals', fontsize = 16)\n",
    "ax.set_xlabel('Location Type (1 = Urban, 0 = Rural, 0 = Undef)', fontsize = 16)\n",
    "\n",
    "# Annotate the plot with the # of animal intakes\n",
    "for p in ax.patches:\n",
    "    ax.annotate(str(p.get_height()), (p.get_x() * 1.005, p.get_height() * 1.005), fontsize = 12)"
   ]
  },
  {
   "cell_type": "markdown",
   "metadata": {},
   "source": [
    "As one might have guessed (due to population distribution), the majority of SBA loans are approved to urban applicants."
   ]
  },
  {
   "cell_type": "markdown",
   "metadata": {},
   "source": [
    "Now let us investigate the distribution of loans for new vs. existing businesses."
   ]
  },
  {
   "cell_type": "code",
   "execution_count": 14,
   "metadata": {},
   "outputs": [
    {
     "data": {
      "text/plain": [
       "1.0    636139\n",
       "2.0    249080\n",
       "0.0      1021\n",
       "Name: NewExist, dtype: int64"
      ]
     },
     "execution_count": 14,
     "metadata": {},
     "output_type": "execute_result"
    }
   ],
   "source": [
    "# Find the top SBA Loan Approvals by New or Existing Businesses\n",
    "df_SBA3_NewExist = df_SBA3['NewExist'];\n",
    "df_SBA3_NewExist.value_counts().head(11)"
   ]
  },
  {
   "cell_type": "markdown",
   "metadata": {},
   "source": [
    "From what we can gather, 1 = new, 2 = existing and 0 = undefined. Let's plot this information."
   ]
  },
  {
   "cell_type": "code",
   "execution_count": 15,
   "metadata": {},
   "outputs": [
    {
     "data": {
      "text/plain": [
       "Text(0.5, 0, 'Business Type')"
      ]
     },
     "execution_count": 15,
     "metadata": {},
     "output_type": "execute_result"
    },
    {
     "data": {
      "image/png": "[encoded data removed]",
      "text/plain": [
       "<Figure size 720x432 with 1 Axes>"
      ]
     },
     "metadata": {},
     "output_type": "display_data"
    }
   ],
   "source": [
    "# Plot the distribution of new vs. existing businesses receiving SBA Loans\n",
    "\n",
    "# Generate the Plot\n",
    "fig = plt.gcf()\n",
    "fig.set_size_inches(10, 6)\n",
    "sns.set(style=\"darkgrid\", font_scale = 1)\n",
    "\n",
    "# Fill in the Plot\n",
    "ax = sns.countplot(y=\"NewExist\", data=df_SBA3)\n",
    "\n",
    "# Set the Title and Axes\n",
    "ax.set_title('New vs. Existing Businesses receiving SBA Loans', fontsize = 16)\n",
    "ax.set_ylabel('# of Approved Loans', fontsize = 16)\n",
    "ax.set_xlabel('Business Type', fontsize = 16)"
   ]
  },
  {
   "cell_type": "markdown",
   "metadata": {},
   "source": [
    "As we can see, the majority of businesses that receive SBA loans are new businesses. Possible reasons for that include (a) the government mandate to assist in small business creation and (b) bank reluctance to loan money out to new businesses with uncertain credit history."
   ]
  },
  {
   "cell_type": "markdown",
   "metadata": {},
   "source": [
    "Let's now look at the lengths of the loan terms to get a sense of how leveraged these businesses may be."
   ]
  },
  {
   "cell_type": "code",
   "execution_count": 37,
   "metadata": {},
   "outputs": [
    {
     "data": {
      "text/plain": [
       "84     225820\n",
       "60      88507\n",
       "240     84964\n",
       "120     76712\n",
       "300     44395\n",
       "180     27750\n",
       "36      19377\n",
       "12      16590\n",
       "48      15385\n",
       "72       9301\n",
       "Name: Term, dtype: int64"
      ]
     },
     "execution_count": 37,
     "metadata": {},
     "output_type": "execute_result"
    }
   ],
   "source": [
    "# Find the top SBA Loan Term Lengths\n",
    "df_SBA3_Term = df_SBA3['Term'];\n",
    "df_SBA3_Term.value_counts().head(10)"
   ]
  },
  {
   "cell_type": "markdown",
   "metadata": {},
   "source": [
    "It appears from this search query that 84 month (or 7 year) loans are the most common, followed by 60 month (5 years) and 240 months (10 years)."
   ]
  },
  {
   "cell_type": "markdown",
   "metadata": {},
   "source": [
    "To wrap up this section, let's look at the top 10 locales for SBA Loan approvals."
   ]
  },
  {
   "cell_type": "code",
   "execution_count": 16,
   "metadata": {},
   "outputs": [
    {
     "name": "stdout",
     "output_type": "stream",
     "text": [
      "Top 10 Locales with SBA Loan Approvals:\n",
      "\n",
      "Locale Name   # of Loan Approvals\n",
      "LOS ANGELES    11467\n",
      "HOUSTON        10129\n",
      "NEW YORK        7758\n",
      "CHICAGO         5936\n",
      "MIAMI           5540\n",
      "SAN DIEGO       5316\n",
      "DALLAS          5017\n",
      "PHOENIX         4446\n",
      "LAS VEGAS       4336\n",
      "BROOKLYN        3698\n",
      "Name: City, dtype: int64\n"
     ]
    }
   ],
   "source": [
    "# Find the top 10 Cities for SBA loan approvals\n",
    "df_SBA3_Locale = df_SBA3['City'];\n",
    "print('Top 10 Locales with SBA Loan Approvals:\\n')\n",
    "print('Locale Name   # of Loan Approvals')\n",
    "print(df_SBA3_Locale.value_counts().head(10))"
   ]
  },
  {
   "cell_type": "markdown",
   "metadata": {},
   "source": [
    "As we can see, the most SBA loan approvals occur in major metropolitan areas."
   ]
  },
  {
   "cell_type": "markdown",
   "metadata": {},
   "source": [
    "## Sensitivity Analysis"
   ]
  },
  {
   "cell_type": "markdown",
   "metadata": {},
   "source": [
    "The last part of this project is to be able to assess which features of the dataset are most important to the SBA loan approval process. For example, does geography play a role in the amount of the loan? What factors affect the distribution amount? Are there other factors that are important but are not apparent? We would like to be able to address these questions.\n",
    "\n",
    "To accomplish this task, we will build a heatmap in Seaborn. Let's proceed by selecting the most relevant features, creating a correlation matrix and visualizating the result in a heatmap."
   ]
  },
  {
   "cell_type": "code",
   "execution_count": 35,
   "metadata": {},
   "outputs": [
    {
     "data": {
      "text/html": [
       "<div>\n",
       "<style scoped>\n",
       "    .dataframe tbody tr th:only-of-type {\n",
       "        vertical-align: middle;\n",
       "    }\n",
       "\n",
       "    .dataframe tbody tr th {\n",
       "        vertical-align: top;\n",
       "    }\n",
       "\n",
       "    .dataframe thead th {\n",
       "        text-align: right;\n",
       "    }\n",
       "</style>\n",
       "<table border=\"1\" class=\"dataframe\">\n",
       "  <thead>\n",
       "    <tr style=\"text-align: right;\">\n",
       "      <th></th>\n",
       "      <th>Zip</th>\n",
       "      <th>NAICS</th>\n",
       "      <th>Term</th>\n",
       "      <th>NoEmp</th>\n",
       "      <th>CreateJob</th>\n",
       "      <th>RetainedJob</th>\n",
       "      <th>NewExist</th>\n",
       "      <th>UrbanRural</th>\n",
       "    </tr>\n",
       "  </thead>\n",
       "  <tbody>\n",
       "    <tr>\n",
       "      <th>0</th>\n",
       "      <td>47711</td>\n",
       "      <td>451120</td>\n",
       "      <td>84</td>\n",
       "      <td>4</td>\n",
       "      <td>0</td>\n",
       "      <td>0</td>\n",
       "      <td>2.0</td>\n",
       "      <td>0</td>\n",
       "    </tr>\n",
       "    <tr>\n",
       "      <th>1</th>\n",
       "      <td>46526</td>\n",
       "      <td>722410</td>\n",
       "      <td>60</td>\n",
       "      <td>2</td>\n",
       "      <td>0</td>\n",
       "      <td>0</td>\n",
       "      <td>2.0</td>\n",
       "      <td>0</td>\n",
       "    </tr>\n",
       "    <tr>\n",
       "      <th>2</th>\n",
       "      <td>47401</td>\n",
       "      <td>621210</td>\n",
       "      <td>180</td>\n",
       "      <td>7</td>\n",
       "      <td>0</td>\n",
       "      <td>0</td>\n",
       "      <td>1.0</td>\n",
       "      <td>0</td>\n",
       "    </tr>\n",
       "    <tr>\n",
       "      <th>3</th>\n",
       "      <td>74012</td>\n",
       "      <td>0</td>\n",
       "      <td>60</td>\n",
       "      <td>2</td>\n",
       "      <td>0</td>\n",
       "      <td>0</td>\n",
       "      <td>1.0</td>\n",
       "      <td>0</td>\n",
       "    </tr>\n",
       "    <tr>\n",
       "      <th>4</th>\n",
       "      <td>32801</td>\n",
       "      <td>0</td>\n",
       "      <td>240</td>\n",
       "      <td>14</td>\n",
       "      <td>7</td>\n",
       "      <td>7</td>\n",
       "      <td>1.0</td>\n",
       "      <td>0</td>\n",
       "    </tr>\n",
       "  </tbody>\n",
       "</table>\n",
       "</div>"
      ],
      "text/plain": [
       "     Zip   NAICS  Term  NoEmp  CreateJob  RetainedJob  NewExist  UrbanRural\n",
       "0  47711  451120    84      4          0            0       2.0           0\n",
       "1  46526  722410    60      2          0            0       2.0           0\n",
       "2  47401  621210   180      7          0            0       1.0           0\n",
       "3  74012       0    60      2          0            0       1.0           0\n",
       "4  32801       0   240     14          7            7       1.0           0"
      ]
     },
     "execution_count": 35,
     "metadata": {},
     "output_type": "execute_result"
    }
   ],
   "source": [
    "# SBA Loan Sensitivity Matrix\n",
    "# Select the features to do the analysis\n",
    "df_SBA3_fs1 = df_SBA3[['Zip','NAICS', 'Term', 'NoEmp', 'CreateJob', 'RetainedJob', 'NewExist','UrbanRural']];\n",
    "\n",
    "df_SBA3_fs1.head()"
   ]
  },
  {
   "cell_type": "markdown",
   "metadata": {},
   "source": [
    "I chose Zip Code, NAICS Code, Term, Number of Employees, # of Created Jobs, # of Retained Jobs, New or Exisiting Business, and Urban or Rural. The other features either did not make sense (BankState since that would be in the Zip Code) or would have biased the result (RevLineCr would penalize new businesses)."
   ]
  },
  {
   "cell_type": "code",
   "execution_count": 36,
   "metadata": {},
   "outputs": [
    {
     "data": {
      "text/plain": [
       "Text(0.5, 1.0, 'SBA Loan Correlation Heatmap')"
      ]
     },
     "execution_count": 36,
     "metadata": {},
     "output_type": "execute_result"
    },
    {
     "data": {
      "image/png": "[encoded data removed]",
      "text/plain": [
       "<Figure size 1296x1296 with 2 Axes>"
      ]
     },
     "metadata": {},
     "output_type": "display_data"
    }
   ],
   "source": [
    "# Create SBA Loan Sensitivity Matrix\n",
    "figureSBALoan, axisSBALoan = plt.subplots(figsize=(18, 18));\n",
    "sns.heatmap(df_SBA3_fs1.corr(), annot = True, linewidths = .5, fmt = '.02f', ax = axisSBALoan, cmap=\"YlGnBu\");\n",
    "\n",
    "plt.title('SBA Loan Correlation Heatmap', fontsize = 20)"
   ]
  },
  {
   "cell_type": "markdown",
   "metadata": {},
   "source": [
    "As we can see from the heatmap, there are some interesting correlations:\n",
    "\n",
    "1. The zip code of the business is correlated to the term of the loan. A possible explanation for this observation is rural businesses may not have access to as many loan terms as urban businesses with a larger number of readily accessible banks.\n",
    "\n",
    "2. NAICS code is correlated with Urban/Rural divide. This observation actually makes sense because the viability of the business is dependent upon its physical location. For example, landscaping businesses are not likely as viable in rural areas than urban ones.\n",
    "\n",
    "3. There is a slight correlation between the number of employees and the term length. Again, if the business has more employees (which is more common in an urban area) it might have access to more banks with more possible term lengths.\n",
    "\n",
    "Interesting observations indeed!"
   ]
  },
  {
   "cell_type": "markdown",
   "metadata": {},
   "source": [
    "## Results and Discussion"
   ]
  },
  {
   "cell_type": "markdown",
   "metadata": {},
   "source": [
    "In this open-ended project, we were able to arrive at some interesting results:\n",
    "\n",
    "<ul>\n",
    "    <li>(1) SBA Loans peaked in frequency between 2004 and 2007.</li>\n",
    "    <li>(2) Hotels and restaurants receive the most loans.</li>\n",
    "    <li>(3) 7 year (84 month) loans are the most common term lengths.</li>\n",
    "    <li>(4) New businesses receive the majority of the loans.</li>\n",
    "    <li>(5) Companies in urban locations receive the majority of loans.</li>\n",
    "    <li>(6) Zip Codes have correlations with loan terms (indicating a possible lack of capital access to rural businesses).</li>\n",
    "    <li>(7) NAICS codes are correlated to the location type (urban or rural).</li>\n",
    "</ul>"
   ]
  },
  {
   "cell_type": "markdown",
   "metadata": {},
   "source": [
    "## Conclusion"
   ]
  },
  {
   "cell_type": "markdown",
   "metadata": {},
   "source": [
    "The goal of this project was to explore SBA Loans from 1968 to 2014. In this project, we were able to upload a real-world dataset, clean the data systematically, perform several different exploratory data analysis, make useful data visualizations, and draw logical inferences from those analyses. It is the author's hope that others find this exericse useful. Thanks for reading!"
   ]
  },
  {
   "cell_type": "code",
   "execution_count": null,
   "metadata": {},
   "outputs": [],
   "source": []
  }
 ],
 "metadata": {
  "kernelspec": {
   "display_name": "Python 3",
   "language": "python",
   "name": "python3"
  },
  "language_info": {
   "codemirror_mode": {
    "name": "ipython",
    "version": 3
   },
   "file_extension": ".py",
   "mimetype": "text/x-python",
   "name": "python",
   "nbconvert_exporter": "python",
   "pygments_lexer": "ipython3",
   "version": "3.8.3"
  }
 },
 "nbformat": 4,
 "nbformat_minor": 4
}
