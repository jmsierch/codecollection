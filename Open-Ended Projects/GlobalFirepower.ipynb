{
 "cells": [
  {
   "cell_type": "markdown",
   "id": "f7a3b1ab",
   "metadata": {},
   "source": [
    "# Global Firepower Analysis"
   ]
  },
  {
   "cell_type": "markdown",
   "id": "520f275a",
   "metadata": {},
   "source": [
    "## by Justin Sierchio"
   ]
  },
  {
   "cell_type": "markdown",
   "id": "cefc5532",
   "metadata": {},
   "source": [
    "In this analysis, we will be global firepower comparisons and trying to determine any trends:\n",
    "\n",
    "This data is in .csv file format and is from Kaggle at: https://www.kaggle.com/mrtd1000/global-firepower-comparison-2021/download. More information related to the dataset can be found at: https://www.kaggle.com/mrtd1000/global-firepower-comparison-2021."
   ]
  },
  {
   "cell_type": "markdown",
   "id": "8791ee46",
   "metadata": {},
   "source": [
    "## Notebook Initialization"
   ]
  },
  {
   "cell_type": "code",
   "execution_count": 1,
   "id": "730ad0b7",
   "metadata": {},
   "outputs": [
    {
     "name": "stdout",
     "output_type": "stream",
     "text": [
      "Initial libraries loaded into workspace!\n"
     ]
    }
   ],
   "source": [
    "# Import Relevant Libraries\n",
    "import pandas as pd\n",
    "import numpy as np\n",
    "import seaborn as sns \n",
    "import matplotlib.pyplot as plt\n",
    "import datetime\n",
    "\n",
    "print('Initial libraries loaded into workspace!')"
   ]
  },
  {
   "cell_type": "code",
   "execution_count": 2,
   "id": "ce173717",
   "metadata": {},
   "outputs": [
    {
     "name": "stdout",
     "output_type": "stream",
     "text": [
      "Datasets uploaded!\n"
     ]
    }
   ],
   "source": [
    "# Upload Datasets for Study\n",
    "df_FIREPOWER = pd.read_csv(\"GLOBAL_FIREPOWER_2021.csv\");\n",
    "\n",
    "print('Datasets uploaded!');"
   ]
  },
  {
   "cell_type": "code",
   "execution_count": 3,
   "id": "84c6a219",
   "metadata": {},
   "outputs": [
    {
     "data": {
      "text/html": [
       "<div>\n",
       "<style scoped>\n",
       "    .dataframe tbody tr th:only-of-type {\n",
       "        vertical-align: middle;\n",
       "    }\n",
       "\n",
       "    .dataframe tbody tr th {\n",
       "        vertical-align: top;\n",
       "    }\n",
       "\n",
       "    .dataframe thead th {\n",
       "        text-align: right;\n",
       "    }\n",
       "</style>\n",
       "<table border=\"1\" class=\"dataframe\">\n",
       "  <thead>\n",
       "    <tr style=\"text-align: right;\">\n",
       "      <th></th>\n",
       "      <th>Country</th>\n",
       "      <th>ISO3</th>\n",
       "      <th>PowerIndex</th>\n",
       "      <th>TotalPopulation</th>\n",
       "      <th>Available Military Manpower</th>\n",
       "      <th>Fit for service</th>\n",
       "      <th>Reaching Military Age Anually</th>\n",
       "      <th>Active Service</th>\n",
       "      <th>Active Reserves</th>\n",
       "      <th>Paramilitary Force</th>\n",
       "      <th>...</th>\n",
       "      <th>Merchant Marine Fleet Strength</th>\n",
       "      <th>Railway Cowerage km</th>\n",
       "      <th>Roadway Coverage km</th>\n",
       "      <th>Oil Production bbl</th>\n",
       "      <th>Oil Consumption bbl</th>\n",
       "      <th>Proven Oil reserves bbl</th>\n",
       "      <th>Square Land Arena km</th>\n",
       "      <th>Coastline Coverage km</th>\n",
       "      <th>Border Coverage km</th>\n",
       "      <th>Waterway Coverage km</th>\n",
       "    </tr>\n",
       "  </thead>\n",
       "  <tbody>\n",
       "    <tr>\n",
       "      <th>0</th>\n",
       "      <td>United States</td>\n",
       "      <td>USA</td>\n",
       "      <td>0.0718</td>\n",
       "      <td>332639102</td>\n",
       "      <td>146361205</td>\n",
       "      <td>121479800</td>\n",
       "      <td>4251793</td>\n",
       "      <td>1400000</td>\n",
       "      <td>845500</td>\n",
       "      <td>0</td>\n",
       "      <td>...</td>\n",
       "      <td>3673</td>\n",
       "      <td>224792</td>\n",
       "      <td>6586610</td>\n",
       "      <td>11000000</td>\n",
       "      <td>20000000</td>\n",
       "      <td>35000000000</td>\n",
       "      <td>9826675</td>\n",
       "      <td>19924</td>\n",
       "      <td>12048</td>\n",
       "      <td>41009</td>\n",
       "    </tr>\n",
       "    <tr>\n",
       "      <th>1</th>\n",
       "      <td>Russia</td>\n",
       "      <td>RUS</td>\n",
       "      <td>0.0791</td>\n",
       "      <td>141722205</td>\n",
       "      <td>69443880</td>\n",
       "      <td>46527400</td>\n",
       "      <td>1302767</td>\n",
       "      <td>1014000</td>\n",
       "      <td>2000000</td>\n",
       "      <td>555000</td>\n",
       "      <td>...</td>\n",
       "      <td>2739</td>\n",
       "      <td>87157</td>\n",
       "      <td>982000</td>\n",
       "      <td>10760000</td>\n",
       "      <td>3225000</td>\n",
       "      <td>80000000000</td>\n",
       "      <td>17098242</td>\n",
       "      <td>37653</td>\n",
       "      <td>22408</td>\n",
       "      <td>102000</td>\n",
       "    </tr>\n",
       "    <tr>\n",
       "      <th>2</th>\n",
       "      <td>China</td>\n",
       "      <td>CHN</td>\n",
       "      <td>0.0854</td>\n",
       "      <td>1394015977</td>\n",
       "      <td>752768628</td>\n",
       "      <td>617270275</td>\n",
       "      <td>19752649</td>\n",
       "      <td>2185000</td>\n",
       "      <td>510000</td>\n",
       "      <td>660000</td>\n",
       "      <td>...</td>\n",
       "      <td>5594</td>\n",
       "      <td>86000</td>\n",
       "      <td>3860800</td>\n",
       "      <td>3775000</td>\n",
       "      <td>13500000</td>\n",
       "      <td>25630000000</td>\n",
       "      <td>9596961</td>\n",
       "      <td>14500</td>\n",
       "      <td>22457</td>\n",
       "      <td>110000</td>\n",
       "    </tr>\n",
       "    <tr>\n",
       "      <th>3</th>\n",
       "      <td>India</td>\n",
       "      <td>IND</td>\n",
       "      <td>0.1207</td>\n",
       "      <td>1326093247</td>\n",
       "      <td>623263826</td>\n",
       "      <td>492378423</td>\n",
       "      <td>23141786</td>\n",
       "      <td>1445000</td>\n",
       "      <td>1155000</td>\n",
       "      <td>2527000</td>\n",
       "      <td>...</td>\n",
       "      <td>1731</td>\n",
       "      <td>63974</td>\n",
       "      <td>3320410</td>\n",
       "      <td>710000</td>\n",
       "      <td>5000000</td>\n",
       "      <td>4495000000</td>\n",
       "      <td>3287263</td>\n",
       "      <td>7000</td>\n",
       "      <td>13888</td>\n",
       "      <td>14500</td>\n",
       "    </tr>\n",
       "    <tr>\n",
       "      <th>4</th>\n",
       "      <td>Japan</td>\n",
       "      <td>JPN</td>\n",
       "      <td>0.1599</td>\n",
       "      <td>125507472</td>\n",
       "      <td>53968213</td>\n",
       "      <td>43714252</td>\n",
       "      <td>1180285</td>\n",
       "      <td>250000</td>\n",
       "      <td>55000</td>\n",
       "      <td>14000</td>\n",
       "      <td>...</td>\n",
       "      <td>5017</td>\n",
       "      <td>27182</td>\n",
       "      <td>1210251</td>\n",
       "      <td>3200</td>\n",
       "      <td>4000000</td>\n",
       "      <td>44120000</td>\n",
       "      <td>377915</td>\n",
       "      <td>29751</td>\n",
       "      <td>0</td>\n",
       "      <td>1770</td>\n",
       "    </tr>\n",
       "  </tbody>\n",
       "</table>\n",
       "<p>5 rows × 49 columns</p>\n",
       "</div>"
      ],
      "text/plain": [
       "         Country ISO3  PowerIndex  TotalPopulation  \\\n",
       "0  United States  USA      0.0718        332639102   \n",
       "1         Russia  RUS      0.0791        141722205   \n",
       "2          China  CHN      0.0854       1394015977   \n",
       "3          India  IND      0.1207       1326093247   \n",
       "4          Japan  JPN      0.1599        125507472   \n",
       "\n",
       "   Available Military Manpower  Fit for service  \\\n",
       "0                    146361205        121479800   \n",
       "1                     69443880         46527400   \n",
       "2                    752768628        617270275   \n",
       "3                    623263826        492378423   \n",
       "4                     53968213         43714252   \n",
       "\n",
       "   Reaching Military Age Anually  Active Service  Active Reserves  \\\n",
       "0                        4251793         1400000           845500   \n",
       "1                        1302767         1014000          2000000   \n",
       "2                       19752649         2185000           510000   \n",
       "3                       23141786         1445000          1155000   \n",
       "4                        1180285          250000            55000   \n",
       "\n",
       "   Paramilitary Force  ...  Merchant Marine Fleet Strength  \\\n",
       "0                   0  ...                            3673   \n",
       "1              555000  ...                            2739   \n",
       "2              660000  ...                            5594   \n",
       "3             2527000  ...                            1731   \n",
       "4               14000  ...                            5017   \n",
       "\n",
       "   Railway Cowerage km  Roadway Coverage km  Oil Production bbl  \\\n",
       "0               224792              6586610            11000000   \n",
       "1                87157               982000            10760000   \n",
       "2                86000              3860800             3775000   \n",
       "3                63974              3320410              710000   \n",
       "4                27182              1210251                3200   \n",
       "\n",
       "   Oil Consumption bbl  Proven Oil reserves bbl  Square Land Arena km  \\\n",
       "0             20000000              35000000000               9826675   \n",
       "1              3225000              80000000000              17098242   \n",
       "2             13500000              25630000000               9596961   \n",
       "3              5000000               4495000000               3287263   \n",
       "4              4000000                 44120000                377915   \n",
       "\n",
       "   Coastline Coverage km  Border Coverage km  Waterway Coverage km  \n",
       "0                  19924               12048                 41009  \n",
       "1                  37653               22408                102000  \n",
       "2                  14500               22457                110000  \n",
       "3                   7000               13888                 14500  \n",
       "4                  29751                   0                  1770  \n",
       "\n",
       "[5 rows x 49 columns]"
      ]
     },
     "execution_count": 3,
     "metadata": {},
     "output_type": "execute_result"
    }
   ],
   "source": [
    "# Display 1st 5 rows from dataset\n",
    "df_FIREPOWER.head()"
   ]
  },
  {
   "cell_type": "code",
   "execution_count": 4,
   "id": "7e977459",
   "metadata": {},
   "outputs": [
    {
     "data": {
      "text/plain": [
       "Index(['Country', 'ISO3', 'PowerIndex', 'TotalPopulation',\n",
       "       'Available Military Manpower', 'Fit for service',\n",
       "       'Reaching Military Age Anually', 'Active Service', 'Active Reserves',\n",
       "       'Paramilitary Force', 'Aircraft Fleet Strength',\n",
       "       'Fighters Interceptors Strength', 'Attack Aircraft Strength',\n",
       "       'Fixed-wing Strength', 'Trainer Aircraft Strength',\n",
       "       'Special-mission Aircraft Strength', 'Tanker Fleet Aircraft Strength',\n",
       "       'Total Helicopter  Fleet Strength', 'Attack Helicopter Fleet Strength',\n",
       "       'Total Combat Tank Strength', 'Armored Vehicle Strength',\n",
       "       'Self-Propelled Artillery Strength', 'Rocket Projector Strength',\n",
       "       'Naval Fleet Strength', 'Aircraft Carrier Fleet Strength',\n",
       "       'Helicopter Carriers Fleet Strength', 'Submarine Fleet Strength',\n",
       "       'Destroyers Fleet Strength', 'Frigates Fleet Strength',\n",
       "       'Corvettes Fleet Strength', 'Offshore Patrol Vessel Fleet Strength',\n",
       "       'Mine Warfare Fleet Strength', 'Annual Defense Spending Budget',\n",
       "       'External Debt', 'Purchasing Power Parity',\n",
       "       'Reserves Of Foreign Exchange And Gold', 'Serviceable Airports',\n",
       "       'Labor Force Strength', 'Trade Terminals And Ports',\n",
       "       'Merchant Marine Fleet Strength', 'Railway Cowerage km',\n",
       "       'Roadway Coverage km', 'Oil Production bbl', 'Oil Consumption bbl',\n",
       "       'Proven Oil reserves bbl', 'Square Land Arena km',\n",
       "       'Coastline Coverage km', 'Border Coverage km', 'Waterway Coverage km'],\n",
       "      dtype='object')"
      ]
     },
     "execution_count": 4,
     "metadata": {},
     "output_type": "execute_result"
    }
   ],
   "source": [
    "# Display what all the columns are from the dataset\n",
    "df_FIREPOWER.columns"
   ]
  },
  {
   "cell_type": "markdown",
   "id": "3977ed8d",
   "metadata": {},
   "source": [
    "As we can see, the columns discuss a number of different military strengths from land, sea, air, economics and resources available."
   ]
  },
  {
   "cell_type": "markdown",
   "id": "d0a23b22",
   "metadata": {},
   "source": [
    "## Data Cleaning"
   ]
  },
  {
   "cell_type": "markdown",
   "id": "ec8aaa80",
   "metadata": {},
   "source": [
    "Let's begin by seeing if the data needs to be cleaned."
   ]
  },
  {
   "cell_type": "code",
   "execution_count": 5,
   "id": "cdf22385",
   "metadata": {},
   "outputs": [
    {
     "name": "stdout",
     "output_type": "stream",
     "text": [
      "<class 'pandas.core.frame.DataFrame'>\n",
      "RangeIndex: 140 entries, 0 to 139\n",
      "Data columns (total 49 columns):\n",
      " #   Column                                 Non-Null Count  Dtype  \n",
      "---  ------                                 --------------  -----  \n",
      " 0   Country                                140 non-null    object \n",
      " 1   ISO3                                   140 non-null    object \n",
      " 2   PowerIndex                             140 non-null    float64\n",
      " 3   TotalPopulation                        140 non-null    int64  \n",
      " 4   Available Military Manpower            140 non-null    int64  \n",
      " 5   Fit for service                        140 non-null    int64  \n",
      " 6   Reaching Military Age Anually          140 non-null    int64  \n",
      " 7   Active Service                         140 non-null    int64  \n",
      " 8   Active Reserves                        140 non-null    int64  \n",
      " 9   Paramilitary Force                     140 non-null    int64  \n",
      " 10  Aircraft Fleet Strength                140 non-null    int64  \n",
      " 11  Fighters Interceptors Strength         140 non-null    int64  \n",
      " 12  Attack Aircraft Strength               140 non-null    int64  \n",
      " 13  Fixed-wing Strength                    140 non-null    int64  \n",
      " 14  Trainer Aircraft Strength              140 non-null    int64  \n",
      " 15  Special-mission Aircraft Strength      140 non-null    int64  \n",
      " 16  Tanker Fleet Aircraft Strength         140 non-null    int64  \n",
      " 17  Total Helicopter  Fleet Strength       140 non-null    int64  \n",
      " 18  Attack Helicopter Fleet Strength       140 non-null    int64  \n",
      " 19  Total Combat Tank Strength             140 non-null    int64  \n",
      " 20  Armored Vehicle Strength               140 non-null    int64  \n",
      " 21  Self-Propelled Artillery Strength      140 non-null    int64  \n",
      " 22  Rocket Projector Strength              140 non-null    int64  \n",
      " 23  Naval Fleet Strength                   140 non-null    int64  \n",
      " 24  Aircraft Carrier Fleet Strength        140 non-null    int64  \n",
      " 25  Helicopter Carriers Fleet Strength     140 non-null    int64  \n",
      " 26  Submarine Fleet Strength               140 non-null    int64  \n",
      " 27  Destroyers Fleet Strength              140 non-null    int64  \n",
      " 28  Frigates Fleet Strength                140 non-null    int64  \n",
      " 29  Corvettes Fleet Strength               140 non-null    int64  \n",
      " 30  Offshore Patrol Vessel Fleet Strength  140 non-null    int64  \n",
      " 31  Mine Warfare Fleet Strength            140 non-null    int64  \n",
      " 32  Annual Defense Spending Budget         140 non-null    int64  \n",
      " 33  External Debt                          140 non-null    int64  \n",
      " 34  Purchasing Power Parity                140 non-null    int64  \n",
      " 35  Reserves Of Foreign Exchange And Gold  140 non-null    int64  \n",
      " 36  Serviceable Airports                   140 non-null    int64  \n",
      " 37  Labor Force Strength                   140 non-null    int64  \n",
      " 38  Trade Terminals And Ports              140 non-null    int64  \n",
      " 39  Merchant Marine Fleet Strength         140 non-null    int64  \n",
      " 40  Railway Cowerage km                    140 non-null    int64  \n",
      " 41  Roadway Coverage km                    140 non-null    int64  \n",
      " 42  Oil Production bbl                     140 non-null    int64  \n",
      " 43  Oil Consumption bbl                    140 non-null    int64  \n",
      " 44  Proven Oil reserves bbl                140 non-null    int64  \n",
      " 45  Square Land Arena km                   140 non-null    int64  \n",
      " 46  Coastline Coverage km                  140 non-null    int64  \n",
      " 47  Border Coverage km                     140 non-null    int64  \n",
      " 48  Waterway Coverage km                   140 non-null    int64  \n",
      "dtypes: float64(1), int64(46), object(2)\n",
      "memory usage: 53.7+ KB\n"
     ]
    }
   ],
   "source": [
    "# Check the quality of the initial dataset\n",
    "df_FIREPOWER.info()"
   ]
  },
  {
   "cell_type": "markdown",
   "id": "f64c516c",
   "metadata": {},
   "source": [
    "We see that each column has defined values which makes this step a lot of easier."
   ]
  },
  {
   "cell_type": "code",
   "execution_count": null,
   "id": "aa3f1a6c",
   "metadata": {},
   "outputs": [],
   "source": []
  }
 ],
 "metadata": {
  "kernelspec": {
   "display_name": "Python 3",
   "language": "python",
   "name": "python3"
  },
  "language_info": {
   "codemirror_mode": {
    "name": "ipython",
    "version": 3
   },
   "file_extension": ".py",
   "mimetype": "text/x-python",
   "name": "python",
   "nbconvert_exporter": "python",
   "pygments_lexer": "ipython3",
   "version": "3.8.10"
  }
 },
 "nbformat": 4,
 "nbformat_minor": 5
}
