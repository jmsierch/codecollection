{
 "cells": [
  {
   "cell_type": "markdown",
   "metadata": {},
   "source": [
    "# Google Play Store Apps Analysis"
   ]
  },
  {
   "cell_type": "markdown",
   "metadata": {},
   "source": [
    "## by Justin Sierchio"
   ]
  },
  {
   "cell_type": "markdown",
   "metadata": {},
   "source": [
    "In this analysis, we will be looking at applications in the Google Play store . Ideally, we would like to be able to answer the following questions:\n",
    "\n",
    "<ul>\n",
    "    <li>What apps are being downloaded?</li>\n",
    "    <li>Which apps have the highest content ratings?</li>\n",
    "    <li>Which developers are most active?</li>\n",
    "    <li>What are some other conclusions we might able to draw from this analysis?</li>\n",
    "</ul>\n",
    "\n",
    "This data is in .csv file format and is from Kaggle at: https://www.kaggle.com/gauthamp10/google-playstore-apps/download. More information related to the dataset can be found at: https://www.kaggle.com/gauthamp10/google-playstore-apps."
   ]
  },
  {
   "cell_type": "markdown",
   "metadata": {},
   "source": [
    "## Notebook Initialization"
   ]
  },
  {
   "cell_type": "code",
   "execution_count": 1,
   "metadata": {},
   "outputs": [
    {
     "name": "stdout",
     "output_type": "stream",
     "text": [
      "Initial libraries loaded into workspace!\n"
     ]
    }
   ],
   "source": [
    "# Import Relevant Libraries\n",
    "from mpl_toolkits.mplot3d import Axes3D\n",
    "from sklearn.preprocessing import StandardScaler\n",
    "import matplotlib.pyplot as plt \n",
    "import numpy as np\n",
    "import pandas as pd\n",
    "import seaborn as sns\n",
    "import datetime\n",
    "\n",
    "print('Initial libraries loaded into workspace!')"
   ]
  },
  {
   "cell_type": "code",
   "execution_count": 2,
   "metadata": {},
   "outputs": [
    {
     "name": "stdout",
     "output_type": "stream",
     "text": [
      "Datasets uploaded!\n"
     ]
    }
   ],
   "source": [
    "# Upload Datasets for Study\n",
    "df_APPS = pd.read_csv(\"Google-Playstore.csv\");\n",
    "\n",
    "print('Datasets uploaded!');"
   ]
  },
  {
   "cell_type": "code",
   "execution_count": 3,
   "metadata": {},
   "outputs": [
    {
     "data": {
      "text/html": [
       "<div>\n",
       "<style scoped>\n",
       "    .dataframe tbody tr th:only-of-type {\n",
       "        vertical-align: middle;\n",
       "    }\n",
       "\n",
       "    .dataframe tbody tr th {\n",
       "        vertical-align: top;\n",
       "    }\n",
       "\n",
       "    .dataframe thead th {\n",
       "        text-align: right;\n",
       "    }\n",
       "</style>\n",
       "<table border=\"1\" class=\"dataframe\">\n",
       "  <thead>\n",
       "    <tr style=\"text-align: right;\">\n",
       "      <th></th>\n",
       "      <th>App Name</th>\n",
       "      <th>App Id</th>\n",
       "      <th>Category</th>\n",
       "      <th>Rating</th>\n",
       "      <th>Rating Count</th>\n",
       "      <th>Installs</th>\n",
       "      <th>Minimum Installs</th>\n",
       "      <th>Maximum Installs</th>\n",
       "      <th>Free</th>\n",
       "      <th>Price</th>\n",
       "      <th>...</th>\n",
       "      <th>Developer Id</th>\n",
       "      <th>Developer Website</th>\n",
       "      <th>Developer Email</th>\n",
       "      <th>Released</th>\n",
       "      <th>Last Updated</th>\n",
       "      <th>Content Rating</th>\n",
       "      <th>Privacy Policy</th>\n",
       "      <th>Ad Supported</th>\n",
       "      <th>In App Purchases</th>\n",
       "      <th>Editors Choice</th>\n",
       "    </tr>\n",
       "  </thead>\n",
       "  <tbody>\n",
       "    <tr>\n",
       "      <th>0</th>\n",
       "      <td>HTTrack Website Copier</td>\n",
       "      <td>com.httrack.android</td>\n",
       "      <td>Communication</td>\n",
       "      <td>3.6</td>\n",
       "      <td>2848.0</td>\n",
       "      <td>100,000+</td>\n",
       "      <td>100000.0</td>\n",
       "      <td>351560</td>\n",
       "      <td>True</td>\n",
       "      <td>0.0</td>\n",
       "      <td>...</td>\n",
       "      <td>Xavier Roche</td>\n",
       "      <td>http://www.httrack.com/</td>\n",
       "      <td>roche+android@httrack.com</td>\n",
       "      <td>Aug 12, 2013</td>\n",
       "      <td>May 20, 2017</td>\n",
       "      <td>Everyone</td>\n",
       "      <td>http://android.httrack.com/privacy-policy.html</td>\n",
       "      <td>False</td>\n",
       "      <td>False</td>\n",
       "      <td>False</td>\n",
       "    </tr>\n",
       "    <tr>\n",
       "      <th>1</th>\n",
       "      <td>World War 2: Offline Strategy</td>\n",
       "      <td>com.skizze.wwii</td>\n",
       "      <td>Strategy</td>\n",
       "      <td>4.3</td>\n",
       "      <td>17297.0</td>\n",
       "      <td>1,000,000+</td>\n",
       "      <td>1000000.0</td>\n",
       "      <td>2161778</td>\n",
       "      <td>True</td>\n",
       "      <td>0.0</td>\n",
       "      <td>...</td>\n",
       "      <td>Skizze Games</td>\n",
       "      <td>http://stereo7.com/</td>\n",
       "      <td>Skizze.Games@gmail.com</td>\n",
       "      <td>Jul 19, 2018</td>\n",
       "      <td>Nov 26, 2020</td>\n",
       "      <td>Everyone 10+</td>\n",
       "      <td>https://www.iubenda.com/privacy-policy/8032781</td>\n",
       "      <td>True</td>\n",
       "      <td>True</td>\n",
       "      <td>False</td>\n",
       "    </tr>\n",
       "    <tr>\n",
       "      <th>2</th>\n",
       "      <td>WPSApp</td>\n",
       "      <td>com.themausoft.wpsapp</td>\n",
       "      <td>Tools</td>\n",
       "      <td>4.2</td>\n",
       "      <td>488639.0</td>\n",
       "      <td>50,000,000+</td>\n",
       "      <td>50000000.0</td>\n",
       "      <td>79304739</td>\n",
       "      <td>True</td>\n",
       "      <td>0.0</td>\n",
       "      <td>...</td>\n",
       "      <td>TheMauSoft</td>\n",
       "      <td>http://www.themausoft.com</td>\n",
       "      <td>wpsapp.app@gmail.com</td>\n",
       "      <td>Mar 7, 2016</td>\n",
       "      <td>Oct 21, 2020</td>\n",
       "      <td>Everyone</td>\n",
       "      <td>https://sites.google.com/view/wpsapppolicy/main</td>\n",
       "      <td>True</td>\n",
       "      <td>False</td>\n",
       "      <td>False</td>\n",
       "    </tr>\n",
       "    <tr>\n",
       "      <th>3</th>\n",
       "      <td>OfficeSuite - Office, PDF, Word, Excel, PowerP...</td>\n",
       "      <td>com.mobisystems.office</td>\n",
       "      <td>Business</td>\n",
       "      <td>4.2</td>\n",
       "      <td>1224420.0</td>\n",
       "      <td>100,000,000+</td>\n",
       "      <td>100000000.0</td>\n",
       "      <td>163660067</td>\n",
       "      <td>True</td>\n",
       "      <td>0.0</td>\n",
       "      <td>...</td>\n",
       "      <td>MobiSystems</td>\n",
       "      <td>http://www.mobisystems.com</td>\n",
       "      <td>support-officesuite-android@mobisystems.com</td>\n",
       "      <td>Dec 22, 2011</td>\n",
       "      <td>Nov 23, 2020</td>\n",
       "      <td>Everyone</td>\n",
       "      <td>http://www.mobisystems.com/mobile/privacy-poli...</td>\n",
       "      <td>True</td>\n",
       "      <td>True</td>\n",
       "      <td>False</td>\n",
       "    </tr>\n",
       "    <tr>\n",
       "      <th>4</th>\n",
       "      <td>Loud Player Free</td>\n",
       "      <td>com.arthelion.loudplayer</td>\n",
       "      <td>Music &amp; Audio</td>\n",
       "      <td>4.2</td>\n",
       "      <td>665.0</td>\n",
       "      <td>50,000+</td>\n",
       "      <td>50000.0</td>\n",
       "      <td>73463</td>\n",
       "      <td>True</td>\n",
       "      <td>0.0</td>\n",
       "      <td>...</td>\n",
       "      <td>Arthelion92</td>\n",
       "      <td>http://www.arthelion.com</td>\n",
       "      <td>arthelion92@gmail.com</td>\n",
       "      <td>Sep 24, 2016</td>\n",
       "      <td>Nov 22, 2020</td>\n",
       "      <td>Everyone</td>\n",
       "      <td>http://www.arthelion.com/index.php/fr/android-...</td>\n",
       "      <td>False</td>\n",
       "      <td>False</td>\n",
       "      <td>False</td>\n",
       "    </tr>\n",
       "  </tbody>\n",
       "</table>\n",
       "<p>5 rows × 23 columns</p>\n",
       "</div>"
      ],
      "text/plain": [
       "                                            App Name  \\\n",
       "0                             HTTrack Website Copier   \n",
       "1                      World War 2: Offline Strategy   \n",
       "2                                             WPSApp   \n",
       "3  OfficeSuite - Office, PDF, Word, Excel, PowerP...   \n",
       "4                                   Loud Player Free   \n",
       "\n",
       "                     App Id       Category  Rating  Rating Count  \\\n",
       "0       com.httrack.android  Communication     3.6        2848.0   \n",
       "1           com.skizze.wwii       Strategy     4.3       17297.0   \n",
       "2     com.themausoft.wpsapp          Tools     4.2      488639.0   \n",
       "3    com.mobisystems.office       Business     4.2     1224420.0   \n",
       "4  com.arthelion.loudplayer  Music & Audio     4.2         665.0   \n",
       "\n",
       "       Installs  Minimum Installs  Maximum Installs  Free  Price  ...  \\\n",
       "0      100,000+          100000.0            351560  True    0.0  ...   \n",
       "1    1,000,000+         1000000.0           2161778  True    0.0  ...   \n",
       "2   50,000,000+        50000000.0          79304739  True    0.0  ...   \n",
       "3  100,000,000+       100000000.0         163660067  True    0.0  ...   \n",
       "4       50,000+           50000.0             73463  True    0.0  ...   \n",
       "\n",
       "   Developer Id           Developer Website  \\\n",
       "0  Xavier Roche     http://www.httrack.com/   \n",
       "1  Skizze Games         http://stereo7.com/   \n",
       "2    TheMauSoft   http://www.themausoft.com   \n",
       "3   MobiSystems  http://www.mobisystems.com   \n",
       "4   Arthelion92    http://www.arthelion.com   \n",
       "\n",
       "                               Developer Email      Released  Last Updated  \\\n",
       "0                    roche+android@httrack.com  Aug 12, 2013  May 20, 2017   \n",
       "1                       Skizze.Games@gmail.com  Jul 19, 2018  Nov 26, 2020   \n",
       "2                         wpsapp.app@gmail.com   Mar 7, 2016  Oct 21, 2020   \n",
       "3  support-officesuite-android@mobisystems.com  Dec 22, 2011  Nov 23, 2020   \n",
       "4                        arthelion92@gmail.com  Sep 24, 2016  Nov 22, 2020   \n",
       "\n",
       "  Content Rating                                     Privacy Policy  \\\n",
       "0       Everyone     http://android.httrack.com/privacy-policy.html   \n",
       "1   Everyone 10+     https://www.iubenda.com/privacy-policy/8032781   \n",
       "2       Everyone    https://sites.google.com/view/wpsapppolicy/main   \n",
       "3       Everyone  http://www.mobisystems.com/mobile/privacy-poli...   \n",
       "4       Everyone  http://www.arthelion.com/index.php/fr/android-...   \n",
       "\n",
       "  Ad Supported In App Purchases Editors Choice  \n",
       "0        False            False          False  \n",
       "1         True             True          False  \n",
       "2         True            False          False  \n",
       "3         True             True          False  \n",
       "4        False            False          False  \n",
       "\n",
       "[5 rows x 23 columns]"
      ]
     },
     "execution_count": 3,
     "metadata": {},
     "output_type": "execute_result"
    }
   ],
   "source": [
    "# Display 1st 5 rows from Google Play Store dataset\n",
    "df_APPS.head()"
   ]
  },
  {
   "cell_type": "markdown",
   "metadata": {},
   "source": [
    "## Data Cleaning"
   ]
  },
  {
   "cell_type": "markdown",
   "metadata": {},
   "source": [
    "To begin this analysis, take an initial look at the data and perform any necessary cleaning."
   ]
  },
  {
   "cell_type": "code",
   "execution_count": 4,
   "metadata": {},
   "outputs": [
    {
     "data": {
      "text/plain": [
       "Index(['App Name', 'App Id', 'Category', 'Rating', 'Rating Count', 'Installs',\n",
       "       'Minimum Installs', 'Maximum Installs', 'Free', 'Price', 'Currency',\n",
       "       'Size', 'Minimum Android', 'Developer Id', 'Developer Website',\n",
       "       'Developer Email', 'Released', 'Last Updated', 'Content Rating',\n",
       "       'Privacy Policy', 'Ad Supported', 'In App Purchases', 'Editors Choice'],\n",
       "      dtype='object')"
      ]
     },
     "execution_count": 4,
     "metadata": {},
     "output_type": "execute_result"
    }
   ],
   "source": [
    "# Display the column names for the Google Apps dataset\n",
    "df_APPS.columns"
   ]
  },
  {
   "cell_type": "markdown",
   "metadata": {},
   "source": [
    "As we can see, we have the following fields in the dataset:\n",
    "<ul>\n",
    "    <li>App Name - self-explanatory</li>\n",
    "    <li>App ID - self-explanatory</li>\n",
    "    <li>Category - the general area of the app</li>\n",
    "    <li>Rating - user ratings for the app</li>\n",
    "    <li>Rating Count - self-explanatory</li>\n",
    "    <li>Installs - number of installs for the app</li>\n",
    "    <li>Minimum Installs - the minimum number of verified installs</li>\n",
    "    <li>Maximum Installs - the maximum number of verified installs</li>\n",
    "    <li>Price - the price of the app</li>\n",
    "    <li>Currency - the currency used to state the app price</li>\n",
    "    <li>Size - the size of the app [in Megabytes (M)]</li>\n",
    "    <li>Minimum Android - the minimum version of Android needed to run the app</li>\n",
    "    <li>Free - whether the app is free or not</li>\n",
    "    <li>Developer ID - self-explanatory</li>\n",
    "    <li>Developer Website - self-explanatory</li>\n",
    "    <li>Developer Email - self-explanatory</li>\n",
    "    <li>Released - date of app release</li>\n",
    "    <li>Last Updated - self-explanatory</li>\n",
    "    <li>Content Rating - which audience the app is suitable for</li>\n",
    "    <li>Privacy Policy - website containing app privacy policy</li>\n",
    "    <li>Ad-Supported - whether the app is supported by ads or not</li>\n",
    "    <li>In App Purchases - whether the app has in-app purchases or not</li>\n",
    "    <li>Editors Choice - whether the app was rated as an Editor's Choice</li>"
   ]
  },
  {
   "cell_type": "markdown",
   "metadata": {},
   "source": [
    "Now let's determine the shape of the dataset."
   ]
  },
  {
   "cell_type": "code",
   "execution_count": 5,
   "metadata": {},
   "outputs": [
    {
     "data": {
      "text/plain": [
       "(1118136, 23)"
      ]
     },
     "execution_count": 5,
     "metadata": {},
     "output_type": "execute_result"
    }
   ],
   "source": [
    "# Determine shape of Google Apps dataset\n",
    "df_APPS.shape"
   ]
  },
  {
   "cell_type": "markdown",
   "metadata": {},
   "source": [
    "As we can see, there are over 1 million apps in the Google Play App Store and 23 identifable columns (as we demonstrated previously). Now let's determine the number of 'null' and 'NaN' values in the dataset."
   ]
  },
  {
   "cell_type": "code",
   "execution_count": 6,
   "metadata": {},
   "outputs": [
    {
     "data": {
      "text/plain": [
       "App Name                  1\n",
       "App Id                    0\n",
       "Category                  3\n",
       "Rating                 6850\n",
       "Rating Count           6850\n",
       "Installs                161\n",
       "Minimum Installs        161\n",
       "Maximum Installs          0\n",
       "Free                      0\n",
       "Price                     0\n",
       "Currency                161\n",
       "Size                      0\n",
       "Minimum Android        2013\n",
       "Developer Id              2\n",
       "Developer Website    414366\n",
       "Developer Email          22\n",
       "Released               7730\n",
       "Last Updated              0\n",
       "Content Rating            0\n",
       "Privacy Policy       153524\n",
       "Ad Supported              0\n",
       "In App Purchases          0\n",
       "Editors Choice            0\n",
       "dtype: int64"
      ]
     },
     "execution_count": 6,
     "metadata": {},
     "output_type": "execute_result"
    }
   ],
   "source": [
    "# Determine 'null' or 'NaN' values in Google Apps dataset\n",
    "df_APPS.isnull().sum()"
   ]
  },
  {
   "cell_type": "markdown",
   "metadata": {},
   "source": [
    "Since there are a significant number of apps that lack of developer website and privacy policy, we will drop those columns from our analysis."
   ]
  },
  {
   "cell_type": "code",
   "execution_count": 7,
   "metadata": {},
   "outputs": [
    {
     "data": {
      "text/html": [
       "<div>\n",
       "<style scoped>\n",
       "    .dataframe tbody tr th:only-of-type {\n",
       "        vertical-align: middle;\n",
       "    }\n",
       "\n",
       "    .dataframe tbody tr th {\n",
       "        vertical-align: top;\n",
       "    }\n",
       "\n",
       "    .dataframe thead th {\n",
       "        text-align: right;\n",
       "    }\n",
       "</style>\n",
       "<table border=\"1\" class=\"dataframe\">\n",
       "  <thead>\n",
       "    <tr style=\"text-align: right;\">\n",
       "      <th></th>\n",
       "      <th>App Name</th>\n",
       "      <th>App Id</th>\n",
       "      <th>Category</th>\n",
       "      <th>Rating</th>\n",
       "      <th>Rating Count</th>\n",
       "      <th>Installs</th>\n",
       "      <th>Minimum Installs</th>\n",
       "      <th>Maximum Installs</th>\n",
       "      <th>Free</th>\n",
       "      <th>Price</th>\n",
       "      <th>...</th>\n",
       "      <th>Size</th>\n",
       "      <th>Minimum Android</th>\n",
       "      <th>Developer Id</th>\n",
       "      <th>Developer Email</th>\n",
       "      <th>Released</th>\n",
       "      <th>Last Updated</th>\n",
       "      <th>Content Rating</th>\n",
       "      <th>Ad Supported</th>\n",
       "      <th>In App Purchases</th>\n",
       "      <th>Editors Choice</th>\n",
       "    </tr>\n",
       "  </thead>\n",
       "  <tbody>\n",
       "    <tr>\n",
       "      <th>0</th>\n",
       "      <td>HTTrack Website Copier</td>\n",
       "      <td>com.httrack.android</td>\n",
       "      <td>Communication</td>\n",
       "      <td>3.6</td>\n",
       "      <td>2848.0</td>\n",
       "      <td>100,000+</td>\n",
       "      <td>100000.0</td>\n",
       "      <td>351560</td>\n",
       "      <td>True</td>\n",
       "      <td>0.0</td>\n",
       "      <td>...</td>\n",
       "      <td>2.7M</td>\n",
       "      <td>2.3 and up</td>\n",
       "      <td>Xavier Roche</td>\n",
       "      <td>roche+android@httrack.com</td>\n",
       "      <td>Aug 12, 2013</td>\n",
       "      <td>May 20, 2017</td>\n",
       "      <td>Everyone</td>\n",
       "      <td>False</td>\n",
       "      <td>False</td>\n",
       "      <td>False</td>\n",
       "    </tr>\n",
       "    <tr>\n",
       "      <th>1</th>\n",
       "      <td>World War 2: Offline Strategy</td>\n",
       "      <td>com.skizze.wwii</td>\n",
       "      <td>Strategy</td>\n",
       "      <td>4.3</td>\n",
       "      <td>17297.0</td>\n",
       "      <td>1,000,000+</td>\n",
       "      <td>1000000.0</td>\n",
       "      <td>2161778</td>\n",
       "      <td>True</td>\n",
       "      <td>0.0</td>\n",
       "      <td>...</td>\n",
       "      <td>86M</td>\n",
       "      <td>5.1 and up</td>\n",
       "      <td>Skizze Games</td>\n",
       "      <td>Skizze.Games@gmail.com</td>\n",
       "      <td>Jul 19, 2018</td>\n",
       "      <td>Nov 26, 2020</td>\n",
       "      <td>Everyone 10+</td>\n",
       "      <td>True</td>\n",
       "      <td>True</td>\n",
       "      <td>False</td>\n",
       "    </tr>\n",
       "    <tr>\n",
       "      <th>2</th>\n",
       "      <td>WPSApp</td>\n",
       "      <td>com.themausoft.wpsapp</td>\n",
       "      <td>Tools</td>\n",
       "      <td>4.2</td>\n",
       "      <td>488639.0</td>\n",
       "      <td>50,000,000+</td>\n",
       "      <td>50000000.0</td>\n",
       "      <td>79304739</td>\n",
       "      <td>True</td>\n",
       "      <td>0.0</td>\n",
       "      <td>...</td>\n",
       "      <td>5.8M</td>\n",
       "      <td>4.1 and up</td>\n",
       "      <td>TheMauSoft</td>\n",
       "      <td>wpsapp.app@gmail.com</td>\n",
       "      <td>Mar 7, 2016</td>\n",
       "      <td>Oct 21, 2020</td>\n",
       "      <td>Everyone</td>\n",
       "      <td>True</td>\n",
       "      <td>False</td>\n",
       "      <td>False</td>\n",
       "    </tr>\n",
       "    <tr>\n",
       "      <th>3</th>\n",
       "      <td>OfficeSuite - Office, PDF, Word, Excel, PowerP...</td>\n",
       "      <td>com.mobisystems.office</td>\n",
       "      <td>Business</td>\n",
       "      <td>4.2</td>\n",
       "      <td>1224420.0</td>\n",
       "      <td>100,000,000+</td>\n",
       "      <td>100000000.0</td>\n",
       "      <td>163660067</td>\n",
       "      <td>True</td>\n",
       "      <td>0.0</td>\n",
       "      <td>...</td>\n",
       "      <td>59M</td>\n",
       "      <td>4.4 and up</td>\n",
       "      <td>MobiSystems</td>\n",
       "      <td>support-officesuite-android@mobisystems.com</td>\n",
       "      <td>Dec 22, 2011</td>\n",
       "      <td>Nov 23, 2020</td>\n",
       "      <td>Everyone</td>\n",
       "      <td>True</td>\n",
       "      <td>True</td>\n",
       "      <td>False</td>\n",
       "    </tr>\n",
       "    <tr>\n",
       "      <th>4</th>\n",
       "      <td>Loud Player Free</td>\n",
       "      <td>com.arthelion.loudplayer</td>\n",
       "      <td>Music &amp; Audio</td>\n",
       "      <td>4.2</td>\n",
       "      <td>665.0</td>\n",
       "      <td>50,000+</td>\n",
       "      <td>50000.0</td>\n",
       "      <td>73463</td>\n",
       "      <td>True</td>\n",
       "      <td>0.0</td>\n",
       "      <td>...</td>\n",
       "      <td>29M</td>\n",
       "      <td>5.0 and up</td>\n",
       "      <td>Arthelion92</td>\n",
       "      <td>arthelion92@gmail.com</td>\n",
       "      <td>Sep 24, 2016</td>\n",
       "      <td>Nov 22, 2020</td>\n",
       "      <td>Everyone</td>\n",
       "      <td>False</td>\n",
       "      <td>False</td>\n",
       "      <td>False</td>\n",
       "    </tr>\n",
       "  </tbody>\n",
       "</table>\n",
       "<p>5 rows × 21 columns</p>\n",
       "</div>"
      ],
      "text/plain": [
       "                                            App Name  \\\n",
       "0                             HTTrack Website Copier   \n",
       "1                      World War 2: Offline Strategy   \n",
       "2                                             WPSApp   \n",
       "3  OfficeSuite - Office, PDF, Word, Excel, PowerP...   \n",
       "4                                   Loud Player Free   \n",
       "\n",
       "                     App Id       Category  Rating  Rating Count  \\\n",
       "0       com.httrack.android  Communication     3.6        2848.0   \n",
       "1           com.skizze.wwii       Strategy     4.3       17297.0   \n",
       "2     com.themausoft.wpsapp          Tools     4.2      488639.0   \n",
       "3    com.mobisystems.office       Business     4.2     1224420.0   \n",
       "4  com.arthelion.loudplayer  Music & Audio     4.2         665.0   \n",
       "\n",
       "       Installs  Minimum Installs  Maximum Installs  Free  Price  ...  Size  \\\n",
       "0      100,000+          100000.0            351560  True    0.0  ...  2.7M   \n",
       "1    1,000,000+         1000000.0           2161778  True    0.0  ...   86M   \n",
       "2   50,000,000+        50000000.0          79304739  True    0.0  ...  5.8M   \n",
       "3  100,000,000+       100000000.0         163660067  True    0.0  ...   59M   \n",
       "4       50,000+           50000.0             73463  True    0.0  ...   29M   \n",
       "\n",
       "  Minimum Android  Developer Id                              Developer Email  \\\n",
       "0      2.3 and up  Xavier Roche                    roche+android@httrack.com   \n",
       "1      5.1 and up  Skizze Games                       Skizze.Games@gmail.com   \n",
       "2      4.1 and up    TheMauSoft                         wpsapp.app@gmail.com   \n",
       "3      4.4 and up   MobiSystems  support-officesuite-android@mobisystems.com   \n",
       "4      5.0 and up   Arthelion92                        arthelion92@gmail.com   \n",
       "\n",
       "       Released  Last Updated Content Rating Ad Supported  In App Purchases  \\\n",
       "0  Aug 12, 2013  May 20, 2017       Everyone        False             False   \n",
       "1  Jul 19, 2018  Nov 26, 2020   Everyone 10+         True              True   \n",
       "2   Mar 7, 2016  Oct 21, 2020       Everyone         True             False   \n",
       "3  Dec 22, 2011  Nov 23, 2020       Everyone         True              True   \n",
       "4  Sep 24, 2016  Nov 22, 2020       Everyone        False             False   \n",
       "\n",
       "   Editors Choice  \n",
       "0           False  \n",
       "1           False  \n",
       "2           False  \n",
       "3           False  \n",
       "4           False  \n",
       "\n",
       "[5 rows x 21 columns]"
      ]
     },
     "execution_count": 7,
     "metadata": {},
     "output_type": "execute_result"
    }
   ],
   "source": [
    "# Delete the 'Developer Website' and 'Privacy Policy' columns from the dataset\n",
    "df_APPS.drop('Developer Website', axis=1, inplace=True)\n",
    "df_APPS.drop('Privacy Policy', axis=1, inplace=True)\n",
    "\n",
    "# Display the modified dataset\n",
    "df_APPS.head()"
   ]
  },
  {
   "cell_type": "markdown",
   "metadata": {},
   "source": [
    "With that change, let's remove the remaining 'null' and 'NaN' rows from the dataset."
   ]
  },
  {
   "cell_type": "code",
   "execution_count": 8,
   "metadata": {},
   "outputs": [
    {
     "data": {
      "text/plain": [
       "(1108302, 21)"
      ]
     },
     "execution_count": 8,
     "metadata": {},
     "output_type": "execute_result"
    }
   ],
   "source": [
    "# Remove the remaining 'null' and 'NaN' values from the dataset\n",
    "df_APPS = df_APPS.dropna()\n",
    "\n",
    "# Display shape of modified dataset\n",
    "df_APPS.shape"
   ]
  },
  {
   "cell_type": "code",
   "execution_count": 9,
   "metadata": {},
   "outputs": [
    {
     "data": {
      "text/plain": [
       "0"
      ]
     },
     "execution_count": 9,
     "metadata": {},
     "output_type": "execute_result"
    }
   ],
   "source": [
    "# Verify there are no more 'null' values\n",
    "df_APPS.isnull().sum().sum()"
   ]
  },
  {
   "cell_type": "code",
   "execution_count": 10,
   "metadata": {},
   "outputs": [
    {
     "data": {
      "text/plain": [
       "0"
      ]
     },
     "execution_count": 10,
     "metadata": {},
     "output_type": "execute_result"
    }
   ],
   "source": [
    "# Verify there are no more 'NaN' values\n",
    "df_APPS.isna().sum().sum()"
   ]
  },
  {
   "cell_type": "markdown",
   "metadata": {},
   "source": [
    "At this juncture, we can have confidence that there are only real values. Now let's working on converting the date types to something useful."
   ]
  },
  {
   "cell_type": "code",
   "execution_count": 11,
   "metadata": {},
   "outputs": [
    {
     "data": {
      "text/plain": [
       "App Name             object\n",
       "App Id               object\n",
       "Category             object\n",
       "Rating              float64\n",
       "Rating Count        float64\n",
       "Installs             object\n",
       "Minimum Installs    float64\n",
       "Maximum Installs      int64\n",
       "Free                   bool\n",
       "Price               float64\n",
       "Currency             object\n",
       "Size                 object\n",
       "Minimum Android      object\n",
       "Developer Id         object\n",
       "Developer Email      object\n",
       "Released             object\n",
       "Last Updated         object\n",
       "Content Rating       object\n",
       "Ad Supported           bool\n",
       "In App Purchases       bool\n",
       "Editors Choice         bool\n",
       "dtype: object"
      ]
     },
     "execution_count": 11,
     "metadata": {},
     "output_type": "execute_result"
    }
   ],
   "source": [
    "# Check variable types for each column in the modified dataset\n",
    "df_APPS.dtypes"
   ]
  },
  {
   "cell_type": "code",
   "execution_count": 12,
   "metadata": {},
   "outputs": [
    {
     "data": {
      "text/html": [
       "<div>\n",
       "<style scoped>\n",
       "    .dataframe tbody tr th:only-of-type {\n",
       "        vertical-align: middle;\n",
       "    }\n",
       "\n",
       "    .dataframe tbody tr th {\n",
       "        vertical-align: top;\n",
       "    }\n",
       "\n",
       "    .dataframe thead th {\n",
       "        text-align: right;\n",
       "    }\n",
       "</style>\n",
       "<table border=\"1\" class=\"dataframe\">\n",
       "  <thead>\n",
       "    <tr style=\"text-align: right;\">\n",
       "      <th></th>\n",
       "      <th>App Name</th>\n",
       "      <th>App Id</th>\n",
       "      <th>Category</th>\n",
       "      <th>Rating</th>\n",
       "      <th>Rating Count</th>\n",
       "      <th>Installs</th>\n",
       "      <th>Minimum Installs</th>\n",
       "      <th>Maximum Installs</th>\n",
       "      <th>Free</th>\n",
       "      <th>Price</th>\n",
       "      <th>...</th>\n",
       "      <th>Developer Id</th>\n",
       "      <th>Developer Email</th>\n",
       "      <th>Released</th>\n",
       "      <th>Last Updated</th>\n",
       "      <th>Content Rating</th>\n",
       "      <th>Ad Supported</th>\n",
       "      <th>In App Purchases</th>\n",
       "      <th>Editors Choice</th>\n",
       "      <th>Release Year</th>\n",
       "      <th>Release Month</th>\n",
       "    </tr>\n",
       "  </thead>\n",
       "  <tbody>\n",
       "    <tr>\n",
       "      <th>0</th>\n",
       "      <td>HTTrack Website Copier</td>\n",
       "      <td>com.httrack.android</td>\n",
       "      <td>Communication</td>\n",
       "      <td>3.6</td>\n",
       "      <td>2848.0</td>\n",
       "      <td>100,000+</td>\n",
       "      <td>100000.0</td>\n",
       "      <td>351560</td>\n",
       "      <td>True</td>\n",
       "      <td>0.0</td>\n",
       "      <td>...</td>\n",
       "      <td>Xavier Roche</td>\n",
       "      <td>roche+android@httrack.com</td>\n",
       "      <td>Aug 12, 2013</td>\n",
       "      <td>May 20, 2017</td>\n",
       "      <td>Everyone</td>\n",
       "      <td>False</td>\n",
       "      <td>False</td>\n",
       "      <td>False</td>\n",
       "      <td>2013</td>\n",
       "      <td>8</td>\n",
       "    </tr>\n",
       "    <tr>\n",
       "      <th>1</th>\n",
       "      <td>World War 2: Offline Strategy</td>\n",
       "      <td>com.skizze.wwii</td>\n",
       "      <td>Strategy</td>\n",
       "      <td>4.3</td>\n",
       "      <td>17297.0</td>\n",
       "      <td>1,000,000+</td>\n",
       "      <td>1000000.0</td>\n",
       "      <td>2161778</td>\n",
       "      <td>True</td>\n",
       "      <td>0.0</td>\n",
       "      <td>...</td>\n",
       "      <td>Skizze Games</td>\n",
       "      <td>Skizze.Games@gmail.com</td>\n",
       "      <td>Jul 19, 2018</td>\n",
       "      <td>Nov 26, 2020</td>\n",
       "      <td>Everyone 10+</td>\n",
       "      <td>True</td>\n",
       "      <td>True</td>\n",
       "      <td>False</td>\n",
       "      <td>2018</td>\n",
       "      <td>7</td>\n",
       "    </tr>\n",
       "    <tr>\n",
       "      <th>2</th>\n",
       "      <td>WPSApp</td>\n",
       "      <td>com.themausoft.wpsapp</td>\n",
       "      <td>Tools</td>\n",
       "      <td>4.2</td>\n",
       "      <td>488639.0</td>\n",
       "      <td>50,000,000+</td>\n",
       "      <td>50000000.0</td>\n",
       "      <td>79304739</td>\n",
       "      <td>True</td>\n",
       "      <td>0.0</td>\n",
       "      <td>...</td>\n",
       "      <td>TheMauSoft</td>\n",
       "      <td>wpsapp.app@gmail.com</td>\n",
       "      <td>Mar 7, 2016</td>\n",
       "      <td>Oct 21, 2020</td>\n",
       "      <td>Everyone</td>\n",
       "      <td>True</td>\n",
       "      <td>False</td>\n",
       "      <td>False</td>\n",
       "      <td>2016</td>\n",
       "      <td>3</td>\n",
       "    </tr>\n",
       "    <tr>\n",
       "      <th>3</th>\n",
       "      <td>OfficeSuite - Office, PDF, Word, Excel, PowerP...</td>\n",
       "      <td>com.mobisystems.office</td>\n",
       "      <td>Business</td>\n",
       "      <td>4.2</td>\n",
       "      <td>1224420.0</td>\n",
       "      <td>100,000,000+</td>\n",
       "      <td>100000000.0</td>\n",
       "      <td>163660067</td>\n",
       "      <td>True</td>\n",
       "      <td>0.0</td>\n",
       "      <td>...</td>\n",
       "      <td>MobiSystems</td>\n",
       "      <td>support-officesuite-android@mobisystems.com</td>\n",
       "      <td>Dec 22, 2011</td>\n",
       "      <td>Nov 23, 2020</td>\n",
       "      <td>Everyone</td>\n",
       "      <td>True</td>\n",
       "      <td>True</td>\n",
       "      <td>False</td>\n",
       "      <td>2011</td>\n",
       "      <td>12</td>\n",
       "    </tr>\n",
       "    <tr>\n",
       "      <th>4</th>\n",
       "      <td>Loud Player Free</td>\n",
       "      <td>com.arthelion.loudplayer</td>\n",
       "      <td>Music &amp; Audio</td>\n",
       "      <td>4.2</td>\n",
       "      <td>665.0</td>\n",
       "      <td>50,000+</td>\n",
       "      <td>50000.0</td>\n",
       "      <td>73463</td>\n",
       "      <td>True</td>\n",
       "      <td>0.0</td>\n",
       "      <td>...</td>\n",
       "      <td>Arthelion92</td>\n",
       "      <td>arthelion92@gmail.com</td>\n",
       "      <td>Sep 24, 2016</td>\n",
       "      <td>Nov 22, 2020</td>\n",
       "      <td>Everyone</td>\n",
       "      <td>False</td>\n",
       "      <td>False</td>\n",
       "      <td>False</td>\n",
       "      <td>2016</td>\n",
       "      <td>9</td>\n",
       "    </tr>\n",
       "  </tbody>\n",
       "</table>\n",
       "<p>5 rows × 23 columns</p>\n",
       "</div>"
      ],
      "text/plain": [
       "                                            App Name  \\\n",
       "0                             HTTrack Website Copier   \n",
       "1                      World War 2: Offline Strategy   \n",
       "2                                             WPSApp   \n",
       "3  OfficeSuite - Office, PDF, Word, Excel, PowerP...   \n",
       "4                                   Loud Player Free   \n",
       "\n",
       "                     App Id       Category  Rating  Rating Count  \\\n",
       "0       com.httrack.android  Communication     3.6        2848.0   \n",
       "1           com.skizze.wwii       Strategy     4.3       17297.0   \n",
       "2     com.themausoft.wpsapp          Tools     4.2      488639.0   \n",
       "3    com.mobisystems.office       Business     4.2     1224420.0   \n",
       "4  com.arthelion.loudplayer  Music & Audio     4.2         665.0   \n",
       "\n",
       "       Installs  Minimum Installs  Maximum Installs  Free  Price  ...  \\\n",
       "0      100,000+          100000.0            351560  True    0.0  ...   \n",
       "1    1,000,000+         1000000.0           2161778  True    0.0  ...   \n",
       "2   50,000,000+        50000000.0          79304739  True    0.0  ...   \n",
       "3  100,000,000+       100000000.0         163660067  True    0.0  ...   \n",
       "4       50,000+           50000.0             73463  True    0.0  ...   \n",
       "\n",
       "   Developer Id                              Developer Email      Released  \\\n",
       "0  Xavier Roche                    roche+android@httrack.com  Aug 12, 2013   \n",
       "1  Skizze Games                       Skizze.Games@gmail.com  Jul 19, 2018   \n",
       "2    TheMauSoft                         wpsapp.app@gmail.com   Mar 7, 2016   \n",
       "3   MobiSystems  support-officesuite-android@mobisystems.com  Dec 22, 2011   \n",
       "4   Arthelion92                        arthelion92@gmail.com  Sep 24, 2016   \n",
       "\n",
       "   Last Updated Content Rating Ad Supported In App Purchases Editors Choice  \\\n",
       "0  May 20, 2017       Everyone        False            False          False   \n",
       "1  Nov 26, 2020   Everyone 10+         True             True          False   \n",
       "2  Oct 21, 2020       Everyone         True            False          False   \n",
       "3  Nov 23, 2020       Everyone         True             True          False   \n",
       "4  Nov 22, 2020       Everyone        False            False          False   \n",
       "\n",
       "   Release Year  Release Month  \n",
       "0          2013              8  \n",
       "1          2018              7  \n",
       "2          2016              3  \n",
       "3          2011             12  \n",
       "4          2016              9  \n",
       "\n",
       "[5 rows x 23 columns]"
      ]
     },
     "execution_count": 12,
     "metadata": {},
     "output_type": "execute_result"
    }
   ],
   "source": [
    "# Create columns for 'Release Year' and 'Release Month'\n",
    "df_APPS['Release Year'] = pd.DatetimeIndex(df_APPS['Released']).year\n",
    "df_APPS['Release Month'] = pd.DatetimeIndex(df_APPS['Released']).month\n",
    "\n",
    "# Display the changes to the dataset\n",
    "df_APPS.head()"
   ]
  },
  {
   "cell_type": "markdown",
   "metadata": {},
   "source": [
    "For the purposes of this analysis, we will use 'maximum installs' as the install criterion. Hence, we can drop 'Installs' and 'Minimum Installs' from the dataset."
   ]
  },
  {
   "cell_type": "code",
   "execution_count": 13,
   "metadata": {},
   "outputs": [
    {
     "data": {
      "text/html": [
       "<div>\n",
       "<style scoped>\n",
       "    .dataframe tbody tr th:only-of-type {\n",
       "        vertical-align: middle;\n",
       "    }\n",
       "\n",
       "    .dataframe tbody tr th {\n",
       "        vertical-align: top;\n",
       "    }\n",
       "\n",
       "    .dataframe thead th {\n",
       "        text-align: right;\n",
       "    }\n",
       "</style>\n",
       "<table border=\"1\" class=\"dataframe\">\n",
       "  <thead>\n",
       "    <tr style=\"text-align: right;\">\n",
       "      <th></th>\n",
       "      <th>App Name</th>\n",
       "      <th>App Id</th>\n",
       "      <th>Category</th>\n",
       "      <th>Rating</th>\n",
       "      <th>Rating Count</th>\n",
       "      <th>Maximum Installs</th>\n",
       "      <th>Free</th>\n",
       "      <th>Price</th>\n",
       "      <th>Currency</th>\n",
       "      <th>Size</th>\n",
       "      <th>...</th>\n",
       "      <th>Developer Id</th>\n",
       "      <th>Developer Email</th>\n",
       "      <th>Released</th>\n",
       "      <th>Last Updated</th>\n",
       "      <th>Content Rating</th>\n",
       "      <th>Ad Supported</th>\n",
       "      <th>In App Purchases</th>\n",
       "      <th>Editors Choice</th>\n",
       "      <th>Release Year</th>\n",
       "      <th>Release Month</th>\n",
       "    </tr>\n",
       "  </thead>\n",
       "  <tbody>\n",
       "    <tr>\n",
       "      <th>0</th>\n",
       "      <td>HTTrack Website Copier</td>\n",
       "      <td>com.httrack.android</td>\n",
       "      <td>Communication</td>\n",
       "      <td>3.6</td>\n",
       "      <td>2848.0</td>\n",
       "      <td>351560</td>\n",
       "      <td>True</td>\n",
       "      <td>0.0</td>\n",
       "      <td>USD</td>\n",
       "      <td>2.7M</td>\n",
       "      <td>...</td>\n",
       "      <td>Xavier Roche</td>\n",
       "      <td>roche+android@httrack.com</td>\n",
       "      <td>Aug 12, 2013</td>\n",
       "      <td>May 20, 2017</td>\n",
       "      <td>Everyone</td>\n",
       "      <td>False</td>\n",
       "      <td>False</td>\n",
       "      <td>False</td>\n",
       "      <td>2013</td>\n",
       "      <td>8</td>\n",
       "    </tr>\n",
       "    <tr>\n",
       "      <th>1</th>\n",
       "      <td>World War 2: Offline Strategy</td>\n",
       "      <td>com.skizze.wwii</td>\n",
       "      <td>Strategy</td>\n",
       "      <td>4.3</td>\n",
       "      <td>17297.0</td>\n",
       "      <td>2161778</td>\n",
       "      <td>True</td>\n",
       "      <td>0.0</td>\n",
       "      <td>USD</td>\n",
       "      <td>86M</td>\n",
       "      <td>...</td>\n",
       "      <td>Skizze Games</td>\n",
       "      <td>Skizze.Games@gmail.com</td>\n",
       "      <td>Jul 19, 2018</td>\n",
       "      <td>Nov 26, 2020</td>\n",
       "      <td>Everyone 10+</td>\n",
       "      <td>True</td>\n",
       "      <td>True</td>\n",
       "      <td>False</td>\n",
       "      <td>2018</td>\n",
       "      <td>7</td>\n",
       "    </tr>\n",
       "    <tr>\n",
       "      <th>2</th>\n",
       "      <td>WPSApp</td>\n",
       "      <td>com.themausoft.wpsapp</td>\n",
       "      <td>Tools</td>\n",
       "      <td>4.2</td>\n",
       "      <td>488639.0</td>\n",
       "      <td>79304739</td>\n",
       "      <td>True</td>\n",
       "      <td>0.0</td>\n",
       "      <td>USD</td>\n",
       "      <td>5.8M</td>\n",
       "      <td>...</td>\n",
       "      <td>TheMauSoft</td>\n",
       "      <td>wpsapp.app@gmail.com</td>\n",
       "      <td>Mar 7, 2016</td>\n",
       "      <td>Oct 21, 2020</td>\n",
       "      <td>Everyone</td>\n",
       "      <td>True</td>\n",
       "      <td>False</td>\n",
       "      <td>False</td>\n",
       "      <td>2016</td>\n",
       "      <td>3</td>\n",
       "    </tr>\n",
       "    <tr>\n",
       "      <th>3</th>\n",
       "      <td>OfficeSuite - Office, PDF, Word, Excel, PowerP...</td>\n",
       "      <td>com.mobisystems.office</td>\n",
       "      <td>Business</td>\n",
       "      <td>4.2</td>\n",
       "      <td>1224420.0</td>\n",
       "      <td>163660067</td>\n",
       "      <td>True</td>\n",
       "      <td>0.0</td>\n",
       "      <td>USD</td>\n",
       "      <td>59M</td>\n",
       "      <td>...</td>\n",
       "      <td>MobiSystems</td>\n",
       "      <td>support-officesuite-android@mobisystems.com</td>\n",
       "      <td>Dec 22, 2011</td>\n",
       "      <td>Nov 23, 2020</td>\n",
       "      <td>Everyone</td>\n",
       "      <td>True</td>\n",
       "      <td>True</td>\n",
       "      <td>False</td>\n",
       "      <td>2011</td>\n",
       "      <td>12</td>\n",
       "    </tr>\n",
       "    <tr>\n",
       "      <th>4</th>\n",
       "      <td>Loud Player Free</td>\n",
       "      <td>com.arthelion.loudplayer</td>\n",
       "      <td>Music &amp; Audio</td>\n",
       "      <td>4.2</td>\n",
       "      <td>665.0</td>\n",
       "      <td>73463</td>\n",
       "      <td>True</td>\n",
       "      <td>0.0</td>\n",
       "      <td>USD</td>\n",
       "      <td>29M</td>\n",
       "      <td>...</td>\n",
       "      <td>Arthelion92</td>\n",
       "      <td>arthelion92@gmail.com</td>\n",
       "      <td>Sep 24, 2016</td>\n",
       "      <td>Nov 22, 2020</td>\n",
       "      <td>Everyone</td>\n",
       "      <td>False</td>\n",
       "      <td>False</td>\n",
       "      <td>False</td>\n",
       "      <td>2016</td>\n",
       "      <td>9</td>\n",
       "    </tr>\n",
       "  </tbody>\n",
       "</table>\n",
       "<p>5 rows × 21 columns</p>\n",
       "</div>"
      ],
      "text/plain": [
       "                                            App Name  \\\n",
       "0                             HTTrack Website Copier   \n",
       "1                      World War 2: Offline Strategy   \n",
       "2                                             WPSApp   \n",
       "3  OfficeSuite - Office, PDF, Word, Excel, PowerP...   \n",
       "4                                   Loud Player Free   \n",
       "\n",
       "                     App Id       Category  Rating  Rating Count  \\\n",
       "0       com.httrack.android  Communication     3.6        2848.0   \n",
       "1           com.skizze.wwii       Strategy     4.3       17297.0   \n",
       "2     com.themausoft.wpsapp          Tools     4.2      488639.0   \n",
       "3    com.mobisystems.office       Business     4.2     1224420.0   \n",
       "4  com.arthelion.loudplayer  Music & Audio     4.2         665.0   \n",
       "\n",
       "   Maximum Installs  Free  Price Currency  Size  ...  Developer Id  \\\n",
       "0            351560  True    0.0      USD  2.7M  ...  Xavier Roche   \n",
       "1           2161778  True    0.0      USD   86M  ...  Skizze Games   \n",
       "2          79304739  True    0.0      USD  5.8M  ...    TheMauSoft   \n",
       "3         163660067  True    0.0      USD   59M  ...   MobiSystems   \n",
       "4             73463  True    0.0      USD   29M  ...   Arthelion92   \n",
       "\n",
       "                               Developer Email      Released  Last Updated  \\\n",
       "0                    roche+android@httrack.com  Aug 12, 2013  May 20, 2017   \n",
       "1                       Skizze.Games@gmail.com  Jul 19, 2018  Nov 26, 2020   \n",
       "2                         wpsapp.app@gmail.com   Mar 7, 2016  Oct 21, 2020   \n",
       "3  support-officesuite-android@mobisystems.com  Dec 22, 2011  Nov 23, 2020   \n",
       "4                        arthelion92@gmail.com  Sep 24, 2016  Nov 22, 2020   \n",
       "\n",
       "  Content Rating Ad Supported  In App Purchases  Editors Choice  Release Year  \\\n",
       "0       Everyone        False             False           False          2013   \n",
       "1   Everyone 10+         True              True           False          2018   \n",
       "2       Everyone         True             False           False          2016   \n",
       "3       Everyone         True              True           False          2011   \n",
       "4       Everyone        False             False           False          2016   \n",
       "\n",
       "   Release Month  \n",
       "0              8  \n",
       "1              7  \n",
       "2              3  \n",
       "3             12  \n",
       "4              9  \n",
       "\n",
       "[5 rows x 21 columns]"
      ]
     },
     "execution_count": 13,
     "metadata": {},
     "output_type": "execute_result"
    }
   ],
   "source": [
    "# Delete the 'Installs' and 'Minimum Installs' columns from the dataset\n",
    "df_APPS.drop('Installs', axis=1, inplace=True)\n",
    "df_APPS.drop('Minimum Installs', axis=1, inplace=True)\n",
    "\n",
    "# Display the modified dataset\n",
    "df_APPS.head()"
   ]
  },
  {
   "cell_type": "markdown",
   "metadata": {},
   "source": [
    "The dataset appears now ready for exploratory data analysis."
   ]
  },
  {
   "cell_type": "markdown",
   "metadata": {},
   "source": [
    "## Exploratory Data Analysis"
   ]
  },
  {
   "cell_type": "markdown",
   "metadata": {},
   "source": [
    "To begin this analysis, let's take a look at the top 25 apps that are downloaded in the Google Play Apps Store. We can accomplish this task by sorting by maximum installs and displaying the result."
   ]
  },
  {
   "cell_type": "code",
   "execution_count": 14,
   "metadata": {},
   "outputs": [
    {
     "name": "stdout",
     "output_type": "stream",
     "text": [
      "Here are the Top 25 Apps downloaded in the Google Play Store:\n",
      "\n",
      "                                                 App Name  Maximum Installs\n",
      "11491                                Google Play services       10772700105\n",
      "220811                                            YouTube        8571451598\n",
      "220810                                             Google        8008951294\n",
      "39                                  Google Text-to-Speech        7769956479\n",
      "221597                       Google Chrome: Fast & Secure        7692260405\n",
      "220807                                              Gmail        7599203833\n",
      "221599                                  Google Play Music        6471273083\n",
      "221618                                       Google Drive        6268278970\n",
      "220926                                 WhatsApp Messenger        5769032709\n",
      "221594            Google TV (previously Play Movies & TV)        5554187901\n",
      "221603                                      Google Photos        4956331694\n",
      "220950           Messenger – Text and Video Chat for Free        4778683949\n",
      "220788                                           Hangouts        4737952511\n",
      "220805                                  Google Play Games        4321668229\n",
      "237092                                           Currents        3813413261\n",
      "44602                              Android System WebView        3788590785\n",
      "220242                               Samsung Push Service        3690667472\n",
      "220922                                          Instagram        3221002487\n",
      "220809              Google Duo - High Quality Video Calls        3219368193\n",
      "220795                       Gboard - the Google Keyboard        3115106990\n",
      "220769  Google Play Books - Ebooks, Audiobooks, and Co...        3077276285\n",
      "220791     Google News - Top world & local news headlines        2784570767\n",
      "220802                                    Google Calendar        2087520275\n",
      "220240                           Samsung Internet Browser        1924488525\n",
      "142946                                      Facebook Lite        1848993372\n"
     ]
    }
   ],
   "source": [
    "# List the Top 25 apps downloaded in the Google Play Store\n",
    "print('Here are the Top 25 Apps downloaded in the Google Play Store:\\n')\n",
    "df_APPS_Downloads = df_APPS[['App Name','Maximum Installs']];\n",
    "df_APPS_DownloadsSort = df_APPS_Downloads.sort_values(by = 'Maximum Installs', ascending = False);\n",
    "print(df_APPS_DownloadsSort.head(25))"
   ]
  },
  {
   "cell_type": "markdown",
   "metadata": {},
   "source": [
    "As one can see, Google's own applications dominate the Google Play Store with downloads for such apps as YouTube, Google, Chrome, Gmail, Google Play Music, Google Drive, Google TV and Google Photos. "
   ]
  },
  {
   "cell_type": "markdown",
   "metadata": {},
   "source": [
    "Let's shift our analysis to look at which types of apps are being downloaded the most. Here we will limit our results to the top 15."
   ]
  },
  {
   "cell_type": "code",
   "execution_count": 15,
   "metadata": {},
   "outputs": [
    {
     "name": "stdout",
     "output_type": "stream",
     "text": [
      "Here are the Top 15 Apps downloaded in the Google Play Store:\n",
      "\n",
      "                       Category  Maximum Installs\n",
      "11491                     Tools       10772700105\n",
      "220811  Video Players & Editors        8571451598\n",
      "220810                    Tools        8008951294\n",
      "39                        Tools        7769956479\n",
      "221597            Communication        7692260405\n",
      "220807            Communication        7599203833\n",
      "221599            Music & Audio        6471273083\n",
      "221618             Productivity        6268278970\n",
      "220926            Communication        5769032709\n",
      "221594  Video Players & Editors        5554187901\n",
      "221603              Photography        4956331694\n",
      "220950            Communication        4778683949\n",
      "220788            Communication        4737952511\n",
      "220805            Entertainment        4321668229\n",
      "237092                   Social        3813413261\n"
     ]
    }
   ],
   "source": [
    "# List the Top 15 App Categories in the Google Play Store\n",
    "print('Here are the Top 15 Apps downloaded in the Google Play Store:\\n')\n",
    "df_APPS_Downloads2 = df_APPS[['Category','Maximum Installs']];\n",
    "df_APPS_Downloads2Sort = df_APPS_Downloads2.sort_values(by = 'Maximum Installs', ascending = False);\n",
    "print(df_APPS_Downloads2Sort.head(15))"
   ]
  },
  {
   "cell_type": "markdown",
   "metadata": {},
   "source": [
    "The above results shown that tools, communication, music and productivity are the most common type of apps that are downloaded in the Google Play Apps Store.\n",
    "\n",
    "Now let's look at the best rated apps. However, in order to place more weight upon apps that are more heavily used, let's create another column called 'Rating Index' which will multiply the rating score by the rating count."
   ]
  },
  {
   "cell_type": "code",
   "execution_count": 16,
   "metadata": {},
   "outputs": [
    {
     "data": {
      "text/html": [
       "<div>\n",
       "<style scoped>\n",
       "    .dataframe tbody tr th:only-of-type {\n",
       "        vertical-align: middle;\n",
       "    }\n",
       "\n",
       "    .dataframe tbody tr th {\n",
       "        vertical-align: top;\n",
       "    }\n",
       "\n",
       "    .dataframe thead th {\n",
       "        text-align: right;\n",
       "    }\n",
       "</style>\n",
       "<table border=\"1\" class=\"dataframe\">\n",
       "  <thead>\n",
       "    <tr style=\"text-align: right;\">\n",
       "      <th></th>\n",
       "      <th>App Name</th>\n",
       "      <th>App Id</th>\n",
       "      <th>Category</th>\n",
       "      <th>Rating</th>\n",
       "      <th>Rating Count</th>\n",
       "      <th>Maximum Installs</th>\n",
       "      <th>Free</th>\n",
       "      <th>Price</th>\n",
       "      <th>Currency</th>\n",
       "      <th>Size</th>\n",
       "      <th>...</th>\n",
       "      <th>Developer Email</th>\n",
       "      <th>Released</th>\n",
       "      <th>Last Updated</th>\n",
       "      <th>Content Rating</th>\n",
       "      <th>Ad Supported</th>\n",
       "      <th>In App Purchases</th>\n",
       "      <th>Editors Choice</th>\n",
       "      <th>Release Year</th>\n",
       "      <th>Release Month</th>\n",
       "      <th>Rating Index</th>\n",
       "    </tr>\n",
       "  </thead>\n",
       "  <tbody>\n",
       "    <tr>\n",
       "      <th>0</th>\n",
       "      <td>HTTrack Website Copier</td>\n",
       "      <td>com.httrack.android</td>\n",
       "      <td>Communication</td>\n",
       "      <td>3.6</td>\n",
       "      <td>2848.0</td>\n",
       "      <td>351560</td>\n",
       "      <td>True</td>\n",
       "      <td>0.0</td>\n",
       "      <td>USD</td>\n",
       "      <td>2.7M</td>\n",
       "      <td>...</td>\n",
       "      <td>roche+android@httrack.com</td>\n",
       "      <td>Aug 12, 2013</td>\n",
       "      <td>May 20, 2017</td>\n",
       "      <td>Everyone</td>\n",
       "      <td>False</td>\n",
       "      <td>False</td>\n",
       "      <td>False</td>\n",
       "      <td>2013</td>\n",
       "      <td>8</td>\n",
       "      <td>10252.8</td>\n",
       "    </tr>\n",
       "    <tr>\n",
       "      <th>1</th>\n",
       "      <td>World War 2: Offline Strategy</td>\n",
       "      <td>com.skizze.wwii</td>\n",
       "      <td>Strategy</td>\n",
       "      <td>4.3</td>\n",
       "      <td>17297.0</td>\n",
       "      <td>2161778</td>\n",
       "      <td>True</td>\n",
       "      <td>0.0</td>\n",
       "      <td>USD</td>\n",
       "      <td>86M</td>\n",
       "      <td>...</td>\n",
       "      <td>Skizze.Games@gmail.com</td>\n",
       "      <td>Jul 19, 2018</td>\n",
       "      <td>Nov 26, 2020</td>\n",
       "      <td>Everyone 10+</td>\n",
       "      <td>True</td>\n",
       "      <td>True</td>\n",
       "      <td>False</td>\n",
       "      <td>2018</td>\n",
       "      <td>7</td>\n",
       "      <td>74377.1</td>\n",
       "    </tr>\n",
       "    <tr>\n",
       "      <th>2</th>\n",
       "      <td>WPSApp</td>\n",
       "      <td>com.themausoft.wpsapp</td>\n",
       "      <td>Tools</td>\n",
       "      <td>4.2</td>\n",
       "      <td>488639.0</td>\n",
       "      <td>79304739</td>\n",
       "      <td>True</td>\n",
       "      <td>0.0</td>\n",
       "      <td>USD</td>\n",
       "      <td>5.8M</td>\n",
       "      <td>...</td>\n",
       "      <td>wpsapp.app@gmail.com</td>\n",
       "      <td>Mar 7, 2016</td>\n",
       "      <td>Oct 21, 2020</td>\n",
       "      <td>Everyone</td>\n",
       "      <td>True</td>\n",
       "      <td>False</td>\n",
       "      <td>False</td>\n",
       "      <td>2016</td>\n",
       "      <td>3</td>\n",
       "      <td>2052283.8</td>\n",
       "    </tr>\n",
       "    <tr>\n",
       "      <th>3</th>\n",
       "      <td>OfficeSuite - Office, PDF, Word, Excel, PowerP...</td>\n",
       "      <td>com.mobisystems.office</td>\n",
       "      <td>Business</td>\n",
       "      <td>4.2</td>\n",
       "      <td>1224420.0</td>\n",
       "      <td>163660067</td>\n",
       "      <td>True</td>\n",
       "      <td>0.0</td>\n",
       "      <td>USD</td>\n",
       "      <td>59M</td>\n",
       "      <td>...</td>\n",
       "      <td>support-officesuite-android@mobisystems.com</td>\n",
       "      <td>Dec 22, 2011</td>\n",
       "      <td>Nov 23, 2020</td>\n",
       "      <td>Everyone</td>\n",
       "      <td>True</td>\n",
       "      <td>True</td>\n",
       "      <td>False</td>\n",
       "      <td>2011</td>\n",
       "      <td>12</td>\n",
       "      <td>5142564.0</td>\n",
       "    </tr>\n",
       "    <tr>\n",
       "      <th>4</th>\n",
       "      <td>Loud Player Free</td>\n",
       "      <td>com.arthelion.loudplayer</td>\n",
       "      <td>Music &amp; Audio</td>\n",
       "      <td>4.2</td>\n",
       "      <td>665.0</td>\n",
       "      <td>73463</td>\n",
       "      <td>True</td>\n",
       "      <td>0.0</td>\n",
       "      <td>USD</td>\n",
       "      <td>29M</td>\n",
       "      <td>...</td>\n",
       "      <td>arthelion92@gmail.com</td>\n",
       "      <td>Sep 24, 2016</td>\n",
       "      <td>Nov 22, 2020</td>\n",
       "      <td>Everyone</td>\n",
       "      <td>False</td>\n",
       "      <td>False</td>\n",
       "      <td>False</td>\n",
       "      <td>2016</td>\n",
       "      <td>9</td>\n",
       "      <td>2793.0</td>\n",
       "    </tr>\n",
       "  </tbody>\n",
       "</table>\n",
       "<p>5 rows × 22 columns</p>\n",
       "</div>"
      ],
      "text/plain": [
       "                                            App Name  \\\n",
       "0                             HTTrack Website Copier   \n",
       "1                      World War 2: Offline Strategy   \n",
       "2                                             WPSApp   \n",
       "3  OfficeSuite - Office, PDF, Word, Excel, PowerP...   \n",
       "4                                   Loud Player Free   \n",
       "\n",
       "                     App Id       Category  Rating  Rating Count  \\\n",
       "0       com.httrack.android  Communication     3.6        2848.0   \n",
       "1           com.skizze.wwii       Strategy     4.3       17297.0   \n",
       "2     com.themausoft.wpsapp          Tools     4.2      488639.0   \n",
       "3    com.mobisystems.office       Business     4.2     1224420.0   \n",
       "4  com.arthelion.loudplayer  Music & Audio     4.2         665.0   \n",
       "\n",
       "   Maximum Installs  Free  Price Currency  Size  ...  \\\n",
       "0            351560  True    0.0      USD  2.7M  ...   \n",
       "1           2161778  True    0.0      USD   86M  ...   \n",
       "2          79304739  True    0.0      USD  5.8M  ...   \n",
       "3         163660067  True    0.0      USD   59M  ...   \n",
       "4             73463  True    0.0      USD   29M  ...   \n",
       "\n",
       "                               Developer Email      Released  Last Updated  \\\n",
       "0                    roche+android@httrack.com  Aug 12, 2013  May 20, 2017   \n",
       "1                       Skizze.Games@gmail.com  Jul 19, 2018  Nov 26, 2020   \n",
       "2                         wpsapp.app@gmail.com   Mar 7, 2016  Oct 21, 2020   \n",
       "3  support-officesuite-android@mobisystems.com  Dec 22, 2011  Nov 23, 2020   \n",
       "4                        arthelion92@gmail.com  Sep 24, 2016  Nov 22, 2020   \n",
       "\n",
       "  Content Rating Ad Supported In App Purchases  Editors Choice  Release Year  \\\n",
       "0       Everyone        False            False           False          2013   \n",
       "1   Everyone 10+         True             True           False          2018   \n",
       "2       Everyone         True            False           False          2016   \n",
       "3       Everyone         True             True           False          2011   \n",
       "4       Everyone        False            False           False          2016   \n",
       "\n",
       "   Release Month  Rating Index  \n",
       "0              8       10252.8  \n",
       "1              7       74377.1  \n",
       "2              3     2052283.8  \n",
       "3             12     5142564.0  \n",
       "4              9        2793.0  \n",
       "\n",
       "[5 rows x 22 columns]"
      ]
     },
     "execution_count": 16,
     "metadata": {},
     "output_type": "execute_result"
    }
   ],
   "source": [
    "# Create column for Rating Index = Rating * Rating Count\n",
    "df_APPS['Rating Index'] = df_APPS['Rating'] * df_APPS['Rating Count']\n",
    "\n",
    "# Display the Result\n",
    "df_APPS.head(5)"
   ]
  },
  {
   "cell_type": "markdown",
   "metadata": {},
   "source": [
    "Now that we have created the 'Rating Index' column in our dataset, let's find out the best rated (and most heavily used) apps in the Google Play Store. We'll list the Top 25."
   ]
  },
  {
   "cell_type": "code",
   "execution_count": 17,
   "metadata": {},
   "outputs": [
    {
     "name": "stdout",
     "output_type": "stream",
     "text": [
      "Here are the Top 25 best rated Apps in the Google Play Store:\n",
      "\n",
      "                                                 App Name  Rating Index\n",
      "220926                                 WhatsApp Messenger   539137311.0\n",
      "220922                                          Instagram   482210586.0\n",
      "220811                                            YouTube   363177897.5\n",
      "220950           Messenger – Text and Video Chat for Free   316759556.4\n",
      "42844                        Garena Free Fire: BOOYAH Day   287729769.6\n",
      "4975                                       Clash of Clans   243984258.0\n",
      "191644                                     Subway Surfers   151886873.6\n",
      "42846                            PUBG MOBILE METRO ROYALE   142056033.0\n",
      "192168                                   Candy Crush Saga   137586901.6\n",
      "221603                                      Google Photos   137125692.0\n",
      "11491                                Google Play services   136187515.8\n",
      "220934                                             TikTok   126931558.5\n",
      "173745                                       Clash Royale   125766106.2\n",
      "221597                       Google Chrome: Fast & Secure   111068735.4\n",
      "220921                                           Snapchat   104433089.5\n",
      "100605                          Mobile Legends: Bang Bang    98844739.3\n",
      "221595     Spotify: Listen to new music and play podcasts    93804898.5\n",
      "188290                                        8 Ball Pool    88211741.2\n",
      "142754  UC Browser- Free & Fast Video Downloader, News...    84857494.8\n",
      "220917                                             Roblox    77589485.6\n",
      "149147  Safe Security -  Antivirus, Booster, Phone Cle...    77290998.6\n",
      "986                                        My Talking Tom    72621450.0\n",
      "220810                                             Google    72397823.4\n",
      "220893                                            Twitter    72074028.6\n",
      "142946                                      Facebook Lite    65993132.6\n"
     ]
    }
   ],
   "source": [
    "# List the Top 25 App Categories in the Google Play Store\n",
    "print('Here are the Top 25 best rated Apps in the Google Play Store:\\n')\n",
    "df_APPS_Downloads3 = df_APPS[['App Name','Rating Index']];\n",
    "df_APPS_Downloads3Sort = df_APPS_Downloads3.sort_values(by = 'Rating Index', ascending = False);\n",
    "print(df_APPS_Downloads3Sort.head(25))"
   ]
  },
  {
   "cell_type": "markdown",
   "metadata": {},
   "source": [
    "Interestingly enough, many of the best-rated heavily-used apps are not Google-designed apps. \n",
    "\n",
    "WhatsApp and Instagram are Facebook products, Garena Free Fire is a game developed by 111 Dots Studio and Garena (Singapore), Clash of Clans is developed by Supercell (Finland), Subway Surfers is developed Kiloo and SYBO Games (Denmark), and Candy Crush comes from King (Sweden)."
   ]
  },
  {
   "cell_type": "markdown",
   "metadata": {},
   "source": [
    "At this juncture, let's see who some of the most active developers in the Google Play Apps store are from our dataset and which have the best rated apps."
   ]
  },
  {
   "cell_type": "code",
   "execution_count": 18,
   "metadata": {},
   "outputs": [
    {
     "name": "stdout",
     "output_type": "stream",
     "text": [
      "Here are the Top 15 App Developers in the Google Play Store:\n",
      "\n",
      "Developer Name           # of Apps\n",
      "Subsplash Inc                538\n",
      "ChowNow                      337\n",
      "Softecks                     329\n",
      "Amino Apps                   316\n",
      "Branded Apps by MINDBODY     286\n",
      "Ciprian Marin                271\n",
      "wsmrApps                     262\n",
      "TRAINERIZE                   260\n",
      "Lingua Apps                  244\n",
      "+HOME by Ateam               236\n",
      "Apptegy                      227\n",
      "NUPUIT                       206\n",
      "Currency Converter X Apps    205\n",
      "Achmad Suryanto              201\n",
      "HistoryofTheWorld            193\n",
      "Name: Developer Id, dtype: int64\n"
     ]
    }
   ],
   "source": [
    "# List the Top 15 App Developers (by # of Apps) in the Google Play store dataset\n",
    "print('Here are the Top 15 App Developers in the Google Play Store:\\n')\n",
    "print('Developer Name           # of Apps')\n",
    "df_APPS_Downloads4 = df_APPS['Developer Id'].value_counts()\n",
    "print(df_APPS_Downloads4.head(15))"
   ]
  },
  {
   "cell_type": "markdown",
   "metadata": {},
   "source": [
    "By raw number (according to our dataset) the leading developers are Subsplash Inc (538 apps), followed by ChowNow (337) and Softecks (329). Of these developers, let's find out which has the overall best rated apps."
   ]
  },
  {
   "cell_type": "code",
   "execution_count": 19,
   "metadata": {},
   "outputs": [
    {
     "data": {
      "text/plain": [
       "Developer Id\n",
       "Subsplash Inc                                     1900.7\n",
       "Amino Apps                                        1454.0\n",
       "+HOME by Ateam                                    1048.0\n",
       "AllDict                                            834.1\n",
       "wsmrApps                                           823.5\n",
       "Klays-Development                                  823.2\n",
       "ZT.art                                             800.9\n",
       "Modux Apps                                         760.7\n",
       "Simya Solutions Ltd.                               752.4\n",
       "HistoryofTheWorld                                  736.1\n",
       "Weather Widget Theme Dev Team                      736.0\n",
       "Tapps Games                                        722.8\n",
       "Big Fish Games                                     672.4\n",
       "Free keyboard for Android-2020 theme apps          663.5\n",
       "2020 keyboard Theme & Sticker for Andriod Apps     652.5\n",
       "Name: Rating, dtype: float64"
      ]
     },
     "execution_count": 19,
     "metadata": {},
     "output_type": "execute_result"
    }
   ],
   "source": [
    "# Sum up the ratings for the individual apps (creating a rating index)\n",
    "df_APPS_Downloads5 = df_APPS[['Developer Id','Rating']];\n",
    "df_APPS_Downloads5Sort = df_APPS.groupby('Developer Id')['Rating'].sum()\n",
    "\n",
    "# Display the Rating Index summary\n",
    "df_APPS_Downloads5SortCum = df_APPS_Downloads5Sort.sort_values(ascending = False)\n",
    "df_APPS_Downloads5SortCum.head(15)"
   ]
  },
  {
   "cell_type": "markdown",
   "metadata": {},
   "source": [
    "In order to simplify the analysis (rather than write a series of for loops and make weighted averages), let's use some simply mathematics to look at the average app rating for the most frequently reviewed apps."
   ]
  },
  {
   "cell_type": "code",
   "execution_count": 20,
   "metadata": {},
   "outputs": [
    {
     "data": {
      "text/html": [
       "<div>\n",
       "<style scoped>\n",
       "    .dataframe tbody tr th:only-of-type {\n",
       "        vertical-align: middle;\n",
       "    }\n",
       "\n",
       "    .dataframe tbody tr th {\n",
       "        vertical-align: top;\n",
       "    }\n",
       "\n",
       "    .dataframe thead th {\n",
       "        text-align: right;\n",
       "    }\n",
       "</style>\n",
       "<table border=\"1\" class=\"dataframe\">\n",
       "  <thead>\n",
       "    <tr style=\"text-align: right;\">\n",
       "      <th></th>\n",
       "      <th>Developer Name</th>\n",
       "      <th>Average Rating</th>\n",
       "    </tr>\n",
       "  </thead>\n",
       "  <tbody>\n",
       "    <tr>\n",
       "      <th>0</th>\n",
       "      <td>Subsplash Inc</td>\n",
       "      <td>3.532900</td>\n",
       "    </tr>\n",
       "    <tr>\n",
       "      <th>1</th>\n",
       "      <td>Amino Apps</td>\n",
       "      <td>4.601266</td>\n",
       "    </tr>\n",
       "    <tr>\n",
       "      <th>2</th>\n",
       "      <td>+HOME by Ateam</td>\n",
       "      <td>4.440678</td>\n",
       "    </tr>\n",
       "    <tr>\n",
       "      <th>3</th>\n",
       "      <td>wsmrApps</td>\n",
       "      <td>3.143130</td>\n",
       "    </tr>\n",
       "    <tr>\n",
       "      <th>4</th>\n",
       "      <td>HistoryofTheWorld</td>\n",
       "      <td>3.813990</td>\n",
       "    </tr>\n",
       "  </tbody>\n",
       "</table>\n",
       "</div>"
      ],
      "text/plain": [
       "      Developer Name  Average Rating\n",
       "0      Subsplash Inc        3.532900\n",
       "1         Amino Apps        4.601266\n",
       "2     +HOME by Ateam        4.440678\n",
       "3           wsmrApps        3.143130\n",
       "4  HistoryofTheWorld        3.813990"
      ]
     },
     "execution_count": 20,
     "metadata": {},
     "output_type": "execute_result"
    }
   ],
   "source": [
    "# Create a new dataframe using App frequency and ratings data from previous steps in our analysis\n",
    "average = {'Developer Name': ['Subsplash Inc', 'Amino Apps', '+HOME by Ateam', 'wsmrApps', 'HistoryofTheWorld'],\n",
    "           'Average Rating': [1900.7/538, 1454/316, 1048/236, 823.5/262, 736.1/193]\n",
    "          }\n",
    "df_APPS_AVERAGE = pd.DataFrame(average, columns = ['Developer Name', 'Average Rating']);\n",
    "df_APPS_AVERAGE"
   ]
  },
  {
   "cell_type": "markdown",
   "metadata": {},
   "source": [
    "From our analysis using our modified datasets, the best-rated, frequent developer in the Google Play App Store is 'Amino Apps,' responsible for a number of mobile communities."
   ]
  },
  {
   "cell_type": "markdown",
   "metadata": {},
   "source": [
    "To wrap up our exploratory data analysis, let's look at some time data to see what months of the year (if any) are more likely to see new apps released."
   ]
  },
  {
   "cell_type": "code",
   "execution_count": 21,
   "metadata": {},
   "outputs": [
    {
     "data": {
      "text/plain": [
       "1      80022\n",
       "2      77088\n",
       "3      88738\n",
       "4      88376\n",
       "5      95798\n",
       "6      94243\n",
       "7      98832\n",
       "8      96564\n",
       "9     102035\n",
       "10    108019\n",
       "11    100005\n",
       "12     78582\n",
       "Name: Release Month, dtype: int64"
      ]
     },
     "execution_count": 21,
     "metadata": {},
     "output_type": "execute_result"
    }
   ],
   "source": [
    "# Sort App Releases by month\n",
    "df_APPS_ReleaseMonth = df_APPS['Release Month'].value_counts().head(12);\n",
    "df_APPS_ReleaseMonthSorted = df_APPS_ReleaseMonth.sort_index()\n",
    "df_APPS_ReleaseMonthSorted"
   ]
  },
  {
   "cell_type": "code",
   "execution_count": 22,
   "metadata": {},
   "outputs": [
    {
     "data": {
      "image/png": "[encoded data removed]",
      "text/plain": [
       "<Figure size 1008x648 with 1 Axes>"
      ]
     },
     "metadata": {
      "needs_background": "light"
     },
     "output_type": "display_data"
    }
   ],
   "source": [
    "# Plot the Google App releases by month\n",
    "x = ['Jan', 'Feb', 'Mar', 'Apr', 'May', 'Jun', 'Jul', 'Aug', 'Sep', 'Oct', 'Nov', 'Dec']\n",
    "y = df_APPS_ReleaseMonthSorted;\n",
    "\n",
    "fig= plt.figure(figsize=(14,9))\n",
    "plt.grid()\n",
    "plt.xlabel('Month of Year', fontsize  = 14)\n",
    "plt.ylabel('# of Google Play Store App Releases', fontsize = 14)\n",
    "plt.title('Google Play Store App Releases by Month', fontsize  = 18)\n",
    "APPReleaseTimeOfYearPlot = sns.lineplot(x = x, y = y, palette = 'Greens')"
   ]
  },
  {
   "cell_type": "markdown",
   "metadata": {},
   "source": [
    "As we can see, the greatest number of apps in the Google Play Store are released in the months of September, October and November. A possible reason for this is that since many of the users are school age, this peak coincidences with the return to school."
   ]
  },
  {
   "cell_type": "markdown",
   "metadata": {},
   "source": [
    "## Correlation Heatmap Analysis"
   ]
  },
  {
   "cell_type": "markdown",
   "metadata": {},
   "source": [
    "In the next part of this analysis, let's construct a correlation heatmap and see if we can ascertain any additional insights into Google Play App Store data from our modified dataset.\n",
    "\n",
    "To accomplish this task we will create a feature set and then run a heatmap analysis using the Seaborn library."
   ]
  },
  {
   "cell_type": "code",
   "execution_count": 23,
   "metadata": {},
   "outputs": [
    {
     "data": {
      "text/plain": [
       "Text(0.5, 1.0, 'Google Play Store Apps Analysis Matrix')"
      ]
     },
     "execution_count": 23,
     "metadata": {},
     "output_type": "execute_result"
    },
    {
     "data": {
      "image/png": "[encoded data removed]",
      "text/plain": [
       "<Figure size 1296x1296 with 2 Axes>"
      ]
     },
     "metadata": {
      "needs_background": "light"
     },
     "output_type": "display_data"
    }
   ],
   "source": [
    "# Google Play App Store Analysis Matrix\n",
    "# Select the features to do the analysis\n",
    "df_APPS_FS = df_APPS[['Category', 'Rating Index', 'Maximum Installs', 'Price', 'Size', 'Free', 'Developer Id', \n",
    "                      'Ad Supported', 'In App Purchases']]\n",
    "\n",
    "#  Quality and Average Wins vs. Tournament Performance Matrix\n",
    "figureQuality, axisQuality = plt.subplots(figsize=(18, 18));\n",
    "sns.heatmap(df_APPS_FS.corr(), annot = True, linewidths = .5, fmt = '.02f', ax = axisQuality, cmap=\"YlGnBu\");\n",
    "\n",
    "plt.title('Google Play Store Apps Analysis Matrix', fontsize = 20)"
   ]
  },
  {
   "cell_type": "markdown",
   "metadata": {},
   "source": [
    "From our correlation matrix, we have appeared to confirm much of our prior analyses, with two additions. \n",
    "\n",
    "First, we see that there is a correlation between ad-supported apps and free apps. This observation makes sense because advertisements provide a revenue source for the apps that do not charge for their operation. Secondly, we see a weak correlation between in-app purchase apps and free apps. A possible reason for this is that in-app purchases, while technically \"free\" require funds in order to use more of the advanced features."
   ]
  },
  {
   "cell_type": "markdown",
   "metadata": {},
   "source": [
    "The author notes that, given the insights already gathered, this analysis is effectively complete. "
   ]
  },
  {
   "cell_type": "markdown",
   "metadata": {},
   "source": [
    "## Results and Discussion"
   ]
  },
  {
   "cell_type": "markdown",
   "metadata": {},
   "source": [
    "In this open-ended project, we were able to arrive at some interesting results:\n",
    "\n",
    "<ul>\n",
    "    <li>(1) Google's own apps were most prevalent in the Google Play apps store.</li>\n",
    "    <li>(2) Communication and tools were the most downloaded.</li>\n",
    "    <li>(3) Many of the best-rated and most-used apps were from Scandanavia.</li>\n",
    "    <li>(4) App releases peak in the Fall.</li>\n",
    "</ul>"
   ]
  },
  {
   "cell_type": "markdown",
   "metadata": {},
   "source": [
    "## Conclusion"
   ]
  },
  {
   "cell_type": "markdown",
   "metadata": {},
   "source": [
    "The goal of this project was to explore the apps in the Google Play App Store. We were able to answer the questions about usage, ratings and timeframes. \n",
    "\n",
    "In this project, we were able to upload a real-world dataset, clean the data systematically, perform several different exploratory data analysis, make useful data visualizations, and draw logical inferences from those analyses. It is the author's hope that others find this exericse useful. Thanks for reading!"
   ]
  },
  {
   "cell_type": "code",
   "execution_count": null,
   "metadata": {},
   "outputs": [],
   "source": []
  }
 ],
 "metadata": {
  "kernelspec": {
   "display_name": "Python 3",
   "language": "python",
   "name": "python3"
  },
  "language_info": {
   "codemirror_mode": {
    "name": "ipython",
    "version": 3
   },
   "file_extension": ".py",
   "mimetype": "text/x-python",
   "name": "python",
   "nbconvert_exporter": "python",
   "pygments_lexer": "ipython3",
   "version": "3.8.5"
  }
 },
 "nbformat": 4,
 "nbformat_minor": 4
}
