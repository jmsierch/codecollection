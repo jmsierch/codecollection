{
 "cells": [
  {
   "cell_type": "markdown",
   "metadata": {},
   "source": [
    "# Heart Failure Prediction Analysis"
   ]
  },
  {
   "cell_type": "markdown",
   "metadata": {},
   "source": [
    "## by Justin Sierchio"
   ]
  },
  {
   "cell_type": "markdown",
   "metadata": {},
   "source": [
    "In this analysis, we will be looking at heart failure conditions. Ideally, we would like to be able to answer the following questions:\n",
    "\n",
    "<ul>\n",
    "    <li>What patient aspects are most correlated to heart failures?</li>\n",
    "    <li>Can we predict if a patient will have a heart failure incident?</li>\n",
    "    <li>What are some other conclusions we might able to draw from this analysis?</li>\n",
    "</ul>\n",
    "\n",
    "This data is in .csv file format and is from Kaggle at: https://www.kaggle.com/andrewmvd/heart-failure-clinical-data/download. More information related to the dataset can be found at: https://www.kaggle.com/andrewmvd/heart-failure-clinical-data."
   ]
  },
  {
   "cell_type": "markdown",
   "metadata": {},
   "source": [
    "## Notebook Initialization"
   ]
  },
  {
   "cell_type": "code",
   "execution_count": 1,
   "metadata": {},
   "outputs": [
    {
     "name": "stdout",
     "output_type": "stream",
     "text": [
      "Initial libraries loaded into workspace!\n"
     ]
    }
   ],
   "source": [
    "# Import Relevant Libraries\n",
    "import pandas as pd\n",
    "import numpy as np\n",
    "import seaborn as sns \n",
    "import matplotlib.pyplot as plt\n",
    "\n",
    "print('Initial libraries loaded into workspace!')"
   ]
  },
  {
   "cell_type": "code",
   "execution_count": 2,
   "metadata": {},
   "outputs": [
    {
     "name": "stdout",
     "output_type": "stream",
     "text": [
      "Datasets uploaded!\n"
     ]
    }
   ],
   "source": [
    "# Upload Datasets for Study\n",
    "df_HEART = pd.read_csv(\"heart_failure_clinical_records_dataset.csv\");\n",
    "\n",
    "print('Datasets uploaded!');"
   ]
  },
  {
   "cell_type": "code",
   "execution_count": 3,
   "metadata": {},
   "outputs": [
    {
     "data": {
      "text/html": [
       "<div>\n",
       "<style scoped>\n",
       "    .dataframe tbody tr th:only-of-type {\n",
       "        vertical-align: middle;\n",
       "    }\n",
       "\n",
       "    .dataframe tbody tr th {\n",
       "        vertical-align: top;\n",
       "    }\n",
       "\n",
       "    .dataframe thead th {\n",
       "        text-align: right;\n",
       "    }\n",
       "</style>\n",
       "<table border=\"1\" class=\"dataframe\">\n",
       "  <thead>\n",
       "    <tr style=\"text-align: right;\">\n",
       "      <th></th>\n",
       "      <th>age</th>\n",
       "      <th>anaemia</th>\n",
       "      <th>creatinine_phosphokinase</th>\n",
       "      <th>diabetes</th>\n",
       "      <th>ejection_fraction</th>\n",
       "      <th>high_blood_pressure</th>\n",
       "      <th>platelets</th>\n",
       "      <th>serum_creatinine</th>\n",
       "      <th>serum_sodium</th>\n",
       "      <th>sex</th>\n",
       "      <th>smoking</th>\n",
       "      <th>time</th>\n",
       "      <th>DEATH_EVENT</th>\n",
       "    </tr>\n",
       "  </thead>\n",
       "  <tbody>\n",
       "    <tr>\n",
       "      <th>0</th>\n",
       "      <td>75.0</td>\n",
       "      <td>0</td>\n",
       "      <td>582</td>\n",
       "      <td>0</td>\n",
       "      <td>20</td>\n",
       "      <td>1</td>\n",
       "      <td>265000.00</td>\n",
       "      <td>1.9</td>\n",
       "      <td>130</td>\n",
       "      <td>1</td>\n",
       "      <td>0</td>\n",
       "      <td>4</td>\n",
       "      <td>1</td>\n",
       "    </tr>\n",
       "    <tr>\n",
       "      <th>1</th>\n",
       "      <td>55.0</td>\n",
       "      <td>0</td>\n",
       "      <td>7861</td>\n",
       "      <td>0</td>\n",
       "      <td>38</td>\n",
       "      <td>0</td>\n",
       "      <td>263358.03</td>\n",
       "      <td>1.1</td>\n",
       "      <td>136</td>\n",
       "      <td>1</td>\n",
       "      <td>0</td>\n",
       "      <td>6</td>\n",
       "      <td>1</td>\n",
       "    </tr>\n",
       "    <tr>\n",
       "      <th>2</th>\n",
       "      <td>65.0</td>\n",
       "      <td>0</td>\n",
       "      <td>146</td>\n",
       "      <td>0</td>\n",
       "      <td>20</td>\n",
       "      <td>0</td>\n",
       "      <td>162000.00</td>\n",
       "      <td>1.3</td>\n",
       "      <td>129</td>\n",
       "      <td>1</td>\n",
       "      <td>1</td>\n",
       "      <td>7</td>\n",
       "      <td>1</td>\n",
       "    </tr>\n",
       "    <tr>\n",
       "      <th>3</th>\n",
       "      <td>50.0</td>\n",
       "      <td>1</td>\n",
       "      <td>111</td>\n",
       "      <td>0</td>\n",
       "      <td>20</td>\n",
       "      <td>0</td>\n",
       "      <td>210000.00</td>\n",
       "      <td>1.9</td>\n",
       "      <td>137</td>\n",
       "      <td>1</td>\n",
       "      <td>0</td>\n",
       "      <td>7</td>\n",
       "      <td>1</td>\n",
       "    </tr>\n",
       "    <tr>\n",
       "      <th>4</th>\n",
       "      <td>65.0</td>\n",
       "      <td>1</td>\n",
       "      <td>160</td>\n",
       "      <td>1</td>\n",
       "      <td>20</td>\n",
       "      <td>0</td>\n",
       "      <td>327000.00</td>\n",
       "      <td>2.7</td>\n",
       "      <td>116</td>\n",
       "      <td>0</td>\n",
       "      <td>0</td>\n",
       "      <td>8</td>\n",
       "      <td>1</td>\n",
       "    </tr>\n",
       "  </tbody>\n",
       "</table>\n",
       "</div>"
      ],
      "text/plain": [
       "    age  anaemia  creatinine_phosphokinase  diabetes  ejection_fraction  \\\n",
       "0  75.0        0                       582         0                 20   \n",
       "1  55.0        0                      7861         0                 38   \n",
       "2  65.0        0                       146         0                 20   \n",
       "3  50.0        1                       111         0                 20   \n",
       "4  65.0        1                       160         1                 20   \n",
       "\n",
       "   high_blood_pressure  platelets  serum_creatinine  serum_sodium  sex  \\\n",
       "0                    1  265000.00               1.9           130    1   \n",
       "1                    0  263358.03               1.1           136    1   \n",
       "2                    0  162000.00               1.3           129    1   \n",
       "3                    0  210000.00               1.9           137    1   \n",
       "4                    0  327000.00               2.7           116    0   \n",
       "\n",
       "   smoking  time  DEATH_EVENT  \n",
       "0        0     4            1  \n",
       "1        0     6            1  \n",
       "2        1     7            1  \n",
       "3        0     7            1  \n",
       "4        0     8            1  "
      ]
     },
     "execution_count": 3,
     "metadata": {},
     "output_type": "execute_result"
    }
   ],
   "source": [
    "# Display 1st 5 rows from Heart failure dataset\n",
    "df_HEART.head()"
   ]
  },
  {
   "cell_type": "markdown",
   "metadata": {},
   "source": [
    "As a final step, let's list how the dataset defines each of the terms (using the Kaggle definitions)."
   ]
  },
  {
   "cell_type": "markdown",
   "metadata": {},
   "source": [
    "<ul>\n",
    "    <li> age: age of the patient</li>\n",
    "    <li> anaemia: Decrease of red blood cells or hemoglobin (boolean).</li>\n",
    "    <li> creatinine_phosphokinase: Level of the CPK enzyme in the blood (mcg/L)</li>\n",
    "    <li> diabetes: If the patient has diabetes (boolean)</li>\n",
    "    <li> election_fraction: Percentage of blood leaving the heart at each contraction (percentage).</li>\n",
    "    <li> high_blood_pressure: If the patient has hypertension (boolean).</li>\n",
    "    <li> platelets: Platelets in the blood (kiloplatelets/mL)</li>\n",
    "    <li> serum_creatinine: Level of serum creatinine in the blood (mg/dL)</li>\n",
    "    <li> serum_sodium: Level of serum sodium in the blood (mEq/L)</li>\n",
    "    <li> sex: female (0) or male (1).</li>\n",
    "    <li> smoking: If the patient smokes or not (boolean)</li>\n",
    "    <li> time: Follow-up period (days). </li>\n",
    "    <li> DEATH_EVENT: If the patient deceased during the follow-up period (boolean). </li>"
   ]
  },
  {
   "cell_type": "markdown",
   "metadata": {},
   "source": [
    "## Data Cleaning"
   ]
  },
  {
   "cell_type": "markdown",
   "metadata": {},
   "source": [
    "Let's first make sure that the data is sufficiently cleaned for analysis."
   ]
  },
  {
   "cell_type": "code",
   "execution_count": 4,
   "metadata": {},
   "outputs": [
    {
     "data": {
      "text/plain": [
       "(299, 13)"
      ]
     },
     "execution_count": 4,
     "metadata": {},
     "output_type": "execute_result"
    }
   ],
   "source": [
    "# Find the shape of the data\n",
    "df_HEART.shape"
   ]
  },
  {
   "cell_type": "markdown",
   "metadata": {},
   "source": [
    "So we can see that we have 299 different patients and 13 variables to view. Let's make sure that the dataset is actually complete."
   ]
  },
  {
   "cell_type": "code",
   "execution_count": 5,
   "metadata": {},
   "outputs": [
    {
     "data": {
      "text/plain": [
       "age                         0\n",
       "anaemia                     0\n",
       "creatinine_phosphokinase    0\n",
       "diabetes                    0\n",
       "ejection_fraction           0\n",
       "high_blood_pressure         0\n",
       "platelets                   0\n",
       "serum_creatinine            0\n",
       "serum_sodium                0\n",
       "sex                         0\n",
       "smoking                     0\n",
       "time                        0\n",
       "DEATH_EVENT                 0\n",
       "dtype: int64"
      ]
     },
     "execution_count": 5,
     "metadata": {},
     "output_type": "execute_result"
    }
   ],
   "source": [
    "# Find and 'NaN' or 'null' values\n",
    "df_HEART.isnull().sum()"
   ]
  },
  {
   "cell_type": "markdown",
   "metadata": {},
   "source": [
    "As we can see, the dataset is complete and has values for every row and column."
   ]
  },
  {
   "cell_type": "markdown",
   "metadata": {},
   "source": [
    "## Exploratory Data Analysis"
   ]
  },
  {
   "cell_type": "markdown",
   "metadata": {},
   "source": [
    "Let's now perform some exploratory data analysis. For example, let's plot the distribution of the patient ages in the dataset."
   ]
  },
  {
   "cell_type": "code",
   "execution_count": 6,
   "metadata": {},
   "outputs": [
    {
     "data": {
      "image/png": "[encoded data removed]",
      "text/plain": [
       "<Figure size 1440x1008 with 1 Axes>"
      ]
     },
     "metadata": {
      "needs_background": "light"
     },
     "output_type": "display_data"
    }
   ],
   "source": [
    "# Create a plot for age distribution of patients\n",
    "\n",
    "# Sort the incidents by age\n",
    "df_HEART_1 = df_HEART['age'].value_counts() \n",
    "df_HEART1_AgeIndex = df_HEART_1.index \n",
    "df_HEART1_AgeValues = df_HEART_1.values\n",
    "\n",
    "# Name axes for plotting\n",
    "x = df_HEART1_AgeIndex\n",
    "y = df_HEART1_AgeValues\n",
    "\n",
    "# Plot the data for sightings by hour of day\n",
    "plt.figure(figsize=(20,14))\n",
    "plt.title('Age Distribution of Heart Failure Patients', fontsize=18)\n",
    "plt.xlabel(\"Age (years)\", fontsize=14)\n",
    "plt.ylabel(\"# of Patients\", fontsize=14)\n",
    "UFOTimeOfDayPlot = sns.barplot(x = x[:60], y = y[:60], palette = 'Greens')"
   ]
  },
  {
   "cell_type": "markdown",
   "metadata": {},
   "source": [
    "As we can see, the dataset is fairly randomized, with a mean around age 60. Now let's look at how many patients had underlying conditions, such as diabetes or smoking."
   ]
  },
  {
   "cell_type": "code",
   "execution_count": 7,
   "metadata": {},
   "outputs": [
    {
     "data": {
      "text/plain": [
       "Text(0.5, 0, 'Did Patients Have Diabetes? Yes (1) or No (0)')"
      ]
     },
     "execution_count": 7,
     "metadata": {},
     "output_type": "execute_result"
    },
    {
     "data": {
      "image/png": "[encoded data removed]",
      "text/plain": [
       "<Figure size 1080x864 with 1 Axes>"
      ]
     },
     "metadata": {
      "needs_background": "light"
     },
     "output_type": "display_data"
    }
   ],
   "source": [
    "# Diabetes Rate for Heart Failure Patients\n",
    "plt.figure(figsize=(15,12))\n",
    "df_HEART['diabetes'].value_counts()[:20].plot(kind='bar')\n",
    "plt.title('Diabetes Rate for Heart Failure Patients')\n",
    "plt.ylabel('# of Patients')\n",
    "plt.xlabel('Did Patients Have Diabetes? Yes (1) or No (0)')"
   ]
  },
  {
   "cell_type": "markdown",
   "metadata": {},
   "source": [
    "According to the plot, the majority of patients did not have diabetes. What about smoking?"
   ]
  },
  {
   "cell_type": "code",
   "execution_count": 8,
   "metadata": {},
   "outputs": [
    {
     "data": {
      "text/plain": [
       "Text(0.5, 0, 'Did Patients Smoke? Yes (1) or No (0)')"
      ]
     },
     "execution_count": 8,
     "metadata": {},
     "output_type": "execute_result"
    },
    {
     "data": {
      "image/png": "[encoded data removed]",
      "text/plain": [
       "<Figure size 1080x864 with 1 Axes>"
      ]
     },
     "metadata": {
      "needs_background": "light"
     },
     "output_type": "display_data"
    }
   ],
   "source": [
    "# Smoking Rate for Heart Failure Patients\n",
    "plt.figure(figsize=(15,12))\n",
    "df_HEART['smoking'].value_counts()[:20].plot(kind='bar')\n",
    "plt.title('Smoking Rate for Heart Failure Patients')\n",
    "plt.ylabel('# of Patients')\n",
    "plt.xlabel('Did Patients Smoke? Yes (1) or No (0)')"
   ]
  },
  {
   "cell_type": "markdown",
   "metadata": {},
   "source": [
    "According to the plot, almost two-thirds of the patients did not smoke. Finally, let's look at high blood pressure."
   ]
  },
  {
   "cell_type": "code",
   "execution_count": 9,
   "metadata": {},
   "outputs": [
    {
     "data": {
      "text/plain": [
       "Text(0.5, 0, 'Did Patients Have HBR? Yes (1) or No (0)')"
      ]
     },
     "execution_count": 9,
     "metadata": {},
     "output_type": "execute_result"
    },
    {
     "data": {
      "image/png": "[encoded data removed]",
      "text/plain": [
       "<Figure size 1080x864 with 1 Axes>"
      ]
     },
     "metadata": {
      "needs_background": "light"
     },
     "output_type": "display_data"
    }
   ],
   "source": [
    "# HBR for Heart Failure Patients\n",
    "plt.figure(figsize=(15,12))\n",
    "df_HEART['high_blood_pressure'].value_counts()[:20].plot(kind='bar')\n",
    "plt.title('High Blood Pressure for Heart Failure Patients')\n",
    "plt.ylabel('# of Patients')\n",
    "plt.xlabel('Did Patients Have HBR? Yes (1) or No (0)')"
   ]
  },
  {
   "cell_type": "markdown",
   "metadata": {},
   "source": [
    "Again, roughly two-thirds of patients did not have high blood pressure. At this juncture, let's use a heatmap to see if there are any hidden relationships in this dataset."
   ]
  },
  {
   "cell_type": "code",
   "execution_count": 10,
   "metadata": {},
   "outputs": [
    {
     "data": {
      "text/plain": [
       "Text(0.5, 1.0, 'Heart Failure Condition Correlation Matrix')"
      ]
     },
     "execution_count": 10,
     "metadata": {},
     "output_type": "execute_result"
    },
    {
     "data": {
      "image/png": "[encoded data removed]",
      "text/plain": [
       "<Figure size 1296x1296 with 2 Axes>"
      ]
     },
     "metadata": {
      "needs_background": "light"
     },
     "output_type": "display_data"
    }
   ],
   "source": [
    "# Heart Failure Condition Matrix\n",
    "# Select the features to do the analysis\n",
    "df_HEART_fs1 = df_HEART[['age', 'anaemia', 'diabetes', 'high_blood_pressure', 'sex', 'smoking', 'DEATH_EVENT']]\n",
    "\n",
    "#  QEfficiency and Turnovers vs. Tournament Performance Matrix\n",
    "figureHFC, axisHFC = plt.subplots(figsize=(18, 18));\n",
    "sns.heatmap(df_HEART_fs1.corr(), annot = True, linewidths = .5, fmt = '.02f', ax = axisHFC, cmap=\"Blues\");\n",
    "\n",
    "plt.title('Heart Failure Condition Correlation Matrix', fontsize = 20)"
   ]
  },
  {
   "cell_type": "markdown",
   "metadata": {},
   "source": [
    "As we can see from the heatmap above, there are several observations that we can make.\n",
    "\n",
    "<ul>\n",
    "    <li>Death events are related to age. A possible reason is that the older the patient, the likelihood of death increases.</li>\n",
    "    <li>Smoking is related to sex. A possible reason is that men are more likely to smoke as women.</li>\n",
    "    <li>High blood pressure is slightly related to age. This observation confirms what is already known in the medical community.</li>\n",
    "</ul>"
   ]
  },
  {
   "cell_type": "markdown",
   "metadata": {},
   "source": [
    "## Machine Learning Prediction"
   ]
  },
  {
   "cell_type": "markdown",
   "metadata": {},
   "source": [
    "The final part of this project is to see if we can predict with any accuracy whether or not a patient will have a heart failure incident. Before we start, we need to load a few additional libraries into the workspace."
   ]
  },
  {
   "cell_type": "code",
   "execution_count": 11,
   "metadata": {},
   "outputs": [
    {
     "name": "stdout",
     "output_type": "stream",
     "text": [
      "Machine Learning Libraries loaded into workspace!\n"
     ]
    }
   ],
   "source": [
    "# Import Machine Learning Libraries\n",
    "from sklearn import preprocessing\n",
    "from sklearn.model_selection import train_test_split\n",
    "\n",
    "# Import Machine Learning Metrics\n",
    "from sklearn.metrics import jaccard_score, f1_score, precision_score, recall_score\n",
    "\n",
    "print('Machine Learning Libraries loaded into workspace!')"
   ]
  },
  {
   "cell_type": "markdown",
   "metadata": {},
   "source": [
    "To begin, let's determine how many deaths occurred in this dataset."
   ]
  },
  {
   "cell_type": "code",
   "execution_count": 12,
   "metadata": {},
   "outputs": [
    {
     "data": {
      "text/plain": [
       "0    203\n",
       "1     96\n",
       "Name: DEATH_EVENT, dtype: int64"
      ]
     },
     "execution_count": 12,
     "metadata": {},
     "output_type": "execute_result"
    }
   ],
   "source": [
    "# Determine number of death events in the dataset\n",
    "df_HEART['DEATH_EVENT'].value_counts()"
   ]
  },
  {
   "cell_type": "markdown",
   "metadata": {},
   "source": [
    "As we can see, approximately 1/3 (96 out of 299) patients died during a heart failure event. Let's begin by creating our feature set."
   ]
  },
  {
   "cell_type": "code",
   "execution_count": 13,
   "metadata": {},
   "outputs": [
    {
     "data": {
      "text/plain": [
       "array([[ 1.19294523e+00, -8.71104775e-01,  1.65728387e-04,\n",
       "        -8.47579380e-01, -1.53055953e+00,  1.35927151e+00,\n",
       "         1.68164843e-02,  4.90056987e-01, -1.50403612e+00,\n",
       "         7.35688190e-01, -6.87681906e-01, -1.62950241e+00],\n",
       "       [-4.91279276e-01, -8.71104775e-01,  7.51463953e+00,\n",
       "        -8.47579380e-01, -7.07675018e-03, -7.35688190e-01,\n",
       "         7.53566018e-09, -2.84552352e-01, -1.41976151e-01,\n",
       "         7.35688190e-01, -6.87681906e-01, -1.60369074e+00],\n",
       "       [ 3.50832977e-01, -8.71104775e-01, -4.49938761e-01,\n",
       "        -8.47579380e-01, -1.53055953e+00, -7.35688190e-01,\n",
       "        -1.03807313e+00, -9.09000174e-02, -1.73104612e+00,\n",
       "         7.35688190e-01,  1.45416070e+00, -1.59078490e+00],\n",
       "       [-9.12335403e-01,  1.14796753e+00, -4.86071002e-01,\n",
       "        -8.47579380e-01, -1.53055953e+00, -7.35688190e-01,\n",
       "        -5.46474088e-01,  4.90056987e-01,  8.50338444e-02,\n",
       "         7.35688190e-01, -6.87681906e-01, -1.59078490e+00],\n",
       "       [ 3.50832977e-01,  1.14796753e+00, -4.35485864e-01,\n",
       "         1.17983050e+00, -1.53055953e+00, -7.35688190e-01,\n",
       "         6.51798584e-01,  1.26466633e+00, -4.68217606e+00,\n",
       "        -1.35927151e+00, -6.87681906e-01, -1.57787906e+00]])"
      ]
     },
     "execution_count": 13,
     "metadata": {},
     "output_type": "execute_result"
    }
   ],
   "source": [
    "# Normalize Feature Selection subset using the Standard Scaler and Fit\n",
    "df_HEART_FS = df_HEART[['age', 'anaemia', 'creatinine_phosphokinase', 'diabetes',\n",
    "       'ejection_fraction', 'high_blood_pressure', 'platelets',\n",
    "       'serum_creatinine', 'serum_sodium', 'sex', 'smoking', 'time',\n",
    "       'DEATH_EVENT']]\n",
    "df_HEART_ML = df_HEART_FS.drop(['DEATH_EVENT'],axis=1)\n",
    "df_HEART_ML = preprocessing.StandardScaler().fit(df_HEART_ML).transform(df_HEART_ML)\n",
    "\n",
    "# Display the Normalized Set, setting the Machine Learning Set to 'X' to incorporate into the 'TrainX, TestY' methodology\n",
    "X = df_HEART_ML;\n",
    "X[0:5]"
   ]
  },
  {
   "cell_type": "markdown",
   "metadata": {},
   "source": [
    "Now let's create our target variable based on 'DEATH_EVENT'."
   ]
  },
  {
   "cell_type": "code",
   "execution_count": 14,
   "metadata": {},
   "outputs": [
    {
     "data": {
      "text/plain": [
       "array([1, 1, 1, 1, 1], dtype=int64)"
      ]
     },
     "execution_count": 14,
     "metadata": {},
     "output_type": "execute_result"
    }
   ],
   "source": [
    "# Create the Target Value Variable\n",
    "df_HEART_Target = df_HEART_FS['DEATH_EVENT'].values\n",
    "\n",
    "# Dsplay the Target Value Set\n",
    "y = df_HEART_Target;\n",
    "y[0:5]"
   ]
  },
  {
   "cell_type": "markdown",
   "metadata": {},
   "source": [
    "Now let's create the training and test sets for our algorithms."
   ]
  },
  {
   "cell_type": "code",
   "execution_count": 15,
   "metadata": {},
   "outputs": [
    {
     "name": "stdout",
     "output_type": "stream",
     "text": [
      "Train set: (239, 12) (239,)\n",
      "Test set: (60, 12) (60,)\n"
     ]
    }
   ],
   "source": [
    "# Create Training and Test Sets\n",
    "X_train , X_test , y_train, y_test = train_test_split(X,y, test_size = 0.2 , random_state=10)\n",
    "\n",
    "# Display the Training Set\n",
    "print ('Train set:', X_train.shape,  y_train.shape)\n",
    "\n",
    "# Display the Test Set\n",
    "print ('Test set:', X_test.shape,  y_test.shape)"
   ]
  },
  {
   "cell_type": "markdown",
   "metadata": {},
   "source": [
    "At this juncture, we can look at a few different algorithms, including K-Nearest Neighbor, Support Vector Machine, Decision Trees and Logistic Regression."
   ]
  },
  {
   "cell_type": "code",
   "execution_count": null,
   "metadata": {},
   "outputs": [],
   "source": []
  }
 ],
 "metadata": {
  "kernelspec": {
   "display_name": "Python 3",
   "language": "python",
   "name": "python3"
  },
  "language_info": {
   "codemirror_mode": {
    "name": "ipython",
    "version": 3
   },
   "file_extension": ".py",
   "mimetype": "text/x-python",
   "name": "python",
   "nbconvert_exporter": "python",
   "pygments_lexer": "ipython3",
   "version": "3.8.5"
  }
 },
 "nbformat": 4,
 "nbformat_minor": 4
}
