{
 "cells": [
  {
   "cell_type": "markdown",
   "id": "43804d34",
   "metadata": {},
   "source": [
    "# US Disaster Declarations Analysis"
   ]
  },
  {
   "cell_type": "markdown",
   "id": "067bd125",
   "metadata": {},
   "source": [
    "## by Justin Sierchio"
   ]
  },
  {
   "cell_type": "markdown",
   "id": "a2ddee9d",
   "metadata": {},
   "source": [
    "In this analysis, we will be looking at listings of US disaster declarations. We would like to be able to answer the following questions:\n",
    "\n",
    "<ul>\n",
    "    <li>What are the most common types of disaster declarations and where do they occur?</li>\n",
    "    <li>How have disaster declarations changed over time?</li>\n",
    "    <li>What are some other conclusions we might able to draw from this analysis?</li>\n",
    "</ul>\n",
    "\n",
    "This data is in .csv file format and is from Kaggle at: https://www.kaggle.com/headsortails/us-natural-disaster-declarations/download. More information related to the dataset can be found at: https://www.kaggle.com/headsortails/us-natural-disaster-declarations?select=us_disaster_declarations.csvus_."
   ]
  },
  {
   "cell_type": "markdown",
   "id": "a172c77b",
   "metadata": {},
   "source": [
    "## Notebook Initialization"
   ]
  },
  {
   "cell_type": "code",
   "execution_count": 1,
   "id": "3c0571e9",
   "metadata": {},
   "outputs": [
    {
     "name": "stdout",
     "output_type": "stream",
     "text": [
      "Initial libraries loaded into workspace!\n"
     ]
    }
   ],
   "source": [
    "# Import Relevant Libraries\n",
    "import pandas as pd\n",
    "import numpy as np\n",
    "import seaborn as sns \n",
    "import matplotlib.pyplot as plt\n",
    "import datetime\n",
    "\n",
    "print('Initial libraries loaded into workspace!')"
   ]
  },
  {
   "cell_type": "code",
   "execution_count": 2,
   "id": "2feb8ac8",
   "metadata": {},
   "outputs": [
    {
     "name": "stdout",
     "output_type": "stream",
     "text": [
      "Datasets uploaded!\n"
     ]
    }
   ],
   "source": [
    "# Upload Datasets for reviews\n",
    "df_DISASTER = pd.read_csv(\"us_disaster_declarations.csv\");\n",
    "\n",
    "print('Datasets uploaded!');"
   ]
  },
  {
   "cell_type": "code",
   "execution_count": 3,
   "id": "d8cd6ec4",
   "metadata": {},
   "outputs": [
    {
     "data": {
      "text/html": [
       "<div>\n",
       "<style scoped>\n",
       "    .dataframe tbody tr th:only-of-type {\n",
       "        vertical-align: middle;\n",
       "    }\n",
       "\n",
       "    .dataframe tbody tr th {\n",
       "        vertical-align: top;\n",
       "    }\n",
       "\n",
       "    .dataframe thead th {\n",
       "        text-align: right;\n",
       "    }\n",
       "</style>\n",
       "<table border=\"1\" class=\"dataframe\">\n",
       "  <thead>\n",
       "    <tr style=\"text-align: right;\">\n",
       "      <th></th>\n",
       "      <th>fema_declaration_string</th>\n",
       "      <th>disaster_number</th>\n",
       "      <th>state</th>\n",
       "      <th>declaration_type</th>\n",
       "      <th>declaration_date</th>\n",
       "      <th>fy_declared</th>\n",
       "      <th>incident_type</th>\n",
       "      <th>declaration_title</th>\n",
       "      <th>ih_program_declared</th>\n",
       "      <th>ia_program_declared</th>\n",
       "      <th>...</th>\n",
       "      <th>incident_begin_date</th>\n",
       "      <th>incident_end_date</th>\n",
       "      <th>disaster_closeout_date</th>\n",
       "      <th>fips</th>\n",
       "      <th>place_code</th>\n",
       "      <th>designated_area</th>\n",
       "      <th>declaration_request_number</th>\n",
       "      <th>hash</th>\n",
       "      <th>last_refresh</th>\n",
       "      <th>id</th>\n",
       "    </tr>\n",
       "  </thead>\n",
       "  <tbody>\n",
       "    <tr>\n",
       "      <th>0</th>\n",
       "      <td>DR-1-GA</td>\n",
       "      <td>1</td>\n",
       "      <td>GA</td>\n",
       "      <td>DR</td>\n",
       "      <td>1953-05-02T00:00:00Z</td>\n",
       "      <td>1953</td>\n",
       "      <td>Tornado</td>\n",
       "      <td>Tornado</td>\n",
       "      <td>0</td>\n",
       "      <td>1</td>\n",
       "      <td>...</td>\n",
       "      <td>1953-05-02T00:00:00Z</td>\n",
       "      <td>1953-05-02T00:00:00Z</td>\n",
       "      <td>1954-06-01T00:00:00Z</td>\n",
       "      <td>13000</td>\n",
       "      <td>0</td>\n",
       "      <td>Statewide</td>\n",
       "      <td>53013</td>\n",
       "      <td>bb121323c9c29d3bef0c9a3f134bfd8b5ecff148</td>\n",
       "      <td>2021-07-13T23:01:19Z</td>\n",
       "      <td>60c3b7a9a0ee349d71025780</td>\n",
       "    </tr>\n",
       "    <tr>\n",
       "      <th>1</th>\n",
       "      <td>DR-2-TX</td>\n",
       "      <td>2</td>\n",
       "      <td>TX</td>\n",
       "      <td>DR</td>\n",
       "      <td>1953-05-15T00:00:00Z</td>\n",
       "      <td>1953</td>\n",
       "      <td>Tornado</td>\n",
       "      <td>Tornado &amp; Heavy Rainfall</td>\n",
       "      <td>0</td>\n",
       "      <td>1</td>\n",
       "      <td>...</td>\n",
       "      <td>1953-05-15T00:00:00Z</td>\n",
       "      <td>1953-05-15T00:00:00Z</td>\n",
       "      <td>1958-01-01T00:00:00Z</td>\n",
       "      <td>48000</td>\n",
       "      <td>0</td>\n",
       "      <td>Statewide</td>\n",
       "      <td>53003</td>\n",
       "      <td>c879557e78d059e6847e7688388c339d10f51979</td>\n",
       "      <td>2021-07-13T23:01:19Z</td>\n",
       "      <td>60c3b7a9a0ee349d71025783</td>\n",
       "    </tr>\n",
       "    <tr>\n",
       "      <th>2</th>\n",
       "      <td>DR-3-LA</td>\n",
       "      <td>3</td>\n",
       "      <td>LA</td>\n",
       "      <td>DR</td>\n",
       "      <td>1953-05-29T00:00:00Z</td>\n",
       "      <td>1953</td>\n",
       "      <td>Flood</td>\n",
       "      <td>Flood</td>\n",
       "      <td>0</td>\n",
       "      <td>1</td>\n",
       "      <td>...</td>\n",
       "      <td>1953-05-29T00:00:00Z</td>\n",
       "      <td>1953-05-29T00:00:00Z</td>\n",
       "      <td>1960-02-01T00:00:00Z</td>\n",
       "      <td>22000</td>\n",
       "      <td>0</td>\n",
       "      <td>Statewide</td>\n",
       "      <td>53005</td>\n",
       "      <td>4fb19699fdbba1387ffa2263fcc4a4e37a1de6d6</td>\n",
       "      <td>2021-07-13T23:01:19Z</td>\n",
       "      <td>60c3b7a9a0ee349d71025777</td>\n",
       "    </tr>\n",
       "    <tr>\n",
       "      <th>3</th>\n",
       "      <td>DR-4-MI</td>\n",
       "      <td>4</td>\n",
       "      <td>MI</td>\n",
       "      <td>DR</td>\n",
       "      <td>1953-06-02T00:00:00Z</td>\n",
       "      <td>1953</td>\n",
       "      <td>Tornado</td>\n",
       "      <td>Tornado</td>\n",
       "      <td>0</td>\n",
       "      <td>1</td>\n",
       "      <td>...</td>\n",
       "      <td>1953-06-02T00:00:00Z</td>\n",
       "      <td>1953-06-02T00:00:00Z</td>\n",
       "      <td>1956-02-01T00:00:00Z</td>\n",
       "      <td>26000</td>\n",
       "      <td>0</td>\n",
       "      <td>Statewide</td>\n",
       "      <td>53004</td>\n",
       "      <td>87a0c1dd5da249767f545e0c0a43f917e4e9ca83</td>\n",
       "      <td>2021-07-13T23:01:19Z</td>\n",
       "      <td>60c3b7a9a0ee349d7102577a</td>\n",
       "    </tr>\n",
       "    <tr>\n",
       "      <th>4</th>\n",
       "      <td>DR-5-MT</td>\n",
       "      <td>5</td>\n",
       "      <td>MT</td>\n",
       "      <td>DR</td>\n",
       "      <td>1953-06-06T00:00:00Z</td>\n",
       "      <td>1953</td>\n",
       "      <td>Flood</td>\n",
       "      <td>Floods</td>\n",
       "      <td>0</td>\n",
       "      <td>1</td>\n",
       "      <td>...</td>\n",
       "      <td>1953-06-06T00:00:00Z</td>\n",
       "      <td>1953-06-06T00:00:00Z</td>\n",
       "      <td>1955-12-01T00:00:00Z</td>\n",
       "      <td>30000</td>\n",
       "      <td>0</td>\n",
       "      <td>Statewide</td>\n",
       "      <td>53006</td>\n",
       "      <td>954449c15634fb45c8bea3ac975782793ccde050</td>\n",
       "      <td>2021-07-13T23:01:19Z</td>\n",
       "      <td>60c3b7a9a0ee349d71025774</td>\n",
       "    </tr>\n",
       "  </tbody>\n",
       "</table>\n",
       "<p>5 rows × 22 columns</p>\n",
       "</div>"
      ],
      "text/plain": [
       "  fema_declaration_string  disaster_number state declaration_type  \\\n",
       "0                 DR-1-GA                1    GA               DR   \n",
       "1                 DR-2-TX                2    TX               DR   \n",
       "2                 DR-3-LA                3    LA               DR   \n",
       "3                 DR-4-MI                4    MI               DR   \n",
       "4                 DR-5-MT                5    MT               DR   \n",
       "\n",
       "       declaration_date  fy_declared incident_type         declaration_title  \\\n",
       "0  1953-05-02T00:00:00Z         1953       Tornado                   Tornado   \n",
       "1  1953-05-15T00:00:00Z         1953       Tornado  Tornado & Heavy Rainfall   \n",
       "2  1953-05-29T00:00:00Z         1953         Flood                     Flood   \n",
       "3  1953-06-02T00:00:00Z         1953       Tornado                   Tornado   \n",
       "4  1953-06-06T00:00:00Z         1953         Flood                    Floods   \n",
       "\n",
       "   ih_program_declared  ia_program_declared  ...   incident_begin_date  \\\n",
       "0                    0                    1  ...  1953-05-02T00:00:00Z   \n",
       "1                    0                    1  ...  1953-05-15T00:00:00Z   \n",
       "2                    0                    1  ...  1953-05-29T00:00:00Z   \n",
       "3                    0                    1  ...  1953-06-02T00:00:00Z   \n",
       "4                    0                    1  ...  1953-06-06T00:00:00Z   \n",
       "\n",
       "      incident_end_date disaster_closeout_date   fips place_code  \\\n",
       "0  1953-05-02T00:00:00Z   1954-06-01T00:00:00Z  13000          0   \n",
       "1  1953-05-15T00:00:00Z   1958-01-01T00:00:00Z  48000          0   \n",
       "2  1953-05-29T00:00:00Z   1960-02-01T00:00:00Z  22000          0   \n",
       "3  1953-06-02T00:00:00Z   1956-02-01T00:00:00Z  26000          0   \n",
       "4  1953-06-06T00:00:00Z   1955-12-01T00:00:00Z  30000          0   \n",
       "\n",
       "   designated_area  declaration_request_number  \\\n",
       "0        Statewide                       53013   \n",
       "1        Statewide                       53003   \n",
       "2        Statewide                       53005   \n",
       "3        Statewide                       53004   \n",
       "4        Statewide                       53006   \n",
       "\n",
       "                                       hash          last_refresh  \\\n",
       "0  bb121323c9c29d3bef0c9a3f134bfd8b5ecff148  2021-07-13T23:01:19Z   \n",
       "1  c879557e78d059e6847e7688388c339d10f51979  2021-07-13T23:01:19Z   \n",
       "2  4fb19699fdbba1387ffa2263fcc4a4e37a1de6d6  2021-07-13T23:01:19Z   \n",
       "3  87a0c1dd5da249767f545e0c0a43f917e4e9ca83  2021-07-13T23:01:19Z   \n",
       "4  954449c15634fb45c8bea3ac975782793ccde050  2021-07-13T23:01:19Z   \n",
       "\n",
       "                         id  \n",
       "0  60c3b7a9a0ee349d71025780  \n",
       "1  60c3b7a9a0ee349d71025783  \n",
       "2  60c3b7a9a0ee349d71025777  \n",
       "3  60c3b7a9a0ee349d7102577a  \n",
       "4  60c3b7a9a0ee349d71025774  \n",
       "\n",
       "[5 rows x 22 columns]"
      ]
     },
     "execution_count": 3,
     "metadata": {},
     "output_type": "execute_result"
    }
   ],
   "source": [
    "# Display 1st 5 rows from Theme Park review set\n",
    "df_DISASTER.head()"
   ]
  },
  {
   "cell_type": "markdown",
   "id": "6c1fa890",
   "metadata": {},
   "source": [
    "Let's briefly list the most important column titles and their descriptions:\n",
    "\n",
    "<ul>\n",
    "    <li> fema_declaration_string: FEMA code for each disaster declaration </li>\n",
    "    <li> disaster_number: number of disaster </li>\n",
    "    <li> declaration type: self-explanatory </li>\n",
    "    <li> declaration date: self-explanatory </li>\n",
    "    <li> fy_declared: FY in which declaration was declared </li>\n",
    "    <li> incident_type: type of disaster</li>\n",
    "    <li> declaration_title: self-explanaotry</li>\n",
    "    <li> incident_begin_date: date that incident began</li>\n",
    "    <li> incident_end_date: date that incident ended</li>\n",
    "    <li> disaster_closeout_date: date that disaster incident was closed</li>\n",
    "    <li> designated_area: how widespread an area that the declaration applied</li>\n",
    "    <li> declaration_request_number: self-explanatory</li>\n",
    "</ul>"
   ]
  },
  {
   "cell_type": "markdown",
   "id": "8e93f6a0",
   "metadata": {},
   "source": [
    "# Data Cleaning"
   ]
  },
  {
   "cell_type": "markdown",
   "id": "de157080",
   "metadata": {},
   "source": [
    "Let's beginning by doing some basic data cleaning."
   ]
  },
  {
   "cell_type": "code",
   "execution_count": 4,
   "id": "5de5a537",
   "metadata": {},
   "outputs": [
    {
     "name": "stdout",
     "output_type": "stream",
     "text": [
      "<class 'pandas.core.frame.DataFrame'>\n",
      "RangeIndex: 62112 entries, 0 to 62111\n",
      "Data columns (total 22 columns):\n",
      " #   Column                      Non-Null Count  Dtype \n",
      "---  ------                      --------------  ----- \n",
      " 0   fema_declaration_string     62112 non-null  object\n",
      " 1   disaster_number             62112 non-null  int64 \n",
      " 2   state                       62112 non-null  object\n",
      " 3   declaration_type            62112 non-null  object\n",
      " 4   declaration_date            62112 non-null  object\n",
      " 5   fy_declared                 62112 non-null  int64 \n",
      " 6   incident_type               62112 non-null  object\n",
      " 7   declaration_title           62112 non-null  object\n",
      " 8   ih_program_declared         62112 non-null  int64 \n",
      " 9   ia_program_declared         62112 non-null  int64 \n",
      " 10  pa_program_declared         62112 non-null  int64 \n",
      " 11  hm_program_declared         62112 non-null  int64 \n",
      " 12  incident_begin_date         62112 non-null  object\n",
      " 13  incident_end_date           53599 non-null  object\n",
      " 14  disaster_closeout_date      46873 non-null  object\n",
      " 15  fips                        62112 non-null  int64 \n",
      " 16  place_code                  62112 non-null  int64 \n",
      " 17  designated_area             62112 non-null  object\n",
      " 18  declaration_request_number  62112 non-null  int64 \n",
      " 19  hash                        62112 non-null  object\n",
      " 20  last_refresh                62112 non-null  object\n",
      " 21  id                          62112 non-null  object\n",
      "dtypes: int64(9), object(13)\n",
      "memory usage: 10.4+ MB\n"
     ]
    }
   ],
   "source": [
    "# Show the data types for the disaster declaration dataset\n",
    "df_DISASTER.info()"
   ]
  },
  {
   "cell_type": "markdown",
   "id": "53112cf7",
   "metadata": {},
   "source": [
    "The data looks sufficiently clean for a basic exploratory analysis."
   ]
  },
  {
   "cell_type": "markdown",
   "id": "abb64ac5",
   "metadata": {},
   "source": [
    "# Exploratory Data Analysis"
   ]
  },
  {
   "cell_type": "markdown",
   "id": "308cbaf4",
   "metadata": {},
   "source": [
    "We see that many of the incidents are likely ongoing, since there is a disparity between the incident begin and end dates (as well as the disaster closeout dates). Let's take a look at the types of disasters that have been recorded."
   ]
  },
  {
   "cell_type": "code",
   "execution_count": 5,
   "id": "7b5596b6",
   "metadata": {},
   "outputs": [
    {
     "name": "stdout",
     "output_type": "stream",
     "text": [
      "These are the disaster types reported:\n",
      "\n",
      " ['Tornado' 'Flood' 'Fire' 'Other' 'Earthquake' 'Hurricane' 'Volcano'\n",
      " 'Severe Storm(s)' 'Toxic Substances' 'Typhoon' 'Drought'\n",
      " 'Dam/Levee Break' 'Snow' 'Severe Ice Storm' 'Freezing' 'Coastal Storm'\n",
      " 'Fishing Losses' 'Mud/Landslide' 'Human Cause' 'Terrorist' 'Tsunami'\n",
      " 'Chemical' 'Biological']\n",
      "\n",
      "# of Occurrences:\n",
      " Severe Storm(s)     17065\n",
      "Hurricane           12085\n",
      "Flood               10461\n",
      "Biological           7853\n",
      "Snow                 3664\n",
      "Fire                 3547\n",
      "Severe Ice Storm     2942\n",
      "Tornado              1488\n",
      "Drought              1292\n",
      "Coastal Storm         570\n",
      "Other                 306\n",
      "Freezing              301\n",
      "Earthquake            227\n",
      "Typhoon               130\n",
      "Volcano                51\n",
      "Fishing Losses         42\n",
      "Mud/Landslide          36\n",
      "Dam/Levee Break        13\n",
      "Chemical                9\n",
      "Toxic Substances        9\n",
      "Tsunami                 9\n",
      "Human Cause             7\n",
      "Terrorist               5\n",
      "Name: incident_type, dtype: int64\n"
     ]
    }
   ],
   "source": [
    "# Show the different disaster types in the dataset\n",
    "df_DISASTER_types = df_DISASTER['incident_type'].unique()\n",
    "print(\"These are the disaster types reported:\\n\\n\", df_DISASTER_types)\n",
    "print(\"\\n# of Occurrences:\\n\",df_DISASTER['incident_type'].value_counts())"
   ]
  },
  {
   "cell_type": "markdown",
   "id": "967add4f",
   "metadata": {},
   "source": [
    "As we can see, severe storms, hurricanes and floods are the most likely reasons for disaster declarations. We see that there are 7 human caused disasters and 5 resulting from terrorism.\n",
    "\n",
    "Now let's take a look at the states that are the most disaster prone."
   ]
  },
  {
   "cell_type": "code",
   "execution_count": 6,
   "id": "544289e6",
   "metadata": {},
   "outputs": [
    {
     "data": {
      "text/html": [
       "<div>\n",
       "<style scoped>\n",
       "    .dataframe tbody tr th:only-of-type {\n",
       "        vertical-align: middle;\n",
       "    }\n",
       "\n",
       "    .dataframe tbody tr th {\n",
       "        vertical-align: top;\n",
       "    }\n",
       "\n",
       "    .dataframe thead th {\n",
       "        text-align: right;\n",
       "    }\n",
       "</style>\n",
       "<table border=\"1\" class=\"dataframe\">\n",
       "  <thead>\n",
       "    <tr style=\"text-align: right;\">\n",
       "      <th></th>\n",
       "      <th>count</th>\n",
       "      <th>unique</th>\n",
       "      <th>top</th>\n",
       "      <th>freq</th>\n",
       "    </tr>\n",
       "    <tr>\n",
       "      <th>state</th>\n",
       "      <th></th>\n",
       "      <th></th>\n",
       "      <th></th>\n",
       "      <th></th>\n",
       "    </tr>\n",
       "  </thead>\n",
       "  <tbody>\n",
       "    <tr>\n",
       "      <th>TX</th>\n",
       "      <td>5164</td>\n",
       "      <td>11</td>\n",
       "      <td>Hurricane</td>\n",
       "      <td>1303</td>\n",
       "    </tr>\n",
       "    <tr>\n",
       "      <th>MO</th>\n",
       "      <td>2670</td>\n",
       "      <td>8</td>\n",
       "      <td>Severe Storm(s)</td>\n",
       "      <td>1309</td>\n",
       "    </tr>\n",
       "    <tr>\n",
       "      <th>KY</th>\n",
       "      <td>2511</td>\n",
       "      <td>10</td>\n",
       "      <td>Severe Storm(s)</td>\n",
       "      <td>986</td>\n",
       "    </tr>\n",
       "    <tr>\n",
       "      <th>VA</th>\n",
       "      <td>2493</td>\n",
       "      <td>11</td>\n",
       "      <td>Hurricane</td>\n",
       "      <td>877</td>\n",
       "    </tr>\n",
       "    <tr>\n",
       "      <th>OK</th>\n",
       "      <td>2461</td>\n",
       "      <td>9</td>\n",
       "      <td>Severe Storm(s)</td>\n",
       "      <td>996</td>\n",
       "    </tr>\n",
       "    <tr>\n",
       "      <th>LA</th>\n",
       "      <td>2301</td>\n",
       "      <td>11</td>\n",
       "      <td>Hurricane</td>\n",
       "      <td>1236</td>\n",
       "    </tr>\n",
       "    <tr>\n",
       "      <th>GA</th>\n",
       "      <td>2269</td>\n",
       "      <td>10</td>\n",
       "      <td>Hurricane</td>\n",
       "      <td>905</td>\n",
       "    </tr>\n",
       "    <tr>\n",
       "      <th>FL</th>\n",
       "      <td>2088</td>\n",
       "      <td>10</td>\n",
       "      <td>Hurricane</td>\n",
       "      <td>1012</td>\n",
       "    </tr>\n",
       "    <tr>\n",
       "      <th>NC</th>\n",
       "      <td>1984</td>\n",
       "      <td>10</td>\n",
       "      <td>Hurricane</td>\n",
       "      <td>1192</td>\n",
       "    </tr>\n",
       "    <tr>\n",
       "      <th>PR</th>\n",
       "      <td>1826</td>\n",
       "      <td>8</td>\n",
       "      <td>Hurricane</td>\n",
       "      <td>868</td>\n",
       "    </tr>\n",
       "  </tbody>\n",
       "</table>\n",
       "</div>"
      ],
      "text/plain": [
       "      count unique              top  freq\n",
       "state                                    \n",
       "TX     5164     11        Hurricane  1303\n",
       "MO     2670      8  Severe Storm(s)  1309\n",
       "KY     2511     10  Severe Storm(s)   986\n",
       "VA     2493     11        Hurricane   877\n",
       "OK     2461      9  Severe Storm(s)   996\n",
       "LA     2301     11        Hurricane  1236\n",
       "GA     2269     10        Hurricane   905\n",
       "FL     2088     10        Hurricane  1012\n",
       "NC     1984     10        Hurricane  1192\n",
       "PR     1826      8        Hurricane   868"
      ]
     },
     "execution_count": 6,
     "metadata": {},
     "output_type": "execute_result"
    }
   ],
   "source": [
    "# Find the states that are most disaster prone from the dataset\n",
    "df_DISASTER_proneState = df_DISASTER[['state','incident_type']].groupby('state').describe()\n",
    "df_DISASTER_proneState['incident_type'].sort_values(by='count',ascending=False).head(10)"
   ]
  },
  {
   "cell_type": "markdown",
   "id": "03d81689",
   "metadata": {},
   "source": [
    "As we can see, Texas, Missouri and Kentucky are the most prone states to disasters. This is likely due more to geography (i.e. Texas is on the Gulf Coast and in the middle of Tornado Alley).\n",
    "\n",
    "What are the states that are least disaster prone?"
   ]
  },
  {
   "cell_type": "code",
   "execution_count": 7,
   "id": "aff8e16e",
   "metadata": {},
   "outputs": [
    {
     "data": {
      "text/html": [
       "<div>\n",
       "<style scoped>\n",
       "    .dataframe tbody tr th:only-of-type {\n",
       "        vertical-align: middle;\n",
       "    }\n",
       "\n",
       "    .dataframe tbody tr th {\n",
       "        vertical-align: top;\n",
       "    }\n",
       "\n",
       "    .dataframe thead th {\n",
       "        text-align: right;\n",
       "    }\n",
       "</style>\n",
       "<table border=\"1\" class=\"dataframe\">\n",
       "  <thead>\n",
       "    <tr style=\"text-align: right;\">\n",
       "      <th></th>\n",
       "      <th>count</th>\n",
       "      <th>unique</th>\n",
       "      <th>top</th>\n",
       "      <th>freq</th>\n",
       "    </tr>\n",
       "    <tr>\n",
       "      <th>state</th>\n",
       "      <th></th>\n",
       "      <th></th>\n",
       "      <th></th>\n",
       "      <th></th>\n",
       "    </tr>\n",
       "  </thead>\n",
       "  <tbody>\n",
       "    <tr>\n",
       "      <th>HI</th>\n",
       "      <td>98</td>\n",
       "      <td>11</td>\n",
       "      <td>Hurricane</td>\n",
       "      <td>22</td>\n",
       "    </tr>\n",
       "    <tr>\n",
       "      <th>VI</th>\n",
       "      <td>79</td>\n",
       "      <td>5</td>\n",
       "      <td>Hurricane</td>\n",
       "      <td>53</td>\n",
       "    </tr>\n",
       "    <tr>\n",
       "      <th>AS</th>\n",
       "      <td>75</td>\n",
       "      <td>7</td>\n",
       "      <td>Hurricane</td>\n",
       "      <td>25</td>\n",
       "    </tr>\n",
       "    <tr>\n",
       "      <th>MP</th>\n",
       "      <td>63</td>\n",
       "      <td>3</td>\n",
       "      <td>Typhoon</td>\n",
       "      <td>53</td>\n",
       "    </tr>\n",
       "    <tr>\n",
       "      <th>MH</th>\n",
       "      <td>53</td>\n",
       "      <td>5</td>\n",
       "      <td>Drought</td>\n",
       "      <td>25</td>\n",
       "    </tr>\n",
       "    <tr>\n",
       "      <th>DE</th>\n",
       "      <td>52</td>\n",
       "      <td>7</td>\n",
       "      <td>Hurricane</td>\n",
       "      <td>21</td>\n",
       "    </tr>\n",
       "    <tr>\n",
       "      <th>FM</th>\n",
       "      <td>31</td>\n",
       "      <td>4</td>\n",
       "      <td>Typhoon</td>\n",
       "      <td>23</td>\n",
       "    </tr>\n",
       "    <tr>\n",
       "      <th>DC</th>\n",
       "      <td>23</td>\n",
       "      <td>6</td>\n",
       "      <td>Severe Storm(s)</td>\n",
       "      <td>9</td>\n",
       "    </tr>\n",
       "    <tr>\n",
       "      <th>GU</th>\n",
       "      <td>19</td>\n",
       "      <td>5</td>\n",
       "      <td>Typhoon</td>\n",
       "      <td>13</td>\n",
       "    </tr>\n",
       "    <tr>\n",
       "      <th>PW</th>\n",
       "      <td>1</td>\n",
       "      <td>1</td>\n",
       "      <td>Typhoon</td>\n",
       "      <td>1</td>\n",
       "    </tr>\n",
       "  </tbody>\n",
       "</table>\n",
       "</div>"
      ],
      "text/plain": [
       "      count unique              top freq\n",
       "state                                   \n",
       "HI       98     11        Hurricane   22\n",
       "VI       79      5        Hurricane   53\n",
       "AS       75      7        Hurricane   25\n",
       "MP       63      3          Typhoon   53\n",
       "MH       53      5          Drought   25\n",
       "DE       52      7        Hurricane   21\n",
       "FM       31      4          Typhoon   23\n",
       "DC       23      6  Severe Storm(s)    9\n",
       "GU       19      5          Typhoon   13\n",
       "PW        1      1          Typhoon    1"
      ]
     },
     "execution_count": 7,
     "metadata": {},
     "output_type": "execute_result"
    }
   ],
   "source": [
    "# Find the states that are least disaster prone from the dataset\n",
    "df_DISASTER_proneState['incident_type'].sort_values(by='count',ascending=False).tail(10)"
   ]
  },
  {
   "cell_type": "markdown",
   "id": "cb7f54b3",
   "metadata": {},
   "source": [
    "As we can see, some of the territories (i.e. Guam, US Virgin Islands, American Samoa) fall on this list. It is not surprising that Delaware is the state with the least number of declarations given its size and location.\n",
    "\n",
    "Going back to the state with the most disaster declarations (Texas), let's take a look at the number of declarations over time."
   ]
  },
  {
   "cell_type": "code",
   "execution_count": 8,
   "id": "065b392f",
   "metadata": {},
   "outputs": [
    {
     "data": {
      "image/png": "[encoded data removed]",
      "text/plain": [
       "<Figure size 1728x864 with 1 Axes>"
      ]
     },
     "metadata": {
      "needs_background": "light"
     },
     "output_type": "display_data"
    }
   ],
   "source": [
    "# Graph the number of disaster declarations in Texas over time from the dataset\n",
    "\n",
    "# Make Query for data\n",
    "df_DISASTER_TX = df_DISASTER.query('state==\"TX\"')['fy_declared'].value_counts().reset_index()\n",
    "\n",
    "# Plot the data\n",
    "plt.figure(figsize=(24,12))\n",
    "graph = sns.barplot(x='index',y='fy_declared', data=df_DISASTER_TX.sort_values(by='fy_declared'),\n",
    "            palette = 'hls',\n",
    "            capsize = 0.05,             \n",
    "            saturation = 8,             \n",
    "            errcolor = 'gray', errwidth = 2,  \n",
    "            ci = 'sd'   \n",
    "            );\n",
    "\n",
    "# Provide title, labels and aesthetics\n",
    "plt.title('Disaster Declarations in TX by year', fontsize = 24)\n",
    "plt.xlabel('Year', fontsize = 16)\n",
    "plt.ylabel('# of Disasters Declared', fontsize = 16)\n",
    "graph.set_xticklabels(graph.get_xticklabels(), rotation=45, horizontalalignment='right');"
   ]
  },
  {
   "cell_type": "markdown",
   "id": "76b450b8",
   "metadata": {},
   "source": [
    "The data shows that the number of declarations has increased over time."
   ]
  },
  {
   "cell_type": "markdown",
   "id": "932ea32e",
   "metadata": {},
   "source": [
    "In order to look at how disaster declarations might have changed over time, let's complete some queries for California."
   ]
  },
  {
   "cell_type": "code",
   "execution_count": 22,
   "id": "86ed844f",
   "metadata": {},
   "outputs": [
    {
     "name": "stdout",
     "output_type": "stream",
     "text": [
      "These are the incident types for TX disaster declarations in 1965, 1975, 1985, 1995, 2005, and 2015:\n",
      "\n",
      "1965:  ['Tornado']\n",
      "1975:  ['Flood' 'Tornado']\n",
      "1985:  ['Flood']\n",
      "1995:  ['Flood' 'Severe Storm(s)']\n",
      "2005:  ['Hurricane']\n",
      "2015:  ['Severe Storm(s)']\n"
     ]
    }
   ],
   "source": [
    "# Disaster declarations in 1965, 1975, 1985, 1995, 2005 and 2015.\n",
    "df_TX_1965 = df_DISASTER.query('state == \"TX\" & fy_declared==1965')['incident_type'].unique();\n",
    "df_TX_1975 = df_DISASTER.query('state == \"TX\" & fy_declared==1975')['incident_type'].unique();\n",
    "df_TX_1985 = df_DISASTER.query('state == \"TX\" & fy_declared==1985')['incident_type'].unique();\n",
    "df_TX_1995 = df_DISASTER.query('state == \"TX\" & fy_declared==1995')['incident_type'].unique();\n",
    "df_TX_2005 = df_DISASTER.query('state == \"TX\" & fy_declared==2005')['incident_type'].unique();\n",
    "df_TX_2015 = df_DISASTER.query('state == \"TX\" & fy_declared==2015')['incident_type'].unique();\n",
    "\n",
    "# Print out lists for each year\n",
    "print(\"These are the incident types for TX disaster declarations in 1965, 1975, 1985, 1995, 2005, and 2015:\\n\")\n",
    "print(\"1965: \", df_TX_1965)\n",
    "print(\"1975: \", df_TX_1975)\n",
    "print(\"1985: \", df_TX_1985)\n",
    "print(\"1995: \", df_TX_1995)\n",
    "print(\"2005: \", df_TX_2005)\n",
    "print(\"2015: \", df_TX_2015)"
   ]
  },
  {
   "cell_type": "markdown",
   "id": "2cdb4930",
   "metadata": {},
   "source": [
    "As we can see, the range of incidents in Texas has shifted from tornadoes and floods to hurricanes and severe storms.\n",
    "\n",
    "Let's look at another state: Idaho."
   ]
  },
  {
   "cell_type": "code",
   "execution_count": 24,
   "id": "437ff2f9",
   "metadata": {},
   "outputs": [
    {
     "name": "stdout",
     "output_type": "stream",
     "text": [
      "These are the incident types for ID disaster declarations in 1965, 1975, 1985, 1995, 2005, and 2015:\n",
      "\n",
      "1965:  ['Flood']\n",
      "1975:  []\n",
      "1985:  []\n",
      "1995:  []\n",
      "2005:  ['Flood' 'Hurricane']\n",
      "2015:  ['Fire']\n"
     ]
    }
   ],
   "source": [
    "# Disaster declarations in 1965, 1975, 1985, 1995, 2005 and 2015.\n",
    "df_ID_1965 = df_DISASTER.query('state == \"ID\" & fy_declared==1965')['incident_type'].unique();\n",
    "df_ID_1975 = df_DISASTER.query('state == \"ID\" & fy_declared==1975')['incident_type'].unique();\n",
    "df_ID_1985 = df_DISASTER.query('state == \"ID\" & fy_declared==1985')['incident_type'].unique();\n",
    "df_ID_1995 = df_DISASTER.query('state == \"ID\" & fy_declared==1995')['incident_type'].unique();\n",
    "df_ID_2005 = df_DISASTER.query('state == \"ID\" & fy_declared==2005')['incident_type'].unique();\n",
    "df_ID_2015 = df_DISASTER.query('state == \"ID\" & fy_declared==2015')['incident_type'].unique();\n",
    "\n",
    "# Print out lists for each year\n",
    "print(\"These are the incident types for ID disaster declarations in 1965, 1975, 1985, 1995, 2005, and 2015:\\n\")\n",
    "print(\"1965: \", df_ID_1965)\n",
    "print(\"1975: \", df_ID_1975)\n",
    "print(\"1985: \", df_ID_1985)\n",
    "print(\"1995: \", df_ID_1995)\n",
    "print(\"2005: \", df_ID_2005)\n",
    "print(\"2015: \", df_ID_2015)"
   ]
  },
  {
   "cell_type": "markdown",
   "id": "85c8ca8b",
   "metadata": {},
   "source": [
    "Idaho has not had as many declarations and there is no discernable pattern."
   ]
  },
  {
   "cell_type": "code",
   "execution_count": null,
   "id": "26848338",
   "metadata": {},
   "outputs": [],
   "source": []
  }
 ],
 "metadata": {
  "kernelspec": {
   "display_name": "Python 3",
   "language": "python",
   "name": "python3"
  },
  "language_info": {
   "codemirror_mode": {
    "name": "ipython",
    "version": 3
   },
   "file_extension": ".py",
   "mimetype": "text/x-python",
   "name": "python",
   "nbconvert_exporter": "python",
   "pygments_lexer": "ipython3",
   "version": "3.8.10"
  }
 },
 "nbformat": 4,
 "nbformat_minor": 5
}
