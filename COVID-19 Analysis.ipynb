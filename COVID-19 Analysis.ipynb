{
    "cells": [
        {
            "cell_type": "markdown",
            "metadata": {
                "collapsed": true
            },
            "source": "# COVID-19 Analysis"
        },
        {
            "cell_type": "markdown",
            "metadata": {},
            "source": "This Jupyter Notebook is for exploring trends in collected data for the ongoing COVID-19 pandemic."
        },
        {
            "cell_type": "markdown",
            "metadata": {},
            "source": "## Notebook Initialization"
        },
        {
            "cell_type": "code",
            "execution_count": 1,
            "metadata": {},
            "outputs": [
                {
                    "name": "stdout",
                    "output_type": "stream",
                    "text": "Initial libraries loaded into workspace!\n"
                }
            ],
            "source": "# Import Relevant Libraries\nimport pandas as pd\nimport numpy as np\nimport seaborn as sns \nimport matplotlib.pyplot as plt\n\nprint('Initial libraries loaded into workspace!')"
        },
        {
            "cell_type": "code",
            "execution_count": 2,
            "metadata": {},
            "outputs": [
                {
                    "name": "stdout",
                    "output_type": "stream",
                    "text": "Datasets uploaded!\n"
                }
            ],
            "source": "# Upload Datasets for Study\ndf = pd.read_csv(\"https://covidtracking.com/data/download/all-states-history.csv\");\ndf_summary = pd.read_csv(\"https://covidtracking.com/data/download/national-history.csv\");\n\nprint('Datasets uploaded!');"
        },
        {
            "cell_type": "code",
            "execution_count": 3,
            "metadata": {},
            "outputs": [
                {
                    "data": {
                        "text/html": "<div>\n<style scoped>\n    .dataframe tbody tr th:only-of-type {\n        vertical-align: middle;\n    }\n\n    .dataframe tbody tr th {\n        vertical-align: top;\n    }\n\n    .dataframe thead th {\n        text-align: right;\n    }\n</style>\n<table border=\"1\" class=\"dataframe\">\n  <thead>\n    <tr style=\"text-align: right;\">\n      <th></th>\n      <th>date</th>\n      <th>death</th>\n      <th>deathIncrease</th>\n      <th>inIcuCumulative</th>\n      <th>inIcuCurrently</th>\n      <th>hospitalizedIncrease</th>\n      <th>hospitalizedCurrently</th>\n      <th>hospitalizedCumulative</th>\n      <th>negative</th>\n      <th>negativeIncrease</th>\n      <th>onVentilatorCumulative</th>\n      <th>onVentilatorCurrently</th>\n      <th>posNeg</th>\n      <th>positive</th>\n      <th>positiveIncrease</th>\n      <th>recovered</th>\n      <th>states</th>\n      <th>totalTestResults</th>\n      <th>totalTestResultsIncrease</th>\n    </tr>\n  </thead>\n  <tbody>\n    <tr>\n      <th>0</th>\n      <td>20200827</td>\n      <td>172731.0</td>\n      <td>1129</td>\n      <td>17181.0</td>\n      <td>7717.0</td>\n      <td>1668</td>\n      <td>37464.0</td>\n      <td>365993.0</td>\n      <td>68954986</td>\n      <td>698076</td>\n      <td>1831.0</td>\n      <td>2125.0</td>\n      <td>74792493</td>\n      <td>5837507</td>\n      <td>44264</td>\n      <td>2101326.0</td>\n      <td>56</td>\n      <td>74792493</td>\n      <td>742340</td>\n    </tr>\n    <tr>\n      <th>1</th>\n      <td>20200826</td>\n      <td>171602.0</td>\n      <td>1249</td>\n      <td>17046.0</td>\n      <td>7763.0</td>\n      <td>1873</td>\n      <td>38411.0</td>\n      <td>364325.0</td>\n      <td>68256910</td>\n      <td>631672</td>\n      <td>1809.0</td>\n      <td>2142.0</td>\n      <td>74050153</td>\n      <td>5793243</td>\n      <td>43130</td>\n      <td>2084465.0</td>\n      <td>56</td>\n      <td>74050153</td>\n      <td>674802</td>\n    </tr>\n    <tr>\n      <th>2</th>\n      <td>20200825</td>\n      <td>170353.0</td>\n      <td>1147</td>\n      <td>16920.0</td>\n      <td>7851.0</td>\n      <td>1999</td>\n      <td>38762.0</td>\n      <td>362452.0</td>\n      <td>67625238</td>\n      <td>597782</td>\n      <td>1789.0</td>\n      <td>2163.0</td>\n      <td>73375351</td>\n      <td>5750113</td>\n      <td>36320</td>\n      <td>2053699.0</td>\n      <td>56</td>\n      <td>73375351</td>\n      <td>634102</td>\n    </tr>\n    <tr>\n      <th>3</th>\n      <td>20200824</td>\n      <td>169206.0</td>\n      <td>343</td>\n      <td>16787.0</td>\n      <td>7836.0</td>\n      <td>1049</td>\n      <td>38657.0</td>\n      <td>360453.0</td>\n      <td>67027456</td>\n      <td>648010</td>\n      <td>1764.0</td>\n      <td>2118.0</td>\n      <td>72741249</td>\n      <td>5713793</td>\n      <td>34641</td>\n      <td>2020774.0</td>\n      <td>56</td>\n      <td>72741249</td>\n      <td>682651</td>\n    </tr>\n    <tr>\n      <th>4</th>\n      <td>20200823</td>\n      <td>168863.0</td>\n      <td>572</td>\n      <td>16697.0</td>\n      <td>7951.0</td>\n      <td>774</td>\n      <td>39029.0</td>\n      <td>359404.0</td>\n      <td>66379446</td>\n      <td>577947</td>\n      <td>1737.0</td>\n      <td>2131.0</td>\n      <td>72058598</td>\n      <td>5679152</td>\n      <td>37567</td>\n      <td>1997782.0</td>\n      <td>56</td>\n      <td>72058598</td>\n      <td>615514</td>\n    </tr>\n  </tbody>\n</table>\n</div>",
                        "text/plain": "       date     death  deathIncrease  inIcuCumulative  inIcuCurrently  \\\n0  20200827  172731.0           1129          17181.0          7717.0   \n1  20200826  171602.0           1249          17046.0          7763.0   \n2  20200825  170353.0           1147          16920.0          7851.0   \n3  20200824  169206.0            343          16787.0          7836.0   \n4  20200823  168863.0            572          16697.0          7951.0   \n\n   hospitalizedIncrease  hospitalizedCurrently  hospitalizedCumulative  \\\n0                  1668                37464.0                365993.0   \n1                  1873                38411.0                364325.0   \n2                  1999                38762.0                362452.0   \n3                  1049                38657.0                360453.0   \n4                   774                39029.0                359404.0   \n\n   negative  negativeIncrease  onVentilatorCumulative  onVentilatorCurrently  \\\n0  68954986            698076                  1831.0                 2125.0   \n1  68256910            631672                  1809.0                 2142.0   \n2  67625238            597782                  1789.0                 2163.0   \n3  67027456            648010                  1764.0                 2118.0   \n4  66379446            577947                  1737.0                 2131.0   \n\n     posNeg  positive  positiveIncrease  recovered  states  totalTestResults  \\\n0  74792493   5837507             44264  2101326.0      56          74792493   \n1  74050153   5793243             43130  2084465.0      56          74050153   \n2  73375351   5750113             36320  2053699.0      56          73375351   \n3  72741249   5713793             34641  2020774.0      56          72741249   \n4  72058598   5679152             37567  1997782.0      56          72058598   \n\n   totalTestResultsIncrease  \n0                    742340  \n1                    674802  \n2                    634102  \n3                    682651  \n4                    615514  "
                    },
                    "execution_count": 3,
                    "metadata": {},
                    "output_type": "execute_result"
                }
            ],
            "source": "# Open US National Dataset and Display 1st 5 rows\ndf_summary.head()"
        },
        {
            "cell_type": "code",
            "execution_count": 4,
            "metadata": {},
            "outputs": [
                {
                    "data": {
                        "text/html": "<div>\n<style scoped>\n    .dataframe tbody tr th:only-of-type {\n        vertical-align: middle;\n    }\n\n    .dataframe tbody tr th {\n        vertical-align: top;\n    }\n\n    .dataframe thead th {\n        text-align: right;\n    }\n</style>\n<table border=\"1\" class=\"dataframe\">\n  <thead>\n    <tr style=\"text-align: right;\">\n      <th></th>\n      <th>date</th>\n      <th>state</th>\n      <th>dataQualityGrade</th>\n      <th>death</th>\n      <th>deathConfirmed</th>\n      <th>deathIncrease</th>\n      <th>deathProbable</th>\n      <th>hospitalized</th>\n      <th>hospitalizedCumulative</th>\n      <th>hospitalizedCurrently</th>\n      <th>...</th>\n      <th>totalTestResults</th>\n      <th>totalTestResultsIncrease</th>\n      <th>totalTestsAntibody</th>\n      <th>totalTestsAntigen</th>\n      <th>totalTestsPeopleAntibody</th>\n      <th>totalTestsPeopleAntigen</th>\n      <th>totalTestsPeopleViral</th>\n      <th>totalTestsPeopleViralIncrease</th>\n      <th>totalTestsViral</th>\n      <th>totalTestsViralIncrease</th>\n    </tr>\n  </thead>\n  <tbody>\n    <tr>\n      <th>0</th>\n      <td>20200827</td>\n      <td>WY</td>\n      <td>B</td>\n      <td>37.0</td>\n      <td>NaN</td>\n      <td>0</td>\n      <td>NaN</td>\n      <td>215.0</td>\n      <td>215.0</td>\n      <td>13.0</td>\n      <td>...</td>\n      <td>74532.0</td>\n      <td>3954</td>\n      <td>NaN</td>\n      <td>NaN</td>\n      <td>NaN</td>\n      <td>NaN</td>\n      <td>73976.0</td>\n      <td>3993</td>\n      <td>104738.0</td>\n      <td>502</td>\n    </tr>\n    <tr>\n      <th>1</th>\n      <td>20200827</td>\n      <td>NE</td>\n      <td>A</td>\n      <td>386.0</td>\n      <td>NaN</td>\n      <td>3</td>\n      <td>NaN</td>\n      <td>1954.0</td>\n      <td>1954.0</td>\n      <td>166.0</td>\n      <td>...</td>\n      <td>348575.0</td>\n      <td>3815</td>\n      <td>NaN</td>\n      <td>NaN</td>\n      <td>NaN</td>\n      <td>NaN</td>\n      <td>349055.0</td>\n      <td>3812</td>\n      <td>NaN</td>\n      <td>0</td>\n    </tr>\n    <tr>\n      <th>2</th>\n      <td>20200827</td>\n      <td>ND</td>\n      <td>A</td>\n      <td>118.0</td>\n      <td>114.0</td>\n      <td>1</td>\n      <td>4.0</td>\n      <td>534.0</td>\n      <td>534.0</td>\n      <td>61.0</td>\n      <td>...</td>\n      <td>196559.0</td>\n      <td>1441</td>\n      <td>8329.0</td>\n      <td>NaN</td>\n      <td>NaN</td>\n      <td>NaN</td>\n      <td>196559.0</td>\n      <td>1441</td>\n      <td>449865.0</td>\n      <td>6969</td>\n    </tr>\n    <tr>\n      <th>3</th>\n      <td>20200827</td>\n      <td>NC</td>\n      <td>A+</td>\n      <td>2630.0</td>\n      <td>2630.0</td>\n      <td>24</td>\n      <td>NaN</td>\n      <td>NaN</td>\n      <td>NaN</td>\n      <td>958.0</td>\n      <td>...</td>\n      <td>2152725.0</td>\n      <td>31724</td>\n      <td>NaN</td>\n      <td>NaN</td>\n      <td>NaN</td>\n      <td>NaN</td>\n      <td>NaN</td>\n      <td>0</td>\n      <td>2152725.0</td>\n      <td>31724</td>\n    </tr>\n    <tr>\n      <th>4</th>\n      <td>20200827</td>\n      <td>MT</td>\n      <td>C</td>\n      <td>98.0</td>\n      <td>NaN</td>\n      <td>0</td>\n      <td>NaN</td>\n      <td>412.0</td>\n      <td>412.0</td>\n      <td>119.0</td>\n      <td>...</td>\n      <td>240659.0</td>\n      <td>2399</td>\n      <td>NaN</td>\n      <td>NaN</td>\n      <td>NaN</td>\n      <td>NaN</td>\n      <td>NaN</td>\n      <td>0</td>\n      <td>240659.0</td>\n      <td>2399</td>\n    </tr>\n  </tbody>\n</table>\n<p>5 rows \u00d7 42 columns</p>\n</div>",
                        "text/plain": "       date state dataQualityGrade   death  deathConfirmed  deathIncrease  \\\n0  20200827    WY                B    37.0             NaN              0   \n1  20200827    NE                A   386.0             NaN              3   \n2  20200827    ND                A   118.0           114.0              1   \n3  20200827    NC               A+  2630.0          2630.0             24   \n4  20200827    MT                C    98.0             NaN              0   \n\n   deathProbable  hospitalized  hospitalizedCumulative  hospitalizedCurrently  \\\n0            NaN         215.0                   215.0                   13.0   \n1            NaN        1954.0                  1954.0                  166.0   \n2            4.0         534.0                   534.0                   61.0   \n3            NaN           NaN                     NaN                  958.0   \n4            NaN         412.0                   412.0                  119.0   \n\n   ...  totalTestResults  totalTestResultsIncrease  totalTestsAntibody  \\\n0  ...           74532.0                      3954                 NaN   \n1  ...          348575.0                      3815                 NaN   \n2  ...          196559.0                      1441              8329.0   \n3  ...         2152725.0                     31724                 NaN   \n4  ...          240659.0                      2399                 NaN   \n\n   totalTestsAntigen  totalTestsPeopleAntibody  totalTestsPeopleAntigen  \\\n0                NaN                       NaN                      NaN   \n1                NaN                       NaN                      NaN   \n2                NaN                       NaN                      NaN   \n3                NaN                       NaN                      NaN   \n4                NaN                       NaN                      NaN   \n\n   totalTestsPeopleViral  totalTestsPeopleViralIncrease  totalTestsViral  \\\n0                73976.0                           3993         104738.0   \n1               349055.0                           3812              NaN   \n2               196559.0                           1441         449865.0   \n3                    NaN                              0        2152725.0   \n4                    NaN                              0         240659.0   \n\n   totalTestsViralIncrease  \n0                      502  \n1                        0  \n2                     6969  \n3                    31724  \n4                     2399  \n\n[5 rows x 42 columns]"
                    },
                    "execution_count": 4,
                    "metadata": {},
                    "output_type": "execute_result"
                }
            ],
            "source": "# Open States Dataset and Display 1st 5 rows\ndf.head()"
        },
        {
            "cell_type": "markdown",
            "metadata": {},
            "source": "## Data Cleaning"
        },
        {
            "cell_type": "markdown",
            "metadata": {},
            "source": "First, let us get an understanding of the characteristics of these datasets. We'll start with the US National dataset."
        },
        {
            "cell_type": "code",
            "execution_count": 5,
            "metadata": {
                "scrolled": false
            },
            "outputs": [
                {
                    "name": "stdout",
                    "output_type": "stream",
                    "text": "<class 'pandas.core.frame.DataFrame'>\nRangeIndex: 219 entries, 0 to 218\nData columns (total 19 columns):\ndate                        219 non-null int64\ndeath                       200 non-null float64\ndeathIncrease               219 non-null int64\ninIcuCumulative             156 non-null float64\ninIcuCurrently              155 non-null float64\nhospitalizedIncrease        219 non-null int64\nhospitalizedCurrently       164 non-null float64\nhospitalizedCumulative      177 non-null float64\nnegative                    219 non-null int64\nnegativeIncrease            219 non-null int64\nonVentilatorCumulative      149 non-null float64\nonVentilatorCurrently       156 non-null float64\nposNeg                      219 non-null int64\npositive                    219 non-null int64\npositiveIncrease            219 non-null int64\nrecovered                   156 non-null float64\nstates                      219 non-null int64\ntotalTestResults            219 non-null int64\ntotalTestResultsIncrease    219 non-null int64\ndtypes: float64(8), int64(11)\nmemory usage: 32.6 KB\n"
                }
            ],
            "source": "# Characteristics of the US National Dataset\ndf_summary.info()"
        },
        {
            "cell_type": "markdown",
            "metadata": {},
            "source": "Given that some of these features have 'NULL' values, let's take a closer look."
        },
        {
            "cell_type": "code",
            "execution_count": 6,
            "metadata": {},
            "outputs": [
                {
                    "data": {
                        "text/plain": "date                         0\ndeath                       19\ndeathIncrease                0\ninIcuCumulative             63\ninIcuCurrently              64\nhospitalizedIncrease         0\nhospitalizedCurrently       55\nhospitalizedCumulative      42\nnegative                     0\nnegativeIncrease             0\nonVentilatorCumulative      70\nonVentilatorCurrently       63\nposNeg                       0\npositive                     0\npositiveIncrease             0\nrecovered                   63\nstates                       0\ntotalTestResults             0\ntotalTestResultsIncrease     0\ndtype: int64"
                    },
                    "execution_count": 6,
                    "metadata": {},
                    "output_type": "execute_result"
                }
            ],
            "source": "# Find 'NULL' values in US National Dataset\ndf_summary.isnull().sum()"
        },
        {
            "cell_type": "markdown",
            "metadata": {},
            "source": "Since there are so few 'NULL' values, it is reasonable to assume these are actually '0' values. Hence, we should modify them accordingly."
        },
        {
            "cell_type": "code",
            "execution_count": 7,
            "metadata": {},
            "outputs": [
                {
                    "name": "stdout",
                    "output_type": "stream",
                    "text": "<class 'pandas.core.frame.DataFrame'>\nRangeIndex: 219 entries, 0 to 218\nData columns (total 19 columns):\ndate                        219 non-null int64\ndeath                       219 non-null float64\ndeathIncrease               219 non-null int64\ninIcuCumulative             219 non-null float64\ninIcuCurrently              219 non-null float64\nhospitalizedIncrease        219 non-null int64\nhospitalizedCurrently       219 non-null float64\nhospitalizedCumulative      219 non-null float64\nnegative                    219 non-null int64\nnegativeIncrease            219 non-null int64\nonVentilatorCumulative      219 non-null float64\nonVentilatorCurrently       219 non-null float64\nposNeg                      219 non-null int64\npositive                    219 non-null int64\npositiveIncrease            219 non-null int64\nrecovered                   219 non-null float64\nstates                      219 non-null int64\ntotalTestResults            219 non-null int64\ntotalTestResultsIncrease    219 non-null int64\ndtypes: float64(8), int64(11)\nmemory usage: 32.6 KB\n"
                }
            ],
            "source": "# Convert 'NULL' values to 'NONE' in US National Dataset\ndf_summary['death'].fillna(0, inplace = True)\ndf_summary['inIcuCumulative'].fillna(0, inplace = True)\ndf_summary['inIcuCurrently'].fillna(0, inplace = True)\ndf_summary['hospitalizedCurrently'].fillna(0, inplace = True)\ndf_summary['hospitalizedCumulative'].fillna(0, inplace = True)\ndf_summary['onVentilatorCumulative'].fillna(0, inplace = True)\ndf_summary['onVentilatorCurrently'].fillna(0, inplace = True)\ndf_summary['recovered'].fillna(0, inplace = True)\n\ndf_summary.info()"
        },
        {
            "cell_type": "markdown",
            "metadata": {},
            "source": "While we no longer have 'NULL' values, many of the values have non-numeric values (i.e. 'NONE'). Let's convert those to 0 as well."
        },
        {
            "cell_type": "code",
            "execution_count": 8,
            "metadata": {},
            "outputs": [
                {
                    "name": "stdout",
                    "output_type": "stream",
                    "text": "<class 'pandas.core.frame.DataFrame'>\nRangeIndex: 219 entries, 0 to 218\nData columns (total 19 columns):\ndate                        219 non-null int64\ndeath                       219 non-null float64\ndeathIncrease               219 non-null int64\ninIcuCumulative             219 non-null float64\ninIcuCurrently              219 non-null float64\nhospitalizedIncrease        219 non-null int64\nhospitalizedCurrently       219 non-null float64\nhospitalizedCumulative      219 non-null float64\nnegative                    219 non-null int64\nnegativeIncrease            219 non-null int64\nonVentilatorCumulative      219 non-null float64\nonVentilatorCurrently       219 non-null float64\nposNeg                      219 non-null int64\npositive                    219 non-null int64\npositiveIncrease            219 non-null int64\nrecovered                   219 non-null float64\nstates                      219 non-null int64\ntotalTestResults            219 non-null int64\ntotalTestResultsIncrease    219 non-null int64\ndtypes: float64(8), int64(11)\nmemory usage: 32.6 KB\n"
                }
            ],
            "source": "# Replace all non-numeric values with 0.\ndf_summary['death'].replace(\"NONE\", 0, inplace=True)\ndf_summary['inIcuCumulative'].replace(\"NONE\", 0, inplace=True)\ndf_summary['inIcuCurrently'].replace(\"NONE\", 0, inplace=True)\ndf_summary['hospitalizedCurrently'].replace(\"NONE\", 0, inplace=True)\ndf_summary['hospitalizedCumulative'].replace(\"NONE\", 0, inplace=True)\ndf_summary['onVentilatorCumulative'].replace(\"NONE\", 0, inplace=True)\ndf_summary['onVentilatorCurrently'].replace(\"NONE\", 0, inplace=True)\ndf_summary['recovered'].replace(\"NONE\", 0, inplace=True)\n\ndf_summary.info()"
        },
        {
            "cell_type": "markdown",
            "metadata": {},
            "source": "We still have two data types: integers and float-32 bits. Let's convert all the data into either integer-64bit or floating-64bit."
        },
        {
            "cell_type": "code",
            "execution_count": 10,
            "metadata": {},
            "outputs": [
                {
                    "name": "stdout",
                    "output_type": "stream",
                    "text": "<class 'pandas.core.frame.DataFrame'>\nRangeIndex: 219 entries, 0 to 218\nData columns (total 19 columns):\ndate                        219 non-null int64\ndeath                       219 non-null float64\ndeathIncrease               219 non-null int64\ninIcuCumulative             219 non-null float64\ninIcuCurrently              219 non-null float64\nhospitalizedIncrease        219 non-null int64\nhospitalizedCurrently       219 non-null float64\nhospitalizedCumulative      219 non-null float64\nnegative                    219 non-null int64\nnegativeIncrease            219 non-null int64\nonVentilatorCumulative      219 non-null float64\nonVentilatorCurrently       219 non-null float64\nposNeg                      219 non-null int64\npositive                    219 non-null int64\npositiveIncrease            219 non-null int64\nrecovered                   219 non-null float64\nstates                      219 non-null int64\ntotalTestResults            219 non-null int64\ntotalTestResultsIncrease    219 non-null int64\ndtypes: float64(8), int64(11)\nmemory usage: 32.6 KB\n"
                }
            ],
            "source": "# Convert Integers to Floats\ndf_summary['death'].astype(int)\ndf_summary['inIcuCumulative'].astype(int)\ndf_summary['inIcuCurrently'].astype(int)\ndf_summary['hospitalizedCurrently'].astype(int)\ndf_summary['hospitalizedCumulative'].astype(int)\ndf_summary['onVentilatorCumulative'].astype(int)\ndf_summary['onVentilatorCurrently'].astype(int)\ndf_summary['recovered'].astype(int)\n\ndf_summary.info()"
        },
        {
            "cell_type": "markdown",
            "metadata": {},
            "source": "Now that we have the US National Dataset cleaned, let's repeat the process for the individual states."
        },
        {
            "cell_type": "code",
            "execution_count": 11,
            "metadata": {},
            "outputs": [
                {
                    "name": "stdout",
                    "output_type": "stream",
                    "text": "<class 'pandas.core.frame.DataFrame'>\nRangeIndex: 9841 entries, 0 to 9840\nData columns (total 42 columns):\ndate                                9841 non-null int64\nstate                               9841 non-null object\ndataQualityGrade                    8716 non-null object\ndeath                               9149 non-null float64\ndeathConfirmed                      3607 non-null float64\ndeathIncrease                       9841 non-null int64\ndeathProbable                       2488 non-null float64\nhospitalized                        5444 non-null float64\nhospitalizedCumulative              5444 non-null float64\nhospitalizedCurrently               7154 non-null float64\nhospitalizedIncrease                9841 non-null int64\ninIcuCumulative                     1509 non-null float64\ninIcuCurrently                      3842 non-null float64\nnegative                            9661 non-null float64\nnegativeIncrease                    9841 non-null int64\nnegativeTestsAntibody               703 non-null float64\nnegativeTestsPeopleAntibody         334 non-null float64\nnegativeTestsViral                  1450 non-null float64\nonVentilatorCumulative              534 non-null float64\nonVentilatorCurrently               3305 non-null float64\npositive                            9802 non-null float64\npositiveCasesViral                  6663 non-null float64\npositiveIncrease                    9841 non-null int64\npositiveScore                       9841 non-null int64\npositiveTestsAntibody               1025 non-null float64\npositiveTestsAntigen                21 non-null float64\npositiveTestsPeopleAntibody         334 non-null float64\npositiveTestsPeopleAntigen          14 non-null float64\npositiveTestsViral                  1400 non-null float64\nrecovered                           6422 non-null float64\ntotalTestEncountersViral            684 non-null float64\ntotalTestEncountersViralIncrease    9841 non-null int64\ntotalTestResults                    9833 non-null float64\ntotalTestResultsIncrease            9841 non-null int64\ntotalTestsAntibody                  1530 non-null float64\ntotalTestsAntigen                   72 non-null float64\ntotalTestsPeopleAntibody            525 non-null float64\ntotalTestsPeopleAntigen             16 non-null float64\ntotalTestsPeopleViral               3587 non-null float64\ntotalTestsPeopleViralIncrease       9841 non-null int64\ntotalTestsViral                     5132 non-null float64\ntotalTestsViralIncrease             9841 non-null int64\ndtypes: float64(30), int64(10), object(2)\nmemory usage: 3.2+ MB\n"
                }
            ],
            "source": "# Characteristics of the States' Dataset\ndf.info()"
        },
        {
            "cell_type": "markdown",
            "metadata": {},
            "source": "Given that some of these features have 'NULL' values, again let's take a closer look."
        },
        {
            "cell_type": "code",
            "execution_count": 12,
            "metadata": {},
            "outputs": [
                {
                    "data": {
                        "text/plain": "date                                   0\nstate                                  0\ndataQualityGrade                    1125\ndeath                                692\ndeathConfirmed                      6234\ndeathIncrease                          0\ndeathProbable                       7353\nhospitalized                        4397\nhospitalizedCumulative              4397\nhospitalizedCurrently               2687\nhospitalizedIncrease                   0\ninIcuCumulative                     8332\ninIcuCurrently                      5999\nnegative                             180\nnegativeIncrease                       0\nnegativeTestsAntibody               9138\nnegativeTestsPeopleAntibody         9507\nnegativeTestsViral                  8391\nonVentilatorCumulative              9307\nonVentilatorCurrently               6536\npositive                              39\npositiveCasesViral                  3178\npositiveIncrease                       0\npositiveScore                          0\npositiveTestsAntibody               8816\npositiveTestsAntigen                9820\npositiveTestsPeopleAntibody         9507\npositiveTestsPeopleAntigen          9827\npositiveTestsViral                  8441\nrecovered                           3419\ntotalTestEncountersViral            9157\ntotalTestEncountersViralIncrease       0\ntotalTestResults                       8\ntotalTestResultsIncrease               0\ntotalTestsAntibody                  8311\ntotalTestsAntigen                   9769\ntotalTestsPeopleAntibody            9316\ntotalTestsPeopleAntigen             9825\ntotalTestsPeopleViral               6254\ntotalTestsPeopleViralIncrease          0\ntotalTestsViral                     4709\ntotalTestsViralIncrease                0\ndtype: int64"
                    },
                    "execution_count": 12,
                    "metadata": {},
                    "output_type": "execute_result"
                }
            ],
            "source": "# Find 'NULL' values in States' Dataset\ndf.isnull().sum()"
        },
        {
            "cell_type": "code",
            "execution_count": null,
            "metadata": {},
            "outputs": [],
            "source": ""
        }
    ],
    "metadata": {
        "kernelspec": {
            "display_name": "Python 3.6",
            "language": "python",
            "name": "python3"
        },
        "language_info": {
            "codemirror_mode": {
                "name": "ipython",
                "version": 3
            },
            "file_extension": ".py",
            "mimetype": "text/x-python",
            "name": "python",
            "nbconvert_exporter": "python",
            "pygments_lexer": "ipython3",
            "version": "3.6.9"
        }
    },
    "nbformat": 4,
    "nbformat_minor": 1
}